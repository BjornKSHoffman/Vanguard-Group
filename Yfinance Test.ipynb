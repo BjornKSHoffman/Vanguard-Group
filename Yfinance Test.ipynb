{
 "cells": [
  {
   "cell_type": "code",
   "execution_count": 32,
   "metadata": {},
   "outputs": [
    {
     "name": "stdout",
     "output_type": "stream",
     "text": [
      "[*********************100%***********************]  1 of 1 completed\n"
     ]
    },
    {
     "data": {
      "text/html": [
       "<div>\n",
       "<style scoped>\n",
       "    .dataframe tbody tr th:only-of-type {\n",
       "        vertical-align: middle;\n",
       "    }\n",
       "\n",
       "    .dataframe tbody tr th {\n",
       "        vertical-align: top;\n",
       "    }\n",
       "\n",
       "    .dataframe thead th {\n",
       "        text-align: right;\n",
       "    }\n",
       "</style>\n",
       "<table border=\"1\" class=\"dataframe\">\n",
       "  <thead>\n",
       "    <tr style=\"text-align: right;\">\n",
       "      <th></th>\n",
       "      <th>Open</th>\n",
       "      <th>High</th>\n",
       "      <th>Low</th>\n",
       "      <th>Close</th>\n",
       "      <th>Adj Close</th>\n",
       "      <th>Volume</th>\n",
       "    </tr>\n",
       "    <tr>\n",
       "      <th>Date</th>\n",
       "      <th></th>\n",
       "      <th></th>\n",
       "      <th></th>\n",
       "      <th></th>\n",
       "      <th></th>\n",
       "      <th></th>\n",
       "    </tr>\n",
       "  </thead>\n",
       "  <tbody>\n",
       "    <tr>\n",
       "      <th>2020-01-02</th>\n",
       "      <td>3244.669922</td>\n",
       "      <td>3258.139893</td>\n",
       "      <td>3235.530029</td>\n",
       "      <td>3257.850098</td>\n",
       "      <td>3257.850098</td>\n",
       "      <td>3458250000</td>\n",
       "    </tr>\n",
       "    <tr>\n",
       "      <th>2020-01-03</th>\n",
       "      <td>3226.360107</td>\n",
       "      <td>3246.149902</td>\n",
       "      <td>3222.340088</td>\n",
       "      <td>3234.850098</td>\n",
       "      <td>3234.850098</td>\n",
       "      <td>3461290000</td>\n",
       "    </tr>\n",
       "    <tr>\n",
       "      <th>2020-01-06</th>\n",
       "      <td>3217.550049</td>\n",
       "      <td>3246.840088</td>\n",
       "      <td>3214.639893</td>\n",
       "      <td>3246.280029</td>\n",
       "      <td>3246.280029</td>\n",
       "      <td>3674070000</td>\n",
       "    </tr>\n",
       "    <tr>\n",
       "      <th>2020-01-07</th>\n",
       "      <td>3241.860107</td>\n",
       "      <td>3244.909912</td>\n",
       "      <td>3232.429932</td>\n",
       "      <td>3237.179932</td>\n",
       "      <td>3237.179932</td>\n",
       "      <td>3420380000</td>\n",
       "    </tr>\n",
       "    <tr>\n",
       "      <th>2020-01-08</th>\n",
       "      <td>3238.590088</td>\n",
       "      <td>3267.070068</td>\n",
       "      <td>3236.669922</td>\n",
       "      <td>3253.050049</td>\n",
       "      <td>3253.050049</td>\n",
       "      <td>3720890000</td>\n",
       "    </tr>\n",
       "  </tbody>\n",
       "</table>\n",
       "</div>"
      ],
      "text/plain": [
       "                   Open         High          Low        Close    Adj Close  \\\n",
       "Date                                                                          \n",
       "2020-01-02  3244.669922  3258.139893  3235.530029  3257.850098  3257.850098   \n",
       "2020-01-03  3226.360107  3246.149902  3222.340088  3234.850098  3234.850098   \n",
       "2020-01-06  3217.550049  3246.840088  3214.639893  3246.280029  3246.280029   \n",
       "2020-01-07  3241.860107  3244.909912  3232.429932  3237.179932  3237.179932   \n",
       "2020-01-08  3238.590088  3267.070068  3236.669922  3253.050049  3253.050049   \n",
       "\n",
       "                Volume  \n",
       "Date                    \n",
       "2020-01-02  3458250000  \n",
       "2020-01-03  3461290000  \n",
       "2020-01-06  3674070000  \n",
       "2020-01-07  3420380000  \n",
       "2020-01-08  3720890000  "
      ]
     },
     "execution_count": 32,
     "metadata": {},
     "output_type": "execute_result"
    }
   ],
   "source": [
    "import pandas as pd\n",
    "import yfinance as yf\n",
    "\n",
    "stock = '^GSPC'\n",
    "df = yf.download(stock,'2020-01-01', '2020-10-02')\n",
    "\n",
    "df.head()\n"
   ]
  },
  {
   "cell_type": "code",
   "execution_count": null,
   "metadata": {},
   "outputs": [],
   "source": []
  }
 ],
 "metadata": {
  "kernelspec": {
   "display_name": "Python 3",
   "language": "python",
   "name": "python3"
  },
  "language_info": {
   "codemirror_mode": {
    "name": "ipython",
    "version": 3
   },
   "file_extension": ".py",
   "mimetype": "text/x-python",
   "name": "python",
   "nbconvert_exporter": "python",
   "pygments_lexer": "ipython3",
   "version": "3.8.3"
  }
 },
 "nbformat": 4,
 "nbformat_minor": 4
}
