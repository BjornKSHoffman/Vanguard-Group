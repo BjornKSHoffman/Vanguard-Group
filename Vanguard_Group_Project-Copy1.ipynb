{
 "cells": [
  {
   "cell_type": "code",
   "execution_count": 11,
   "metadata": {},
   "outputs": [],
   "source": [
    "# Initial imports\n",
    "import os\n",
    "import requests\n",
    "import pandas as pd\n",
    "from dotenv import load_dotenv\n",
    "import alpaca_trade_api as tradeapi\n",
    "import numpy as np\n",
    "%matplotlib inline"
   ]
  },
  {
   "cell_type": "code",
   "execution_count": 3,
   "metadata": {},
   "outputs": [
    {
     "data": {
      "text/plain": [
       "True"
      ]
     },
     "execution_count": 3,
     "metadata": {},
     "output_type": "execute_result"
    }
   ],
   "source": [
    "# Load .env enviroment variables\n",
    "load_dotenv('.env')"
   ]
  },
  {
   "cell_type": "code",
   "execution_count": 7,
   "metadata": {},
   "outputs": [
    {
     "name": "stdout",
     "output_type": "stream",
     "text": [
      "[*********************100%***********************]  1 of 1 completed\n"
     ]
    },
    {
     "data": {
      "text/html": [
       "<div>\n",
       "<style scoped>\n",
       "    .dataframe tbody tr th:only-of-type {\n",
       "        vertical-align: middle;\n",
       "    }\n",
       "\n",
       "    .dataframe tbody tr th {\n",
       "        vertical-align: top;\n",
       "    }\n",
       "\n",
       "    .dataframe thead th {\n",
       "        text-align: right;\n",
       "    }\n",
       "</style>\n",
       "<table border=\"1\" class=\"dataframe\">\n",
       "  <thead>\n",
       "    <tr style=\"text-align: right;\">\n",
       "      <th></th>\n",
       "      <th>Open</th>\n",
       "      <th>High</th>\n",
       "      <th>Low</th>\n",
       "      <th>Close</th>\n",
       "      <th>Adj Close</th>\n",
       "      <th>Volume</th>\n",
       "    </tr>\n",
       "    <tr>\n",
       "      <th>Date</th>\n",
       "      <th></th>\n",
       "      <th></th>\n",
       "      <th></th>\n",
       "      <th></th>\n",
       "      <th></th>\n",
       "      <th></th>\n",
       "    </tr>\n",
       "  </thead>\n",
       "  <tbody>\n",
       "    <tr>\n",
       "      <th>2020-01-03</th>\n",
       "      <td>3226.360107</td>\n",
       "      <td>3246.149902</td>\n",
       "      <td>3222.340088</td>\n",
       "      <td>3234.850098</td>\n",
       "      <td>3234.850098</td>\n",
       "      <td>3461290000</td>\n",
       "    </tr>\n",
       "    <tr>\n",
       "      <th>2020-01-06</th>\n",
       "      <td>3217.550049</td>\n",
       "      <td>3246.840088</td>\n",
       "      <td>3214.639893</td>\n",
       "      <td>3246.280029</td>\n",
       "      <td>3246.280029</td>\n",
       "      <td>3674070000</td>\n",
       "    </tr>\n",
       "    <tr>\n",
       "      <th>2020-01-07</th>\n",
       "      <td>3241.860107</td>\n",
       "      <td>3244.909912</td>\n",
       "      <td>3232.429932</td>\n",
       "      <td>3237.179932</td>\n",
       "      <td>3237.179932</td>\n",
       "      <td>3420380000</td>\n",
       "    </tr>\n",
       "    <tr>\n",
       "      <th>2020-01-08</th>\n",
       "      <td>3238.590088</td>\n",
       "      <td>3267.070068</td>\n",
       "      <td>3236.669922</td>\n",
       "      <td>3253.050049</td>\n",
       "      <td>3253.050049</td>\n",
       "      <td>3720890000</td>\n",
       "    </tr>\n",
       "    <tr>\n",
       "      <th>2020-01-09</th>\n",
       "      <td>3266.030029</td>\n",
       "      <td>3275.580078</td>\n",
       "      <td>3263.669922</td>\n",
       "      <td>3274.699951</td>\n",
       "      <td>3274.699951</td>\n",
       "      <td>3638390000</td>\n",
       "    </tr>\n",
       "  </tbody>\n",
       "</table>\n",
       "</div>"
      ],
      "text/plain": [
       "                   Open         High          Low        Close    Adj Close  \\\n",
       "Date                                                                          \n",
       "2020-01-03  3226.360107  3246.149902  3222.340088  3234.850098  3234.850098   \n",
       "2020-01-06  3217.550049  3246.840088  3214.639893  3246.280029  3246.280029   \n",
       "2020-01-07  3241.860107  3244.909912  3232.429932  3237.179932  3237.179932   \n",
       "2020-01-08  3238.590088  3267.070068  3236.669922  3253.050049  3253.050049   \n",
       "2020-01-09  3266.030029  3275.580078  3263.669922  3274.699951  3274.699951   \n",
       "\n",
       "                Volume  \n",
       "Date                    \n",
       "2020-01-03  3461290000  \n",
       "2020-01-06  3674070000  \n",
       "2020-01-07  3420380000  \n",
       "2020-01-08  3720890000  \n",
       "2020-01-09  3638390000  "
      ]
     },
     "execution_count": 7,
     "metadata": {},
     "output_type": "execute_result"
    }
   ],
   "source": [
    "#Reading sp_500\n",
    "import yfinance as yf\n",
    "stock = '^GSPC'\n",
    "sp_500_df = yf.download(stock,'2020-01-03', '2020-10-02')\n",
    "sp_500_df = pd.DataFrame(df)\n",
    "sp_500_df.head()"
   ]
  },
  {
   "cell_type": "code",
   "execution_count": 8,
   "metadata": {},
   "outputs": [
    {
     "name": "stdout",
     "output_type": "stream",
     "text": [
      "[*********************100%***********************]  1 of 1 completed\n"
     ]
    },
    {
     "data": {
      "text/html": [
       "<div>\n",
       "<style scoped>\n",
       "    .dataframe tbody tr th:only-of-type {\n",
       "        vertical-align: middle;\n",
       "    }\n",
       "\n",
       "    .dataframe tbody tr th {\n",
       "        vertical-align: top;\n",
       "    }\n",
       "\n",
       "    .dataframe thead th {\n",
       "        text-align: right;\n",
       "    }\n",
       "</style>\n",
       "<table border=\"1\" class=\"dataframe\">\n",
       "  <thead>\n",
       "    <tr style=\"text-align: right;\">\n",
       "      <th></th>\n",
       "      <th>Open</th>\n",
       "      <th>High</th>\n",
       "      <th>Low</th>\n",
       "      <th>Close</th>\n",
       "      <th>Adj Close</th>\n",
       "      <th>Volume</th>\n",
       "    </tr>\n",
       "    <tr>\n",
       "      <th>Date</th>\n",
       "      <th></th>\n",
       "      <th></th>\n",
       "      <th></th>\n",
       "      <th></th>\n",
       "      <th></th>\n",
       "      <th></th>\n",
       "    </tr>\n",
       "  </thead>\n",
       "  <tbody>\n",
       "    <tr>\n",
       "      <th>2020-01-03</th>\n",
       "      <td>3226.360107</td>\n",
       "      <td>3246.149902</td>\n",
       "      <td>3222.340088</td>\n",
       "      <td>3234.850098</td>\n",
       "      <td>3234.850098</td>\n",
       "      <td>3461290000</td>\n",
       "    </tr>\n",
       "    <tr>\n",
       "      <th>2020-01-06</th>\n",
       "      <td>3217.550049</td>\n",
       "      <td>3246.840088</td>\n",
       "      <td>3214.639893</td>\n",
       "      <td>3246.280029</td>\n",
       "      <td>3246.280029</td>\n",
       "      <td>3674070000</td>\n",
       "    </tr>\n",
       "    <tr>\n",
       "      <th>2020-01-07</th>\n",
       "      <td>3241.860107</td>\n",
       "      <td>3244.909912</td>\n",
       "      <td>3232.429932</td>\n",
       "      <td>3237.179932</td>\n",
       "      <td>3237.179932</td>\n",
       "      <td>3420380000</td>\n",
       "    </tr>\n",
       "    <tr>\n",
       "      <th>2020-01-08</th>\n",
       "      <td>3238.590088</td>\n",
       "      <td>3267.070068</td>\n",
       "      <td>3236.669922</td>\n",
       "      <td>3253.050049</td>\n",
       "      <td>3253.050049</td>\n",
       "      <td>3720890000</td>\n",
       "    </tr>\n",
       "    <tr>\n",
       "      <th>2020-01-09</th>\n",
       "      <td>3266.030029</td>\n",
       "      <td>3275.580078</td>\n",
       "      <td>3263.669922</td>\n",
       "      <td>3274.699951</td>\n",
       "      <td>3274.699951</td>\n",
       "      <td>3638390000</td>\n",
       "    </tr>\n",
       "  </tbody>\n",
       "</table>\n",
       "</div>"
      ],
      "text/plain": [
       "                   Open         High          Low        Close    Adj Close  \\\n",
       "Date                                                                          \n",
       "2020-01-03  3226.360107  3246.149902  3222.340088  3234.850098  3234.850098   \n",
       "2020-01-06  3217.550049  3246.840088  3214.639893  3246.280029  3246.280029   \n",
       "2020-01-07  3241.860107  3244.909912  3232.429932  3237.179932  3237.179932   \n",
       "2020-01-08  3238.590088  3267.070068  3236.669922  3253.050049  3253.050049   \n",
       "2020-01-09  3266.030029  3275.580078  3263.669922  3274.699951  3274.699951   \n",
       "\n",
       "                Volume  \n",
       "Date                    \n",
       "2020-01-03  3461290000  \n",
       "2020-01-06  3674070000  \n",
       "2020-01-07  3420380000  \n",
       "2020-01-08  3720890000  \n",
       "2020-01-09  3638390000  "
      ]
     },
     "execution_count": 8,
     "metadata": {},
     "output_type": "execute_result"
    }
   ],
   "source": [
    "#Reading BVSP\n",
    "stock = '^BVSP'\n",
    "brazil_df = yf.download(stock,'2020-01-03', '2020-10-02')\n",
    "brazil_df = pd.DataFrame(df)\n",
    "brazil_df.head()"
   ]
  },
  {
   "cell_type": "code",
   "execution_count": 9,
   "metadata": {},
   "outputs": [
    {
     "name": "stdout",
     "output_type": "stream",
     "text": [
      "[*********************100%***********************]  1 of 1 completed\n"
     ]
    },
    {
     "data": {
      "text/html": [
       "<div>\n",
       "<style scoped>\n",
       "    .dataframe tbody tr th:only-of-type {\n",
       "        vertical-align: middle;\n",
       "    }\n",
       "\n",
       "    .dataframe tbody tr th {\n",
       "        vertical-align: top;\n",
       "    }\n",
       "\n",
       "    .dataframe thead th {\n",
       "        text-align: right;\n",
       "    }\n",
       "</style>\n",
       "<table border=\"1\" class=\"dataframe\">\n",
       "  <thead>\n",
       "    <tr style=\"text-align: right;\">\n",
       "      <th></th>\n",
       "      <th>Open</th>\n",
       "      <th>High</th>\n",
       "      <th>Low</th>\n",
       "      <th>Close</th>\n",
       "      <th>Adj Close</th>\n",
       "      <th>Volume</th>\n",
       "    </tr>\n",
       "    <tr>\n",
       "      <th>Date</th>\n",
       "      <th></th>\n",
       "      <th></th>\n",
       "      <th></th>\n",
       "      <th></th>\n",
       "      <th></th>\n",
       "      <th></th>\n",
       "    </tr>\n",
       "  </thead>\n",
       "  <tbody>\n",
       "    <tr>\n",
       "      <th>2020-01-03</th>\n",
       "      <td>3226.360107</td>\n",
       "      <td>3246.149902</td>\n",
       "      <td>3222.340088</td>\n",
       "      <td>3234.850098</td>\n",
       "      <td>3234.850098</td>\n",
       "      <td>3461290000</td>\n",
       "    </tr>\n",
       "    <tr>\n",
       "      <th>2020-01-06</th>\n",
       "      <td>3217.550049</td>\n",
       "      <td>3246.840088</td>\n",
       "      <td>3214.639893</td>\n",
       "      <td>3246.280029</td>\n",
       "      <td>3246.280029</td>\n",
       "      <td>3674070000</td>\n",
       "    </tr>\n",
       "    <tr>\n",
       "      <th>2020-01-07</th>\n",
       "      <td>3241.860107</td>\n",
       "      <td>3244.909912</td>\n",
       "      <td>3232.429932</td>\n",
       "      <td>3237.179932</td>\n",
       "      <td>3237.179932</td>\n",
       "      <td>3420380000</td>\n",
       "    </tr>\n",
       "    <tr>\n",
       "      <th>2020-01-08</th>\n",
       "      <td>3238.590088</td>\n",
       "      <td>3267.070068</td>\n",
       "      <td>3236.669922</td>\n",
       "      <td>3253.050049</td>\n",
       "      <td>3253.050049</td>\n",
       "      <td>3720890000</td>\n",
       "    </tr>\n",
       "    <tr>\n",
       "      <th>2020-01-09</th>\n",
       "      <td>3266.030029</td>\n",
       "      <td>3275.580078</td>\n",
       "      <td>3263.669922</td>\n",
       "      <td>3274.699951</td>\n",
       "      <td>3274.699951</td>\n",
       "      <td>3638390000</td>\n",
       "    </tr>\n",
       "  </tbody>\n",
       "</table>\n",
       "</div>"
      ],
      "text/plain": [
       "                   Open         High          Low        Close    Adj Close  \\\n",
       "Date                                                                          \n",
       "2020-01-03  3226.360107  3246.149902  3222.340088  3234.850098  3234.850098   \n",
       "2020-01-06  3217.550049  3246.840088  3214.639893  3246.280029  3246.280029   \n",
       "2020-01-07  3241.860107  3244.909912  3232.429932  3237.179932  3237.179932   \n",
       "2020-01-08  3238.590088  3267.070068  3236.669922  3253.050049  3253.050049   \n",
       "2020-01-09  3266.030029  3275.580078  3263.669922  3274.699951  3274.699951   \n",
       "\n",
       "                Volume  \n",
       "Date                    \n",
       "2020-01-03  3461290000  \n",
       "2020-01-06  3674070000  \n",
       "2020-01-07  3420380000  \n",
       "2020-01-08  3720890000  \n",
       "2020-01-09  3638390000  "
      ]
     },
     "execution_count": 9,
     "metadata": {},
     "output_type": "execute_result"
    }
   ],
   "source": [
    "#Reading BSESN\n",
    "stock = '^BSESN'\n",
    "india_df = yf.download(stock,'2020-01-03', '2020-10-02')\n",
    "india_df = pd.DataFrame(df)\n",
    "india_df.head()"
   ]
  },
  {
   "cell_type": "code",
   "execution_count": null,
   "metadata": {},
   "outputs": [],
   "source": [
    "# Reading Coronavirus data csv's\n",
    "#US_csv = Path(\"Resources/.csv\")\n",
    "US_coronavirus_data = pd.read_csv(US_csv)\n",
    "US_coronavirus_data.head()"
   ]
  },
  {
   "cell_type": "code",
   "execution_count": 12,
   "metadata": {},
   "outputs": [
    {
     "ename": "NameError",
     "evalue": "name 'Path' is not defined",
     "output_type": "error",
     "traceback": [
      "\u001b[1;31m---------------------------------------------------------------------------\u001b[0m",
      "\u001b[1;31mNameError\u001b[0m                                 Traceback (most recent call last)",
      "\u001b[1;32m<ipython-input-12-d02bcc441bcf>\u001b[0m in \u001b[0;36m<module>\u001b[1;34m\u001b[0m\n\u001b[0;32m      1\u001b[0m \u001b[1;31m# Reading Coronavirus data csv's\u001b[0m\u001b[1;33m\u001b[0m\u001b[1;33m\u001b[0m\u001b[1;33m\u001b[0m\u001b[0m\n\u001b[1;32m----> 2\u001b[1;33m \u001b[0mBrazil_csv\u001b[0m \u001b[1;33m=\u001b[0m \u001b[0mPath\u001b[0m\u001b[1;33m(\u001b[0m\u001b[1;34m\"Vanguard-Group/brazil_covid19.csv\"\u001b[0m\u001b[1;33m)\u001b[0m\u001b[1;33m\u001b[0m\u001b[1;33m\u001b[0m\u001b[0m\n\u001b[0m\u001b[0;32m      3\u001b[0m \u001b[0mBrazil_coronavirus_data\u001b[0m \u001b[1;33m=\u001b[0m \u001b[0mpd\u001b[0m\u001b[1;33m.\u001b[0m\u001b[0mread_csv\u001b[0m\u001b[1;33m(\u001b[0m\u001b[0mBrazil_csv\u001b[0m\u001b[1;33m)\u001b[0m\u001b[1;33m\u001b[0m\u001b[1;33m\u001b[0m\u001b[0m\n\u001b[0;32m      4\u001b[0m \u001b[0mBrazil_coronavirus_data\u001b[0m\u001b[1;33m.\u001b[0m\u001b[0mhead\u001b[0m\u001b[1;33m(\u001b[0m\u001b[1;33m)\u001b[0m\u001b[1;33m\u001b[0m\u001b[1;33m\u001b[0m\u001b[0m\n",
      "\u001b[1;31mNameError\u001b[0m: name 'Path' is not defined"
     ]
    }
   ],
   "source": [
    "# Reading Coronavirus data csv's\n",
    "Brazil_csv = Path(\"Vanguard-Group/brazil_covid19.csv\")\n",
    "Brazil_coronavirus_data = pd.read_csv(Brazil_csv)\n",
    "Brazil_coronavirus_data.head()"
   ]
  },
  {
   "cell_type": "code",
   "execution_count": 13,
   "metadata": {},
   "outputs": [
    {
     "ename": "NameError",
     "evalue": "name 'Path' is not defined",
     "output_type": "error",
     "traceback": [
      "\u001b[1;31m---------------------------------------------------------------------------\u001b[0m",
      "\u001b[1;31mNameError\u001b[0m                                 Traceback (most recent call last)",
      "\u001b[1;32m<ipython-input-13-e11a281e4669>\u001b[0m in \u001b[0;36m<module>\u001b[1;34m\u001b[0m\n\u001b[0;32m      1\u001b[0m \u001b[1;31m# Reading Coronavirus data csv's\u001b[0m\u001b[1;33m\u001b[0m\u001b[1;33m\u001b[0m\u001b[1;33m\u001b[0m\u001b[0m\n\u001b[1;32m----> 2\u001b[1;33m \u001b[0mIndia_csv\u001b[0m \u001b[1;33m=\u001b[0m \u001b[0mPath\u001b[0m\u001b[1;33m(\u001b[0m\u001b[1;34m\"Vanguard-Group/India Cases Covid.csv\"\u001b[0m\u001b[1;33m)\u001b[0m\u001b[1;33m\u001b[0m\u001b[1;33m\u001b[0m\u001b[0m\n\u001b[0m\u001b[0;32m      3\u001b[0m \u001b[0mIndia_coronavirus_data\u001b[0m \u001b[1;33m=\u001b[0m \u001b[0mpd\u001b[0m\u001b[1;33m.\u001b[0m\u001b[0mread_csv\u001b[0m\u001b[1;33m(\u001b[0m\u001b[0mIndia_csv\u001b[0m\u001b[1;33m)\u001b[0m\u001b[1;33m\u001b[0m\u001b[1;33m\u001b[0m\u001b[0m\n\u001b[0;32m      4\u001b[0m \u001b[0mIndia_coronavirus_data\u001b[0m\u001b[1;33m.\u001b[0m\u001b[0mhead\u001b[0m\u001b[1;33m(\u001b[0m\u001b[1;33m)\u001b[0m\u001b[1;33m\u001b[0m\u001b[1;33m\u001b[0m\u001b[0m\n",
      "\u001b[1;31mNameError\u001b[0m: name 'Path' is not defined"
     ]
    }
   ],
   "source": [
    "# Reading Coronavirus data csv's\n",
    "India_csv = Path(\"Vanguard-Group/India Cases Covid.csv\")\n",
    "India_coronavirus_data = pd.read_csv(India_csv)\n",
    "India_coronavirus_data.head()"
   ]
  },
  {
   "cell_type": "code",
   "execution_count": null,
   "metadata": {},
   "outputs": [],
   "source": []
  }
 ],
 "metadata": {
  "kernelspec": {
   "display_name": "Python 3",
   "language": "python",
   "name": "python3"
  },
  "language_info": {
   "codemirror_mode": {
    "name": "ipython",
    "version": 3
   },
   "file_extension": ".py",
   "mimetype": "text/x-python",
   "name": "python",
   "nbconvert_exporter": "python",
   "pygments_lexer": "ipython3",
   "version": "3.8.3"
  }
 },
 "nbformat": 4,
 "nbformat_minor": 4
}
