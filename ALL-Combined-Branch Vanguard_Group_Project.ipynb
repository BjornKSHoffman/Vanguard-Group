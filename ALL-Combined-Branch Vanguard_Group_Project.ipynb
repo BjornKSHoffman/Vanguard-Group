{
 "cells": [
  {
   "cell_type": "code",
   "execution_count": 211,
   "metadata": {},
   "outputs": [],
   "source": [
    "# Initial imports\n",
    "\n",
    "import os\n",
    "import requests\n",
    "import pandas as pd\n",
    "from pathlib import Path\n",
    "from dotenv import load_dotenv\n",
    "import numpy as np\n",
    "import datetime\n",
    "import seaborn as sns\n",
    "\n",
    "# Yfinance to get our stock data\n",
    "\n",
    "import yfinance as yf\n",
    "\n",
    "# import all the plot libs \n",
    "\n",
    "import panel as pn\n",
    "pn.extension('plotly')\n",
    "import plotly.express as px\n",
    "import hvplot.pandas\n",
    "import matplotlib.pyplot as plt\n",
    "from panel import widgets\n",
    "from panel.interact import interact\n",
    "%matplotlib inline"
   ]
  },
  {
   "cell_type": "code",
   "execution_count": 212,
   "metadata": {},
   "outputs": [
    {
     "data": {
      "text/plain": [
       "True"
      ]
     },
     "execution_count": 212,
     "metadata": {},
     "output_type": "execute_result"
    }
   ],
   "source": [
    "# Load .env enviroment variables\n",
    "\n",
    "load_dotenv('.env')"
   ]
  },
  {
   "cell_type": "code",
   "execution_count": 213,
   "metadata": {},
   "outputs": [
    {
     "name": "stdout",
     "output_type": "stream",
     "text": [
      "[*********************100%***********************]  1 of 1 completed\n"
     ]
    },
    {
     "data": {
      "text/html": [
       "<div>\n",
       "<style scoped>\n",
       "    .dataframe tbody tr th:only-of-type {\n",
       "        vertical-align: middle;\n",
       "    }\n",
       "\n",
       "    .dataframe tbody tr th {\n",
       "        vertical-align: top;\n",
       "    }\n",
       "\n",
       "    .dataframe thead th {\n",
       "        text-align: right;\n",
       "    }\n",
       "</style>\n",
       "<table border=\"1\" class=\"dataframe\">\n",
       "  <thead>\n",
       "    <tr style=\"text-align: right;\">\n",
       "      <th></th>\n",
       "      <th>Open</th>\n",
       "      <th>High</th>\n",
       "      <th>Low</th>\n",
       "      <th>Close</th>\n",
       "      <th>Adj Close</th>\n",
       "      <th>Volume</th>\n",
       "    </tr>\n",
       "    <tr>\n",
       "      <th>Date</th>\n",
       "      <th></th>\n",
       "      <th></th>\n",
       "      <th></th>\n",
       "      <th></th>\n",
       "      <th></th>\n",
       "      <th></th>\n",
       "    </tr>\n",
       "  </thead>\n",
       "  <tbody>\n",
       "    <tr>\n",
       "      <th>2020-01-03</th>\n",
       "      <td>3226.360107</td>\n",
       "      <td>3246.149902</td>\n",
       "      <td>3222.340088</td>\n",
       "      <td>3234.850098</td>\n",
       "      <td>3234.850098</td>\n",
       "      <td>3461290000</td>\n",
       "    </tr>\n",
       "    <tr>\n",
       "      <th>2020-01-06</th>\n",
       "      <td>3217.550049</td>\n",
       "      <td>3246.840088</td>\n",
       "      <td>3214.639893</td>\n",
       "      <td>3246.280029</td>\n",
       "      <td>3246.280029</td>\n",
       "      <td>3674070000</td>\n",
       "    </tr>\n",
       "    <tr>\n",
       "      <th>2020-01-07</th>\n",
       "      <td>3241.860107</td>\n",
       "      <td>3244.909912</td>\n",
       "      <td>3232.429932</td>\n",
       "      <td>3237.179932</td>\n",
       "      <td>3237.179932</td>\n",
       "      <td>3420380000</td>\n",
       "    </tr>\n",
       "    <tr>\n",
       "      <th>2020-01-08</th>\n",
       "      <td>3238.590088</td>\n",
       "      <td>3267.070068</td>\n",
       "      <td>3236.669922</td>\n",
       "      <td>3253.050049</td>\n",
       "      <td>3253.050049</td>\n",
       "      <td>3720890000</td>\n",
       "    </tr>\n",
       "    <tr>\n",
       "      <th>2020-01-09</th>\n",
       "      <td>3266.030029</td>\n",
       "      <td>3275.580078</td>\n",
       "      <td>3263.669922</td>\n",
       "      <td>3274.699951</td>\n",
       "      <td>3274.699951</td>\n",
       "      <td>3638390000</td>\n",
       "    </tr>\n",
       "  </tbody>\n",
       "</table>\n",
       "</div>"
      ],
      "text/plain": [
       "                   Open         High          Low        Close    Adj Close  \\\n",
       "Date                                                                          \n",
       "2020-01-03  3226.360107  3246.149902  3222.340088  3234.850098  3234.850098   \n",
       "2020-01-06  3217.550049  3246.840088  3214.639893  3246.280029  3246.280029   \n",
       "2020-01-07  3241.860107  3244.909912  3232.429932  3237.179932  3237.179932   \n",
       "2020-01-08  3238.590088  3267.070068  3236.669922  3253.050049  3253.050049   \n",
       "2020-01-09  3266.030029  3275.580078  3263.669922  3274.699951  3274.699951   \n",
       "\n",
       "                Volume  \n",
       "Date                    \n",
       "2020-01-03  3461290000  \n",
       "2020-01-06  3674070000  \n",
       "2020-01-07  3420380000  \n",
       "2020-01-08  3720890000  \n",
       "2020-01-09  3638390000  "
      ]
     },
     "execution_count": 213,
     "metadata": {},
     "output_type": "execute_result"
    }
   ],
   "source": [
    "# Reading sp_500 data with yfinance with dates 1/3/2020 to 10/2/2020. ^GSPC is the symbol for S&P 500 in yahoo finance.\n",
    "\n",
    "stock = '^GSPC'\n",
    "sp_500_df = yf.download(stock,'2020-01-03', '2020-10-02')\n",
    "sp_500_df = pd.DataFrame(sp_500_df)\n",
    "sp_500_df.head()"
   ]
  },
  {
   "cell_type": "code",
   "execution_count": 214,
   "metadata": {},
   "outputs": [
    {
     "data": {
      "text/html": [
       "<div>\n",
       "<style scoped>\n",
       "    .dataframe tbody tr th:only-of-type {\n",
       "        vertical-align: middle;\n",
       "    }\n",
       "\n",
       "    .dataframe tbody tr th {\n",
       "        vertical-align: top;\n",
       "    }\n",
       "\n",
       "    .dataframe thead th {\n",
       "        text-align: right;\n",
       "    }\n",
       "</style>\n",
       "<table border=\"1\" class=\"dataframe\">\n",
       "  <thead>\n",
       "    <tr style=\"text-align: right;\">\n",
       "      <th></th>\n",
       "      <th>Close</th>\n",
       "    </tr>\n",
       "    <tr>\n",
       "      <th>Date</th>\n",
       "      <th></th>\n",
       "    </tr>\n",
       "  </thead>\n",
       "  <tbody>\n",
       "    <tr>\n",
       "      <th>2020-01-03</th>\n",
       "      <td>3234.850098</td>\n",
       "    </tr>\n",
       "    <tr>\n",
       "      <th>2020-01-06</th>\n",
       "      <td>3246.280029</td>\n",
       "    </tr>\n",
       "    <tr>\n",
       "      <th>2020-01-07</th>\n",
       "      <td>3237.179932</td>\n",
       "    </tr>\n",
       "    <tr>\n",
       "      <th>2020-01-08</th>\n",
       "      <td>3253.050049</td>\n",
       "    </tr>\n",
       "    <tr>\n",
       "      <th>2020-01-09</th>\n",
       "      <td>3274.699951</td>\n",
       "    </tr>\n",
       "  </tbody>\n",
       "</table>\n",
       "</div>"
      ],
      "text/plain": [
       "                  Close\n",
       "Date                   \n",
       "2020-01-03  3234.850098\n",
       "2020-01-06  3246.280029\n",
       "2020-01-07  3237.179932\n",
       "2020-01-08  3253.050049\n",
       "2020-01-09  3274.699951"
      ]
     },
     "execution_count": 214,
     "metadata": {},
     "output_type": "execute_result"
    }
   ],
   "source": [
    "# Dropping all the S&P 500 columns except for the close price \n",
    "\n",
    "sp_500_df.drop(columns=['Open', 'High', 'Low', 'Adj Close', 'Volume'], inplace = True)\n",
    "sp_500_df.head()"
   ]
  },
  {
   "cell_type": "code",
   "execution_count": 215,
   "metadata": {},
   "outputs": [
    {
     "data": {
      "text/html": [
       "<div>\n",
       "<style scoped>\n",
       "    .dataframe tbody tr th:only-of-type {\n",
       "        vertical-align: middle;\n",
       "    }\n",
       "\n",
       "    .dataframe tbody tr th {\n",
       "        vertical-align: top;\n",
       "    }\n",
       "\n",
       "    .dataframe thead th {\n",
       "        text-align: right;\n",
       "    }\n",
       "</style>\n",
       "<table border=\"1\" class=\"dataframe\">\n",
       "  <thead>\n",
       "    <tr style=\"text-align: right;\">\n",
       "      <th></th>\n",
       "      <th>Close</th>\n",
       "    </tr>\n",
       "    <tr>\n",
       "      <th>Date</th>\n",
       "      <th></th>\n",
       "    </tr>\n",
       "  </thead>\n",
       "  <tbody>\n",
       "    <tr>\n",
       "      <th>2020-01-03</th>\n",
       "      <td>NaN</td>\n",
       "    </tr>\n",
       "    <tr>\n",
       "      <th>2020-01-06</th>\n",
       "      <td>0.003533</td>\n",
       "    </tr>\n",
       "    <tr>\n",
       "      <th>2020-01-07</th>\n",
       "      <td>-0.002803</td>\n",
       "    </tr>\n",
       "    <tr>\n",
       "      <th>2020-01-08</th>\n",
       "      <td>0.004902</td>\n",
       "    </tr>\n",
       "    <tr>\n",
       "      <th>2020-01-09</th>\n",
       "      <td>0.006655</td>\n",
       "    </tr>\n",
       "  </tbody>\n",
       "</table>\n",
       "</div>"
      ],
      "text/plain": [
       "               Close\n",
       "Date                \n",
       "2020-01-03       NaN\n",
       "2020-01-06  0.003533\n",
       "2020-01-07 -0.002803\n",
       "2020-01-08  0.004902\n",
       "2020-01-09  0.006655"
      ]
     },
     "execution_count": 215,
     "metadata": {},
     "output_type": "execute_result"
    }
   ],
   "source": [
    "# Calculating the percent change per day\n",
    "\n",
    "sp_500_daily_returns = sp_500_df.pct_change()\n",
    "sp_500_daily_returns.head()"
   ]
  },
  {
   "cell_type": "code",
   "execution_count": 216,
   "metadata": {},
   "outputs": [
    {
     "data": {
      "text/html": [
       "<div>\n",
       "<style scoped>\n",
       "    .dataframe tbody tr th:only-of-type {\n",
       "        vertical-align: middle;\n",
       "    }\n",
       "\n",
       "    .dataframe tbody tr th {\n",
       "        vertical-align: top;\n",
       "    }\n",
       "\n",
       "    .dataframe thead th {\n",
       "        text-align: right;\n",
       "    }\n",
       "</style>\n",
       "<table border=\"1\" class=\"dataframe\">\n",
       "  <thead>\n",
       "    <tr style=\"text-align: right;\">\n",
       "      <th></th>\n",
       "      <th>Date</th>\n",
       "      <th>Confirmed</th>\n",
       "      <th>Deaths</th>\n",
       "    </tr>\n",
       "  </thead>\n",
       "  <tbody>\n",
       "    <tr>\n",
       "      <th>0</th>\n",
       "      <td>1/22/2020</td>\n",
       "      <td>0</td>\n",
       "      <td>0</td>\n",
       "    </tr>\n",
       "    <tr>\n",
       "      <th>1</th>\n",
       "      <td>1/22/2020</td>\n",
       "      <td>0</td>\n",
       "      <td>0</td>\n",
       "    </tr>\n",
       "    <tr>\n",
       "      <th>2</th>\n",
       "      <td>1/22/2020</td>\n",
       "      <td>0</td>\n",
       "      <td>0</td>\n",
       "    </tr>\n",
       "    <tr>\n",
       "      <th>3</th>\n",
       "      <td>1/22/2020</td>\n",
       "      <td>0</td>\n",
       "      <td>0</td>\n",
       "    </tr>\n",
       "    <tr>\n",
       "      <th>4</th>\n",
       "      <td>1/22/2020</td>\n",
       "      <td>0</td>\n",
       "      <td>0</td>\n",
       "    </tr>\n",
       "  </tbody>\n",
       "</table>\n",
       "</div>"
      ],
      "text/plain": [
       "        Date  Confirmed  Deaths\n",
       "0  1/22/2020          0       0\n",
       "1  1/22/2020          0       0\n",
       "2  1/22/2020          0       0\n",
       "3  1/22/2020          0       0\n",
       "4  1/22/2020          0       0"
      ]
     },
     "execution_count": 216,
     "metadata": {},
     "output_type": "execute_result"
    }
   ],
   "source": [
    "# Getting the USA Coronavirus data csv by reading the usa covid cases csv\n",
    "\n",
    "US_csv = Path('usa covid cases.csv')\n",
    "#US_csv = Path(\"Vanguard-Group/usa covid cases.csv\")\n",
    "US_coronavirus_data = pd.read_csv(US_csv, parse_dates = True, infer_datetime_format = True)\n",
    "US_coronavirus_data.head()"
   ]
  },
  {
   "cell_type": "code",
   "execution_count": 217,
   "metadata": {},
   "outputs": [
    {
     "data": {
      "text/html": [
       "<div>\n",
       "<style scoped>\n",
       "    .dataframe tbody tr th:only-of-type {\n",
       "        vertical-align: middle;\n",
       "    }\n",
       "\n",
       "    .dataframe tbody tr th {\n",
       "        vertical-align: top;\n",
       "    }\n",
       "\n",
       "    .dataframe thead th {\n",
       "        text-align: right;\n",
       "    }\n",
       "</style>\n",
       "<table border=\"1\" class=\"dataframe\">\n",
       "  <thead>\n",
       "    <tr style=\"text-align: right;\">\n",
       "      <th></th>\n",
       "      <th>Confirmed</th>\n",
       "      <th>Deaths</th>\n",
       "    </tr>\n",
       "    <tr>\n",
       "      <th>Date</th>\n",
       "      <th></th>\n",
       "      <th></th>\n",
       "    </tr>\n",
       "  </thead>\n",
       "  <tbody>\n",
       "    <tr>\n",
       "      <th>1/22/2020</th>\n",
       "      <td>1</td>\n",
       "      <td>0</td>\n",
       "    </tr>\n",
       "    <tr>\n",
       "      <th>1/23/2020</th>\n",
       "      <td>1</td>\n",
       "      <td>0</td>\n",
       "    </tr>\n",
       "    <tr>\n",
       "      <th>1/24/2020</th>\n",
       "      <td>2</td>\n",
       "      <td>0</td>\n",
       "    </tr>\n",
       "    <tr>\n",
       "      <th>1/25/2020</th>\n",
       "      <td>2</td>\n",
       "      <td>0</td>\n",
       "    </tr>\n",
       "    <tr>\n",
       "      <th>1/26/2020</th>\n",
       "      <td>5</td>\n",
       "      <td>0</td>\n",
       "    </tr>\n",
       "  </tbody>\n",
       "</table>\n",
       "</div>"
      ],
      "text/plain": [
       "           Confirmed  Deaths\n",
       "Date                        \n",
       "1/22/2020          1       0\n",
       "1/23/2020          1       0\n",
       "1/24/2020          2       0\n",
       "1/25/2020          2       0\n",
       "1/26/2020          5       0"
      ]
     },
     "execution_count": 217,
     "metadata": {},
     "output_type": "execute_result"
    }
   ],
   "source": [
    "# Group the USA Coronavirus data by date\n",
    "\n",
    "US_coronavirus_data = US_coronavirus_data.groupby(['Date']).sum()\n",
    "US_coronavirus_data.head()"
   ]
  },
  {
   "cell_type": "code",
   "execution_count": 218,
   "metadata": {},
   "outputs": [
    {
     "data": {
      "text/html": [
       "<div>\n",
       "<style scoped>\n",
       "    .dataframe tbody tr th:only-of-type {\n",
       "        vertical-align: middle;\n",
       "    }\n",
       "\n",
       "    .dataframe tbody tr th {\n",
       "        vertical-align: top;\n",
       "    }\n",
       "\n",
       "    .dataframe thead th {\n",
       "        text-align: right;\n",
       "    }\n",
       "</style>\n",
       "<table border=\"1\" class=\"dataframe\">\n",
       "  <thead>\n",
       "    <tr style=\"text-align: right;\">\n",
       "      <th></th>\n",
       "      <th>Confirmed</th>\n",
       "      <th>Deaths</th>\n",
       "    </tr>\n",
       "    <tr>\n",
       "      <th>Date</th>\n",
       "      <th></th>\n",
       "      <th></th>\n",
       "    </tr>\n",
       "  </thead>\n",
       "  <tbody>\n",
       "    <tr>\n",
       "      <th>2020-01-22</th>\n",
       "      <td>1</td>\n",
       "      <td>0</td>\n",
       "    </tr>\n",
       "    <tr>\n",
       "      <th>2020-01-23</th>\n",
       "      <td>1</td>\n",
       "      <td>0</td>\n",
       "    </tr>\n",
       "    <tr>\n",
       "      <th>2020-01-24</th>\n",
       "      <td>2</td>\n",
       "      <td>0</td>\n",
       "    </tr>\n",
       "    <tr>\n",
       "      <th>2020-01-25</th>\n",
       "      <td>2</td>\n",
       "      <td>0</td>\n",
       "    </tr>\n",
       "    <tr>\n",
       "      <th>2020-01-26</th>\n",
       "      <td>5</td>\n",
       "      <td>0</td>\n",
       "    </tr>\n",
       "  </tbody>\n",
       "</table>\n",
       "</div>"
      ],
      "text/plain": [
       "            Confirmed  Deaths\n",
       "Date                         \n",
       "2020-01-22          1       0\n",
       "2020-01-23          1       0\n",
       "2020-01-24          2       0\n",
       "2020-01-25          2       0\n",
       "2020-01-26          5       0"
      ]
     },
     "execution_count": 218,
     "metadata": {},
     "output_type": "execute_result"
    }
   ],
   "source": [
    "# Changing the date column to_datetime format and making it as the index\n",
    "\n",
    "US_coronavirus_data.index = pd.to_datetime(US_coronavirus_data.index)\n",
    "US_coronavirus_data.head()"
   ]
  },
  {
   "cell_type": "code",
   "execution_count": 219,
   "metadata": {},
   "outputs": [
    {
     "data": {
      "text/html": [
       "<div>\n",
       "<style scoped>\n",
       "    .dataframe tbody tr th:only-of-type {\n",
       "        vertical-align: middle;\n",
       "    }\n",
       "\n",
       "    .dataframe tbody tr th {\n",
       "        vertical-align: top;\n",
       "    }\n",
       "\n",
       "    .dataframe thead th {\n",
       "        text-align: right;\n",
       "    }\n",
       "</style>\n",
       "<table border=\"1\" class=\"dataframe\">\n",
       "  <thead>\n",
       "    <tr style=\"text-align: right;\">\n",
       "      <th></th>\n",
       "      <th>Confirmed</th>\n",
       "      <th>Deaths</th>\n",
       "    </tr>\n",
       "    <tr>\n",
       "      <th>Date</th>\n",
       "      <th></th>\n",
       "      <th></th>\n",
       "    </tr>\n",
       "  </thead>\n",
       "  <tbody>\n",
       "    <tr>\n",
       "      <th>2020-07-05</th>\n",
       "      <td>0.017557</td>\n",
       "      <td>0.002090</td>\n",
       "    </tr>\n",
       "    <tr>\n",
       "      <th>2020-07-06</th>\n",
       "      <td>0.015549</td>\n",
       "      <td>0.002501</td>\n",
       "    </tr>\n",
       "    <tr>\n",
       "      <th>2020-07-07</th>\n",
       "      <td>0.020443</td>\n",
       "      <td>0.009172</td>\n",
       "    </tr>\n",
       "    <tr>\n",
       "      <th>2020-07-08</th>\n",
       "      <td>0.019559</td>\n",
       "      <td>0.006237</td>\n",
       "    </tr>\n",
       "    <tr>\n",
       "      <th>2020-07-09</th>\n",
       "      <td>0.020705</td>\n",
       "      <td>0.007483</td>\n",
       "    </tr>\n",
       "  </tbody>\n",
       "</table>\n",
       "</div>"
      ],
      "text/plain": [
       "            Confirmed    Deaths\n",
       "Date                           \n",
       "2020-07-05   0.017557  0.002090\n",
       "2020-07-06   0.015549  0.002501\n",
       "2020-07-07   0.020443  0.009172\n",
       "2020-07-08   0.019559  0.006237\n",
       "2020-07-09   0.020705  0.007483"
      ]
     },
     "execution_count": 219,
     "metadata": {},
     "output_type": "execute_result"
    }
   ],
   "source": [
    "# Calculating the percent change for the US Coronavirus Data by day\n",
    "\n",
    "US_coronavirus_data_returns = US_coronavirus_data.pct_change()\n",
    "US_coronavirus_data_returns.tail()"
   ]
  },
  {
   "cell_type": "code",
   "execution_count": 220,
   "metadata": {},
   "outputs": [
    {
     "data": {
      "text/html": [
       "<div>\n",
       "<style scoped>\n",
       "    .dataframe tbody tr th:only-of-type {\n",
       "        vertical-align: middle;\n",
       "    }\n",
       "\n",
       "    .dataframe tbody tr th {\n",
       "        vertical-align: top;\n",
       "    }\n",
       "\n",
       "    .dataframe thead th {\n",
       "        text-align: right;\n",
       "    }\n",
       "</style>\n",
       "<table border=\"1\" class=\"dataframe\">\n",
       "  <thead>\n",
       "    <tr style=\"text-align: right;\">\n",
       "      <th></th>\n",
       "      <th>Close</th>\n",
       "      <th>Confirmed</th>\n",
       "      <th>Deaths</th>\n",
       "    </tr>\n",
       "    <tr>\n",
       "      <th>Date</th>\n",
       "      <th></th>\n",
       "      <th></th>\n",
       "      <th></th>\n",
       "    </tr>\n",
       "  </thead>\n",
       "  <tbody>\n",
       "    <tr>\n",
       "      <th>2020-01-22</th>\n",
       "      <td>0.000289</td>\n",
       "      <td>NaN</td>\n",
       "      <td>NaN</td>\n",
       "    </tr>\n",
       "    <tr>\n",
       "      <th>2020-01-23</th>\n",
       "      <td>0.001141</td>\n",
       "      <td>0.0</td>\n",
       "      <td>NaN</td>\n",
       "    </tr>\n",
       "    <tr>\n",
       "      <th>2020-01-24</th>\n",
       "      <td>-0.009042</td>\n",
       "      <td>1.0</td>\n",
       "      <td>NaN</td>\n",
       "    </tr>\n",
       "    <tr>\n",
       "      <th>2020-01-27</th>\n",
       "      <td>-0.015731</td>\n",
       "      <td>0.0</td>\n",
       "      <td>NaN</td>\n",
       "    </tr>\n",
       "    <tr>\n",
       "      <th>2020-01-28</th>\n",
       "      <td>0.010054</td>\n",
       "      <td>0.0</td>\n",
       "      <td>NaN</td>\n",
       "    </tr>\n",
       "  </tbody>\n",
       "</table>\n",
       "</div>"
      ],
      "text/plain": [
       "               Close  Confirmed  Deaths\n",
       "Date                                   \n",
       "2020-01-22  0.000289        NaN     NaN\n",
       "2020-01-23  0.001141        0.0     NaN\n",
       "2020-01-24 -0.009042        1.0     NaN\n",
       "2020-01-27 -0.015731        0.0     NaN\n",
       "2020-01-28  0.010054        0.0     NaN"
      ]
     },
     "execution_count": 220,
     "metadata": {},
     "output_type": "execute_result"
    }
   ],
   "source": [
    "# Combining the two data frames by using concat: sp_500_daily_returns and US_coronavirus_data_returns\n",
    "\n",
    "combined_US_returns = pd.concat([sp_500_daily_returns, US_coronavirus_data_returns], axis='columns', join='inner')\n",
    "combined_US_returns.head()"
   ]
  },
  {
   "cell_type": "code",
   "execution_count": 221,
   "metadata": {},
   "outputs": [],
   "source": [
    "# Drop all Null values in the combined USA data and renaming the columns\n",
    "\n",
    "combined_US_returns.rename(columns={'Deaths' : 'USA Deaths', 'Confirmed' : 'USA Confirmed', 'Close' : 'S&P 500 Close Price'}, inplace = True)\n",
    "combined_US_returns.dropna(inplace = True)"
   ]
  },
  {
   "cell_type": "code",
   "execution_count": 222,
   "metadata": {},
   "outputs": [
    {
     "data": {
      "application/vnd.holoviews_exec.v0+json": "",
      "text/html": [
       "<div id='14347'>\n",
       "\n",
       "\n",
       "\n",
       "\n",
       "\n",
       "  <div class=\"bk-root\" id=\"a071767c-56a3-4c3a-9135-7fe508637eb1\" data-root-id=\"14347\"></div>\n",
       "</div>\n",
       "<script type=\"application/javascript\">(function(root) {\n",
       "  function embed_document(root) {\n",
       "  var docs_json = {\"aba7ae20-3957-4c5c-bb70-f7bac1c688ed\":{\"roots\":{\"references\":[{\"attributes\":{\"end\":1595808000000.0,\"reset_end\":1595808000000.0,\"reset_start\":1580688000000.0,\"start\":1580688000000.0,\"tags\":[[[\"Date\",\"Date\",null]]]},\"id\":\"14349\",\"type\":\"Range1d\"},{\"attributes\":{\"source\":{\"id\":\"14388\"}},\"id\":\"14395\",\"type\":\"CDSView\"},{\"attributes\":{\"line_color\":\"#2ba02b\",\"line_width\":2,\"x\":{\"field\":\"Date\"},\"y\":{\"field\":\"value\"}},\"id\":\"14452\",\"type\":\"Line\"},{\"attributes\":{\"source\":{\"id\":\"14418\"}},\"id\":\"14425\",\"type\":\"CDSView\"},{\"attributes\":{},\"id\":\"14389\",\"type\":\"Selection\"},{\"attributes\":{},\"id\":\"14414\",\"type\":\"UnionRenderers\"},{\"attributes\":{\"line_alpha\":0.1,\"line_color\":\"#1f77b3\",\"line_width\":2,\"x\":{\"field\":\"Date\"},\"y\":{\"field\":\"value\"}},\"id\":\"14392\",\"type\":\"Line\"},{\"attributes\":{\"axis_label\":\"\",\"bounds\":\"auto\",\"formatter\":{\"id\":\"14387\"},\"major_label_orientation\":\"horizontal\",\"ticker\":{\"id\":\"14368\"}},\"id\":\"14367\",\"type\":\"LinearAxis\"},{\"attributes\":{\"label\":{\"value\":\"S&P 500 Close Price\"},\"renderers\":[{\"id\":\"14455\"}]},\"id\":\"14481\",\"type\":\"LegendItem\"},{\"attributes\":{\"line_alpha\":0.1,\"line_color\":\"#2ba02b\",\"line_width\":2,\"x\":{\"field\":\"Date\"},\"y\":{\"field\":\"value\"}},\"id\":\"14453\",\"type\":\"Line\"},{\"attributes\":{\"months\":[0,1,2,3,4,5,6,7,8,9,10,11]},\"id\":\"14409\",\"type\":\"MonthsTicker\"},{\"attributes\":{\"active_drag\":\"auto\",\"active_inspect\":\"auto\",\"active_multi\":null,\"active_scroll\":\"auto\",\"active_tap\":\"auto\",\"tools\":[{\"id\":\"14351\"},{\"id\":\"14371\"},{\"id\":\"14372\"},{\"id\":\"14373\"},{\"id\":\"14374\"},{\"id\":\"14375\"}]},\"id\":\"14377\",\"type\":\"Toolbar\"},{\"attributes\":{},\"id\":\"14373\",\"type\":\"WheelZoomTool\"},{\"attributes\":{\"mantissas\":[1,2,5],\"max_interval\":500.0,\"num_minor_ticks\":0},\"id\":\"14402\",\"type\":\"AdaptiveTicker\"},{\"attributes\":{\"days\":[1,8,15,22]},\"id\":\"14407\",\"type\":\"DaysTicker\"},{\"attributes\":{},\"id\":\"14361\",\"type\":\"LinearScale\"},{\"attributes\":{},\"id\":\"14375\",\"type\":\"ResetTool\"},{\"attributes\":{\"text\":\"USA Confirmed/Deaths vs S&P Close Price\",\"text_color\":{\"value\":\"black\"},\"text_font_size\":{\"value\":\"12pt\"}},\"id\":\"14355\",\"type\":\"Title\"},{\"attributes\":{\"align\":null,\"below\":[{\"id\":\"14363\"}],\"center\":[{\"id\":\"14366\"},{\"id\":\"14370\"}],\"left\":[{\"id\":\"14367\"}],\"margin\":null,\"min_border_bottom\":10,\"min_border_left\":10,\"min_border_right\":10,\"min_border_top\":10,\"plot_height\":300,\"plot_width\":700,\"renderers\":[{\"id\":\"14394\"},{\"id\":\"14424\"},{\"id\":\"14455\"}],\"right\":[{\"id\":\"14416\"}],\"sizing_mode\":\"fixed\",\"title\":{\"id\":\"14355\"},\"toolbar\":{\"id\":\"14377\"},\"x_range\":{\"id\":\"14349\"},\"x_scale\":{\"id\":\"14359\"},\"y_range\":{\"id\":\"14350\"},\"y_scale\":{\"id\":\"14361\"}},\"id\":\"14354\",\"subtype\":\"Figure\",\"type\":\"Plot\"},{\"attributes\":{\"label\":{\"value\":\"USA Deaths\"},\"renderers\":[{\"id\":\"14424\"}]},\"id\":\"14448\",\"type\":\"LegendItem\"},{\"attributes\":{},\"id\":\"14479\",\"type\":\"UnionRenderers\"},{\"attributes\":{\"data\":{\"Date\":{\"__ndarray__\":\"AABAjIUAd0IAAECtiAl3QgAAABPbCXdCAADAeC0Kd0IAAIDefwp3QgAAQETSCndCAACAdckLd0IAAEDbGwx3QgAAAEFuDHdCAADApsAMd0IAAIAMEw13QgAAwD0KDndCAACAo1wOd0IAAEAJrw53QgAAAG8BD3dCAADA1FMPd0IAAAAGSxB3QgAAwGudEHdCAACA0e8Qd0IAAEA3QhF3QgAAAJ2UEXdCAABAzosSd0IAAAA03hJ3QgAAwJkwE3dCAACA/4ITd0IAAEBl1RN3QgAAgJbMFHdCAABA/B4Vd0IAAABicRV3QgAAwMfDFXdCAADAXg0Xd0IAAIDEXxd3QgAAQCqyF3dCAAAAkAQYd0IAAMD1Vhh3QgAAACdOGXdCAADAjKAZd0IAAIDy8hl3QgAAQFhFGndCAAAAvpcad0IAAEDvjht3QgAAAFXhG3dCAADAujMcd0IAAIAghhx3QgAAQIbYHHdCAACAt88dd0IAAEAdIh53QgAAAIN0HndCAADA6MYed0IAAIBOGR93QgAAwH8QIHdCAACA5WIgd0IAAEBLtSB3QgAAALEHIXdCAADAFlohd0IAAABIUSJ3QgAAwK2jIndCAACAE/Yid0IAAEB5SCN3QgAAAN+aI3dCAAAAduQkd0IAAMDbNiV3QgAAgEGJJXdCAABAp9sld0IAAIDY0iZ3QgAAQD4lJ3dCAAAApHcnd0IAAMAJyid3QgAAgG8cKHdCAADAoBMpd0IAAIAGZil3QgAAQGy4KXdCAAAA0goqd0IAAMA3XSp3QgAAAGlUK3dCAADAzqYrd0IAAIA0+St3QgAAQJpLLHdCAAAAAJ4sd0IAAEAxlS13QgAAAJfnLXdCAADA/Dkud0IAAIBijC53QgAAQMjeLndCAACA+dUvd0IAAEBfKDB3QgAAAMV6MHdCAADAKs0wd0IAAMDBFjJ3QgAAgCdpMndCAABAjbsyd0IAAADzDTN3QgAAwFhgM3dCAAAAilc0d0IAAMDvqTR3QgAAgFX8NHdCAABAu041d0IAAAAhoTV3QgAAQFKYNndCAAAAuOo2d0IAAMAdPTd3QgAAgIOPN3dCAABA6eE3d0IAAIAa2Th3Qg==\",\"dtype\":\"float64\",\"order\":\"little\",\"shape\":[104]},\"Variable\":[\"S&P 500 Close Price\",\"S&P 500 Close Price\",\"S&P 500 Close Price\",\"S&P 500 Close Price\",\"S&P 500 Close Price\",\"S&P 500 Close Price\",\"S&P 500 Close Price\",\"S&P 500 Close Price\",\"S&P 500 Close Price\",\"S&P 500 Close Price\",\"S&P 500 Close Price\",\"S&P 500 Close Price\",\"S&P 500 Close Price\",\"S&P 500 Close Price\",\"S&P 500 Close Price\",\"S&P 500 Close Price\",\"S&P 500 Close Price\",\"S&P 500 Close Price\",\"S&P 500 Close Price\",\"S&P 500 Close Price\",\"S&P 500 Close Price\",\"S&P 500 Close Price\",\"S&P 500 Close Price\",\"S&P 500 Close Price\",\"S&P 500 Close Price\",\"S&P 500 Close Price\",\"S&P 500 Close Price\",\"S&P 500 Close Price\",\"S&P 500 Close Price\",\"S&P 500 Close Price\",\"S&P 500 Close Price\",\"S&P 500 Close Price\",\"S&P 500 Close Price\",\"S&P 500 Close Price\",\"S&P 500 Close Price\",\"S&P 500 Close Price\",\"S&P 500 Close Price\",\"S&P 500 Close Price\",\"S&P 500 Close Price\",\"S&P 500 Close Price\",\"S&P 500 Close Price\",\"S&P 500 Close Price\",\"S&P 500 Close Price\",\"S&P 500 Close Price\",\"S&P 500 Close Price\",\"S&P 500 Close Price\",\"S&P 500 Close Price\",\"S&P 500 Close Price\",\"S&P 500 Close Price\",\"S&P 500 Close Price\",\"S&P 500 Close Price\",\"S&P 500 Close Price\",\"S&P 500 Close Price\",\"S&P 500 Close Price\",\"S&P 500 Close Price\",\"S&P 500 Close Price\",\"S&P 500 Close Price\",\"S&P 500 Close Price\",\"S&P 500 Close Price\",\"S&P 500 Close Price\",\"S&P 500 Close Price\",\"S&P 500 Close Price\",\"S&P 500 Close Price\",\"S&P 500 Close Price\",\"S&P 500 Close Price\",\"S&P 500 Close Price\",\"S&P 500 Close Price\",\"S&P 500 Close Price\",\"S&P 500 Close Price\",\"S&P 500 Close Price\",\"S&P 500 Close Price\",\"S&P 500 Close Price\",\"S&P 500 Close Price\",\"S&P 500 Close Price\",\"S&P 500 Close Price\",\"S&P 500 Close Price\",\"S&P 500 Close Price\",\"S&P 500 Close Price\",\"S&P 500 Close Price\",\"S&P 500 Close Price\",\"S&P 500 Close Price\",\"S&P 500 Close Price\",\"S&P 500 Close Price\",\"S&P 500 Close Price\",\"S&P 500 Close Price\",\"S&P 500 Close Price\",\"S&P 500 Close Price\",\"S&P 500 Close Price\",\"S&P 500 Close Price\",\"S&P 500 Close Price\",\"S&P 500 Close Price\",\"S&P 500 Close Price\",\"S&P 500 Close Price\",\"S&P 500 Close Price\",\"S&P 500 Close Price\",\"S&P 500 Close Price\",\"S&P 500 Close Price\",\"S&P 500 Close Price\",\"S&P 500 Close Price\",\"S&P 500 Close Price\",\"S&P 500 Close Price\",\"S&P 500 Close Price\",\"S&P 500 Close Price\",\"S&P 500 Close Price\"],\"value\":{\"__ndarray__\":\"AKialgO3fT/AHtQtdJKnP4DFZfpQyJy/gKZd9pObpT8QvA4HPF6hv6Acc6KQdpG/GBUnBsBys7/ghQsAeUqpP6BWSutIBam/WKE8/k1ZuL8A6lMEaca3P5g5T9Xerb6/QDzG7Wayrj+AarLNj4mqvwBhH5l+SHM/cLOrzjczpr/AbRIxNv+dvwCQvEEYBbg/gMtuB6ufhz+gC2XMv/SvP2BfFvt3P6G/QPU/qQIpoT8Al8WTo2WQv5DqRy3Wmaa/wBsNj5Nglz+A2++KNgCPv7CEf7k7AbI/AO4a0rBDWr8A66vu2G+hPwD7f0aTq40/AIQpnsCxhL+AGya6a06fP2BjALQlj5a/AP4ssD3Tdz/AKXa2x2+bP6DhGNJoT5K/gBpFsTZpn78ApOjfBnuXPwD0dy4ArUG/ADSTBxKBjD+AR9IEaSKOPwCmc9oIeXW/AEQgbNA4mz/A+Luc+d2Cv2Dc5eaBu5y/AL5WaERocT+A/R3w2oOCP4AB9DVxlny/ACvoZ72Phz9A5r7KxUaRPwCglzZdcSE/AGdgBQn+lL/A/kucv+GRv4D8iYRTmoc/AKsLHBcVcD+Aqq+X7CCgP4C5RD3YeIW/gH04bPwMkT+AHX/lNNd/vwDefCUXSGM/AGU8XBIriT+AGgslxl2OPwCGOAGeRGG/ABvFjxm2cz8AGADb6LpuPwAlG1LX0IA/gFoH+P7ziz8AAjQ9rphrv4AiKBw615o/AOlybkGpiD+AkOf5BfJ/v4A+WQYuw3W/ECDBbeotrr8AKHHNpL+KP4Dty+L+BYE/AGtiAOFqkz8Ary8bYH5tvwDQJXuteEM/AAkht+wjd78AVLPumZp6PwAY4CKopHE/QGP3eMV5mr+Ao8cc6HGGP6ARZxPwzpi/APK3ZIYTjj+Aa2uCNo+PPwBqjIMWknQ/AGrAvdiZcj8AsNGUTEOQP0DCA8oGKIa/AMl/J9gHgD+A5Cz+vx13vwCcdMFNb4U/AEac/6osg78Aj46gzHSLP4CSTTecmYI/ADKbrhzna78ANOAG+VVnPwDf0zeoN4E/ANw5nmSCWz8AzIWYQIp3P0AqSpgnO4m/AHGL3Bpbeb8AnWJ0XUp+Pw==\",\"dtype\":\"float64\",\"order\":\"little\",\"shape\":[104]}},\"selected\":{\"id\":\"14450\"},\"selection_policy\":{\"id\":\"14479\"}},\"id\":\"14449\",\"type\":\"ColumnDataSource\"},{\"attributes\":{\"axis_label\":\"Date\",\"bounds\":\"auto\",\"formatter\":{\"id\":\"14385\"},\"major_label_orientation\":\"horizontal\",\"ticker\":{\"id\":\"14364\"}},\"id\":\"14363\",\"type\":\"DatetimeAxis\"},{\"attributes\":{\"end\":1500,\"reset_end\":1500,\"reset_start\":0,\"tags\":[[[\"value\",\"value\",null]]]},\"id\":\"14350\",\"type\":\"Range1d\"},{\"attributes\":{},\"id\":\"14368\",\"type\":\"BasicTicker\"},{\"attributes\":{\"line_color\":\"#1f77b3\",\"line_width\":2,\"x\":{\"field\":\"Date\"},\"y\":{\"field\":\"value\"}},\"id\":\"14391\",\"type\":\"Line\"},{\"attributes\":{\"line_alpha\":0.2,\"line_color\":\"#2ba02b\",\"line_width\":2,\"x\":{\"field\":\"Date\"},\"y\":{\"field\":\"value\"}},\"id\":\"14454\",\"type\":\"Line\"},{\"attributes\":{\"data_source\":{\"id\":\"14418\"},\"glyph\":{\"id\":\"14421\"},\"hover_glyph\":null,\"muted_glyph\":{\"id\":\"14423\"},\"nonselection_glyph\":{\"id\":\"14422\"},\"selection_glyph\":null,\"view\":{\"id\":\"14425\"}},\"id\":\"14424\",\"type\":\"GlyphRenderer\"},{\"attributes\":{\"line_alpha\":0.1,\"line_color\":\"#ff7e0e\",\"line_width\":2,\"x\":{\"field\":\"Date\"},\"y\":{\"field\":\"value\"}},\"id\":\"14422\",\"type\":\"Line\"},{\"attributes\":{\"base\":60,\"mantissas\":[1,2,5,10,15,20,30],\"max_interval\":1800000.0,\"min_interval\":1000.0,\"num_minor_ticks\":0},\"id\":\"14403\",\"type\":\"AdaptiveTicker\"},{\"attributes\":{\"months\":[0,2,4,6,8,10]},\"id\":\"14410\",\"type\":\"MonthsTicker\"},{\"attributes\":{\"data\":{\"Date\":{\"__ndarray__\":\"AABAjIUAd0IAAECtiAl3QgAAABPbCXdCAADAeC0Kd0IAAIDefwp3QgAAQETSCndCAACAdckLd0IAAEDbGwx3QgAAAEFuDHdCAADApsAMd0IAAIAMEw13QgAAwD0KDndCAACAo1wOd0IAAEAJrw53QgAAAG8BD3dCAADA1FMPd0IAAAAGSxB3QgAAwGudEHdCAACA0e8Qd0IAAEA3QhF3QgAAAJ2UEXdCAABAzosSd0IAAAA03hJ3QgAAwJkwE3dCAACA/4ITd0IAAEBl1RN3QgAAgJbMFHdCAABA/B4Vd0IAAABicRV3QgAAwMfDFXdCAADAXg0Xd0IAAIDEXxd3QgAAQCqyF3dCAAAAkAQYd0IAAMD1Vhh3QgAAACdOGXdCAADAjKAZd0IAAIDy8hl3QgAAQFhFGndCAAAAvpcad0IAAEDvjht3QgAAAFXhG3dCAADAujMcd0IAAIAghhx3QgAAQIbYHHdCAACAt88dd0IAAEAdIh53QgAAAIN0HndCAADA6MYed0IAAIBOGR93QgAAwH8QIHdCAACA5WIgd0IAAEBLtSB3QgAAALEHIXdCAADAFlohd0IAAABIUSJ3QgAAwK2jIndCAACAE/Yid0IAAEB5SCN3QgAAAN+aI3dCAAAAduQkd0IAAMDbNiV3QgAAgEGJJXdCAABAp9sld0IAAIDY0iZ3QgAAQD4lJ3dCAAAApHcnd0IAAMAJyid3QgAAgG8cKHdCAADAoBMpd0IAAIAGZil3QgAAQGy4KXdCAAAA0goqd0IAAMA3XSp3QgAAAGlUK3dCAADAzqYrd0IAAIA0+St3QgAAQJpLLHdCAAAAAJ4sd0IAAEAxlS13QgAAAJfnLXdCAADA/Dkud0IAAIBijC53QgAAQMjeLndCAACA+dUvd0IAAEBfKDB3QgAAAMV6MHdCAADAKs0wd0IAAMDBFjJ3QgAAgCdpMndCAABAjbsyd0IAAADzDTN3QgAAwFhgM3dCAAAAilc0d0IAAMDvqTR3QgAAgFX8NHdCAABAu041d0IAAAAhoTV3QgAAQFKYNndCAAAAuOo2d0IAAMAdPTd3QgAAgIOPN3dCAABA6eE3d0IAAIAa2Th3Qg==\",\"dtype\":\"float64\",\"order\":\"little\",\"shape\":[104]},\"Variable\":[\"USA Deaths\",\"USA Deaths\",\"USA Deaths\",\"USA Deaths\",\"USA Deaths\",\"USA Deaths\",\"USA Deaths\",\"USA Deaths\",\"USA Deaths\",\"USA Deaths\",\"USA Deaths\",\"USA Deaths\",\"USA Deaths\",\"USA Deaths\",\"USA Deaths\",\"USA Deaths\",\"USA Deaths\",\"USA Deaths\",\"USA Deaths\",\"USA Deaths\",\"USA Deaths\",\"USA Deaths\",\"USA Deaths\",\"USA Deaths\",\"USA Deaths\",\"USA Deaths\",\"USA Deaths\",\"USA Deaths\",\"USA Deaths\",\"USA Deaths\",\"USA Deaths\",\"USA Deaths\",\"USA Deaths\",\"USA Deaths\",\"USA Deaths\",\"USA Deaths\",\"USA Deaths\",\"USA Deaths\",\"USA Deaths\",\"USA Deaths\",\"USA Deaths\",\"USA Deaths\",\"USA Deaths\",\"USA Deaths\",\"USA Deaths\",\"USA Deaths\",\"USA Deaths\",\"USA Deaths\",\"USA Deaths\",\"USA Deaths\",\"USA Deaths\",\"USA Deaths\",\"USA Deaths\",\"USA Deaths\",\"USA Deaths\",\"USA Deaths\",\"USA Deaths\",\"USA Deaths\",\"USA Deaths\",\"USA Deaths\",\"USA Deaths\",\"USA Deaths\",\"USA Deaths\",\"USA Deaths\",\"USA Deaths\",\"USA Deaths\",\"USA Deaths\",\"USA Deaths\",\"USA Deaths\",\"USA Deaths\",\"USA Deaths\",\"USA Deaths\",\"USA Deaths\",\"USA Deaths\",\"USA Deaths\",\"USA Deaths\",\"USA Deaths\",\"USA Deaths\",\"USA Deaths\",\"USA Deaths\",\"USA Deaths\",\"USA Deaths\",\"USA Deaths\",\"USA Deaths\",\"USA Deaths\",\"USA Deaths\",\"USA Deaths\",\"USA Deaths\",\"USA Deaths\",\"USA Deaths\",\"USA Deaths\",\"USA Deaths\",\"USA Deaths\",\"USA Deaths\",\"USA Deaths\",\"USA Deaths\",\"USA Deaths\",\"USA Deaths\",\"USA Deaths\",\"USA Deaths\",\"USA Deaths\",\"USA Deaths\",\"USA Deaths\",\"USA Deaths\"],\"value\":{\"__ndarray__\":\"AAAAAAAA8L+sXi5QhUbvv14BZYvl7++/YyrgROzv779AF1100UW3P1hVVVVVVcU/IIZhGIZhqD8AAAAAAAA7QLht27Zt28Y/ZJNNNtlk0z+wpqwpa8rKP/iKr/iKr9g/mCeRadhu1j8sI/qA6tjbP6jvbNR3Nto/q6qqqqqqTUAUZ74pznzTP9iHxvrQWNM/JDBAAKuO0z9AnqiKNtTTP9RM6rmWTtQ/btu2bduGg0BkSfhTf+HRP6OLLrroYnNAZpQ8rV+G6b+yeoCRTvfqv1DxEdEUH8E/gP78rqDnxD8IQRMVynfAPzBUYmK2nbw/gGV94ZKgsT+Qdk8JLbC1P+D9vztEM7U/4D0I/906sD9wJnzej+GyPx8vcXmanhBAQI5qYhnxrD8Ads0NnKKqP2Ddnayo06k/QI+o7UNepT9A0niOViWaP4DYjcWo2aM/4GJUJ7eUpT/cwIvNml4WQJQMa0vgoQFAxpuU4bFt1b/AbQ9AddqgP6BkXmNcYqE/ABm+Nr5Amj9A7PVWIQmXPwAYF06YqIk/gKtaVUgzlD8A1mR3S3qVP4BOlEcUUJU/QLCvimGMkz+AoITUtGWBP4DzSm68X5E/CJi+Cz9k2T+ASON73H6KPwD10nsXJIs/AMxnrchDfD8AevIlTuuOP4Dj3jbZ24c/AJAuYclDhz+QcSH+LO/UP1D29RTc37q/EMCYJqC9wr/onmCkbFjCv4BZRouAMoI/ADGU7gOXcj8A4XzeKzmBPwCITbrzE7I/AKcXo8jBfz8AMO+9+mZ9PwCim4GlhWs/AN+TjuRtfT8AnZqGlCd6PwDnPKa5XHg/AFAv0Qkedz8ABB9t1JNrPwA1GP/FVHw/ACPOeX9yeT/A2a6bkDqUPwBwhGwN0nM/AKRdlMewZj/44paF+c7GPzDswTlxesE/4DQJE5Vetb8A6n1ifnxkPwCz88PfyII/AMq8uKSLeT8Aoe+wfKZ+P6BQ2hnf9qc/ADCO22/fZT8Ap2sYUjF7PwCrP4bqe3w/AOxw7cUbfD8A/3hleeF6PxD2U9SmSrg/AFfcOzDVfz8A0CKyYjiBPwAapamd1n8/gLPinvQFgD8APl6zr/59Pw==\",\"dtype\":\"float64\",\"order\":\"little\",\"shape\":[104]}},\"selected\":{\"id\":\"14419\"},\"selection_policy\":{\"id\":\"14446\"}},\"id\":\"14418\",\"type\":\"ColumnDataSource\"},{\"attributes\":{\"click_policy\":\"mute\",\"items\":[{\"id\":\"14417\"},{\"id\":\"14448\"},{\"id\":\"14481\"}],\"location\":[0,0],\"title\":\"Variable\"},\"id\":\"14416\",\"type\":\"Legend\"},{\"attributes\":{\"data\":{\"Date\":{\"__ndarray__\":\"AABAjIUAd0IAAECtiAl3QgAAABPbCXdCAADAeC0Kd0IAAIDefwp3QgAAQETSCndCAACAdckLd0IAAEDbGwx3QgAAAEFuDHdCAADApsAMd0IAAIAMEw13QgAAwD0KDndCAACAo1wOd0IAAEAJrw53QgAAAG8BD3dCAADA1FMPd0IAAAAGSxB3QgAAwGudEHdCAACA0e8Qd0IAAEA3QhF3QgAAAJ2UEXdCAABAzosSd0IAAAA03hJ3QgAAwJkwE3dCAACA/4ITd0IAAEBl1RN3QgAAgJbMFHdCAABA/B4Vd0IAAABicRV3QgAAwMfDFXdCAADAXg0Xd0IAAIDEXxd3QgAAQCqyF3dCAAAAkAQYd0IAAMD1Vhh3QgAAACdOGXdCAADAjKAZd0IAAIDy8hl3QgAAQFhFGndCAAAAvpcad0IAAEDvjht3QgAAAFXhG3dCAADAujMcd0IAAIAghhx3QgAAQIbYHHdCAACAt88dd0IAAEAdIh53QgAAAIN0HndCAADA6MYed0IAAIBOGR93QgAAwH8QIHdCAACA5WIgd0IAAEBLtSB3QgAAALEHIXdCAADAFlohd0IAAABIUSJ3QgAAwK2jIndCAACAE/Yid0IAAEB5SCN3QgAAAN+aI3dCAAAAduQkd0IAAMDbNiV3QgAAgEGJJXdCAABAp9sld0IAAIDY0iZ3QgAAQD4lJ3dCAAAApHcnd0IAAMAJyid3QgAAgG8cKHdCAADAoBMpd0IAAIAGZil3QgAAQGy4KXdCAAAA0goqd0IAAMA3XSp3QgAAAGlUK3dCAADAzqYrd0IAAIA0+St3QgAAQJpLLHdCAAAAAJ4sd0IAAEAxlS13QgAAAJfnLXdCAADA/Dkud0IAAIBijC53QgAAQMjeLndCAACA+dUvd0IAAEBfKDB3QgAAAMV6MHdCAADAKs0wd0IAAMDBFjJ3QgAAgCdpMndCAABAjbsyd0IAAADzDTN3QgAAwFhgM3dCAAAAilc0d0IAAMDvqTR3QgAAgFX8NHdCAABAu041d0IAAAAhoTV3QgAAQFKYNndCAAAAuOo2d0IAAMAdPTd3QgAAgIOPN3dCAABA6eE3d0IAAIAa2Th3Qg==\",\"dtype\":\"float64\",\"order\":\"little\",\"shape\":[104]},\"Variable\":[\"USA Confirmed\",\"USA Confirmed\",\"USA Confirmed\",\"USA Confirmed\",\"USA Confirmed\",\"USA Confirmed\",\"USA Confirmed\",\"USA Confirmed\",\"USA Confirmed\",\"USA Confirmed\",\"USA Confirmed\",\"USA Confirmed\",\"USA Confirmed\",\"USA Confirmed\",\"USA Confirmed\",\"USA Confirmed\",\"USA Confirmed\",\"USA Confirmed\",\"USA Confirmed\",\"USA Confirmed\",\"USA Confirmed\",\"USA Confirmed\",\"USA Confirmed\",\"USA Confirmed\",\"USA Confirmed\",\"USA Confirmed\",\"USA Confirmed\",\"USA Confirmed\",\"USA Confirmed\",\"USA Confirmed\",\"USA Confirmed\",\"USA Confirmed\",\"USA Confirmed\",\"USA Confirmed\",\"USA Confirmed\",\"USA Confirmed\",\"USA Confirmed\",\"USA Confirmed\",\"USA Confirmed\",\"USA Confirmed\",\"USA Confirmed\",\"USA Confirmed\",\"USA Confirmed\",\"USA Confirmed\",\"USA Confirmed\",\"USA Confirmed\",\"USA Confirmed\",\"USA Confirmed\",\"USA Confirmed\",\"USA Confirmed\",\"USA Confirmed\",\"USA Confirmed\",\"USA Confirmed\",\"USA Confirmed\",\"USA Confirmed\",\"USA Confirmed\",\"USA Confirmed\",\"USA Confirmed\",\"USA Confirmed\",\"USA Confirmed\",\"USA Confirmed\",\"USA Confirmed\",\"USA Confirmed\",\"USA Confirmed\",\"USA Confirmed\",\"USA Confirmed\",\"USA Confirmed\",\"USA Confirmed\",\"USA Confirmed\",\"USA Confirmed\",\"USA Confirmed\",\"USA Confirmed\",\"USA Confirmed\",\"USA Confirmed\",\"USA Confirmed\",\"USA Confirmed\",\"USA Confirmed\",\"USA Confirmed\",\"USA Confirmed\",\"USA Confirmed\",\"USA Confirmed\",\"USA Confirmed\",\"USA Confirmed\",\"USA Confirmed\",\"USA Confirmed\",\"USA Confirmed\",\"USA Confirmed\",\"USA Confirmed\",\"USA Confirmed\",\"USA Confirmed\",\"USA Confirmed\",\"USA Confirmed\",\"USA Confirmed\",\"USA Confirmed\",\"USA Confirmed\",\"USA Confirmed\",\"USA Confirmed\",\"USA Confirmed\",\"USA Confirmed\",\"USA Confirmed\",\"USA Confirmed\",\"USA Confirmed\",\"USA Confirmed\",\"USA Confirmed\"],\"value\":{\"__ndarray__\":\"VlVVVVVV4b9uBLfTVOHvv1ZxFtHD+++/zP3tUnz777+e2Imd2InlP5h7GmG5p9E/UBPKNKFMwz8zMzMzM7M2QAwy4y+t6eE/lH1g5rIV2j9YeoashG/YP1CJo+EjBN4/TCLXdqMk2j/QIblzSO7cPzbM27j1zeI/BeOt7HPodkCY9N/BICDTP8CaX7SI9M0/AFbYcTBAzD+ka+6HknnRPxjN1oY0rss/PHfu3LlnoUBoJlMwonfEPxSxX1Kfu3lAghf3r7mm5b8qQVRaAYTnvzDihyqperY/ECc487J0tT8Au9yt8WK0P+Dx5jgCtbQ/QGZIlYhEpz+gMMPrQdGnP0A4ta1wd6g/oNPnmi8eqT9AAyc5wQipPzpdRc2roQFAQLQ6l8m5oD9gd6SUi8ehP8AB9g4m6KQ/AKky+11RpT/AGqqwfcCXPwCo+bM5Wpk/AOK8rPa/mz8aCfOmwQcHQJDosHRUIfY/PGEfN/Dg1b/Ae38CTeqUP8CGwnB9Z5U/gOx5tV0llz/AIyKmFhCWP4DqOmz0+ow/wOBd9m/LkD8A9EDjaDaPP4Bt3ciSQZQ/QBy6Al4ykj+AfEbC0NuNPwCaPaUjpYs/2PnWi4XW1z9A9Pzd+6aQPwDPc2DYM48/gEoTWzonhz+A+dN5bSqGP4B1FLWSXYs/ABIo9PsAjT9YCcxhy3PYPxiaS8QqL8a/kGNNhsod0r824Bm562TSv4AqF4RQf4s/gLg4WNpXgj+AqpEZc+yCPyCaZnmm9rk/ALrA8hR+hz+AkbWGfKKJPwBXacGJOYM/AO6zdfL2hj8AD5Y/dXyIPwAWYyCzU4o/AIW3io9sjT8Aw1OiV2iLP4B8wfx4Ko8/gGGalV96jj8A9JAvUiORP0BiaWeMIZM/APkhXvBikD8wsD44e9jaPxgzFLgZ4NY/8i2Q/Kd90b8ApHb89NePP8AmypLm7pQ/gLLKa00HlD8AjrsapTOVP1C0H72aucc/gO1PtdxYkj8ACKmLT4WUP0DITwtOF5Q/AObHNhWclj+ADzpzb32UP0CvKQeOgNk/ADyQ76I7kT9AfTS1R5+SP4DPo5zgt5E/wPj8kI6wkj8A6GK4GkCLPw==\",\"dtype\":\"float64\",\"order\":\"little\",\"shape\":[104]}},\"selected\":{\"id\":\"14389\"},\"selection_policy\":{\"id\":\"14414\"}},\"id\":\"14388\",\"type\":\"ColumnDataSource\"},{\"attributes\":{\"data_source\":{\"id\":\"14449\"},\"glyph\":{\"id\":\"14452\"},\"hover_glyph\":null,\"muted_glyph\":{\"id\":\"14454\"},\"nonselection_glyph\":{\"id\":\"14453\"},\"selection_glyph\":null,\"view\":{\"id\":\"14456\"}},\"id\":\"14455\",\"type\":\"GlyphRenderer\"},{\"attributes\":{},\"id\":\"14419\",\"type\":\"Selection\"},{\"attributes\":{},\"id\":\"14413\",\"type\":\"YearsTicker\"},{\"attributes\":{\"source\":{\"id\":\"14449\"}},\"id\":\"14456\",\"type\":\"CDSView\"},{\"attributes\":{\"label\":{\"value\":\"USA Confirmed\"},\"renderers\":[{\"id\":\"14394\"}]},\"id\":\"14417\",\"type\":\"LegendItem\"},{\"attributes\":{\"line_alpha\":0.2,\"line_color\":\"#ff7e0e\",\"line_width\":2,\"x\":{\"field\":\"Date\"},\"y\":{\"field\":\"value\"}},\"id\":\"14423\",\"type\":\"Line\"},{\"attributes\":{\"margin\":[5,5,5,5],\"name\":\"HSpacer19820\",\"sizing_mode\":\"stretch_width\"},\"id\":\"14698\",\"type\":\"Spacer\"},{\"attributes\":{\"data_source\":{\"id\":\"14388\"},\"glyph\":{\"id\":\"14391\"},\"hover_glyph\":null,\"muted_glyph\":{\"id\":\"14393\"},\"nonselection_glyph\":{\"id\":\"14392\"},\"selection_glyph\":null,\"view\":{\"id\":\"14395\"}},\"id\":\"14394\",\"type\":\"GlyphRenderer\"},{\"attributes\":{},\"id\":\"14372\",\"type\":\"PanTool\"},{\"attributes\":{\"bottom_units\":\"screen\",\"fill_alpha\":0.5,\"fill_color\":\"lightgrey\",\"left_units\":\"screen\",\"level\":\"overlay\",\"line_alpha\":1.0,\"line_color\":\"black\",\"line_dash\":[4,4],\"line_width\":2,\"right_units\":\"screen\",\"top_units\":\"screen\"},\"id\":\"14376\",\"type\":\"BoxAnnotation\"},{\"attributes\":{\"base\":24,\"mantissas\":[1,2,4,6,8,12],\"max_interval\":43200000.0,\"min_interval\":3600000.0,\"num_minor_ticks\":0},\"id\":\"14404\",\"type\":\"AdaptiveTicker\"},{\"attributes\":{\"days\":[1,15]},\"id\":\"14408\",\"type\":\"DaysTicker\"},{\"attributes\":{},\"id\":\"14359\",\"type\":\"LinearScale\"},{\"attributes\":{\"axis\":{\"id\":\"14363\"},\"grid_line_color\":null,\"ticker\":null},\"id\":\"14366\",\"type\":\"Grid\"},{\"attributes\":{},\"id\":\"14387\",\"type\":\"BasicTickFormatter\"},{\"attributes\":{\"children\":[{\"id\":\"14348\"},{\"id\":\"14354\"},{\"id\":\"14698\"}],\"margin\":[0,0,0,0],\"name\":\"Row19815\",\"tags\":[\"embedded\"]},\"id\":\"14347\",\"type\":\"Row\"},{\"attributes\":{\"months\":[0,4,8]},\"id\":\"14411\",\"type\":\"MonthsTicker\"},{\"attributes\":{\"overlay\":{\"id\":\"14376\"}},\"id\":\"14374\",\"type\":\"BoxZoomTool\"},{\"attributes\":{\"months\":[0,6]},\"id\":\"14412\",\"type\":\"MonthsTicker\"},{\"attributes\":{\"line_color\":\"#ff7e0e\",\"line_width\":2,\"x\":{\"field\":\"Date\"},\"y\":{\"field\":\"value\"}},\"id\":\"14421\",\"type\":\"Line\"},{\"attributes\":{\"days\":[1,2,3,4,5,6,7,8,9,10,11,12,13,14,15,16,17,18,19,20,21,22,23,24,25,26,27,28,29,30,31]},\"id\":\"14405\",\"type\":\"DaysTicker\"},{\"attributes\":{},\"id\":\"14371\",\"type\":\"SaveTool\"},{\"attributes\":{\"line_alpha\":0.2,\"line_color\":\"#1f77b3\",\"line_width\":2,\"x\":{\"field\":\"Date\"},\"y\":{\"field\":\"value\"}},\"id\":\"14393\",\"type\":\"Line\"},{\"attributes\":{\"callback\":null,\"formatters\":{\"@{Date}\":\"datetime\"},\"renderers\":[{\"id\":\"14394\"},{\"id\":\"14424\"},{\"id\":\"14455\"}],\"tags\":[\"hv_created\"],\"tooltips\":[[\"Variable\",\"@{Variable}\"],[\"Date\",\"@{Date}{%F %T}\"],[\"value\",\"@{value}\"]]},\"id\":\"14351\",\"type\":\"HoverTool\"},{\"attributes\":{},\"id\":\"14385\",\"type\":\"DatetimeTickFormatter\"},{\"attributes\":{\"days\":[1,4,7,10,13,16,19,22,25,28]},\"id\":\"14406\",\"type\":\"DaysTicker\"},{\"attributes\":{},\"id\":\"14450\",\"type\":\"Selection\"},{\"attributes\":{\"axis\":{\"id\":\"14367\"},\"dimension\":1,\"grid_line_color\":null,\"ticker\":null},\"id\":\"14370\",\"type\":\"Grid\"},{\"attributes\":{\"margin\":[5,5,5,5],\"name\":\"HSpacer19819\",\"sizing_mode\":\"stretch_width\"},\"id\":\"14348\",\"type\":\"Spacer\"},{\"attributes\":{\"num_minor_ticks\":5,\"tickers\":[{\"id\":\"14402\"},{\"id\":\"14403\"},{\"id\":\"14404\"},{\"id\":\"14405\"},{\"id\":\"14406\"},{\"id\":\"14407\"},{\"id\":\"14408\"},{\"id\":\"14409\"},{\"id\":\"14410\"},{\"id\":\"14411\"},{\"id\":\"14412\"},{\"id\":\"14413\"}]},\"id\":\"14364\",\"type\":\"DatetimeTicker\"},{\"attributes\":{},\"id\":\"14446\",\"type\":\"UnionRenderers\"}],\"root_ids\":[\"14347\"]},\"title\":\"Bokeh Application\",\"version\":\"2.1.1\"}};\n",
       "  var render_items = [{\"docid\":\"aba7ae20-3957-4c5c-bb70-f7bac1c688ed\",\"root_ids\":[\"14347\"],\"roots\":{\"14347\":\"a071767c-56a3-4c3a-9135-7fe508637eb1\"}}];\n",
       "  root.Bokeh.embed.embed_items_notebook(docs_json, render_items);\n",
       "  }\n",
       "if (root.Bokeh !== undefined) {\n",
       "    embed_document(root);\n",
       "  } else {\n",
       "    var attempts = 0;\n",
       "    var timer = setInterval(function(root) {\n",
       "      if (root.Bokeh !== undefined) {\n",
       "        clearInterval(timer);\n",
       "        embed_document(root);\n",
       "      } else if (document.readyState == \"complete\") {\n",
       "        attempts++;\n",
       "        if (attempts > 100) {\n",
       "          clearInterval(timer);\n",
       "          console.log(\"Bokeh: ERROR: Unable to run BokehJS code because BokehJS library is missing\");\n",
       "        }\n",
       "      }\n",
       "    }, 10, root)\n",
       "  }\n",
       "})(window);</script>"
      ],
      "text/plain": [
       ":NdOverlay   [Variable]\n",
       "   :Curve   [Date]   (value)"
      ]
     },
     "execution_count": 222,
     "metadata": {
      "application/vnd.holoviews_exec.v0+json": {
       "id": "14347"
      }
     },
     "output_type": "execute_result"
    }
   ],
   "source": [
    "# Plot a line chart for the combined_US_returns data\n",
    "usa_df = pd.DataFrame(combined_US_returns)\n",
    "combined_US_returns['Date'] = combined_US_returns.index\n",
    "combined_US_returns.hvplot(kind='line',x='Date', y=['USA Confirmed','USA Deaths','S&P 500 Close Price'], ylim=(0, 1500), title='USA Confirmed/Deaths vs S&P Close Price')"
   ]
  },
  {
   "cell_type": "code",
   "execution_count": 223,
   "metadata": {},
   "outputs": [
    {
     "data": {
      "text/html": [
       "<div>\n",
       "<style scoped>\n",
       "    .dataframe tbody tr th:only-of-type {\n",
       "        vertical-align: middle;\n",
       "    }\n",
       "\n",
       "    .dataframe tbody tr th {\n",
       "        vertical-align: top;\n",
       "    }\n",
       "\n",
       "    .dataframe thead th {\n",
       "        text-align: right;\n",
       "    }\n",
       "</style>\n",
       "<table border=\"1\" class=\"dataframe\">\n",
       "  <thead>\n",
       "    <tr style=\"text-align: right;\">\n",
       "      <th></th>\n",
       "      <th>S&amp;P 500 Close Price</th>\n",
       "      <th>USA Confirmed</th>\n",
       "      <th>USA Deaths</th>\n",
       "    </tr>\n",
       "  </thead>\n",
       "  <tbody>\n",
       "    <tr>\n",
       "      <th>S&amp;P 500 Close Price</th>\n",
       "      <td>1.000000</td>\n",
       "      <td>0.051573</td>\n",
       "      <td>0.019359</td>\n",
       "    </tr>\n",
       "    <tr>\n",
       "      <th>USA Confirmed</th>\n",
       "      <td>0.051573</td>\n",
       "      <td>1.000000</td>\n",
       "      <td>0.958285</td>\n",
       "    </tr>\n",
       "    <tr>\n",
       "      <th>USA Deaths</th>\n",
       "      <td>0.019359</td>\n",
       "      <td>0.958285</td>\n",
       "      <td>1.000000</td>\n",
       "    </tr>\n",
       "  </tbody>\n",
       "</table>\n",
       "</div>"
      ],
      "text/plain": [
       "                     S&P 500 Close Price  USA Confirmed  USA Deaths\n",
       "S&P 500 Close Price             1.000000       0.051573    0.019359\n",
       "USA Confirmed                   0.051573       1.000000    0.958285\n",
       "USA Deaths                      0.019359       0.958285    1.000000"
      ]
     },
     "execution_count": 223,
     "metadata": {},
     "output_type": "execute_result"
    },
    {
     "data": {
      "image/png": "[encoded data removed]",
      "text/plain": [
       "<Figure size 432x288 with 2 Axes>"
      ]
     },
     "metadata": {
      "needs_background": "light"
     },
     "output_type": "display_data"
    }
   ],
   "source": [
    "# # Plotting a heat map for the USA correlation\n",
    "\n",
    "US_correlation = combined_US_returns.corr()\n",
    "sns.heatmap(US_correlation)\n",
    "US_correlation"
   ]
  },
  {
   "cell_type": "code",
   "execution_count": 21,
   "metadata": {},
   "outputs": [],
   "source": [
    "###### KEVIN BRANCH"
   ]
  },
  {
   "cell_type": "code",
   "execution_count": 224,
   "metadata": {},
   "outputs": [
    {
     "data": {
      "text/html": [
       "<div>\n",
       "<style scoped>\n",
       "    .dataframe tbody tr th:only-of-type {\n",
       "        vertical-align: middle;\n",
       "    }\n",
       "\n",
       "    .dataframe tbody tr th {\n",
       "        vertical-align: top;\n",
       "    }\n",
       "\n",
       "    .dataframe thead th {\n",
       "        text-align: right;\n",
       "    }\n",
       "</style>\n",
       "<table border=\"1\" class=\"dataframe\">\n",
       "  <thead>\n",
       "    <tr style=\"text-align: right;\">\n",
       "      <th></th>\n",
       "      <th>Sno</th>\n",
       "      <th>Time</th>\n",
       "      <th>State/UnionTerritory</th>\n",
       "      <th>ConfirmedIndianNational</th>\n",
       "      <th>ConfirmedForeignNational</th>\n",
       "      <th>Cured</th>\n",
       "      <th>Deaths</th>\n",
       "      <th>Confirmed</th>\n",
       "    </tr>\n",
       "    <tr>\n",
       "      <th>Date</th>\n",
       "      <th></th>\n",
       "      <th></th>\n",
       "      <th></th>\n",
       "      <th></th>\n",
       "      <th></th>\n",
       "      <th></th>\n",
       "      <th></th>\n",
       "      <th></th>\n",
       "    </tr>\n",
       "  </thead>\n",
       "  <tbody>\n",
       "    <tr>\n",
       "      <th>2020-01-30</th>\n",
       "      <td>1</td>\n",
       "      <td>6:00 PM</td>\n",
       "      <td>Kerala</td>\n",
       "      <td>1</td>\n",
       "      <td>0</td>\n",
       "      <td>0</td>\n",
       "      <td>0</td>\n",
       "      <td>1</td>\n",
       "    </tr>\n",
       "    <tr>\n",
       "      <th>2020-01-31</th>\n",
       "      <td>2</td>\n",
       "      <td>6:00 PM</td>\n",
       "      <td>Kerala</td>\n",
       "      <td>1</td>\n",
       "      <td>0</td>\n",
       "      <td>0</td>\n",
       "      <td>0</td>\n",
       "      <td>1</td>\n",
       "    </tr>\n",
       "    <tr>\n",
       "      <th>2020-02-01</th>\n",
       "      <td>3</td>\n",
       "      <td>6:00 PM</td>\n",
       "      <td>Kerala</td>\n",
       "      <td>2</td>\n",
       "      <td>0</td>\n",
       "      <td>0</td>\n",
       "      <td>0</td>\n",
       "      <td>2</td>\n",
       "    </tr>\n",
       "    <tr>\n",
       "      <th>2020-02-02</th>\n",
       "      <td>4</td>\n",
       "      <td>6:00 PM</td>\n",
       "      <td>Kerala</td>\n",
       "      <td>3</td>\n",
       "      <td>0</td>\n",
       "      <td>0</td>\n",
       "      <td>0</td>\n",
       "      <td>3</td>\n",
       "    </tr>\n",
       "    <tr>\n",
       "      <th>2020-02-03</th>\n",
       "      <td>5</td>\n",
       "      <td>6:00 PM</td>\n",
       "      <td>Kerala</td>\n",
       "      <td>3</td>\n",
       "      <td>0</td>\n",
       "      <td>0</td>\n",
       "      <td>0</td>\n",
       "      <td>3</td>\n",
       "    </tr>\n",
       "  </tbody>\n",
       "</table>\n",
       "</div>"
      ],
      "text/plain": [
       "            Sno     Time State/UnionTerritory ConfirmedIndianNational  \\\n",
       "Date                                                                    \n",
       "2020-01-30    1  6:00 PM               Kerala                       1   \n",
       "2020-01-31    2  6:00 PM               Kerala                       1   \n",
       "2020-02-01    3  6:00 PM               Kerala                       2   \n",
       "2020-02-02    4  6:00 PM               Kerala                       3   \n",
       "2020-02-03    5  6:00 PM               Kerala                       3   \n",
       "\n",
       "           ConfirmedForeignNational  Cured  Deaths  Confirmed  \n",
       "Date                                                           \n",
       "2020-01-30                        0      0       0          1  \n",
       "2020-01-31                        0      0       0          1  \n",
       "2020-02-01                        0      0       0          2  \n",
       "2020-02-02                        0      0       0          3  \n",
       "2020-02-03                        0      0       0          3  "
      ]
     },
     "execution_count": 224,
     "metadata": {},
     "output_type": "execute_result"
    }
   ],
   "source": [
    "# Getting the India Coronavirus Data by reading the India Cases Covid csv\n",
    "\n",
    "#India_csv = Path('Vanguard-Group/India Cases Covid.csv')\n",
    "India_csv = Path('India Cases Covid.csv')\n",
    "India_coronavirus_data = pd.read_csv(India_csv, index_col = 'Date', parse_dates = True, infer_datetime_format = True)\n",
    "India_coronavirus_data.head()"
   ]
  },
  {
   "cell_type": "code",
   "execution_count": 225,
   "metadata": {},
   "outputs": [],
   "source": [
    "# Dropping the India Coronavirus columns and leaving only the Deaths and Confirmed columns. Also renaming the columns.\n",
    "\n",
    "India_coronavirus_data.drop(columns = ['Sno','Time','State/UnionTerritory','ConfirmedIndianNational','ConfirmedForeignNational','Cured'], inplace = True)\n",
    "India_coronavirus_data.rename(columns={'Deaths' : 'India Deaths', 'Confirmed' : 'India Confirmed'}, inplace = True)"
   ]
  },
  {
   "cell_type": "code",
   "execution_count": 226,
   "metadata": {},
   "outputs": [
    {
     "data": {
      "text/plain": [
       "India Deaths       0\n",
       "India Confirmed    0\n",
       "dtype: int64"
      ]
     },
     "execution_count": 226,
     "metadata": {},
     "output_type": "execute_result"
    }
   ],
   "source": [
    "# Checking if there are any null values in the data\n",
    "\n",
    "India_coronavirus_data.isnull().sum()"
   ]
  },
  {
   "cell_type": "code",
   "execution_count": 227,
   "metadata": {},
   "outputs": [
    {
     "data": {
      "text/html": [
       "<div>\n",
       "<style scoped>\n",
       "    .dataframe tbody tr th:only-of-type {\n",
       "        vertical-align: middle;\n",
       "    }\n",
       "\n",
       "    .dataframe tbody tr th {\n",
       "        vertical-align: top;\n",
       "    }\n",
       "\n",
       "    .dataframe thead th {\n",
       "        text-align: right;\n",
       "    }\n",
       "</style>\n",
       "<table border=\"1\" class=\"dataframe\">\n",
       "  <thead>\n",
       "    <tr style=\"text-align: right;\">\n",
       "      <th></th>\n",
       "      <th>India Deaths</th>\n",
       "      <th>India Confirmed</th>\n",
       "    </tr>\n",
       "    <tr>\n",
       "      <th>Date</th>\n",
       "      <th></th>\n",
       "      <th></th>\n",
       "    </tr>\n",
       "  </thead>\n",
       "  <tbody>\n",
       "    <tr>\n",
       "      <th>2020-01-30</th>\n",
       "      <td>0</td>\n",
       "      <td>1</td>\n",
       "    </tr>\n",
       "    <tr>\n",
       "      <th>2020-01-31</th>\n",
       "      <td>0</td>\n",
       "      <td>1</td>\n",
       "    </tr>\n",
       "    <tr>\n",
       "      <th>2020-02-01</th>\n",
       "      <td>0</td>\n",
       "      <td>2</td>\n",
       "    </tr>\n",
       "    <tr>\n",
       "      <th>2020-02-02</th>\n",
       "      <td>0</td>\n",
       "      <td>3</td>\n",
       "    </tr>\n",
       "    <tr>\n",
       "      <th>2020-02-03</th>\n",
       "      <td>0</td>\n",
       "      <td>3</td>\n",
       "    </tr>\n",
       "  </tbody>\n",
       "</table>\n",
       "</div>"
      ],
      "text/plain": [
       "            India Deaths  India Confirmed\n",
       "Date                                     \n",
       "2020-01-30             0                1\n",
       "2020-01-31             0                1\n",
       "2020-02-01             0                2\n",
       "2020-02-02             0                3\n",
       "2020-02-03             0                3"
      ]
     },
     "execution_count": 227,
     "metadata": {},
     "output_type": "execute_result"
    }
   ],
   "source": [
    "# Grouping the India Cornonvirus Data by date \n",
    "\n",
    "India_coronavirus_data = India_coronavirus_data.groupby([India_coronavirus_data.index]).sum()\n",
    "India_coronavirus_data.head()"
   ]
  },
  {
   "cell_type": "code",
   "execution_count": 228,
   "metadata": {},
   "outputs": [
    {
     "data": {
      "text/html": [
       "<div>\n",
       "<style scoped>\n",
       "    .dataframe tbody tr th:only-of-type {\n",
       "        vertical-align: middle;\n",
       "    }\n",
       "\n",
       "    .dataframe tbody tr th {\n",
       "        vertical-align: top;\n",
       "    }\n",
       "\n",
       "    .dataframe thead th {\n",
       "        text-align: right;\n",
       "    }\n",
       "</style>\n",
       "<table border=\"1\" class=\"dataframe\">\n",
       "  <thead>\n",
       "    <tr style=\"text-align: right;\">\n",
       "      <th></th>\n",
       "      <th>India Deaths</th>\n",
       "      <th>India Confirmed</th>\n",
       "    </tr>\n",
       "    <tr>\n",
       "      <th>Date</th>\n",
       "      <th></th>\n",
       "      <th></th>\n",
       "    </tr>\n",
       "  </thead>\n",
       "  <tbody>\n",
       "    <tr>\n",
       "      <th>2020-01-30</th>\n",
       "      <td>NaN</td>\n",
       "      <td>NaN</td>\n",
       "    </tr>\n",
       "    <tr>\n",
       "      <th>2020-01-31</th>\n",
       "      <td>NaN</td>\n",
       "      <td>0.0</td>\n",
       "    </tr>\n",
       "    <tr>\n",
       "      <th>2020-02-01</th>\n",
       "      <td>NaN</td>\n",
       "      <td>1.0</td>\n",
       "    </tr>\n",
       "    <tr>\n",
       "      <th>2020-02-02</th>\n",
       "      <td>NaN</td>\n",
       "      <td>0.5</td>\n",
       "    </tr>\n",
       "    <tr>\n",
       "      <th>2020-02-03</th>\n",
       "      <td>NaN</td>\n",
       "      <td>0.0</td>\n",
       "    </tr>\n",
       "  </tbody>\n",
       "</table>\n",
       "</div>"
      ],
      "text/plain": [
       "            India Deaths  India Confirmed\n",
       "Date                                     \n",
       "2020-01-30           NaN              NaN\n",
       "2020-01-31           NaN              0.0\n",
       "2020-02-01           NaN              1.0\n",
       "2020-02-02           NaN              0.5\n",
       "2020-02-03           NaN              0.0"
      ]
     },
     "execution_count": 228,
     "metadata": {},
     "output_type": "execute_result"
    }
   ],
   "source": [
    "# Generate a percent change by day for the India Coronavirus data\n",
    "\n",
    "India_coronavirus_data_returns = India_coronavirus_data.pct_change()\n",
    "India_coronavirus_data_returns.head()"
   ]
  },
  {
   "cell_type": "code",
   "execution_count": 229,
   "metadata": {},
   "outputs": [
    {
     "name": "stdout",
     "output_type": "stream",
     "text": [
      "[*********************100%***********************]  1 of 1 completed\n"
     ]
    },
    {
     "data": {
      "text/html": [
       "<div>\n",
       "<style scoped>\n",
       "    .dataframe tbody tr th:only-of-type {\n",
       "        vertical-align: middle;\n",
       "    }\n",
       "\n",
       "    .dataframe tbody tr th {\n",
       "        vertical-align: top;\n",
       "    }\n",
       "\n",
       "    .dataframe thead th {\n",
       "        text-align: right;\n",
       "    }\n",
       "</style>\n",
       "<table border=\"1\" class=\"dataframe\">\n",
       "  <thead>\n",
       "    <tr style=\"text-align: right;\">\n",
       "      <th></th>\n",
       "      <th>Open</th>\n",
       "      <th>High</th>\n",
       "      <th>Low</th>\n",
       "      <th>Close</th>\n",
       "      <th>Adj Close</th>\n",
       "      <th>Volume</th>\n",
       "    </tr>\n",
       "    <tr>\n",
       "      <th>Date</th>\n",
       "      <th></th>\n",
       "      <th></th>\n",
       "      <th></th>\n",
       "      <th></th>\n",
       "      <th></th>\n",
       "      <th></th>\n",
       "    </tr>\n",
       "  </thead>\n",
       "  <tbody>\n",
       "    <tr>\n",
       "      <th>2020-01-02</th>\n",
       "      <td>41340.269531</td>\n",
       "      <td>41649.289062</td>\n",
       "      <td>41328.449219</td>\n",
       "      <td>41626.640625</td>\n",
       "      <td>41626.640625</td>\n",
       "      <td>5300</td>\n",
       "    </tr>\n",
       "    <tr>\n",
       "      <th>2020-01-03</th>\n",
       "      <td>41634.511719</td>\n",
       "      <td>41636.179688</td>\n",
       "      <td>41348.679688</td>\n",
       "      <td>41464.609375</td>\n",
       "      <td>41464.609375</td>\n",
       "      <td>8900</td>\n",
       "    </tr>\n",
       "    <tr>\n",
       "      <th>2020-01-06</th>\n",
       "      <td>41378.339844</td>\n",
       "      <td>41378.339844</td>\n",
       "      <td>40613.960938</td>\n",
       "      <td>40676.628906</td>\n",
       "      <td>40676.628906</td>\n",
       "      <td>8700</td>\n",
       "    </tr>\n",
       "    <tr>\n",
       "      <th>2020-01-07</th>\n",
       "      <td>40983.039062</td>\n",
       "      <td>41230.140625</td>\n",
       "      <td>40727.371094</td>\n",
       "      <td>40869.468750</td>\n",
       "      <td>40869.468750</td>\n",
       "      <td>11900</td>\n",
       "    </tr>\n",
       "    <tr>\n",
       "      <th>2020-01-08</th>\n",
       "      <td>40574.828125</td>\n",
       "      <td>40866.359375</td>\n",
       "      <td>40476.550781</td>\n",
       "      <td>40817.738281</td>\n",
       "      <td>40817.738281</td>\n",
       "      <td>18200</td>\n",
       "    </tr>\n",
       "  </tbody>\n",
       "</table>\n",
       "</div>"
      ],
      "text/plain": [
       "                    Open          High           Low         Close  \\\n",
       "Date                                                                 \n",
       "2020-01-02  41340.269531  41649.289062  41328.449219  41626.640625   \n",
       "2020-01-03  41634.511719  41636.179688  41348.679688  41464.609375   \n",
       "2020-01-06  41378.339844  41378.339844  40613.960938  40676.628906   \n",
       "2020-01-07  40983.039062  41230.140625  40727.371094  40869.468750   \n",
       "2020-01-08  40574.828125  40866.359375  40476.550781  40817.738281   \n",
       "\n",
       "               Adj Close  Volume  \n",
       "Date                              \n",
       "2020-01-02  41626.640625    5300  \n",
       "2020-01-03  41464.609375    8900  \n",
       "2020-01-06  40676.628906    8700  \n",
       "2020-01-07  40869.468750   11900  \n",
       "2020-01-08  40817.738281   18200  "
      ]
     },
     "execution_count": 229,
     "metadata": {},
     "output_type": "execute_result"
    }
   ],
   "source": [
    "# Reading SENSEX data with yfinance with dates 1/3/2020 to 10/2/2020. ^BSESN is the symbol for SENSEX in yahoo finance.\n",
    "\n",
    "stock = '^BSESN'\n",
    "sensex = yf.download(stock,'2020-01-01', '2020-10-02')\n",
    "sensex_df = pd.DataFrame(sensex)\n",
    "sensex_df.head()"
   ]
  },
  {
   "cell_type": "code",
   "execution_count": 230,
   "metadata": {},
   "outputs": [],
   "source": [
    "# Dropping all the SENSEX data columns except for the close price. Renaming the close price to SENESEX Close Price.\n",
    "\n",
    "sensex_df.drop(columns =['Open','High','Low','Adj Close','Volume'], inplace = True)\n",
    "sensex_df.rename(columns={'Close' : 'SENSEX Close Price'}, inplace = True)"
   ]
  },
  {
   "cell_type": "code",
   "execution_count": 231,
   "metadata": {},
   "outputs": [
    {
     "data": {
      "text/html": [
       "<div>\n",
       "<style scoped>\n",
       "    .dataframe tbody tr th:only-of-type {\n",
       "        vertical-align: middle;\n",
       "    }\n",
       "\n",
       "    .dataframe tbody tr th {\n",
       "        vertical-align: top;\n",
       "    }\n",
       "\n",
       "    .dataframe thead th {\n",
       "        text-align: right;\n",
       "    }\n",
       "</style>\n",
       "<table border=\"1\" class=\"dataframe\">\n",
       "  <thead>\n",
       "    <tr style=\"text-align: right;\">\n",
       "      <th></th>\n",
       "      <th>SENSEX Close Price</th>\n",
       "    </tr>\n",
       "    <tr>\n",
       "      <th>Date</th>\n",
       "      <th></th>\n",
       "    </tr>\n",
       "  </thead>\n",
       "  <tbody>\n",
       "    <tr>\n",
       "      <th>2020-01-02</th>\n",
       "      <td>NaN</td>\n",
       "    </tr>\n",
       "    <tr>\n",
       "      <th>2020-01-03</th>\n",
       "      <td>-0.003892</td>\n",
       "    </tr>\n",
       "    <tr>\n",
       "      <th>2020-01-06</th>\n",
       "      <td>-0.019004</td>\n",
       "    </tr>\n",
       "    <tr>\n",
       "      <th>2020-01-07</th>\n",
       "      <td>0.004741</td>\n",
       "    </tr>\n",
       "    <tr>\n",
       "      <th>2020-01-08</th>\n",
       "      <td>-0.001266</td>\n",
       "    </tr>\n",
       "  </tbody>\n",
       "</table>\n",
       "</div>"
      ],
      "text/plain": [
       "            SENSEX Close Price\n",
       "Date                          \n",
       "2020-01-02                 NaN\n",
       "2020-01-03           -0.003892\n",
       "2020-01-06           -0.019004\n",
       "2020-01-07            0.004741\n",
       "2020-01-08           -0.001266"
      ]
     },
     "execution_count": 231,
     "metadata": {},
     "output_type": "execute_result"
    }
   ],
   "source": [
    "# Generating a percent change by day for the SENSEX data\n",
    "\n",
    "sensex_returns_df = sensex_df.pct_change()\n",
    "sensex_returns_df.head()"
   ]
  },
  {
   "cell_type": "code",
   "execution_count": 232,
   "metadata": {},
   "outputs": [],
   "source": [
    "# Joining the sensex_df and the India_coronavirus_data by concat\n",
    "\n",
    "india = pd.concat([sensex_returns_df, India_coronavirus_data_returns], join ='inner', axis = 'columns')"
   ]
  },
  {
   "cell_type": "code",
   "execution_count": 233,
   "metadata": {},
   "outputs": [],
   "source": [
    "# Drop all the NULL values\n",
    "\n",
    "india.dropna(inplace = True)"
   ]
  },
  {
   "cell_type": "code",
   "execution_count": 234,
   "metadata": {},
   "outputs": [
    {
     "data": {
      "text/html": [
       "<div>\n",
       "<style scoped>\n",
       "    .dataframe tbody tr th:only-of-type {\n",
       "        vertical-align: middle;\n",
       "    }\n",
       "\n",
       "    .dataframe tbody tr th {\n",
       "        vertical-align: top;\n",
       "    }\n",
       "\n",
       "    .dataframe thead th {\n",
       "        text-align: right;\n",
       "    }\n",
       "</style>\n",
       "<table border=\"1\" class=\"dataframe\">\n",
       "  <thead>\n",
       "    <tr style=\"text-align: right;\">\n",
       "      <th></th>\n",
       "      <th>SENSEX Close Price</th>\n",
       "      <th>India Deaths</th>\n",
       "      <th>India Confirmed</th>\n",
       "    </tr>\n",
       "    <tr>\n",
       "      <th>Date</th>\n",
       "      <th></th>\n",
       "      <th></th>\n",
       "      <th></th>\n",
       "    </tr>\n",
       "  </thead>\n",
       "  <tbody>\n",
       "    <tr>\n",
       "      <th>2020-03-13</th>\n",
       "      <td>0.040434</td>\n",
       "      <td>inf</td>\n",
       "      <td>0.094595</td>\n",
       "    </tr>\n",
       "    <tr>\n",
       "      <th>2020-03-16</th>\n",
       "      <td>-0.079564</td>\n",
       "      <td>0.000000</td>\n",
       "      <td>0.036364</td>\n",
       "    </tr>\n",
       "    <tr>\n",
       "      <th>2020-03-17</th>\n",
       "      <td>-0.025836</td>\n",
       "      <td>0.500000</td>\n",
       "      <td>0.201754</td>\n",
       "    </tr>\n",
       "    <tr>\n",
       "      <th>2020-03-18</th>\n",
       "      <td>-0.055907</td>\n",
       "      <td>0.000000</td>\n",
       "      <td>0.102190</td>\n",
       "    </tr>\n",
       "    <tr>\n",
       "      <th>2020-03-19</th>\n",
       "      <td>-0.020135</td>\n",
       "      <td>0.333333</td>\n",
       "      <td>0.145695</td>\n",
       "    </tr>\n",
       "  </tbody>\n",
       "</table>\n",
       "</div>"
      ],
      "text/plain": [
       "            SENSEX Close Price  India Deaths  India Confirmed\n",
       "Date                                                         \n",
       "2020-03-13            0.040434           inf         0.094595\n",
       "2020-03-16           -0.079564      0.000000         0.036364\n",
       "2020-03-17           -0.025836      0.500000         0.201754\n",
       "2020-03-18           -0.055907      0.000000         0.102190\n",
       "2020-03-19           -0.020135      0.333333         0.145695"
      ]
     },
     "execution_count": 234,
     "metadata": {},
     "output_type": "execute_result"
    }
   ],
   "source": [
    "india.head()"
   ]
  },
  {
   "cell_type": "code",
   "execution_count": 235,
   "metadata": {},
   "outputs": [
    {
     "data": {
      "application/vnd.holoviews_exec.v0+json": "",
      "text/html": [
       "<div id='14820'>\n",
       "\n",
       "\n",
       "\n",
       "\n",
       "\n",
       "  <div class=\"bk-root\" id=\"7034d4ee-01f7-4cd2-8897-174f28c28941\" data-root-id=\"14820\"></div>\n",
       "</div>\n",
       "<script type=\"application/javascript\">(function(root) {\n",
       "  function embed_document(root) {\n",
       "  var docs_json = {\"2c2a396c-ecb2-43b1-9ee3-c9465aa36fa3\":{\"roots\":{\"references\":[{\"attributes\":{},\"id\":\"14952\",\"type\":\"UnionRenderers\"},{\"attributes\":{},\"id\":\"14923\",\"type\":\"Selection\"},{\"attributes\":{\"line_alpha\":0.2,\"line_color\":\"#1f77b3\",\"line_width\":2,\"x\":{\"field\":\"Date\"},\"y\":{\"field\":\"value\"}},\"id\":\"14866\",\"type\":\"Line\"},{\"attributes\":{\"line_alpha\":0.2,\"line_color\":\"#2ba02b\",\"line_width\":2,\"x\":{\"field\":\"Date\"},\"y\":{\"field\":\"value\"}},\"id\":\"14927\",\"type\":\"Line\"},{\"attributes\":{\"end\":1601337600000.0,\"reset_end\":1601337600000.0,\"reset_start\":1584057600000.0,\"start\":1584057600000.0,\"tags\":[[[\"Date\",\"Date\",null]]]},\"id\":\"14822\",\"type\":\"Range1d\"},{\"attributes\":{\"axis_label\":\"\",\"bounds\":\"auto\",\"formatter\":{\"id\":\"14860\"},\"major_label_orientation\":\"horizontal\",\"ticker\":{\"id\":\"14841\"}},\"id\":\"14840\",\"type\":\"LinearAxis\"},{\"attributes\":{},\"id\":\"14844\",\"type\":\"SaveTool\"},{\"attributes\":{\"source\":{\"id\":\"14891\"}},\"id\":\"14898\",\"type\":\"CDSView\"},{\"attributes\":{\"base\":60,\"mantissas\":[1,2,5,10,15,20,30],\"max_interval\":1800000.0,\"min_interval\":1000.0,\"num_minor_ticks\":0},\"id\":\"14876\",\"type\":\"AdaptiveTicker\"},{\"attributes\":{\"days\":[1,2,3,4,5,6,7,8,9,10,11,12,13,14,15,16,17,18,19,20,21,22,23,24,25,26,27,28,29,30,31]},\"id\":\"14878\",\"type\":\"DaysTicker\"},{\"attributes\":{\"data\":{\"Date\":{\"__ndarray__\":\"AACADBMNd0IAAMA9Cg53QgAAgKNcDndCAABACa8Od0IAAABvAQ93QgAAwNRTD3dCAAAABksQd0IAAMBrnRB3QgAAgNHvEHdCAABAN0IRd0IAAACdlBF3QgAAQM6LEndCAAAANN4Sd0IAAMCZMBN3QgAAQGXVE3dCAABA/B4Vd0IAAABicRV3QgAAwMfDFXdCAADAXg0Xd0IAAEAqshd3QgAAAJAEGHdCAADA9VYYd0IAAAAnThl3QgAAwIygGXdCAACA8vIZd0IAAEBYRRp3QgAAAL6XGndCAABA744bd0IAAABV4Rt3QgAAwLozHHdCAACAIIYcd0IAAIC3zx13QgAAQB0iHndCAAAAg3Qed0IAAMDoxh53QgAAgE4ZH3dCAADAfxAgd0IAAIDlYiB3QgAAQEu1IHdCAAAAsQchd0IAAMAWWiF3QgAAAEhRIndCAADAraMid0IAAIAT9iJ3QgAAQHlII3dCAAAA35ojd0IAAAB25CR3QgAAwNs2JXdCAACAQYkld0IAAECn2yV3QgAAgNjSJndCAABAPiUnd0IAAACkdyd3QgAAwAnKJ3dCAACAbxwod0IAAMCgEyl3QgAAgAZmKXdCAABAbLgpd0IAAADSCip3QgAAwDddKndCAAAAaVQrd0IAAMDOpit3QgAAgDT5K3dCAABAmkssd0IAAAAAnix3QgAAQDGVLXdCAAAAl+ctd0IAAMD8OS53QgAAgGKMLndCAABAyN4ud0IAAID51S93QgAAQF8oMHdCAAAAxXowd0IAAMAqzTB3QgAAgJAfMXdCAADAwRYyd0IAAIAnaTJ3QgAAQI27MndCAAAA8w0zd0IAAMBYYDN3QgAAAIpXNHdCAADA76k0d0IAAIBV/DR3QgAAQLtONXdCAAAAIaE1d0IAAEBSmDZ3QgAAALjqNndCAADAHT03d0IAAICDjzd3QgAAQOnhN3dCAACAGtk4d0IAAECAKzl3QgAAAOZ9OXdCAADAS9A5d0IAAICxIjp3QgAAwOIZO3dCAACASGw7d0IAAECuvjt3QgAAABQRPHdCAADAeWM8d0IAAACrWj13QgAAwBCtPXdCAACAdv89d0IAAEDcUT53QgAAAEKkPndCAABAc5s/d0IAAADZ7T93QgAAwD5AQHdCAACApJJAd0IAAEAK5UB3QgAAgDvcQXdCAABAoS5Cd0IAAAAHgUJ3QgAAwGzTQndCAACA0iVDd0IAAMADHUR3QgAAgGlvRHdCAABAz8FEd0IAAAA1FEV3QgAAwJpmRXdCAAAAzF1Gd0IAAMAxsEZ3QgAAgJcCR3dCAABA/VRHd0IAAABjp0d3QgAAQJSeSHdCAAAA+vBId0IAAMBfQ0l3QgAAgMWVSXdCAABAK+hJd0IAAIBc30p3QgAAQMIxS3dCAAAAKIRLd0IAAMCN1kt3QgAAgPMoTHdCAADAJCBNd0IAAICKck13Qg==\",\"dtype\":\"float64\",\"order\":\"little\",\"shape\":[137]},\"Variable\":[\"India Deaths\",\"India Deaths\",\"India Deaths\",\"India Deaths\",\"India Deaths\",\"India Deaths\",\"India Deaths\",\"India Deaths\",\"India Deaths\",\"India Deaths\",\"India Deaths\",\"India Deaths\",\"India Deaths\",\"India Deaths\",\"India Deaths\",\"India Deaths\",\"India Deaths\",\"India Deaths\",\"India Deaths\",\"India Deaths\",\"India Deaths\",\"India Deaths\",\"India Deaths\",\"India Deaths\",\"India Deaths\",\"India Deaths\",\"India Deaths\",\"India Deaths\",\"India Deaths\",\"India Deaths\",\"India Deaths\",\"India Deaths\",\"India Deaths\",\"India Deaths\",\"India Deaths\",\"India Deaths\",\"India Deaths\",\"India Deaths\",\"India Deaths\",\"India Deaths\",\"India Deaths\",\"India Deaths\",\"India Deaths\",\"India Deaths\",\"India Deaths\",\"India Deaths\",\"India Deaths\",\"India Deaths\",\"India Deaths\",\"India Deaths\",\"India Deaths\",\"India Deaths\",\"India Deaths\",\"India Deaths\",\"India Deaths\",\"India Deaths\",\"India Deaths\",\"India Deaths\",\"India Deaths\",\"India Deaths\",\"India Deaths\",\"India Deaths\",\"India Deaths\",\"India Deaths\",\"India Deaths\",\"India Deaths\",\"India Deaths\",\"India Deaths\",\"India Deaths\",\"India Deaths\",\"India Deaths\",\"India Deaths\",\"India Deaths\",\"India Deaths\",\"India Deaths\",\"India Deaths\",\"India Deaths\",\"India Deaths\",\"India Deaths\",\"India Deaths\",\"India Deaths\",\"India Deaths\",\"India Deaths\",\"India Deaths\",\"India Deaths\",\"India Deaths\",\"India Deaths\",\"India Deaths\",\"India Deaths\",\"India Deaths\",\"India Deaths\",\"India Deaths\",\"India Deaths\",\"India Deaths\",\"India Deaths\",\"India Deaths\",\"India Deaths\",\"India Deaths\",\"India Deaths\",\"India Deaths\",\"India Deaths\",\"India Deaths\",\"India Deaths\",\"India Deaths\",\"India Deaths\",\"India Deaths\",\"India Deaths\",\"India Deaths\",\"India Deaths\",\"India Deaths\",\"India Deaths\",\"India Deaths\",\"India Deaths\",\"India Deaths\",\"India Deaths\",\"India Deaths\",\"India Deaths\",\"India Deaths\",\"India Deaths\",\"India Deaths\",\"India Deaths\",\"India Deaths\",\"India Deaths\",\"India Deaths\",\"India Deaths\",\"India Deaths\",\"India Deaths\",\"India Deaths\",\"India Deaths\",\"India Deaths\",\"India Deaths\",\"India Deaths\",\"India Deaths\",\"India Deaths\",\"India Deaths\",\"India Deaths\",\"India Deaths\"],\"value\":{\"__ndarray__\":\"AAAAAAAA8H8AAAAAAAAAAAAAAAAAAOA/AAAAAAAAAABUVVVVVVXVPwAAAAAAAAAAAAAAAAAAAACUJEmSJEnSPyDHcRzHcbw/AAAAAAAA4D8QERERERHBP2gvob2E9sI/iBBCCCGEwD8YX/EVX/HFP9jnkJpgvMU/sN/RK2P7vT/QOeecc87JPzhgqKZjLsE/mH7pl37pxz9AbmhwhUi8P5AkSZIkSbI/EDiBEziBsz9QxRCy8bqzP8AYVvx3JrQ/QJl1sXrNtD9A8G3+CrOqP4BrECZ7nas/cM6P+HuYsj/A4EHKxnitP2DM9IDoZbM/QBAEQRAEsT+weqOb/0SwP9jsBwmr4ME/UKNSz2LzsT8Agg4wT+aqP2ABOvS9k60/wHhhIXGMpz+giaE4NDGkP4Btnzy9Pas/oHhSartorD8AVO9NGBakP8AvO8sl/as/IKoXSH+mpj+gdZbHeqmmP2AEIToedqQ/YFKKQFoPpj+gkgB7JJeiP0DHDFBP46Q/YLMxFgjnpj+AJXPOXsajP6CxgMXUzaY/QBxf5h1doz/Ai3jG2tijPyBX3CV85KY/QJLDLSYCpz+ATcGQknGeP4DNf6qQwKc/oIJQQhUioz9Azf+FqpmnPwDPfPNhBqk/gMvWV8cYoj+g3W+U3W+kPzhPBkm65ck/gHQm/My7nD9Albm93x2cP2CqN1W2MKE/wG0GOG5Slz/A/c2CC/6gP4Bx/vGBkZ0/QHWCW3b7mz+AlJf6Ky2YP8CQogYP+5k/QM2kKZS7nj/A28vEiIqZP4DGfdf2wpU/ALVDJjCWlj/Av49GfEiYP8CHe7iHe5g/QPpnoK0omD+AiTAKPwWXP0BnC8+3lJY/AN3ldIdvmD+AKSaBIh6ZP4CYgXb/hpk/gFfXFks8nD+ANi3SOAGaP8A2Fn4x3JU/QBsahJ2glz/Ap4JyXR6kP0DucnpRYJk/wKAiMYqclj/Art9ihW+UP4Dtst47h5c/AK25IJ01lz9ACXFy6s+WPwC5dGFMIZU/AFdMDOiPlT+AyM5anomWPwD8dkD5Qpc/AEcBj8NKlj/Ay0EBacWXP4DzxK4hGJQ/AM1EFdDekj8ANGiFp+2UP0DJLUSi7JU/QM/ZN4ZHkz+ALlq+sZ2RP8DZjVeZlpU/QAEUk37qkj8AXIje3K+SPwDUzsVsMY4/gJO77XYujj/AHpMia5KSP8AsmyX7npE/AOZt1Q7mkT+AWcBdUVGPP4BM6YBwBIo/wK27weBjkD+A7VVz3xmQPwAUI4VGqJA/gOcthDd2jT9AoI+bvTGQP4DBrQu4YI8/wBRjlfk9kD9ArbJXRX6QP4AZpX/Ymo0/gEfE5pQTiz8AtDebdlqQP4CAlT3pP4w/AKFIGi/mjD8AEzpPL62KPwBVsZIBiog/gMKpt0X8iD+AUErDcK+JPwCDZdUEo4k/APcABDaEhj8A3XdzT6KAPw==\",\"dtype\":\"float64\",\"order\":\"little\",\"shape\":[137]}},\"selected\":{\"id\":\"14892\"},\"selection_policy\":{\"id\":\"14919\"}},\"id\":\"14891\",\"type\":\"ColumnDataSource\"},{\"attributes\":{},\"id\":\"14862\",\"type\":\"Selection\"},{\"attributes\":{},\"id\":\"14887\",\"type\":\"UnionRenderers\"},{\"attributes\":{\"children\":[{\"id\":\"14821\"},{\"id\":\"14827\"},{\"id\":\"15171\"}],\"margin\":[0,0,0,0],\"name\":\"Row20418\",\"tags\":[\"embedded\"]},\"id\":\"14820\",\"type\":\"Row\"},{\"attributes\":{\"data_source\":{\"id\":\"14861\"},\"glyph\":{\"id\":\"14864\"},\"hover_glyph\":null,\"muted_glyph\":{\"id\":\"14866\"},\"nonselection_glyph\":{\"id\":\"14865\"},\"selection_glyph\":null,\"view\":{\"id\":\"14868\"}},\"id\":\"14867\",\"type\":\"GlyphRenderer\"},{\"attributes\":{\"data_source\":{\"id\":\"14891\"},\"glyph\":{\"id\":\"14894\"},\"hover_glyph\":null,\"muted_glyph\":{\"id\":\"14896\"},\"nonselection_glyph\":{\"id\":\"14895\"},\"selection_glyph\":null,\"view\":{\"id\":\"14898\"}},\"id\":\"14897\",\"type\":\"GlyphRenderer\"},{\"attributes\":{\"line_color\":\"#1f77b3\",\"line_width\":2,\"x\":{\"field\":\"Date\"},\"y\":{\"field\":\"value\"}},\"id\":\"14864\",\"type\":\"Line\"},{\"attributes\":{\"num_minor_ticks\":5,\"tickers\":[{\"id\":\"14875\"},{\"id\":\"14876\"},{\"id\":\"14877\"},{\"id\":\"14878\"},{\"id\":\"14879\"},{\"id\":\"14880\"},{\"id\":\"14881\"},{\"id\":\"14882\"},{\"id\":\"14883\"},{\"id\":\"14884\"},{\"id\":\"14885\"},{\"id\":\"14886\"}]},\"id\":\"14837\",\"type\":\"DatetimeTicker\"},{\"attributes\":{\"end\":0.6,\"reset_end\":0.6,\"reset_start\":-0.2,\"start\":-0.2,\"tags\":[[[\"value\",\"value\",null]]]},\"id\":\"14823\",\"type\":\"Range1d\"},{\"attributes\":{},\"id\":\"14834\",\"type\":\"LinearScale\"},{\"attributes\":{\"line_color\":\"#ff7e0e\",\"line_width\":2,\"x\":{\"field\":\"Date\"},\"y\":{\"field\":\"value\"}},\"id\":\"14894\",\"type\":\"Line\"},{\"attributes\":{\"source\":{\"id\":\"14922\"}},\"id\":\"14929\",\"type\":\"CDSView\"},{\"attributes\":{\"days\":[1,4,7,10,13,16,19,22,25,28]},\"id\":\"14879\",\"type\":\"DaysTicker\"},{\"attributes\":{},\"id\":\"14846\",\"type\":\"WheelZoomTool\"},{\"attributes\":{\"label\":{\"value\":\"India Confirmed\"},\"renderers\":[{\"id\":\"14867\"}]},\"id\":\"14890\",\"type\":\"LegendItem\"},{\"attributes\":{\"data\":{\"Date\":{\"__ndarray__\":\"AACADBMNd0IAAMA9Cg53QgAAgKNcDndCAABACa8Od0IAAABvAQ93QgAAwNRTD3dCAAAABksQd0IAAMBrnRB3QgAAgNHvEHdCAABAN0IRd0IAAACdlBF3QgAAQM6LEndCAAAANN4Sd0IAAMCZMBN3QgAAQGXVE3dCAABA/B4Vd0IAAABicRV3QgAAwMfDFXdCAADAXg0Xd0IAAEAqshd3QgAAAJAEGHdCAADA9VYYd0IAAAAnThl3QgAAwIygGXdCAACA8vIZd0IAAEBYRRp3QgAAAL6XGndCAABA744bd0IAAABV4Rt3QgAAwLozHHdCAACAIIYcd0IAAIC3zx13QgAAQB0iHndCAAAAg3Qed0IAAMDoxh53QgAAgE4ZH3dCAADAfxAgd0IAAIDlYiB3QgAAQEu1IHdCAAAAsQchd0IAAMAWWiF3QgAAAEhRIndCAADAraMid0IAAIAT9iJ3QgAAQHlII3dCAAAA35ojd0IAAAB25CR3QgAAwNs2JXdCAACAQYkld0IAAECn2yV3QgAAgNjSJndCAABAPiUnd0IAAACkdyd3QgAAwAnKJ3dCAACAbxwod0IAAMCgEyl3QgAAgAZmKXdCAABAbLgpd0IAAADSCip3QgAAwDddKndCAAAAaVQrd0IAAMDOpit3QgAAgDT5K3dCAABAmkssd0IAAAAAnix3QgAAQDGVLXdCAAAAl+ctd0IAAMD8OS53QgAAgGKMLndCAABAyN4ud0IAAID51S93QgAAQF8oMHdCAAAAxXowd0IAAMAqzTB3QgAAgJAfMXdCAADAwRYyd0IAAIAnaTJ3QgAAQI27MndCAAAA8w0zd0IAAMBYYDN3QgAAAIpXNHdCAADA76k0d0IAAIBV/DR3QgAAQLtONXdCAAAAIaE1d0IAAEBSmDZ3QgAAALjqNndCAADAHT03d0IAAICDjzd3QgAAQOnhN3dCAACAGtk4d0IAAECAKzl3QgAAAOZ9OXdCAADAS9A5d0IAAICxIjp3QgAAwOIZO3dCAACASGw7d0IAAECuvjt3QgAAABQRPHdCAADAeWM8d0IAAACrWj13QgAAwBCtPXdCAACAdv89d0IAAEDcUT53QgAAAEKkPndCAABAc5s/d0IAAADZ7T93QgAAwD5AQHdCAACApJJAd0IAAEAK5UB3QgAAgDvcQXdCAABAoS5Cd0IAAAAHgUJ3QgAAwGzTQndCAACA0iVDd0IAAMADHUR3QgAAgGlvRHdCAABAz8FEd0IAAAA1FEV3QgAAwJpmRXdCAAAAzF1Gd0IAAMAxsEZ3QgAAgJcCR3dCAABA/VRHd0IAAABjp0d3QgAAQJSeSHdCAAAA+vBId0IAAMBfQ0l3QgAAgMWVSXdCAABAK+hJd0IAAIBc30p3QgAAQMIxS3dCAAAAKIRLd0IAAMCN1kt3QgAAgPMoTHdCAADAJCBNd0IAAICKck13Qg==\",\"dtype\":\"float64\",\"order\":\"little\",\"shape\":[137]},\"Variable\":[\"SENSEX Close Price\",\"SENSEX Close Price\",\"SENSEX Close Price\",\"SENSEX Close Price\",\"SENSEX Close Price\",\"SENSEX Close Price\",\"SENSEX Close Price\",\"SENSEX Close Price\",\"SENSEX Close Price\",\"SENSEX Close Price\",\"SENSEX Close Price\",\"SENSEX Close Price\",\"SENSEX Close Price\",\"SENSEX Close Price\",\"SENSEX Close Price\",\"SENSEX Close Price\",\"SENSEX Close Price\",\"SENSEX Close Price\",\"SENSEX Close Price\",\"SENSEX Close Price\",\"SENSEX Close Price\",\"SENSEX Close Price\",\"SENSEX Close Price\",\"SENSEX Close Price\",\"SENSEX Close Price\",\"SENSEX Close Price\",\"SENSEX Close Price\",\"SENSEX Close Price\",\"SENSEX Close Price\",\"SENSEX Close Price\",\"SENSEX Close Price\",\"SENSEX Close Price\",\"SENSEX Close Price\",\"SENSEX Close Price\",\"SENSEX Close Price\",\"SENSEX Close Price\",\"SENSEX Close Price\",\"SENSEX Close Price\",\"SENSEX Close Price\",\"SENSEX Close Price\",\"SENSEX Close Price\",\"SENSEX Close Price\",\"SENSEX Close Price\",\"SENSEX Close Price\",\"SENSEX Close Price\",\"SENSEX Close Price\",\"SENSEX Close Price\",\"SENSEX Close Price\",\"SENSEX Close Price\",\"SENSEX Close Price\",\"SENSEX Close Price\",\"SENSEX Close Price\",\"SENSEX Close Price\",\"SENSEX Close Price\",\"SENSEX Close Price\",\"SENSEX Close Price\",\"SENSEX Close Price\",\"SENSEX Close Price\",\"SENSEX Close Price\",\"SENSEX Close Price\",\"SENSEX Close Price\",\"SENSEX Close Price\",\"SENSEX Close Price\",\"SENSEX Close Price\",\"SENSEX Close Price\",\"SENSEX Close Price\",\"SENSEX Close Price\",\"SENSEX Close Price\",\"SENSEX Close Price\",\"SENSEX Close Price\",\"SENSEX Close Price\",\"SENSEX Close Price\",\"SENSEX Close Price\",\"SENSEX Close Price\",\"SENSEX Close Price\",\"SENSEX Close Price\",\"SENSEX Close Price\",\"SENSEX Close Price\",\"SENSEX Close Price\",\"SENSEX Close Price\",\"SENSEX Close Price\",\"SENSEX Close Price\",\"SENSEX Close Price\",\"SENSEX Close Price\",\"SENSEX Close Price\",\"SENSEX Close Price\",\"SENSEX Close Price\",\"SENSEX Close Price\",\"SENSEX Close Price\",\"SENSEX Close Price\",\"SENSEX Close Price\",\"SENSEX Close Price\",\"SENSEX Close Price\",\"SENSEX Close Price\",\"SENSEX Close Price\",\"SENSEX Close Price\",\"SENSEX Close Price\",\"SENSEX Close Price\",\"SENSEX Close Price\",\"SENSEX Close Price\",\"SENSEX Close Price\",\"SENSEX Close Price\",\"SENSEX Close Price\",\"SENSEX Close Price\",\"SENSEX Close Price\",\"SENSEX Close Price\",\"SENSEX Close Price\",\"SENSEX Close Price\",\"SENSEX Close Price\",\"SENSEX Close Price\",\"SENSEX Close Price\",\"SENSEX Close Price\",\"SENSEX Close Price\",\"SENSEX Close Price\",\"SENSEX Close Price\",\"SENSEX Close Price\",\"SENSEX Close Price\",\"SENSEX Close Price\",\"SENSEX Close Price\",\"SENSEX Close Price\",\"SENSEX Close Price\",\"SENSEX Close Price\",\"SENSEX Close Price\",\"SENSEX Close Price\",\"SENSEX Close Price\",\"SENSEX Close Price\",\"SENSEX Close Price\",\"SENSEX Close Price\",\"SENSEX Close Price\",\"SENSEX Close Price\",\"SENSEX Close Price\",\"SENSEX Close Price\",\"SENSEX Close Price\",\"SENSEX Close Price\",\"SENSEX Close Price\",\"SENSEX Close Price\",\"SENSEX Close Price\"],\"value\":{\"__ndarray__\":\"wHgRI7izpD+o8UDTTl60v4AFCf2jdJq/IA06CdKfrL8Adlu5MZ6Uv6CLpnwAdq0/NDteYdbVwL9AvmYHEE6bP6BoMYMs3rE/AH6KTwhRqT+A6lNdNvFxv0CmK9HOnae/oOa4eH6Coj8gx2AWluekv0DzYzNNbpi/UAycV8v5tj+AjsR5/Zl3v0DAACtcraU/gCM/Lm3djr+A9dq4Z7OEvwAla2kGCn4/QASxPYx/oD8AyFmhBL9eP4Dxl7lPXKC/QFlKCSLUmD8AXT6qyI6PP4DVQpafOJG/ACJXucMviz+AQuJy6/aHP4D1Xju3T5M/AMtNwlo3nz8g1UW9hGeuv0DCsb986IC/AHkv4kQ+fj8AfATMt1R/vwDDutbh9nk/AH/pQBIYZb8Asw+a2at4vwCRWloCz5Q/QIkXPdtVnL8AMCUsdn1Kv6BGSpecmKG/AHXgJg7Odj+ASMronxuVPwDoK09NYW4/gLVXZQ48gb8ACOslNudgv4A/EjmgqKA/QNYfiC9Kkz8A+9McWG58P8Dt3oj6xZs/ALFLOvEMkD8AGhtgDjKBPwDcMihx8W6/gBB23ZZ5gj8AlrCEauljPwDclhtrqYi/AKOc0h6DgT8gydtuljCVvwAL4Fpdnn0/wMUoi0m8kL+AVqr1KjOHPwDaUlLdt2e/gALkallllT+AQmKeJlqPPwB5KGvyLXU/AGtpMtVzjj/Ah45YEjqQvwB49CtlQkm/AGoJQStZgz+Aqr2oXW14vwDaRAHXbFW/gJkrcZg/jT+A3hW4xNKIPwB6LdoeT3Q/APvzu4h8ij8AyAp74AR1P8AlKdZGS4O/gOtHSu0Jhz8AZHt90fdvvwCMwItSPmY/AEP2PaNvkr8AYArqDg1BP4DTUVUH2oc/AJx0hj3Mjj+AqboxkxCGPwCKt9uG/Is/AOr/UgFnWb8AF04olxZ9PwAQFIWL4TO/gFiYS8fbdL+Aww5jBiOOP0Dh/65YcYa/wAMxJS8Ggr8AWH3dDgtsvwCQvRxuK5K/wGhiMmq+lD8AQHBxfV9Fv4CnzGHdsIM/AIC5rZQPOj8AigHqO3luPwBpiSk+IXg/AICnu+jkT78AgEay2EBZv4DH2928J4e/ABX8g3XBcj+AU9Gv1rOJPwACqGGeYmI/wPsvoObqhL8ACE77Fvh2P4CEcus5aoM/AAzKcxvrUj8AbnqL7EF4PwCw1XUSlVA/AMY8KPiGgj9gdQ4q0MSVvwDTdato5Xw/AIncIumAcz8AgTkOBu5jv0AUqpDopJC/AKCAEXimWT8AjEG8BCBWv4Ca86ZmTXK/gHnbU45UkT8AQJHy5gI4PwC8q9xGpWS/AIF/aXNofj8AnQYsSB57P8Cd+pa41IC/AMzPRgErbL/gu+RFeWWVv4ACAQ5DKIC/AO7WAvmBXL9AWc51UE6ev0D7oIOeZJc/gFUD8X49kD8AoMIE2wUtvw==\",\"dtype\":\"float64\",\"order\":\"little\",\"shape\":[137]}},\"selected\":{\"id\":\"14923\"},\"selection_policy\":{\"id\":\"14952\"}},\"id\":\"14922\",\"type\":\"ColumnDataSource\"},{\"attributes\":{\"line_color\":\"#2ba02b\",\"line_width\":2,\"x\":{\"field\":\"Date\"},\"y\":{\"field\":\"value\"}},\"id\":\"14925\",\"type\":\"Line\"},{\"attributes\":{\"months\":[0,4,8]},\"id\":\"14884\",\"type\":\"MonthsTicker\"},{\"attributes\":{},\"id\":\"14841\",\"type\":\"BasicTicker\"},{\"attributes\":{\"base\":24,\"mantissas\":[1,2,4,6,8,12],\"max_interval\":43200000.0,\"min_interval\":3600000.0,\"num_minor_ticks\":0},\"id\":\"14877\",\"type\":\"AdaptiveTicker\"},{\"attributes\":{},\"id\":\"14919\",\"type\":\"UnionRenderers\"},{\"attributes\":{\"axis\":{\"id\":\"14836\"},\"grid_line_color\":null,\"ticker\":null},\"id\":\"14839\",\"type\":\"Grid\"},{\"attributes\":{\"callback\":null,\"formatters\":{\"@{Date}\":\"datetime\"},\"renderers\":[{\"id\":\"14867\"},{\"id\":\"14897\"},{\"id\":\"14928\"}],\"tags\":[\"hv_created\"],\"tooltips\":[[\"Variable\",\"@{Variable}\"],[\"Date\",\"@{Date}{%F %T}\"],[\"value\",\"@{value}\"]]},\"id\":\"14824\",\"type\":\"HoverTool\"},{\"attributes\":{\"months\":[0,6]},\"id\":\"14885\",\"type\":\"MonthsTicker\"},{\"attributes\":{\"line_alpha\":0.2,\"line_color\":\"#ff7e0e\",\"line_width\":2,\"x\":{\"field\":\"Date\"},\"y\":{\"field\":\"value\"}},\"id\":\"14896\",\"type\":\"Line\"},{\"attributes\":{\"label\":{\"value\":\"India Deaths\"},\"renderers\":[{\"id\":\"14897\"}]},\"id\":\"14921\",\"type\":\"LegendItem\"},{\"attributes\":{},\"id\":\"14886\",\"type\":\"YearsTicker\"},{\"attributes\":{\"text\":\"India Confirmed/Deaths vs SENSEX Close Price\",\"text_color\":{\"value\":\"black\"},\"text_font_size\":{\"value\":\"12pt\"}},\"id\":\"14828\",\"type\":\"Title\"},{\"attributes\":{\"data\":{\"Date\":{\"__ndarray__\":\"AACADBMNd0IAAMA9Cg53QgAAgKNcDndCAABACa8Od0IAAABvAQ93QgAAwNRTD3dCAAAABksQd0IAAMBrnRB3QgAAgNHvEHdCAABAN0IRd0IAAACdlBF3QgAAQM6LEndCAAAANN4Sd0IAAMCZMBN3QgAAQGXVE3dCAABA/B4Vd0IAAABicRV3QgAAwMfDFXdCAADAXg0Xd0IAAEAqshd3QgAAAJAEGHdCAADA9VYYd0IAAAAnThl3QgAAwIygGXdCAACA8vIZd0IAAEBYRRp3QgAAAL6XGndCAABA744bd0IAAABV4Rt3QgAAwLozHHdCAACAIIYcd0IAAIC3zx13QgAAQB0iHndCAAAAg3Qed0IAAMDoxh53QgAAgE4ZH3dCAADAfxAgd0IAAIDlYiB3QgAAQEu1IHdCAAAAsQchd0IAAMAWWiF3QgAAAEhRIndCAADAraMid0IAAIAT9iJ3QgAAQHlII3dCAAAA35ojd0IAAAB25CR3QgAAwNs2JXdCAACAQYkld0IAAECn2yV3QgAAgNjSJndCAABAPiUnd0IAAACkdyd3QgAAwAnKJ3dCAACAbxwod0IAAMCgEyl3QgAAgAZmKXdCAABAbLgpd0IAAADSCip3QgAAwDddKndCAAAAaVQrd0IAAMDOpit3QgAAgDT5K3dCAABAmkssd0IAAAAAnix3QgAAQDGVLXdCAAAAl+ctd0IAAMD8OS53QgAAgGKMLndCAABAyN4ud0IAAID51S93QgAAQF8oMHdCAAAAxXowd0IAAMAqzTB3QgAAgJAfMXdCAADAwRYyd0IAAIAnaTJ3QgAAQI27MndCAAAA8w0zd0IAAMBYYDN3QgAAAIpXNHdCAADA76k0d0IAAIBV/DR3QgAAQLtONXdCAAAAIaE1d0IAAEBSmDZ3QgAAALjqNndCAADAHT03d0IAAICDjzd3QgAAQOnhN3dCAACAGtk4d0IAAECAKzl3QgAAAOZ9OXdCAADAS9A5d0IAAICxIjp3QgAAwOIZO3dCAACASGw7d0IAAECuvjt3QgAAABQRPHdCAADAeWM8d0IAAACrWj13QgAAwBCtPXdCAACAdv89d0IAAEDcUT53QgAAAEKkPndCAABAc5s/d0IAAADZ7T93QgAAwD5AQHdCAACApJJAd0IAAEAK5UB3QgAAgDvcQXdCAABAoS5Cd0IAAAAHgUJ3QgAAwGzTQndCAACA0iVDd0IAAMADHUR3QgAAgGlvRHdCAABAz8FEd0IAAAA1FEV3QgAAwJpmRXdCAAAAzF1Gd0IAAMAxsEZ3QgAAgJcCR3dCAABA/VRHd0IAAABjp0d3QgAAQJSeSHdCAAAA+vBId0IAAMBfQ0l3QgAAgMWVSXdCAABAK+hJd0IAAIBc30p3QgAAQMIxS3dCAAAAKIRLd0IAAMCN1kt3QgAAgPMoTHdCAADAJCBNd0IAAICKck13Qg==\",\"dtype\":\"float64\",\"order\":\"little\",\"shape\":[137]},\"Variable\":[\"India Confirmed\",\"India Confirmed\",\"India Confirmed\",\"India Confirmed\",\"India Confirmed\",\"India Confirmed\",\"India Confirmed\",\"India Confirmed\",\"India Confirmed\",\"India Confirmed\",\"India Confirmed\",\"India Confirmed\",\"India Confirmed\",\"India Confirmed\",\"India Confirmed\",\"India Confirmed\",\"India Confirmed\",\"India Confirmed\",\"India Confirmed\",\"India Confirmed\",\"India Confirmed\",\"India Confirmed\",\"India Confirmed\",\"India Confirmed\",\"India Confirmed\",\"India Confirmed\",\"India Confirmed\",\"India Confirmed\",\"India Confirmed\",\"India Confirmed\",\"India Confirmed\",\"India Confirmed\",\"India Confirmed\",\"India Confirmed\",\"India Confirmed\",\"India Confirmed\",\"India Confirmed\",\"India Confirmed\",\"India Confirmed\",\"India Confirmed\",\"India Confirmed\",\"India Confirmed\",\"India Confirmed\",\"India Confirmed\",\"India Confirmed\",\"India Confirmed\",\"India Confirmed\",\"India Confirmed\",\"India Confirmed\",\"India Confirmed\",\"India Confirmed\",\"India Confirmed\",\"India Confirmed\",\"India Confirmed\",\"India Confirmed\",\"India Confirmed\",\"India Confirmed\",\"India Confirmed\",\"India Confirmed\",\"India Confirmed\",\"India Confirmed\",\"India Confirmed\",\"India Confirmed\",\"India Confirmed\",\"India Confirmed\",\"India Confirmed\",\"India Confirmed\",\"India Confirmed\",\"India Confirmed\",\"India Confirmed\",\"India Confirmed\",\"India Confirmed\",\"India Confirmed\",\"India Confirmed\",\"India Confirmed\",\"India Confirmed\",\"India Confirmed\",\"India Confirmed\",\"India Confirmed\",\"India Confirmed\",\"India Confirmed\",\"India Confirmed\",\"India Confirmed\",\"India Confirmed\",\"India Confirmed\",\"India Confirmed\",\"India Confirmed\",\"India Confirmed\",\"India Confirmed\",\"India Confirmed\",\"India Confirmed\",\"India Confirmed\",\"India Confirmed\",\"India Confirmed\",\"India Confirmed\",\"India Confirmed\",\"India Confirmed\",\"India Confirmed\",\"India Confirmed\",\"India Confirmed\",\"India Confirmed\",\"India Confirmed\",\"India Confirmed\",\"India Confirmed\",\"India Confirmed\",\"India Confirmed\",\"India Confirmed\",\"India Confirmed\",\"India Confirmed\",\"India Confirmed\",\"India Confirmed\",\"India Confirmed\",\"India Confirmed\",\"India Confirmed\",\"India Confirmed\",\"India Confirmed\",\"India Confirmed\",\"India Confirmed\",\"India Confirmed\",\"India Confirmed\",\"India Confirmed\",\"India Confirmed\",\"India Confirmed\",\"India Confirmed\",\"India Confirmed\",\"India Confirmed\",\"India Confirmed\",\"India Confirmed\",\"India Confirmed\",\"India Confirmed\",\"India Confirmed\",\"India Confirmed\",\"India Confirmed\",\"India Confirmed\",\"India Confirmed\",\"India Confirmed\",\"India Confirmed\"],\"value\":{\"__ndarray__\":\"cIMp8lk3uD+gEuQpQZ6iPzCdxXQW08k/wHV5Bxwpuj+YmEpMJabCP/i475ZCf9I/SJ/0SZ/0yT9Aaa6pMWzJP5DWC9jmdMU/0EdFsmOWwj8A1vrE7yGmPwAAAAAAYMw/ELs6a3zgvT/UOuOIIQXUP8Dmm8Rfks0/wKJORcFgvj8QYUieE+25P+BjZ7Por7w/gG0e7G9tuz9AcwS8x3a6P3BOzbZjuLE/sLgGt9KWtT/gK9H0b3a4P+BTs0oERbM/sP6qn6cJtD9AB3neDr2uP4DL15Mzq7Q/ILpLCtrsrT9gWPuGtW+uP8APfGfKFrA/IHgIk4wsqj/A6zbom02xPxDjTqx4KLc/YErIMiJgrT8QSR9UBnWyPyCme3mhY7A/0CEYadYisT+gVvd1inqrP4AmWH3jgak/wLIizKCnqT/gSulc7gmqP6APuiEH76w/wPEONs1pqD9Q4jQvDGWwP0DDhXH15qo/oKiaaO+9qz9gL6cxJhmoP+DhVJVnfqY/IEtkcqgmpj8gad9riiSoP+B09nn4lqc/AITSWvX0pT9g2ki+n/SmP8AE29fS8aY/AP+/TmhApz8AxV4vh7mkP0BA8T8r7aM/YPPYXhctoz8AdJZmFIGiP8C1Jt7rkqM/IN59Gq9Zoj8g94mm6G2gP6Cnsm1tYKA/wAi9KXGgoj9goW7I4PSiP2BdUn/FfKI/YDOBilr6oT+AsfYbZpKiP4ByzK4V/qI/oCfJDcu3oj+g8eULtNaiP4Alr5KRS6E/YDbSdi/ZoD/gj61Clr6gPwDDh9NHs6E/AJM0YlRxoj9AifIaDFagPwDyy5/NL6A/AAaOa1QooT9gqxRY16+hP4BrjyMXTKE/oCTiCBadoD+A/fKN/p2gP+DI+1eI4aE/IOapre94oj+ASfw+8TSjP8Ajq6f8AqE/gMIE70u4oD8gxFq3gJ+jPwDmg1T4YaQ/YB+K64dzoj9gy199yQOhPwAqHBtGv6A/wPCr+mdsoT8g11f5Kc6hP8B40j2/+54/gCllQ82MnT9ACblydvmcP8A7TU6rM54/IDarCnpMoD9AYqGvuYSdP4AUOqlvx5g/QFiVtDyEmz8Av3brGnOdPwDYA4/NlJs/AI/nJzTtlj8AVGA/WU2VP8BQCHv7cpg/wLp3xCPGmT9AEjpEeN6YP4CGNce3ppQ/wPVwlqoZlD+AshVsw7WVP8Djk2sc/Jc/wJ7gDtnmlz8ARNHVe7GWP4BM4wmfxZM/QGn01tu8lT8AdcUSesmWP0CRt2meJZY/wKPw4Cqalj9AZAIRcnaSP0DiVDfTdZU/AJe8ebRulj9Atyo+fyOWP0DMqQeU1JM/gHCn9D21kT9Aqs+z5reSP4DOQb2m95M/gGv6CZhKkz8AOlvSDX2QP4AUiit+BYw/AMEjUI+vjj+A8MwZIGGPPwCQOMMxvo4/gGf6eBIVjD+Ak2ZFT8yHPw==\",\"dtype\":\"float64\",\"order\":\"little\",\"shape\":[137]}},\"selected\":{\"id\":\"14862\"},\"selection_policy\":{\"id\":\"14887\"}},\"id\":\"14861\",\"type\":\"ColumnDataSource\"},{\"attributes\":{\"margin\":[5,5,5,5],\"name\":\"HSpacer20422\",\"sizing_mode\":\"stretch_width\"},\"id\":\"14821\",\"type\":\"Spacer\"},{\"attributes\":{},\"id\":\"14858\",\"type\":\"DatetimeTickFormatter\"},{\"attributes\":{\"months\":[0,1,2,3,4,5,6,7,8,9,10,11]},\"id\":\"14882\",\"type\":\"MonthsTicker\"},{\"attributes\":{\"data_source\":{\"id\":\"14922\"},\"glyph\":{\"id\":\"14925\"},\"hover_glyph\":null,\"muted_glyph\":{\"id\":\"14927\"},\"nonselection_glyph\":{\"id\":\"14926\"},\"selection_glyph\":null,\"view\":{\"id\":\"14929\"}},\"id\":\"14928\",\"type\":\"GlyphRenderer\"},{\"attributes\":{\"active_drag\":\"auto\",\"active_inspect\":\"auto\",\"active_multi\":null,\"active_scroll\":\"auto\",\"active_tap\":\"auto\",\"tools\":[{\"id\":\"14824\"},{\"id\":\"14844\"},{\"id\":\"14845\"},{\"id\":\"14846\"},{\"id\":\"14847\"},{\"id\":\"14848\"}]},\"id\":\"14850\",\"type\":\"Toolbar\"},{\"attributes\":{\"line_alpha\":0.1,\"line_color\":\"#ff7e0e\",\"line_width\":2,\"x\":{\"field\":\"Date\"},\"y\":{\"field\":\"value\"}},\"id\":\"14895\",\"type\":\"Line\"},{\"attributes\":{\"line_alpha\":0.1,\"line_color\":\"#2ba02b\",\"line_width\":2,\"x\":{\"field\":\"Date\"},\"y\":{\"field\":\"value\"}},\"id\":\"14926\",\"type\":\"Line\"},{\"attributes\":{},\"id\":\"14892\",\"type\":\"Selection\"},{\"attributes\":{\"months\":[0,2,4,6,8,10]},\"id\":\"14883\",\"type\":\"MonthsTicker\"},{\"attributes\":{\"axis_label\":\"Date\",\"bounds\":\"auto\",\"formatter\":{\"id\":\"14858\"},\"major_label_orientation\":\"horizontal\",\"ticker\":{\"id\":\"14837\"}},\"id\":\"14836\",\"type\":\"DatetimeAxis\"},{\"attributes\":{},\"id\":\"14860\",\"type\":\"BasicTickFormatter\"},{\"attributes\":{},\"id\":\"14845\",\"type\":\"PanTool\"},{\"attributes\":{\"source\":{\"id\":\"14861\"}},\"id\":\"14868\",\"type\":\"CDSView\"},{\"attributes\":{\"margin\":[5,5,5,5],\"name\":\"HSpacer20423\",\"sizing_mode\":\"stretch_width\"},\"id\":\"15171\",\"type\":\"Spacer\"},{\"attributes\":{\"days\":[1,15]},\"id\":\"14881\",\"type\":\"DaysTicker\"},{\"attributes\":{\"click_policy\":\"mute\",\"items\":[{\"id\":\"14890\"},{\"id\":\"14921\"},{\"id\":\"14954\"}],\"location\":[0,0],\"title\":\"Variable\"},\"id\":\"14889\",\"type\":\"Legend\"},{\"attributes\":{\"axis\":{\"id\":\"14840\"},\"dimension\":1,\"grid_line_color\":null,\"ticker\":null},\"id\":\"14843\",\"type\":\"Grid\"},{\"attributes\":{\"label\":{\"value\":\"SENSEX Close Price\"},\"renderers\":[{\"id\":\"14928\"}]},\"id\":\"14954\",\"type\":\"LegendItem\"},{\"attributes\":{\"bottom_units\":\"screen\",\"fill_alpha\":0.5,\"fill_color\":\"lightgrey\",\"left_units\":\"screen\",\"level\":\"overlay\",\"line_alpha\":1.0,\"line_color\":\"black\",\"line_dash\":[4,4],\"line_width\":2,\"right_units\":\"screen\",\"top_units\":\"screen\"},\"id\":\"14849\",\"type\":\"BoxAnnotation\"},{\"attributes\":{\"overlay\":{\"id\":\"14849\"}},\"id\":\"14847\",\"type\":\"BoxZoomTool\"},{\"attributes\":{\"line_alpha\":0.1,\"line_color\":\"#1f77b3\",\"line_width\":2,\"x\":{\"field\":\"Date\"},\"y\":{\"field\":\"value\"}},\"id\":\"14865\",\"type\":\"Line\"},{\"attributes\":{\"align\":null,\"below\":[{\"id\":\"14836\"}],\"center\":[{\"id\":\"14839\"},{\"id\":\"14843\"}],\"left\":[{\"id\":\"14840\"}],\"margin\":null,\"min_border_bottom\":10,\"min_border_left\":10,\"min_border_right\":10,\"min_border_top\":10,\"plot_height\":300,\"plot_width\":700,\"renderers\":[{\"id\":\"14867\"},{\"id\":\"14897\"},{\"id\":\"14928\"}],\"right\":[{\"id\":\"14889\"}],\"sizing_mode\":\"fixed\",\"title\":{\"id\":\"14828\"},\"toolbar\":{\"id\":\"14850\"},\"x_range\":{\"id\":\"14822\"},\"x_scale\":{\"id\":\"14832\"},\"y_range\":{\"id\":\"14823\"},\"y_scale\":{\"id\":\"14834\"}},\"id\":\"14827\",\"subtype\":\"Figure\",\"type\":\"Plot\"},{\"attributes\":{},\"id\":\"14848\",\"type\":\"ResetTool\"},{\"attributes\":{\"mantissas\":[1,2,5],\"max_interval\":500.0,\"num_minor_ticks\":0},\"id\":\"14875\",\"type\":\"AdaptiveTicker\"},{\"attributes\":{\"days\":[1,8,15,22]},\"id\":\"14880\",\"type\":\"DaysTicker\"},{\"attributes\":{},\"id\":\"14832\",\"type\":\"LinearScale\"}],\"root_ids\":[\"14820\"]},\"title\":\"Bokeh Application\",\"version\":\"2.1.1\"}};\n",
       "  var render_items = [{\"docid\":\"2c2a396c-ecb2-43b1-9ee3-c9465aa36fa3\",\"root_ids\":[\"14820\"],\"roots\":{\"14820\":\"7034d4ee-01f7-4cd2-8897-174f28c28941\"}}];\n",
       "  root.Bokeh.embed.embed_items_notebook(docs_json, render_items);\n",
       "  }\n",
       "if (root.Bokeh !== undefined) {\n",
       "    embed_document(root);\n",
       "  } else {\n",
       "    var attempts = 0;\n",
       "    var timer = setInterval(function(root) {\n",
       "      if (root.Bokeh !== undefined) {\n",
       "        clearInterval(timer);\n",
       "        embed_document(root);\n",
       "      } else if (document.readyState == \"complete\") {\n",
       "        attempts++;\n",
       "        if (attempts > 100) {\n",
       "          clearInterval(timer);\n",
       "          console.log(\"Bokeh: ERROR: Unable to run BokehJS code because BokehJS library is missing\");\n",
       "        }\n",
       "      }\n",
       "    }, 10, root)\n",
       "  }\n",
       "})(window);</script>"
      ],
      "text/plain": [
       ":NdOverlay   [Variable]\n",
       "   :Curve   [Date]   (value)"
      ]
     },
     "execution_count": 235,
     "metadata": {
      "application/vnd.holoviews_exec.v0+json": {
       "id": "14820"
      }
     },
     "output_type": "execute_result"
    }
   ],
   "source": [
    "# Plotting a line graph for the india data \n",
    "\n",
    "india_df = pd.DataFrame(india)\n",
    "india_df['Date'] = india_df.index\n",
    "india_df.hvplot(kind='line',x='Date', y=['India Confirmed','India Deaths','SENSEX Close Price'], ylim = (-0.2, 0.6), title = 'India Confirmed/Deaths vs SENSEX Close Price')"
   ]
  },
  {
   "cell_type": "code",
   "execution_count": 236,
   "metadata": {},
   "outputs": [
    {
     "data": {
      "text/html": [
       "<div>\n",
       "<style scoped>\n",
       "    .dataframe tbody tr th:only-of-type {\n",
       "        vertical-align: middle;\n",
       "    }\n",
       "\n",
       "    .dataframe tbody tr th {\n",
       "        vertical-align: top;\n",
       "    }\n",
       "\n",
       "    .dataframe thead th {\n",
       "        text-align: right;\n",
       "    }\n",
       "</style>\n",
       "<table border=\"1\" class=\"dataframe\">\n",
       "  <thead>\n",
       "    <tr style=\"text-align: right;\">\n",
       "      <th></th>\n",
       "      <th>SENSEX Close Price</th>\n",
       "      <th>India Deaths</th>\n",
       "      <th>India Confirmed</th>\n",
       "    </tr>\n",
       "  </thead>\n",
       "  <tbody>\n",
       "    <tr>\n",
       "      <th>SENSEX Close Price</th>\n",
       "      <td>1.000000</td>\n",
       "      <td>0.072881</td>\n",
       "      <td>-0.069799</td>\n",
       "    </tr>\n",
       "    <tr>\n",
       "      <th>India Deaths</th>\n",
       "      <td>0.072881</td>\n",
       "      <td>1.000000</td>\n",
       "      <td>0.605887</td>\n",
       "    </tr>\n",
       "    <tr>\n",
       "      <th>India Confirmed</th>\n",
       "      <td>-0.069799</td>\n",
       "      <td>0.605887</td>\n",
       "      <td>1.000000</td>\n",
       "    </tr>\n",
       "  </tbody>\n",
       "</table>\n",
       "</div>"
      ],
      "text/plain": [
       "                    SENSEX Close Price  India Deaths  India Confirmed\n",
       "SENSEX Close Price            1.000000      0.072881        -0.069799\n",
       "India Deaths                  0.072881      1.000000         0.605887\n",
       "India Confirmed              -0.069799      0.605887         1.000000"
      ]
     },
     "execution_count": 236,
     "metadata": {},
     "output_type": "execute_result"
    },
    {
     "data": {
      "image/png": "[encoded data removed]",
      "text/plain": [
       "<Figure size 432x288 with 2 Axes>"
      ]
     },
     "metadata": {
      "needs_background": "light"
     },
     "output_type": "display_data"
    }
   ],
   "source": [
    "# Create a Heat map for the India Data Correlation \n",
    "india_correlation = india.corr()\n",
    "\n",
    "sns.heatmap(india_correlation)\n",
    "india_correlation"
   ]
  },
  {
   "cell_type": "code",
   "execution_count": 44,
   "metadata": {},
   "outputs": [],
   "source": [
    "##### ROMAN BRANCH ######"
   ]
  },
  {
   "cell_type": "code",
   "execution_count": 237,
   "metadata": {},
   "outputs": [
    {
     "data": {
      "text/html": [
       "<div>\n",
       "<style scoped>\n",
       "    .dataframe tbody tr th:only-of-type {\n",
       "        vertical-align: middle;\n",
       "    }\n",
       "\n",
       "    .dataframe tbody tr th {\n",
       "        vertical-align: top;\n",
       "    }\n",
       "\n",
       "    .dataframe thead th {\n",
       "        text-align: right;\n",
       "    }\n",
       "</style>\n",
       "<table border=\"1\" class=\"dataframe\">\n",
       "  <thead>\n",
       "    <tr style=\"text-align: right;\">\n",
       "      <th></th>\n",
       "      <th>region</th>\n",
       "      <th>state</th>\n",
       "      <th>cases</th>\n",
       "      <th>deaths</th>\n",
       "    </tr>\n",
       "    <tr>\n",
       "      <th>date</th>\n",
       "      <th></th>\n",
       "      <th></th>\n",
       "      <th></th>\n",
       "      <th></th>\n",
       "    </tr>\n",
       "  </thead>\n",
       "  <tbody>\n",
       "    <tr>\n",
       "      <th>2020-02-25</th>\n",
       "      <td>Centro-Oeste</td>\n",
       "      <td>DF</td>\n",
       "      <td>0</td>\n",
       "      <td>0</td>\n",
       "    </tr>\n",
       "    <tr>\n",
       "      <th>2020-02-25</th>\n",
       "      <td>Centro-Oeste</td>\n",
       "      <td>GO</td>\n",
       "      <td>0</td>\n",
       "      <td>0</td>\n",
       "    </tr>\n",
       "    <tr>\n",
       "      <th>2020-02-25</th>\n",
       "      <td>Centro-Oeste</td>\n",
       "      <td>MS</td>\n",
       "      <td>0</td>\n",
       "      <td>0</td>\n",
       "    </tr>\n",
       "    <tr>\n",
       "      <th>2020-02-25</th>\n",
       "      <td>Centro-Oeste</td>\n",
       "      <td>MT</td>\n",
       "      <td>0</td>\n",
       "      <td>0</td>\n",
       "    </tr>\n",
       "    <tr>\n",
       "      <th>2020-02-25</th>\n",
       "      <td>Nordeste</td>\n",
       "      <td>AL</td>\n",
       "      <td>0</td>\n",
       "      <td>0</td>\n",
       "    </tr>\n",
       "  </tbody>\n",
       "</table>\n",
       "</div>"
      ],
      "text/plain": [
       "                  region state  cases  deaths\n",
       "date                                         \n",
       "2020-02-25  Centro-Oeste    DF      0       0\n",
       "2020-02-25  Centro-Oeste    GO      0       0\n",
       "2020-02-25  Centro-Oeste    MS      0       0\n",
       "2020-02-25  Centro-Oeste    MT      0       0\n",
       "2020-02-25      Nordeste    AL      0       0"
      ]
     },
     "execution_count": 237,
     "metadata": {},
     "output_type": "execute_result"
    }
   ],
   "source": [
    "# Getting the Brazil Coronavirus data by using the brazil_covid19.csv\n",
    "\n",
    "Brazil_csv = Path('brazil_covid19.csv')\n",
    "#Brazil_csv = Path(\"Vanguard-Group/brazil_covid19.csv\")\n",
    "Brazil_coronavirus_data = pd.read_csv(Brazil_csv, index_col = 'date', parse_dates = True, infer_datetime_format = True)\n",
    "Brazil_coronavirus_data.head()"
   ]
  },
  {
   "cell_type": "code",
   "execution_count": 238,
   "metadata": {},
   "outputs": [],
   "source": [
    "# Dropping the brazil coronavirus data columns (region & state) and renaming the columns\n",
    "\n",
    "Brazil_coronavirus_data.drop(columns = ['region','state'], inplace = True)\n",
    "Brazil_coronavirus_data.rename(columns={'deaths' : 'Brazil Deaths', 'cases' : 'Brazil Confirmed'}, inplace = True)"
   ]
  },
  {
   "cell_type": "code",
   "execution_count": 239,
   "metadata": {},
   "outputs": [
    {
     "data": {
      "text/html": [
       "<div>\n",
       "<style scoped>\n",
       "    .dataframe tbody tr th:only-of-type {\n",
       "        vertical-align: middle;\n",
       "    }\n",
       "\n",
       "    .dataframe tbody tr th {\n",
       "        vertical-align: top;\n",
       "    }\n",
       "\n",
       "    .dataframe thead th {\n",
       "        text-align: right;\n",
       "    }\n",
       "</style>\n",
       "<table border=\"1\" class=\"dataframe\">\n",
       "  <thead>\n",
       "    <tr style=\"text-align: right;\">\n",
       "      <th></th>\n",
       "      <th>Brazil Confirmed</th>\n",
       "      <th>Brazil Deaths</th>\n",
       "    </tr>\n",
       "    <tr>\n",
       "      <th>date</th>\n",
       "      <th></th>\n",
       "      <th></th>\n",
       "    </tr>\n",
       "  </thead>\n",
       "  <tbody>\n",
       "    <tr>\n",
       "      <th>2020-02-25</th>\n",
       "      <td>0</td>\n",
       "      <td>0</td>\n",
       "    </tr>\n",
       "    <tr>\n",
       "      <th>2020-02-26</th>\n",
       "      <td>1</td>\n",
       "      <td>0</td>\n",
       "    </tr>\n",
       "    <tr>\n",
       "      <th>2020-02-27</th>\n",
       "      <td>1</td>\n",
       "      <td>0</td>\n",
       "    </tr>\n",
       "    <tr>\n",
       "      <th>2020-02-28</th>\n",
       "      <td>1</td>\n",
       "      <td>0</td>\n",
       "    </tr>\n",
       "    <tr>\n",
       "      <th>2020-02-29</th>\n",
       "      <td>2</td>\n",
       "      <td>0</td>\n",
       "    </tr>\n",
       "  </tbody>\n",
       "</table>\n",
       "</div>"
      ],
      "text/plain": [
       "            Brazil Confirmed  Brazil Deaths\n",
       "date                                       \n",
       "2020-02-25                 0              0\n",
       "2020-02-26                 1              0\n",
       "2020-02-27                 1              0\n",
       "2020-02-28                 1              0\n",
       "2020-02-29                 2              0"
      ]
     },
     "execution_count": 239,
     "metadata": {},
     "output_type": "execute_result"
    }
   ],
   "source": [
    "# Grouping the Brazil Coronavirus by date\n",
    "\n",
    "Brazil_coronavirus_data = Brazil_coronavirus_data.groupby(Brazil_coronavirus_data.index).sum()\n",
    "Brazil_coronavirus_data.head()"
   ]
  },
  {
   "cell_type": "code",
   "execution_count": 240,
   "metadata": {},
   "outputs": [
    {
     "data": {
      "text/html": [
       "<div>\n",
       "<style scoped>\n",
       "    .dataframe tbody tr th:only-of-type {\n",
       "        vertical-align: middle;\n",
       "    }\n",
       "\n",
       "    .dataframe tbody tr th {\n",
       "        vertical-align: top;\n",
       "    }\n",
       "\n",
       "    .dataframe thead th {\n",
       "        text-align: right;\n",
       "    }\n",
       "</style>\n",
       "<table border=\"1\" class=\"dataframe\">\n",
       "  <thead>\n",
       "    <tr style=\"text-align: right;\">\n",
       "      <th></th>\n",
       "      <th>Brazil Confirmed</th>\n",
       "      <th>Brazil Deaths</th>\n",
       "    </tr>\n",
       "    <tr>\n",
       "      <th>date</th>\n",
       "      <th></th>\n",
       "      <th></th>\n",
       "    </tr>\n",
       "  </thead>\n",
       "  <tbody>\n",
       "    <tr>\n",
       "      <th>2020-02-25</th>\n",
       "      <td>NaN</td>\n",
       "      <td>NaN</td>\n",
       "    </tr>\n",
       "    <tr>\n",
       "      <th>2020-02-26</th>\n",
       "      <td>inf</td>\n",
       "      <td>NaN</td>\n",
       "    </tr>\n",
       "    <tr>\n",
       "      <th>2020-02-27</th>\n",
       "      <td>0.0</td>\n",
       "      <td>NaN</td>\n",
       "    </tr>\n",
       "    <tr>\n",
       "      <th>2020-02-28</th>\n",
       "      <td>0.0</td>\n",
       "      <td>NaN</td>\n",
       "    </tr>\n",
       "    <tr>\n",
       "      <th>2020-02-29</th>\n",
       "      <td>1.0</td>\n",
       "      <td>NaN</td>\n",
       "    </tr>\n",
       "  </tbody>\n",
       "</table>\n",
       "</div>"
      ],
      "text/plain": [
       "            Brazil Confirmed  Brazil Deaths\n",
       "date                                       \n",
       "2020-02-25               NaN            NaN\n",
       "2020-02-26               inf            NaN\n",
       "2020-02-27               0.0            NaN\n",
       "2020-02-28               0.0            NaN\n",
       "2020-02-29               1.0            NaN"
      ]
     },
     "execution_count": 240,
     "metadata": {},
     "output_type": "execute_result"
    }
   ],
   "source": [
    "# Make the Brazil data a percent change by the day\n",
    "\n",
    "Brazil_coronavirus_returns = Brazil_coronavirus_data.pct_change()\n",
    "Brazil_coronavirus_returns.head()"
   ]
  },
  {
   "cell_type": "code",
   "execution_count": 241,
   "metadata": {},
   "outputs": [
    {
     "name": "stdout",
     "output_type": "stream",
     "text": [
      "[*********************100%***********************]  1 of 1 completed\n"
     ]
    },
    {
     "data": {
      "text/html": [
       "<div>\n",
       "<style scoped>\n",
       "    .dataframe tbody tr th:only-of-type {\n",
       "        vertical-align: middle;\n",
       "    }\n",
       "\n",
       "    .dataframe tbody tr th {\n",
       "        vertical-align: top;\n",
       "    }\n",
       "\n",
       "    .dataframe thead th {\n",
       "        text-align: right;\n",
       "    }\n",
       "</style>\n",
       "<table border=\"1\" class=\"dataframe\">\n",
       "  <thead>\n",
       "    <tr style=\"text-align: right;\">\n",
       "      <th></th>\n",
       "      <th>Open</th>\n",
       "      <th>High</th>\n",
       "      <th>Low</th>\n",
       "      <th>Close</th>\n",
       "      <th>Adj Close</th>\n",
       "      <th>Volume</th>\n",
       "    </tr>\n",
       "    <tr>\n",
       "      <th>Date</th>\n",
       "      <th></th>\n",
       "      <th></th>\n",
       "      <th></th>\n",
       "      <th></th>\n",
       "      <th></th>\n",
       "      <th></th>\n",
       "    </tr>\n",
       "  </thead>\n",
       "  <tbody>\n",
       "    <tr>\n",
       "      <th>2020-01-03</th>\n",
       "      <td>118564.0</td>\n",
       "      <td>118792.0</td>\n",
       "      <td>117341.0</td>\n",
       "      <td>117707.0</td>\n",
       "      <td>117707.0</td>\n",
       "      <td>6834500</td>\n",
       "    </tr>\n",
       "    <tr>\n",
       "      <th>2020-01-06</th>\n",
       "      <td>117707.0</td>\n",
       "      <td>117707.0</td>\n",
       "      <td>116269.0</td>\n",
       "      <td>116878.0</td>\n",
       "      <td>116878.0</td>\n",
       "      <td>6570000</td>\n",
       "    </tr>\n",
       "    <tr>\n",
       "      <th>2020-01-07</th>\n",
       "      <td>116872.0</td>\n",
       "      <td>117076.0</td>\n",
       "      <td>115965.0</td>\n",
       "      <td>116662.0</td>\n",
       "      <td>116662.0</td>\n",
       "      <td>4854100</td>\n",
       "    </tr>\n",
       "    <tr>\n",
       "      <th>2020-01-08</th>\n",
       "      <td>116667.0</td>\n",
       "      <td>117335.0</td>\n",
       "      <td>115693.0</td>\n",
       "      <td>116247.0</td>\n",
       "      <td>116247.0</td>\n",
       "      <td>5910500</td>\n",
       "    </tr>\n",
       "    <tr>\n",
       "      <th>2020-01-09</th>\n",
       "      <td>116248.0</td>\n",
       "      <td>116820.0</td>\n",
       "      <td>115411.0</td>\n",
       "      <td>115947.0</td>\n",
       "      <td>115947.0</td>\n",
       "      <td>5953500</td>\n",
       "    </tr>\n",
       "  </tbody>\n",
       "</table>\n",
       "</div>"
      ],
      "text/plain": [
       "                Open      High       Low     Close  Adj Close   Volume\n",
       "Date                                                                  \n",
       "2020-01-03  118564.0  118792.0  117341.0  117707.0   117707.0  6834500\n",
       "2020-01-06  117707.0  117707.0  116269.0  116878.0   116878.0  6570000\n",
       "2020-01-07  116872.0  117076.0  115965.0  116662.0   116662.0  4854100\n",
       "2020-01-08  116667.0  117335.0  115693.0  116247.0   116247.0  5910500\n",
       "2020-01-09  116248.0  116820.0  115411.0  115947.0   115947.0  5953500"
      ]
     },
     "execution_count": 241,
     "metadata": {},
     "output_type": "execute_result"
    }
   ],
   "source": [
    "# Reading IBOVESPA data with yfinance with dates 1/3/2020 to 10/2/2020. ^BVSP is the symbol for IBOVESPA in yahoo finance.\n",
    "\n",
    "stock = '^BVSP'\n",
    "brazil_df = yf.download(stock,'2020-01-03', '2020-10-02')\n",
    "IBOVESPA_df = pd.DataFrame(brazil_df)\n",
    "IBOVESPA_df.head()"
   ]
  },
  {
   "cell_type": "code",
   "execution_count": 242,
   "metadata": {},
   "outputs": [],
   "source": [
    "# Drop all the IBOVESPA columns except for the Close column and rename the 'Close' price column as 'IBOVESPA Close Price'\n",
    "\n",
    "IBOVESPA_df.drop(['Open', 'High', 'Low', 'Adj Close', 'Volume'], inplace = True, axis=1)\n",
    "IBOVESPA_df.rename(columns={'Close' : 'IBOVESPA Close Price'}, inplace = True)"
   ]
  },
  {
   "cell_type": "code",
   "execution_count": 243,
   "metadata": {},
   "outputs": [
    {
     "data": {
      "text/html": [
       "<div>\n",
       "<style scoped>\n",
       "    .dataframe tbody tr th:only-of-type {\n",
       "        vertical-align: middle;\n",
       "    }\n",
       "\n",
       "    .dataframe tbody tr th {\n",
       "        vertical-align: top;\n",
       "    }\n",
       "\n",
       "    .dataframe thead th {\n",
       "        text-align: right;\n",
       "    }\n",
       "</style>\n",
       "<table border=\"1\" class=\"dataframe\">\n",
       "  <thead>\n",
       "    <tr style=\"text-align: right;\">\n",
       "      <th></th>\n",
       "      <th>IBOVESPA Close Price</th>\n",
       "    </tr>\n",
       "    <tr>\n",
       "      <th>Date</th>\n",
       "      <th></th>\n",
       "    </tr>\n",
       "  </thead>\n",
       "  <tbody>\n",
       "    <tr>\n",
       "      <th>2020-01-03</th>\n",
       "      <td>117707.0</td>\n",
       "    </tr>\n",
       "    <tr>\n",
       "      <th>2020-01-06</th>\n",
       "      <td>116878.0</td>\n",
       "    </tr>\n",
       "    <tr>\n",
       "      <th>2020-01-07</th>\n",
       "      <td>116662.0</td>\n",
       "    </tr>\n",
       "    <tr>\n",
       "      <th>2020-01-08</th>\n",
       "      <td>116247.0</td>\n",
       "    </tr>\n",
       "    <tr>\n",
       "      <th>2020-01-09</th>\n",
       "      <td>115947.0</td>\n",
       "    </tr>\n",
       "  </tbody>\n",
       "</table>\n",
       "</div>"
      ],
      "text/plain": [
       "            IBOVESPA Close Price\n",
       "Date                            \n",
       "2020-01-03              117707.0\n",
       "2020-01-06              116878.0\n",
       "2020-01-07              116662.0\n",
       "2020-01-08              116247.0\n",
       "2020-01-09              115947.0"
      ]
     },
     "execution_count": 243,
     "metadata": {},
     "output_type": "execute_result"
    }
   ],
   "source": [
    "IBOVESPA_df.head()"
   ]
  },
  {
   "cell_type": "code",
   "execution_count": 244,
   "metadata": {},
   "outputs": [],
   "source": [
    "# Do a percent change by day for the IBOVESPA data\n",
    "\n",
    "IBOVESPA_returns = IBOVESPA_df.pct_change()"
   ]
  },
  {
   "cell_type": "code",
   "execution_count": 245,
   "metadata": {},
   "outputs": [
    {
     "data": {
      "text/html": [
       "<div>\n",
       "<style scoped>\n",
       "    .dataframe tbody tr th:only-of-type {\n",
       "        vertical-align: middle;\n",
       "    }\n",
       "\n",
       "    .dataframe tbody tr th {\n",
       "        vertical-align: top;\n",
       "    }\n",
       "\n",
       "    .dataframe thead th {\n",
       "        text-align: right;\n",
       "    }\n",
       "</style>\n",
       "<table border=\"1\" class=\"dataframe\">\n",
       "  <thead>\n",
       "    <tr style=\"text-align: right;\">\n",
       "      <th></th>\n",
       "      <th>IBOVESPA Close Price</th>\n",
       "    </tr>\n",
       "    <tr>\n",
       "      <th>Date</th>\n",
       "      <th></th>\n",
       "    </tr>\n",
       "  </thead>\n",
       "  <tbody>\n",
       "    <tr>\n",
       "      <th>2020-01-03</th>\n",
       "      <td>NaN</td>\n",
       "    </tr>\n",
       "    <tr>\n",
       "      <th>2020-01-06</th>\n",
       "      <td>-0.007043</td>\n",
       "    </tr>\n",
       "    <tr>\n",
       "      <th>2020-01-07</th>\n",
       "      <td>-0.001848</td>\n",
       "    </tr>\n",
       "    <tr>\n",
       "      <th>2020-01-08</th>\n",
       "      <td>-0.003557</td>\n",
       "    </tr>\n",
       "    <tr>\n",
       "      <th>2020-01-09</th>\n",
       "      <td>-0.002581</td>\n",
       "    </tr>\n",
       "  </tbody>\n",
       "</table>\n",
       "</div>"
      ],
      "text/plain": [
       "            IBOVESPA Close Price\n",
       "Date                            \n",
       "2020-01-03                   NaN\n",
       "2020-01-06             -0.007043\n",
       "2020-01-07             -0.001848\n",
       "2020-01-08             -0.003557\n",
       "2020-01-09             -0.002581"
      ]
     },
     "execution_count": 245,
     "metadata": {},
     "output_type": "execute_result"
    }
   ],
   "source": [
    "IBOVESPA_returns.head()"
   ]
  },
  {
   "cell_type": "code",
   "execution_count": 246,
   "metadata": {},
   "outputs": [
    {
     "data": {
      "text/html": [
       "<div>\n",
       "<style scoped>\n",
       "    .dataframe tbody tr th:only-of-type {\n",
       "        vertical-align: middle;\n",
       "    }\n",
       "\n",
       "    .dataframe tbody tr th {\n",
       "        vertical-align: top;\n",
       "    }\n",
       "\n",
       "    .dataframe thead th {\n",
       "        text-align: right;\n",
       "    }\n",
       "</style>\n",
       "<table border=\"1\" class=\"dataframe\">\n",
       "  <thead>\n",
       "    <tr style=\"text-align: right;\">\n",
       "      <th></th>\n",
       "      <th>IBOVESPA Close Price</th>\n",
       "      <th>Brazil Confirmed</th>\n",
       "      <th>Brazil Deaths</th>\n",
       "    </tr>\n",
       "  </thead>\n",
       "  <tbody>\n",
       "    <tr>\n",
       "      <th>2020-02-27</th>\n",
       "      <td>-0.094097</td>\n",
       "      <td>0.0</td>\n",
       "      <td>NaN</td>\n",
       "    </tr>\n",
       "    <tr>\n",
       "      <th>2020-02-28</th>\n",
       "      <td>0.011536</td>\n",
       "      <td>0.0</td>\n",
       "      <td>NaN</td>\n",
       "    </tr>\n",
       "    <tr>\n",
       "      <th>2020-03-02</th>\n",
       "      <td>0.023548</td>\n",
       "      <td>0.0</td>\n",
       "      <td>NaN</td>\n",
       "    </tr>\n",
       "    <tr>\n",
       "      <th>2020-03-03</th>\n",
       "      <td>-0.010204</td>\n",
       "      <td>0.0</td>\n",
       "      <td>NaN</td>\n",
       "    </tr>\n",
       "    <tr>\n",
       "      <th>2020-03-04</th>\n",
       "      <td>0.015985</td>\n",
       "      <td>0.5</td>\n",
       "      <td>NaN</td>\n",
       "    </tr>\n",
       "  </tbody>\n",
       "</table>\n",
       "</div>"
      ],
      "text/plain": [
       "            IBOVESPA Close Price  Brazil Confirmed  Brazil Deaths\n",
       "2020-02-27             -0.094097               0.0            NaN\n",
       "2020-02-28              0.011536               0.0            NaN\n",
       "2020-03-02              0.023548               0.0            NaN\n",
       "2020-03-03             -0.010204               0.0            NaN\n",
       "2020-03-04              0.015985               0.5            NaN"
      ]
     },
     "execution_count": 246,
     "metadata": {},
     "output_type": "execute_result"
    }
   ],
   "source": [
    "# Combining the IBOVESPA returns data to the Brazil Coronavirus cases data\n",
    "\n",
    "combined_Brazil_returns = pd.concat([IBOVESPA_returns, Brazil_coronavirus_returns], axis='columns', join='inner')\n",
    "combined_Brazil_returns.head()"
   ]
  },
  {
   "cell_type": "code",
   "execution_count": 247,
   "metadata": {},
   "outputs": [
    {
     "data": {
      "text/html": [
       "<div>\n",
       "<style scoped>\n",
       "    .dataframe tbody tr th:only-of-type {\n",
       "        vertical-align: middle;\n",
       "    }\n",
       "\n",
       "    .dataframe tbody tr th {\n",
       "        vertical-align: top;\n",
       "    }\n",
       "\n",
       "    .dataframe thead th {\n",
       "        text-align: right;\n",
       "    }\n",
       "</style>\n",
       "<table border=\"1\" class=\"dataframe\">\n",
       "  <thead>\n",
       "    <tr style=\"text-align: right;\">\n",
       "      <th></th>\n",
       "      <th>IBOVESPA Close Price</th>\n",
       "      <th>Brazil Confirmed</th>\n",
       "      <th>Brazil Deaths</th>\n",
       "    </tr>\n",
       "  </thead>\n",
       "  <tbody>\n",
       "    <tr>\n",
       "      <th>2020-03-17</th>\n",
       "      <td>0.048463</td>\n",
       "      <td>0.243590</td>\n",
       "      <td>inf</td>\n",
       "    </tr>\n",
       "    <tr>\n",
       "      <th>2020-03-18</th>\n",
       "      <td>-0.103488</td>\n",
       "      <td>0.470790</td>\n",
       "      <td>3.000000</td>\n",
       "    </tr>\n",
       "    <tr>\n",
       "      <th>2020-03-19</th>\n",
       "      <td>0.021481</td>\n",
       "      <td>0.450935</td>\n",
       "      <td>0.500000</td>\n",
       "    </tr>\n",
       "    <tr>\n",
       "      <th>2020-03-20</th>\n",
       "      <td>-0.018483</td>\n",
       "      <td>0.455717</td>\n",
       "      <td>0.833333</td>\n",
       "    </tr>\n",
       "    <tr>\n",
       "      <th>2020-03-23</th>\n",
       "      <td>-0.052170</td>\n",
       "      <td>0.223157</td>\n",
       "      <td>0.360000</td>\n",
       "    </tr>\n",
       "  </tbody>\n",
       "</table>\n",
       "</div>"
      ],
      "text/plain": [
       "            IBOVESPA Close Price  Brazil Confirmed  Brazil Deaths\n",
       "2020-03-17              0.048463          0.243590            inf\n",
       "2020-03-18             -0.103488          0.470790       3.000000\n",
       "2020-03-19              0.021481          0.450935       0.500000\n",
       "2020-03-20             -0.018483          0.455717       0.833333\n",
       "2020-03-23             -0.052170          0.223157       0.360000"
      ]
     },
     "execution_count": 247,
     "metadata": {},
     "output_type": "execute_result"
    }
   ],
   "source": [
    "# Drop all the null values \n",
    "\n",
    "combined_Brazil_returns.dropna(inplace = True)\n",
    "combined_Brazil_returns.head()"
   ]
  },
  {
   "cell_type": "code",
   "execution_count": 248,
   "metadata": {},
   "outputs": [
    {
     "data": {
      "application/vnd.holoviews_exec.v0+json": "",
      "text/html": [
       "<div id='15293'>\n",
       "\n",
       "\n",
       "\n",
       "\n",
       "\n",
       "  <div class=\"bk-root\" id=\"582cd3f3-bcbb-4c58-bafe-8782d1be5d32\" data-root-id=\"15293\"></div>\n",
       "</div>\n",
       "<script type=\"application/javascript\">(function(root) {\n",
       "  function embed_document(root) {\n",
       "  var docs_json = {\"9ea456b4-a1d4-4ac9-9c73-4e62ccc6836a\":{\"roots\":{\"references\":[{\"attributes\":{\"callback\":null,\"formatters\":{\"@{Date}\":\"datetime\"},\"renderers\":[{\"id\":\"15340\"},{\"id\":\"15370\"},{\"id\":\"15401\"}],\"tags\":[\"hv_created\"],\"tooltips\":[[\"Variable\",\"@{Variable}\"],[\"Date\",\"@{Date}{%F %T}\"],[\"value\",\"@{value}\"]]},\"id\":\"15297\",\"type\":\"HoverTool\"},{\"attributes\":{},\"id\":\"15318\",\"type\":\"PanTool\"},{\"attributes\":{\"days\":[1,15]},\"id\":\"15354\",\"type\":\"DaysTicker\"},{\"attributes\":{},\"id\":\"15333\",\"type\":\"BasicTickFormatter\"},{\"attributes\":{\"end\":1601424000000.0,\"reset_end\":1601424000000.0,\"reset_start\":1584403200000.0,\"start\":1584403200000.0,\"tags\":[[[\"Date\",\"Date\",null]]]},\"id\":\"15295\",\"type\":\"Range1d\"},{\"attributes\":{\"axis\":{\"id\":\"15309\"},\"grid_line_color\":null,\"ticker\":null},\"id\":\"15312\",\"type\":\"Grid\"},{\"attributes\":{},\"id\":\"15307\",\"type\":\"LinearScale\"},{\"attributes\":{\"line_color\":\"#2ba02b\",\"line_width\":2,\"x\":{\"field\":\"Date\"},\"y\":{\"field\":\"value\"}},\"id\":\"15398\",\"type\":\"Line\"},{\"attributes\":{\"source\":{\"id\":\"15334\"}},\"id\":\"15341\",\"type\":\"CDSView\"},{\"attributes\":{\"line_alpha\":0.2,\"line_color\":\"#1f77b3\",\"line_width\":2,\"x\":{\"field\":\"Date\"},\"y\":{\"field\":\"value\"}},\"id\":\"15339\",\"type\":\"Line\"},{\"attributes\":{\"line_color\":\"#1f77b3\",\"line_width\":2,\"x\":{\"field\":\"Date\"},\"y\":{\"field\":\"value\"}},\"id\":\"15337\",\"type\":\"Line\"},{\"attributes\":{\"margin\":[5,5,5,5],\"name\":\"HSpacer21025\",\"sizing_mode\":\"stretch_width\"},\"id\":\"15294\",\"type\":\"Spacer\"},{\"attributes\":{\"data_source\":{\"id\":\"15395\"},\"glyph\":{\"id\":\"15398\"},\"hover_glyph\":null,\"muted_glyph\":{\"id\":\"15400\"},\"nonselection_glyph\":{\"id\":\"15399\"},\"selection_glyph\":null,\"view\":{\"id\":\"15402\"}},\"id\":\"15401\",\"type\":\"GlyphRenderer\"},{\"attributes\":{\"line_alpha\":0.2,\"line_color\":\"#ff7e0e\",\"line_width\":2,\"x\":{\"field\":\"Date\"},\"y\":{\"field\":\"value\"}},\"id\":\"15369\",\"type\":\"Line\"},{\"attributes\":{\"months\":[0,2,4,6,8,10]},\"id\":\"15356\",\"type\":\"MonthsTicker\"},{\"attributes\":{\"line_alpha\":0.1,\"line_color\":\"#2ba02b\",\"line_width\":2,\"x\":{\"field\":\"Date\"},\"y\":{\"field\":\"value\"}},\"id\":\"15399\",\"type\":\"Line\"},{\"attributes\":{\"data\":{\"Date\":{\"__ndarray__\":\"AACAo1wOd0IAAEAJrw53QgAAAG8BD3dCAADA1FMPd0IAAAAGSxB3QgAAwGudEHdCAACA0e8Qd0IAAEA3QhF3QgAAAJ2UEXdCAABAzosSd0IAAAA03hJ3QgAAwJkwE3dCAACA/4ITd0IAAEBl1RN3QgAAgJbMFHdCAABA/B4Vd0IAAABicRV3QgAAwMfDFXdCAADAXg0Xd0IAAIDEXxd3QgAAQCqyF3dCAAAAkAQYd0IAAMD1Vhh3QgAAACdOGXdCAACA8vIZd0IAAEBYRRp3QgAAAL6XGndCAABA744bd0IAAABV4Rt3QgAAwLozHHdCAACAIIYcd0IAAIC3zx13QgAAQB0iHndCAAAAg3Qed0IAAMDoxh53QgAAgE4ZH3dCAADAfxAgd0IAAIDlYiB3QgAAQEu1IHdCAAAAsQchd0IAAMAWWiF3QgAAAEhRIndCAADAraMid0IAAIAT9iJ3QgAAQHlII3dCAAAA35ojd0IAAEAQkiR3QgAAAHbkJHdCAADA2zYld0IAAIBBiSV3QgAAQKfbJXdCAACA2NImd0IAAEA+JSd3QgAAAKR3J3dCAADACcond0IAAIBvHCh3QgAAwKATKXdCAACABmYpd0IAAEBsuCl3QgAAwDddKndCAAAAaVQrd0IAAMDOpit3QgAAgDT5K3dCAABAmkssd0IAAAAAnix3QgAAQDGVLXdCAAAAl+ctd0IAAMD8OS53QgAAgGKMLndCAABAyN4ud0IAAID51S93QgAAQF8oMHdCAAAAxXowd0IAAMAqzTB3QgAAgJAfMXdCAADAwRYyd0IAAIAnaTJ3QgAAQI27MndCAAAA8w0zd0IAAMBYYDN3QgAAAIpXNHdCAADA76k0d0IAAIBV/DR3QgAAQLtONXdCAAAAIaE1d0IAAEBSmDZ3QgAAALjqNndCAADAHT03d0IAAICDjzd3QgAAQOnhN3dCAACAGtk4d0IAAECAKzl3QgAAAOZ9OXdCAADAS9A5d0IAAICxIjp3QgAAwOIZO3dCAACASGw7d0IAAECuvjt3QgAAABQRPHdCAADAeWM8d0IAAACrWj13QgAAwBCtPXdCAACAdv89d0IAAEDcUT53QgAAAEKkPndCAABAc5s/d0IAAADZ7T93QgAAwD5AQHdCAACApJJAd0IAAEAK5UB3QgAAgDvcQXdCAABAoS5Cd0IAAAAHgUJ3QgAAwGzTQndCAACA0iVDd0IAAMADHUR3QgAAgGlvRHdCAABAz8FEd0IAAAA1FEV3QgAAwJpmRXdCAADAMbBGd0IAAICXAkd3QgAAQP1UR3dCAAAAY6dHd0IAAECUnkh3QgAAAPrwSHdCAADAX0NJd0IAAIDFlUl3QgAAQCvoSXdCAACAXN9Kd0IAAEDCMUt3QgAAACiES3dCAADAjdZLd0IAAIDzKEx3QgAAwCQgTXdCAACAinJNd0IAAEDwxE13Qg==\",\"dtype\":\"float64\",\"order\":\"little\",\"shape\":[137]},\"Variable\":[\"Brazil Confirmed\",\"Brazil Confirmed\",\"Brazil Confirmed\",\"Brazil Confirmed\",\"Brazil Confirmed\",\"Brazil Confirmed\",\"Brazil Confirmed\",\"Brazil Confirmed\",\"Brazil Confirmed\",\"Brazil Confirmed\",\"Brazil Confirmed\",\"Brazil Confirmed\",\"Brazil Confirmed\",\"Brazil Confirmed\",\"Brazil Confirmed\",\"Brazil Confirmed\",\"Brazil Confirmed\",\"Brazil Confirmed\",\"Brazil Confirmed\",\"Brazil Confirmed\",\"Brazil Confirmed\",\"Brazil Confirmed\",\"Brazil Confirmed\",\"Brazil Confirmed\",\"Brazil Confirmed\",\"Brazil Confirmed\",\"Brazil Confirmed\",\"Brazil Confirmed\",\"Brazil Confirmed\",\"Brazil Confirmed\",\"Brazil Confirmed\",\"Brazil Confirmed\",\"Brazil Confirmed\",\"Brazil Confirmed\",\"Brazil Confirmed\",\"Brazil Confirmed\",\"Brazil Confirmed\",\"Brazil Confirmed\",\"Brazil Confirmed\",\"Brazil Confirmed\",\"Brazil Confirmed\",\"Brazil Confirmed\",\"Brazil Confirmed\",\"Brazil Confirmed\",\"Brazil Confirmed\",\"Brazil Confirmed\",\"Brazil Confirmed\",\"Brazil Confirmed\",\"Brazil Confirmed\",\"Brazil Confirmed\",\"Brazil Confirmed\",\"Brazil Confirmed\",\"Brazil Confirmed\",\"Brazil Confirmed\",\"Brazil Confirmed\",\"Brazil Confirmed\",\"Brazil Confirmed\",\"Brazil Confirmed\",\"Brazil Confirmed\",\"Brazil Confirmed\",\"Brazil Confirmed\",\"Brazil Confirmed\",\"Brazil Confirmed\",\"Brazil Confirmed\",\"Brazil Confirmed\",\"Brazil Confirmed\",\"Brazil Confirmed\",\"Brazil Confirmed\",\"Brazil Confirmed\",\"Brazil Confirmed\",\"Brazil Confirmed\",\"Brazil Confirmed\",\"Brazil Confirmed\",\"Brazil Confirmed\",\"Brazil Confirmed\",\"Brazil Confirmed\",\"Brazil Confirmed\",\"Brazil Confirmed\",\"Brazil Confirmed\",\"Brazil Confirmed\",\"Brazil Confirmed\",\"Brazil Confirmed\",\"Brazil Confirmed\",\"Brazil Confirmed\",\"Brazil Confirmed\",\"Brazil Confirmed\",\"Brazil Confirmed\",\"Brazil Confirmed\",\"Brazil Confirmed\",\"Brazil Confirmed\",\"Brazil Confirmed\",\"Brazil Confirmed\",\"Brazil Confirmed\",\"Brazil Confirmed\",\"Brazil Confirmed\",\"Brazil Confirmed\",\"Brazil Confirmed\",\"Brazil Confirmed\",\"Brazil Confirmed\",\"Brazil Confirmed\",\"Brazil Confirmed\",\"Brazil Confirmed\",\"Brazil Confirmed\",\"Brazil Confirmed\",\"Brazil Confirmed\",\"Brazil Confirmed\",\"Brazil Confirmed\",\"Brazil Confirmed\",\"Brazil Confirmed\",\"Brazil Confirmed\",\"Brazil Confirmed\",\"Brazil Confirmed\",\"Brazil Confirmed\",\"Brazil Confirmed\",\"Brazil Confirmed\",\"Brazil Confirmed\",\"Brazil Confirmed\",\"Brazil Confirmed\",\"Brazil Confirmed\",\"Brazil Confirmed\",\"Brazil Confirmed\",\"Brazil Confirmed\",\"Brazil Confirmed\",\"Brazil Confirmed\",\"Brazil Confirmed\",\"Brazil Confirmed\",\"Brazil Confirmed\",\"Brazil Confirmed\",\"Brazil Confirmed\",\"Brazil Confirmed\",\"Brazil Confirmed\",\"Brazil Confirmed\",\"Brazil Confirmed\",\"Brazil Confirmed\",\"Brazil Confirmed\",\"Brazil Confirmed\",\"Brazil Confirmed\"],\"value\":{\"__ndarray__\":\"4PIt3/Itzz9g5zP3bSHeP0Dv1LUc3Nw/DPRw5nUq3T9IcImtZJDMP8gQrKPN+8Q/gF8D2+37uj/Qz8mCpVvJP4gkIMYQC8Y/4LZt27Ztsz+I9Ugtss/PP9jIj6FIAsk/+IIMAUInxD/w/7qtbIvCP3BBxUCATLU/WJd3wJGiwT/Y3uy8YZ/EP3CKC16DBb8/4J7pYYkfrT+gKVp2SAS0PxBoxSw5/b4/IManTDsHsz8whWgKo2e7P2Amz5dFhqk/AAOJkBLUrz9whU1gf+W0P9AprIOUHrI/sBXiBuoUsz8AAxai27q0P2CZziedWbY/0J5v8Aektz8QG3RKtcmwP8DuVsLZeLA/YGxYO01wtz/w6h9iIje0P7AuIkRlXrM/ALGPkjK5oT+A0WflzCisP2BJuINtabA/UCq9A8Tjsj9ACC8QBk+zPyB/qjYL6Ks/4NUGtaaHsT+ANbLImc2yP0A5iRvnP7A/4HQrjqcssT+ALSk7fXmgP2Cr1zI0S6Y/YMhWe1T1qj+gqTS/7GuwP6B83sLbda8/gEzXyKJjmD+AMa8yVSSsP8BdfZp4Zao/IL0n5pAcqz9AkWDKR6upPwBp4K4iLJc/II/Lc/E5pz+gZLFhnMmmP2AYvFHlkaA/wK08XklemD9Aq6FAcyCkP0BQiy742aE/QM80dXFmmD+grzxRXqusP8BxCKjyOZQ/gIL/sJI/oj+Ai5bqARejP0AzMnXYAaE/IEpYJzGJoz8A7PlGyVKSP0Dc6RHXVJk/IMwqzPEOoT+Ah6dhKwChP0BCBTp+4pw/AE7DmwHYiT8AJOD8TJScP8CziOxVWps/gFO9XHd5mT9AHVFK00WaPwCjr2jER4Y/wChl4ha9lj9AEKTcpjeVPwDoDV2to5c/wL1Ck5hkkT+ARH2+Q8WDPwA1XvT+0ZM/QIFnS4EWoD/ASDjYe5CbP8CsZtQXBZk/gOVBdFO2gz8ASLWn2ByRPwDVGkz2e5w/gJpoMnU0lz+Adrr6DY2UPwBVdW4b73g/QKrK7X02kz9Ap5rz+FiUPwDz7tcmkpM/gJ9ci3mpkT8AeqO1Z8B9P8CECpojeJE/QCD3+Jopkj/AtgMGbnGTP8D6Rf3AFJA/AGBKL7LBdz8Ass4jFCGNP4APyO91oY0/gEdkvF7aij+AeaixgsCBPwDGKKNZZnM/gMOzERKlij+AahEDU1GKPwBYcWwlX4g/gCKhiw6jhz8AEH6O9V6IPwBsW8ChWoY/gKO5pSJUiD8Ae+uHemyGP4ACNoX48Ik/AJQfe44zbD8AszN3q5+BP4AATqhLyYM/gB7NIdYfhT8AysPCQqtsPwBoVvUZRoE/gIbmRxg1gT8AoYu3DdOAPwDKQLMdS4I/AICdI4Y5aD8A44675iJ+PwDTAtFRsH0/ALjjRm0QfT8AjHbCCRB8PwAEHTi4xWY/ACH/vKirez8APH8EhqV8Pw==\",\"dtype\":\"float64\",\"order\":\"little\",\"shape\":[137]}},\"selected\":{\"id\":\"15335\"},\"selection_policy\":{\"id\":\"15360\"}},\"id\":\"15334\",\"type\":\"ColumnDataSource\"},{\"attributes\":{},\"id\":\"15314\",\"type\":\"BasicTicker\"},{\"attributes\":{\"axis_label\":\"\",\"bounds\":\"auto\",\"formatter\":{\"id\":\"15333\"},\"major_label_orientation\":\"horizontal\",\"ticker\":{\"id\":\"15314\"}},\"id\":\"15313\",\"type\":\"LinearAxis\"},{\"attributes\":{\"axis\":{\"id\":\"15313\"},\"dimension\":1,\"grid_line_color\":null,\"ticker\":null},\"id\":\"15316\",\"type\":\"Grid\"},{\"attributes\":{},\"id\":\"15305\",\"type\":\"LinearScale\"},{\"attributes\":{},\"id\":\"15317\",\"type\":\"SaveTool\"},{\"attributes\":{\"line_color\":\"#ff7e0e\",\"line_width\":2,\"x\":{\"field\":\"Date\"},\"y\":{\"field\":\"value\"}},\"id\":\"15367\",\"type\":\"Line\"},{\"attributes\":{\"days\":[1,4,7,10,13,16,19,22,25,28]},\"id\":\"15352\",\"type\":\"DaysTicker\"},{\"attributes\":{},\"id\":\"15392\",\"type\":\"UnionRenderers\"},{\"attributes\":{\"align\":null,\"below\":[{\"id\":\"15309\"}],\"center\":[{\"id\":\"15312\"},{\"id\":\"15316\"}],\"left\":[{\"id\":\"15313\"}],\"margin\":null,\"min_border_bottom\":10,\"min_border_left\":10,\"min_border_right\":10,\"min_border_top\":10,\"plot_height\":300,\"plot_width\":700,\"renderers\":[{\"id\":\"15340\"},{\"id\":\"15370\"},{\"id\":\"15401\"}],\"right\":[{\"id\":\"15362\"}],\"sizing_mode\":\"fixed\",\"title\":{\"id\":\"15301\"},\"toolbar\":{\"id\":\"15323\"},\"x_range\":{\"id\":\"15295\"},\"x_scale\":{\"id\":\"15305\"},\"y_range\":{\"id\":\"15296\"},\"y_scale\":{\"id\":\"15307\"}},\"id\":\"15300\",\"subtype\":\"Figure\",\"type\":\"Plot\"},{\"attributes\":{},\"id\":\"15321\",\"type\":\"ResetTool\"},{\"attributes\":{},\"id\":\"15335\",\"type\":\"Selection\"},{\"attributes\":{},\"id\":\"15331\",\"type\":\"DatetimeTickFormatter\"},{\"attributes\":{\"months\":[0,6]},\"id\":\"15358\",\"type\":\"MonthsTicker\"},{\"attributes\":{\"bottom_units\":\"screen\",\"fill_alpha\":0.5,\"fill_color\":\"lightgrey\",\"left_units\":\"screen\",\"level\":\"overlay\",\"line_alpha\":1.0,\"line_color\":\"black\",\"line_dash\":[4,4],\"line_width\":2,\"right_units\":\"screen\",\"top_units\":\"screen\"},\"id\":\"15322\",\"type\":\"BoxAnnotation\"},{\"attributes\":{\"active_drag\":\"auto\",\"active_inspect\":\"auto\",\"active_multi\":null,\"active_scroll\":\"auto\",\"active_tap\":\"auto\",\"tools\":[{\"id\":\"15297\"},{\"id\":\"15317\"},{\"id\":\"15318\"},{\"id\":\"15319\"},{\"id\":\"15320\"},{\"id\":\"15321\"}]},\"id\":\"15323\",\"type\":\"Toolbar\"},{\"attributes\":{\"overlay\":{\"id\":\"15322\"}},\"id\":\"15320\",\"type\":\"BoxZoomTool\"},{\"attributes\":{\"num_minor_ticks\":5,\"tickers\":[{\"id\":\"15348\"},{\"id\":\"15349\"},{\"id\":\"15350\"},{\"id\":\"15351\"},{\"id\":\"15352\"},{\"id\":\"15353\"},{\"id\":\"15354\"},{\"id\":\"15355\"},{\"id\":\"15356\"},{\"id\":\"15357\"},{\"id\":\"15358\"},{\"id\":\"15359\"}]},\"id\":\"15310\",\"type\":\"DatetimeTicker\"},{\"attributes\":{\"label\":{\"value\":\"IBOVESPA Close Price\"},\"renderers\":[{\"id\":\"15401\"}]},\"id\":\"15427\",\"type\":\"LegendItem\"},{\"attributes\":{\"axis_label\":\"Date\",\"bounds\":\"auto\",\"formatter\":{\"id\":\"15331\"},\"major_label_orientation\":\"horizontal\",\"ticker\":{\"id\":\"15310\"}},\"id\":\"15309\",\"type\":\"DatetimeAxis\"},{\"attributes\":{\"base\":24,\"mantissas\":[1,2,4,6,8,12],\"max_interval\":43200000.0,\"min_interval\":3600000.0,\"num_minor_ticks\":0},\"id\":\"15350\",\"type\":\"AdaptiveTicker\"},{\"attributes\":{\"months\":[0,1,2,3,4,5,6,7,8,9,10,11]},\"id\":\"15355\",\"type\":\"MonthsTicker\"},{\"attributes\":{},\"id\":\"15360\",\"type\":\"UnionRenderers\"},{\"attributes\":{\"days\":[1,8,15,22]},\"id\":\"15353\",\"type\":\"DaysTicker\"},{\"attributes\":{},\"id\":\"15425\",\"type\":\"UnionRenderers\"},{\"attributes\":{\"line_alpha\":0.1,\"line_color\":\"#ff7e0e\",\"line_width\":2,\"x\":{\"field\":\"Date\"},\"y\":{\"field\":\"value\"}},\"id\":\"15368\",\"type\":\"Line\"},{\"attributes\":{},\"id\":\"15359\",\"type\":\"YearsTicker\"},{\"attributes\":{\"base\":60,\"mantissas\":[1,2,5,10,15,20,30],\"max_interval\":1800000.0,\"min_interval\":1000.0,\"num_minor_ticks\":0},\"id\":\"15349\",\"type\":\"AdaptiveTicker\"},{\"attributes\":{\"source\":{\"id\":\"15395\"}},\"id\":\"15402\",\"type\":\"CDSView\"},{\"attributes\":{},\"id\":\"15365\",\"type\":\"Selection\"},{\"attributes\":{\"end\":2,\"reset_end\":2,\"reset_start\":-0.5,\"start\":-0.5,\"tags\":[[[\"value\",\"value\",null]]]},\"id\":\"15296\",\"type\":\"Range1d\"},{\"attributes\":{\"text\":\"Brazil Confirmed/Deaths vs IBOVESPA Close Price\",\"text_color\":{\"value\":\"black\"},\"text_font_size\":{\"value\":\"12pt\"}},\"id\":\"15301\",\"type\":\"Title\"},{\"attributes\":{},\"id\":\"15319\",\"type\":\"WheelZoomTool\"},{\"attributes\":{\"days\":[1,2,3,4,5,6,7,8,9,10,11,12,13,14,15,16,17,18,19,20,21,22,23,24,25,26,27,28,29,30,31]},\"id\":\"15351\",\"type\":\"DaysTicker\"},{\"attributes\":{\"line_alpha\":0.2,\"line_color\":\"#2ba02b\",\"line_width\":2,\"x\":{\"field\":\"Date\"},\"y\":{\"field\":\"value\"}},\"id\":\"15400\",\"type\":\"Line\"},{\"attributes\":{\"data\":{\"Date\":{\"__ndarray__\":\"AACAo1wOd0IAAEAJrw53QgAAAG8BD3dCAADA1FMPd0IAAAAGSxB3QgAAwGudEHdCAACA0e8Qd0IAAEA3QhF3QgAAAJ2UEXdCAABAzosSd0IAAAA03hJ3QgAAwJkwE3dCAACA/4ITd0IAAEBl1RN3QgAAgJbMFHdCAABA/B4Vd0IAAABicRV3QgAAwMfDFXdCAADAXg0Xd0IAAIDEXxd3QgAAQCqyF3dCAAAAkAQYd0IAAMD1Vhh3QgAAACdOGXdCAACA8vIZd0IAAEBYRRp3QgAAAL6XGndCAABA744bd0IAAABV4Rt3QgAAwLozHHdCAACAIIYcd0IAAIC3zx13QgAAQB0iHndCAAAAg3Qed0IAAMDoxh53QgAAgE4ZH3dCAADAfxAgd0IAAIDlYiB3QgAAQEu1IHdCAAAAsQchd0IAAMAWWiF3QgAAAEhRIndCAADAraMid0IAAIAT9iJ3QgAAQHlII3dCAAAA35ojd0IAAEAQkiR3QgAAAHbkJHdCAADA2zYld0IAAIBBiSV3QgAAQKfbJXdCAACA2NImd0IAAEA+JSd3QgAAAKR3J3dCAADACcond0IAAIBvHCh3QgAAwKATKXdCAACABmYpd0IAAEBsuCl3QgAAwDddKndCAAAAaVQrd0IAAMDOpit3QgAAgDT5K3dCAABAmkssd0IAAAAAnix3QgAAQDGVLXdCAAAAl+ctd0IAAMD8OS53QgAAgGKMLndCAABAyN4ud0IAAID51S93QgAAQF8oMHdCAAAAxXowd0IAAMAqzTB3QgAAgJAfMXdCAADAwRYyd0IAAIAnaTJ3QgAAQI27MndCAAAA8w0zd0IAAMBYYDN3QgAAAIpXNHdCAADA76k0d0IAAIBV/DR3QgAAQLtONXdCAAAAIaE1d0IAAEBSmDZ3QgAAALjqNndCAADAHT03d0IAAICDjzd3QgAAQOnhN3dCAACAGtk4d0IAAECAKzl3QgAAAOZ9OXdCAADAS9A5d0IAAICxIjp3QgAAwOIZO3dCAACASGw7d0IAAECuvjt3QgAAABQRPHdCAADAeWM8d0IAAACrWj13QgAAwBCtPXdCAACAdv89d0IAAEDcUT53QgAAAEKkPndCAABAc5s/d0IAAADZ7T93QgAAwD5AQHdCAACApJJAd0IAAEAK5UB3QgAAgDvcQXdCAABAoS5Cd0IAAAAHgUJ3QgAAwGzTQndCAACA0iVDd0IAAMADHUR3QgAAgGlvRHdCAABAz8FEd0IAAAA1FEV3QgAAwJpmRXdCAADAMbBGd0IAAICXAkd3QgAAQP1UR3dCAAAAY6dHd0IAAECUnkh3QgAAAPrwSHdCAADAX0NJd0IAAIDFlUl3QgAAQCvoSXdCAACAXN9Kd0IAAEDCMUt3QgAAACiES3dCAADAjdZLd0IAAIDzKEx3QgAAwCQgTXdCAACAinJNd0IAAEDwxE13Qg==\",\"dtype\":\"float64\",\"order\":\"little\",\"shape\":[137]},\"Variable\":[\"IBOVESPA Close Price\",\"IBOVESPA Close Price\",\"IBOVESPA Close Price\",\"IBOVESPA Close Price\",\"IBOVESPA Close Price\",\"IBOVESPA Close Price\",\"IBOVESPA Close Price\",\"IBOVESPA Close Price\",\"IBOVESPA Close Price\",\"IBOVESPA Close Price\",\"IBOVESPA Close Price\",\"IBOVESPA Close Price\",\"IBOVESPA Close Price\",\"IBOVESPA Close Price\",\"IBOVESPA Close Price\",\"IBOVESPA Close Price\",\"IBOVESPA Close Price\",\"IBOVESPA Close Price\",\"IBOVESPA Close Price\",\"IBOVESPA Close Price\",\"IBOVESPA Close Price\",\"IBOVESPA Close Price\",\"IBOVESPA Close Price\",\"IBOVESPA Close Price\",\"IBOVESPA Close Price\",\"IBOVESPA Close Price\",\"IBOVESPA Close Price\",\"IBOVESPA Close Price\",\"IBOVESPA Close Price\",\"IBOVESPA Close Price\",\"IBOVESPA Close Price\",\"IBOVESPA Close Price\",\"IBOVESPA Close Price\",\"IBOVESPA Close Price\",\"IBOVESPA Close Price\",\"IBOVESPA Close Price\",\"IBOVESPA Close Price\",\"IBOVESPA Close Price\",\"IBOVESPA Close Price\",\"IBOVESPA Close Price\",\"IBOVESPA Close Price\",\"IBOVESPA Close Price\",\"IBOVESPA Close Price\",\"IBOVESPA Close Price\",\"IBOVESPA Close Price\",\"IBOVESPA Close Price\",\"IBOVESPA Close Price\",\"IBOVESPA Close Price\",\"IBOVESPA Close Price\",\"IBOVESPA Close Price\",\"IBOVESPA Close Price\",\"IBOVESPA Close Price\",\"IBOVESPA Close Price\",\"IBOVESPA Close Price\",\"IBOVESPA Close Price\",\"IBOVESPA Close Price\",\"IBOVESPA Close Price\",\"IBOVESPA Close Price\",\"IBOVESPA Close Price\",\"IBOVESPA Close Price\",\"IBOVESPA Close Price\",\"IBOVESPA Close Price\",\"IBOVESPA Close Price\",\"IBOVESPA Close Price\",\"IBOVESPA Close Price\",\"IBOVESPA Close Price\",\"IBOVESPA Close Price\",\"IBOVESPA Close Price\",\"IBOVESPA Close Price\",\"IBOVESPA Close Price\",\"IBOVESPA Close Price\",\"IBOVESPA Close Price\",\"IBOVESPA Close Price\",\"IBOVESPA Close Price\",\"IBOVESPA Close Price\",\"IBOVESPA Close Price\",\"IBOVESPA Close Price\",\"IBOVESPA Close Price\",\"IBOVESPA Close Price\",\"IBOVESPA Close Price\",\"IBOVESPA Close Price\",\"IBOVESPA Close Price\",\"IBOVESPA Close Price\",\"IBOVESPA Close Price\",\"IBOVESPA Close Price\",\"IBOVESPA Close Price\",\"IBOVESPA Close Price\",\"IBOVESPA Close Price\",\"IBOVESPA Close Price\",\"IBOVESPA Close Price\",\"IBOVESPA Close Price\",\"IBOVESPA Close Price\",\"IBOVESPA Close Price\",\"IBOVESPA Close Price\",\"IBOVESPA Close Price\",\"IBOVESPA Close Price\",\"IBOVESPA Close Price\",\"IBOVESPA Close Price\",\"IBOVESPA Close Price\",\"IBOVESPA Close Price\",\"IBOVESPA Close Price\",\"IBOVESPA Close Price\",\"IBOVESPA Close Price\",\"IBOVESPA Close Price\",\"IBOVESPA Close Price\",\"IBOVESPA Close Price\",\"IBOVESPA Close Price\",\"IBOVESPA Close Price\",\"IBOVESPA Close Price\",\"IBOVESPA Close Price\",\"IBOVESPA Close Price\",\"IBOVESPA Close Price\",\"IBOVESPA Close Price\",\"IBOVESPA Close Price\",\"IBOVESPA Close Price\",\"IBOVESPA Close Price\",\"IBOVESPA Close Price\",\"IBOVESPA Close Price\",\"IBOVESPA Close Price\",\"IBOVESPA Close Price\",\"IBOVESPA Close Price\",\"IBOVESPA Close Price\",\"IBOVESPA Close Price\",\"IBOVESPA Close Price\",\"IBOVESPA Close Price\",\"IBOVESPA Close Price\",\"IBOVESPA Close Price\",\"IBOVESPA Close Price\",\"IBOVESPA Close Price\",\"IBOVESPA Close Price\",\"IBOVESPA Close Price\",\"IBOVESPA Close Price\",\"IBOVESPA Close Price\",\"IBOVESPA Close Price\",\"IBOVESPA Close Price\",\"IBOVESPA Close Price\",\"IBOVESPA Close Price\"],\"value\":{\"__ndarray__\":\"wFS2dx3QqD/QOCuaOH66v0ANjRo6/5U/4Mf5bEjtkr/QhwHbC7aqv+B24/55zbg/wH81lK8wsz8geqYCys+iP4BACrSuNKy/AEhdjE/jkD+gNEDenjmWv4ALZ/RUypy/AMFdVlaOkj9g4jA3Mz2jv3Df+EcBsrA/QIggs5qWnz/ANzCD0WaeP8DxgzQfkIi/AHlv54Zsjj+AmWZJsRuMP8BVmJIS24u/gOJvRSZ5ir8AabxPOQGPPwCwRvN8NSy/wEZHTHk5lj9AIa7zxLyJvyAGT14h56u/AJJglcTDoz+gFzhXIBykP0Cl3QhIaZc/0Mk2KN1noL+AbjcEnbuUvwBCLBnr5X4/gOjG9CP6dL9Ay/U9eHqIv8Bgtm2fGpw/ACsfjHyRjr/AL8JK5+aOvwAkc9EmClW/wB7Hn0NQkD8gNmzuGtiSv2CWLbmPAqg/AMUmDFXNdr8AS/uBWkV9P0Adq4v+gZU/QHx9IroQhb8A3iS+zr6lPwBVxU9ljWK/gOgX+kOtnT8AKtGIlzeHvwCuksEWY3U/gBrqmzCEjD+AjQ/6RQicP4Bqgw3P/5U/AJEc3x02gj8A5KXm26KBP2BBiXwSRqA/wLik/6fVgr8gMBkzc9CVv6A8sXlZc5S/gEPTh6p+cr8A9ix8TZuJP8Ct5wFYEpY/AL5xxDvHeD8ARCQ7FQxzP8BLj+o5Noq/AEiIGDJ0ez/gzLjyvQyRv0DuAAHebJE/AP549D3tlr9AvDGh0r6UP4Bq0RoFDX2/gMRTyFu2iD8AwEnMmsw1PwAvj33gjnY/APgEch78lj+AGycm31eIv0DR4AMXC5U/gBL4HA8Leb+AQr4MhQKCP8DZXXkBVYu/wO4KAX4Vkj+As5sEGoyLP4A+CI576Ii/wOBOKmbHlz+AP3z2NZ2OPwC6HW0tM1K/AMAFK5khKb/Ar474q5uTvwBoZaGBgkw/AFsgliT0lD8AH9vRz9psvwBsxQXJbY0/AHy1ttEdd79ABaoD8XKUvwDwMhgFHEq/IEXD4o8SkL+AwjqepwuQP4BvfyVfYIo/QLQgG22Nir8A8uiKS596P4B8xWrGJIm/AJhNzar1Qb9ADAFVop2QvwAtNkQwL4I/oPebk/jCkb+ACKV5SWWZPwBsWLurTIi/AOssUL3veD8AUNnHox1BPwCfOqFeWX8/AA4UvSbUXL9AgrpLAOeNvwCA2rXiQv++APvZRYzqjj8AAZbLTs+bv0CCbe0A2Jw/AIlE10+bZL9AYej8COqHvwBcDl/5L3U/QCQ5odgciL8AYDAbZ2yJP2D6CS+51pi/gKgVEp6Pc79AQme/m+eTPwAgAblaEC4/AAcVtcNmeb8AnqXRX1dxP+CCEl3sfpK/AB2LnvwQi78AkgVfgZdpPyAja399aJC/gL66bG1Riz8AUOvxbZAhv0DAi5gIoZi/wOYi75V+h78AVoJzbGOGPw==\",\"dtype\":\"float64\",\"order\":\"little\",\"shape\":[137]}},\"selected\":{\"id\":\"15396\"},\"selection_policy\":{\"id\":\"15425\"}},\"id\":\"15395\",\"type\":\"ColumnDataSource\"},{\"attributes\":{\"click_policy\":\"mute\",\"items\":[{\"id\":\"15363\"},{\"id\":\"15394\"},{\"id\":\"15427\"}],\"location\":[0,0],\"title\":\"Variable\"},\"id\":\"15362\",\"type\":\"Legend\"},{\"attributes\":{\"margin\":[5,5,5,5],\"name\":\"HSpacer21026\",\"sizing_mode\":\"stretch_width\"},\"id\":\"15644\",\"type\":\"Spacer\"},{\"attributes\":{\"data\":{\"Date\":{\"__ndarray__\":\"AACAo1wOd0IAAEAJrw53QgAAAG8BD3dCAADA1FMPd0IAAAAGSxB3QgAAwGudEHdCAACA0e8Qd0IAAEA3QhF3QgAAAJ2UEXdCAABAzosSd0IAAAA03hJ3QgAAwJkwE3dCAACA/4ITd0IAAEBl1RN3QgAAgJbMFHdCAABA/B4Vd0IAAABicRV3QgAAwMfDFXdCAADAXg0Xd0IAAIDEXxd3QgAAQCqyF3dCAAAAkAQYd0IAAMD1Vhh3QgAAACdOGXdCAACA8vIZd0IAAEBYRRp3QgAAAL6XGndCAABA744bd0IAAABV4Rt3QgAAwLozHHdCAACAIIYcd0IAAIC3zx13QgAAQB0iHndCAAAAg3Qed0IAAMDoxh53QgAAgE4ZH3dCAADAfxAgd0IAAIDlYiB3QgAAQEu1IHdCAAAAsQchd0IAAMAWWiF3QgAAAEhRIndCAADAraMid0IAAIAT9iJ3QgAAQHlII3dCAAAA35ojd0IAAEAQkiR3QgAAAHbkJHdCAADA2zYld0IAAIBBiSV3QgAAQKfbJXdCAACA2NImd0IAAEA+JSd3QgAAAKR3J3dCAADACcond0IAAIBvHCh3QgAAwKATKXdCAACABmYpd0IAAEBsuCl3QgAAwDddKndCAAAAaVQrd0IAAMDOpit3QgAAgDT5K3dCAABAmkssd0IAAAAAnix3QgAAQDGVLXdCAAAAl+ctd0IAAMD8OS53QgAAgGKMLndCAABAyN4ud0IAAID51S93QgAAQF8oMHdCAAAAxXowd0IAAMAqzTB3QgAAgJAfMXdCAADAwRYyd0IAAIAnaTJ3QgAAQI27MndCAAAA8w0zd0IAAMBYYDN3QgAAAIpXNHdCAADA76k0d0IAAIBV/DR3QgAAQLtONXdCAAAAIaE1d0IAAEBSmDZ3QgAAALjqNndCAADAHT03d0IAAICDjzd3QgAAQOnhN3dCAACAGtk4d0IAAECAKzl3QgAAAOZ9OXdCAADAS9A5d0IAAICxIjp3QgAAwOIZO3dCAACASGw7d0IAAECuvjt3QgAAABQRPHdCAADAeWM8d0IAAACrWj13QgAAwBCtPXdCAACAdv89d0IAAEDcUT53QgAAAEKkPndCAABAc5s/d0IAAADZ7T93QgAAwD5AQHdCAACApJJAd0IAAEAK5UB3QgAAgDvcQXdCAABAoS5Cd0IAAAAHgUJ3QgAAwGzTQndCAACA0iVDd0IAAMADHUR3QgAAgGlvRHdCAABAz8FEd0IAAAA1FEV3QgAAwJpmRXdCAADAMbBGd0IAAICXAkd3QgAAQP1UR3dCAAAAY6dHd0IAAECUnkh3QgAAAPrwSHdCAADAX0NJd0IAAIDFlUl3QgAAQCvoSXdCAACAXN9Kd0IAAEDCMUt3QgAAACiES3dCAADAjdZLd0IAAIDzKEx3QgAAwCQgTXdCAACAinJNd0IAAEDwxE13Qg==\",\"dtype\":\"float64\",\"order\":\"little\",\"shape\":[137]},\"Variable\":[\"Brazil Deaths\",\"Brazil Deaths\",\"Brazil Deaths\",\"Brazil Deaths\",\"Brazil Deaths\",\"Brazil Deaths\",\"Brazil Deaths\",\"Brazil Deaths\",\"Brazil Deaths\",\"Brazil Deaths\",\"Brazil Deaths\",\"Brazil Deaths\",\"Brazil Deaths\",\"Brazil Deaths\",\"Brazil Deaths\",\"Brazil Deaths\",\"Brazil Deaths\",\"Brazil Deaths\",\"Brazil Deaths\",\"Brazil Deaths\",\"Brazil Deaths\",\"Brazil Deaths\",\"Brazil Deaths\",\"Brazil Deaths\",\"Brazil Deaths\",\"Brazil Deaths\",\"Brazil Deaths\",\"Brazil Deaths\",\"Brazil Deaths\",\"Brazil Deaths\",\"Brazil Deaths\",\"Brazil Deaths\",\"Brazil Deaths\",\"Brazil Deaths\",\"Brazil Deaths\",\"Brazil Deaths\",\"Brazil Deaths\",\"Brazil Deaths\",\"Brazil Deaths\",\"Brazil Deaths\",\"Brazil Deaths\",\"Brazil Deaths\",\"Brazil Deaths\",\"Brazil Deaths\",\"Brazil Deaths\",\"Brazil Deaths\",\"Brazil Deaths\",\"Brazil Deaths\",\"Brazil Deaths\",\"Brazil Deaths\",\"Brazil Deaths\",\"Brazil Deaths\",\"Brazil Deaths\",\"Brazil Deaths\",\"Brazil Deaths\",\"Brazil Deaths\",\"Brazil Deaths\",\"Brazil Deaths\",\"Brazil Deaths\",\"Brazil Deaths\",\"Brazil Deaths\",\"Brazil Deaths\",\"Brazil Deaths\",\"Brazil Deaths\",\"Brazil Deaths\",\"Brazil Deaths\",\"Brazil Deaths\",\"Brazil Deaths\",\"Brazil Deaths\",\"Brazil Deaths\",\"Brazil Deaths\",\"Brazil Deaths\",\"Brazil Deaths\",\"Brazil Deaths\",\"Brazil Deaths\",\"Brazil Deaths\",\"Brazil Deaths\",\"Brazil Deaths\",\"Brazil Deaths\",\"Brazil Deaths\",\"Brazil Deaths\",\"Brazil Deaths\",\"Brazil Deaths\",\"Brazil Deaths\",\"Brazil Deaths\",\"Brazil Deaths\",\"Brazil Deaths\",\"Brazil Deaths\",\"Brazil Deaths\",\"Brazil Deaths\",\"Brazil Deaths\",\"Brazil Deaths\",\"Brazil Deaths\",\"Brazil Deaths\",\"Brazil Deaths\",\"Brazil Deaths\",\"Brazil Deaths\",\"Brazil Deaths\",\"Brazil Deaths\",\"Brazil Deaths\",\"Brazil Deaths\",\"Brazil Deaths\",\"Brazil Deaths\",\"Brazil Deaths\",\"Brazil Deaths\",\"Brazil Deaths\",\"Brazil Deaths\",\"Brazil Deaths\",\"Brazil Deaths\",\"Brazil Deaths\",\"Brazil Deaths\",\"Brazil Deaths\",\"Brazil Deaths\",\"Brazil Deaths\",\"Brazil Deaths\",\"Brazil Deaths\",\"Brazil Deaths\",\"Brazil Deaths\",\"Brazil Deaths\",\"Brazil Deaths\",\"Brazil Deaths\",\"Brazil Deaths\",\"Brazil Deaths\",\"Brazil Deaths\",\"Brazil Deaths\",\"Brazil Deaths\",\"Brazil Deaths\",\"Brazil Deaths\",\"Brazil Deaths\",\"Brazil Deaths\",\"Brazil Deaths\",\"Brazil Deaths\",\"Brazil Deaths\",\"Brazil Deaths\",\"Brazil Deaths\",\"Brazil Deaths\",\"Brazil Deaths\"],\"value\":{\"__ndarray__\":\"AAAAAAAA8H8AAAAAAAAIQAAAAAAAAOA/qqqqqqqq6j8M16NwPQrXP5iWlpaWltY/6E1vetObzj9MZzGdxXTWP4C9Y2pg78g/qKWlpaWlxT+oCcZb2efQP4BD87n+eMk/IBPOHhPOzj8o/4K1hK/JP+j9dTBmpcE/yDTeIBFjyj/YllXz8oXJP5DC9Shcj8Y/QOHUwY76tT8oBkp4o6nDPxASm+hcC8E/4ORucje5uz8Azh3IiN+8P2ChiGHlf6c/AK+2bCTSrj8YnPL7Uu3BP0AAzdP7lbs/gMEuANGTtD/AuA9XybW6P+BXNu8w6bY/AGiSGYtftD8giwfBv5KlP5ASdcwR+7Q/YMwMtA3Ysz8Q0UNNkFOyP4B2d7L89rQ/IGKNu2k6oj9QKUKhWJSzP+C+0u4r7a4/MPjEt5VusD9AZWDzYSauP0Al0Vj8aKU/UFNX/Gn5sT9gFwM9p0ypP2DP84VcILA/gHTXaLKDqT9gxCmbrzqiPwBZE7K4qaY/4NlGah+vpj+gUiK0Lh+nPyD6coimgqU/wFUXyEDDlT8ADOaKXZWlP6BbHIBdI6Y/oAY3U9Mrpz9A9ZGf4j+eP8BdpsOdEpM/oO4OU8iJoT8AQjdF6PugP8DNjNptv5Y/gIRJCUeijT9Aw7P0C92dP4ByNroUuZw/AJpPJ7tBmz9A4VkBId2ZPwBR/z4Ydoo/AO4gWyNxmz8AY5zgqgyXPwD/NZF/tJU/ADvozxRxkj8Amss6VZiIP0BYFW0YepY/gIMD2/zVkT+A1aTQDSWVP4AC46eCWJU/gA5fjieTgz9Ay+fPwJuTP4CM7PKsw5I/gJ89uqlhkj/ABvu88veRP4AtIeAj0oQ/gH1mmQVHkj+AEyuuDAiRP8BbwAdJ9pE/AK6aMAIPjz8AG1vPjUiAP0C9rjSteJE/wF8XEKIikD8A8JpLETiQP4BaPzwqKIw/AIEya/TnfD8A727YEoeFP4DDvGFvcpI/ANqPvB+niT+ANlWqszKLPwB7OyETa3g/gCpb0EH3iD8AUtXUNl+OP4BVktTJY4o/ABgNup9vhj8AbYoQ9358PwCBI6RrpIk/gL/EKnJbhz8AvTXXws2IP4DoOmyTlYQ/AEZILBj6eT+ArhV95YKJP4CWlpaWloY/AEnkwMAxhj8AJhOZkTiDPwAPP3UxK3Q/gOYuh/6Shj8ATP/PgA+DP4DZM+h5IIE/AG5VhiyEfT8A/6b5Er9yP4C4FSEFgIQ/ABZ/mW/Hgz8AZuHSDZl7PwApmQEJ0H0/AM8Oy5ZCcD8AMIxHt0WBPwA/w/f3Un8/ABo1f6yjez8AmoaBY7ZnPwD7bAqARIE/AALb25Refj8ADzZV9VF5PwCBskh+C3o/AJzG3GuPZj8APotd7vF4PwDWXXDTxXk/AI8rwdx9eD8AXJVblVt1PwDippo5UmI/AGdg9BTieD8A8bAZMYx9Pw==\",\"dtype\":\"float64\",\"order\":\"little\",\"shape\":[137]}},\"selected\":{\"id\":\"15365\"},\"selection_policy\":{\"id\":\"15392\"}},\"id\":\"15364\",\"type\":\"ColumnDataSource\"},{\"attributes\":{\"label\":{\"value\":\"Brazil Confirmed\"},\"renderers\":[{\"id\":\"15340\"}]},\"id\":\"15363\",\"type\":\"LegendItem\"},{\"attributes\":{\"data_source\":{\"id\":\"15364\"},\"glyph\":{\"id\":\"15367\"},\"hover_glyph\":null,\"muted_glyph\":{\"id\":\"15369\"},\"nonselection_glyph\":{\"id\":\"15368\"},\"selection_glyph\":null,\"view\":{\"id\":\"15371\"}},\"id\":\"15370\",\"type\":\"GlyphRenderer\"},{\"attributes\":{\"label\":{\"value\":\"Brazil Deaths\"},\"renderers\":[{\"id\":\"15370\"}]},\"id\":\"15394\",\"type\":\"LegendItem\"},{\"attributes\":{\"line_alpha\":0.1,\"line_color\":\"#1f77b3\",\"line_width\":2,\"x\":{\"field\":\"Date\"},\"y\":{\"field\":\"value\"}},\"id\":\"15338\",\"type\":\"Line\"},{\"attributes\":{\"source\":{\"id\":\"15364\"}},\"id\":\"15371\",\"type\":\"CDSView\"},{\"attributes\":{\"months\":[0,4,8]},\"id\":\"15357\",\"type\":\"MonthsTicker\"},{\"attributes\":{\"data_source\":{\"id\":\"15334\"},\"glyph\":{\"id\":\"15337\"},\"hover_glyph\":null,\"muted_glyph\":{\"id\":\"15339\"},\"nonselection_glyph\":{\"id\":\"15338\"},\"selection_glyph\":null,\"view\":{\"id\":\"15341\"}},\"id\":\"15340\",\"type\":\"GlyphRenderer\"},{\"attributes\":{\"children\":[{\"id\":\"15294\"},{\"id\":\"15300\"},{\"id\":\"15644\"}],\"margin\":[0,0,0,0],\"name\":\"Row21021\",\"tags\":[\"embedded\"]},\"id\":\"15293\",\"type\":\"Row\"},{\"attributes\":{},\"id\":\"15396\",\"type\":\"Selection\"},{\"attributes\":{\"mantissas\":[1,2,5],\"max_interval\":500.0,\"num_minor_ticks\":0},\"id\":\"15348\",\"type\":\"AdaptiveTicker\"}],\"root_ids\":[\"15293\"]},\"title\":\"Bokeh Application\",\"version\":\"2.1.1\"}};\n",
       "  var render_items = [{\"docid\":\"9ea456b4-a1d4-4ac9-9c73-4e62ccc6836a\",\"root_ids\":[\"15293\"],\"roots\":{\"15293\":\"582cd3f3-bcbb-4c58-bafe-8782d1be5d32\"}}];\n",
       "  root.Bokeh.embed.embed_items_notebook(docs_json, render_items);\n",
       "  }\n",
       "if (root.Bokeh !== undefined) {\n",
       "    embed_document(root);\n",
       "  } else {\n",
       "    var attempts = 0;\n",
       "    var timer = setInterval(function(root) {\n",
       "      if (root.Bokeh !== undefined) {\n",
       "        clearInterval(timer);\n",
       "        embed_document(root);\n",
       "      } else if (document.readyState == \"complete\") {\n",
       "        attempts++;\n",
       "        if (attempts > 100) {\n",
       "          clearInterval(timer);\n",
       "          console.log(\"Bokeh: ERROR: Unable to run BokehJS code because BokehJS library is missing\");\n",
       "        }\n",
       "      }\n",
       "    }, 10, root)\n",
       "  }\n",
       "})(window);</script>"
      ],
      "text/plain": [
       ":NdOverlay   [Variable]\n",
       "   :Curve   [Date]   (value)"
      ]
     },
     "execution_count": 248,
     "metadata": {
      "application/vnd.holoviews_exec.v0+json": {
       "id": "15293"
      }
     },
     "output_type": "execute_result"
    }
   ],
   "source": [
    "# Plotting the Brazil Coronvirus data \n",
    "\n",
    "brazil_df = pd.DataFrame(combined_Brazil_returns)\n",
    "brazil_df['Date'] = brazil_df.index\n",
    "brazil_df.hvplot(kind='line',x='Date', y=['Brazil Confirmed','Brazil Deaths','IBOVESPA Close Price'], ylim = (-0.5, 2), title = 'Brazil Confirmed/Deaths vs IBOVESPA Close Price')\n"
   ]
  },
  {
   "cell_type": "code",
   "execution_count": 249,
   "metadata": {},
   "outputs": [
    {
     "data": {
      "text/html": [
       "<div>\n",
       "<style scoped>\n",
       "    .dataframe tbody tr th:only-of-type {\n",
       "        vertical-align: middle;\n",
       "    }\n",
       "\n",
       "    .dataframe tbody tr th {\n",
       "        vertical-align: top;\n",
       "    }\n",
       "\n",
       "    .dataframe thead th {\n",
       "        text-align: right;\n",
       "    }\n",
       "</style>\n",
       "<table border=\"1\" class=\"dataframe\">\n",
       "  <thead>\n",
       "    <tr style=\"text-align: right;\">\n",
       "      <th></th>\n",
       "      <th>IBOVESPA Close Price</th>\n",
       "      <th>Brazil Confirmed</th>\n",
       "      <th>Brazil Deaths</th>\n",
       "    </tr>\n",
       "  </thead>\n",
       "  <tbody>\n",
       "    <tr>\n",
       "      <th>IBOVESPA Close Price</th>\n",
       "      <td>1.000000</td>\n",
       "      <td>-0.127437</td>\n",
       "      <td>-0.321546</td>\n",
       "    </tr>\n",
       "    <tr>\n",
       "      <th>Brazil Confirmed</th>\n",
       "      <td>-0.127437</td>\n",
       "      <td>1.000000</td>\n",
       "      <td>0.754432</td>\n",
       "    </tr>\n",
       "    <tr>\n",
       "      <th>Brazil Deaths</th>\n",
       "      <td>-0.321546</td>\n",
       "      <td>0.754432</td>\n",
       "      <td>1.000000</td>\n",
       "    </tr>\n",
       "  </tbody>\n",
       "</table>\n",
       "</div>"
      ],
      "text/plain": [
       "                      IBOVESPA Close Price  Brazil Confirmed  Brazil Deaths\n",
       "IBOVESPA Close Price              1.000000         -0.127437      -0.321546\n",
       "Brazil Confirmed                 -0.127437          1.000000       0.754432\n",
       "Brazil Deaths                    -0.321546          0.754432       1.000000"
      ]
     },
     "execution_count": 249,
     "metadata": {},
     "output_type": "execute_result"
    },
    {
     "data": {
      "image/png": "[encoded data removed]",
      "text/plain": [
       "<Figure size 432x288 with 2 Axes>"
      ]
     },
     "metadata": {
      "needs_background": "light"
     },
     "output_type": "display_data"
    }
   ],
   "source": [
    "# Creating a Heatmap correlation for the data\n",
    "\n",
    "brazil_correlation = combined_Brazil_returns.corr()\n",
    "\n",
    "sns.heatmap(brazil_correlation)\n",
    "brazil_correlation"
   ]
  },
  {
   "cell_type": "code",
   "execution_count": 95,
   "metadata": {},
   "outputs": [],
   "source": [
    "#### VISUALIZATIONS FOR PRESENTATION ####\n",
    "####\n",
    "####\n",
    "####\n",
    "####\n",
    "####"
   ]
  },
  {
   "cell_type": "code",
   "execution_count": 250,
   "metadata": {},
   "outputs": [],
   "source": [
    "# Set up API credentials\n",
    "# Read the Mapbox API key\n",
    "\n",
    "load_dotenv()\n",
    "map_box_api = \"pk.eyJ1IjoiYmpvcm5rc2hvZmZtYW4iLCJhIjoiY2tmb3FvOGllMXFnNzM4cXVhdGtuOWNrbSJ9.SreGTVzuAXW_9ELF07KkLA\"\n",
    "\n",
    "# Set the Mapbox API\n",
    "px.set_mapbox_access_token(map_box_api)"
   ]
  },
  {
   "cell_type": "code",
   "execution_count": 251,
   "metadata": {},
   "outputs": [],
   "source": [
    "#Add locations and corona statistics for Mapbox visualization\n",
    "\n",
    "mapbox_data = {'Country':  ['USA', 'India', 'Brazil'],\n",
    "        'Latitude': [40.4251, 28.3907, -22.5410],\n",
    "        'Longitude': [-74.0021, 77.1353, -43.1227],\n",
    "        'Coronavirus Cases': [7.459, 6.685, 4.969],\n",
    "        }"
   ]
  },
  {
   "cell_type": "code",
   "execution_count": 252,
   "metadata": {},
   "outputs": [
    {
     "data": {
      "application/vnd.plotly.v1+json": {
       "config": {
        "plotlyServerURL": "https://plot.ly"
       },
       "data": [
        {
         "hovertemplate": "Country=USA<br>Coronavirus Cases=%{marker.size}<br>Latitude=%{lat}<br>Longitude=%{lon}<extra></extra>",
         "lat": [
          40.4251
         ],
         "legendgroup": "USA",
         "lon": [
          -74.0021
         ],
         "marker": {
          "color": "#636efa",
          "size": [
           7.459
          ],
          "sizemode": "area",
          "sizeref": 0.018647499999999997
         },
         "mode": "markers",
         "name": "USA",
         "showlegend": true,
         "subplot": "mapbox",
         "type": "scattermapbox"
        },
        {
         "hovertemplate": "Country=India<br>Coronavirus Cases=%{marker.size}<br>Latitude=%{lat}<br>Longitude=%{lon}<extra></extra>",
         "lat": [
          28.3907
         ],
         "legendgroup": "India",
         "lon": [
          77.1353
         ],
         "marker": {
          "color": "#EF553B",
          "size": [
           6.685
          ],
          "sizemode": "area",
          "sizeref": 0.018647499999999997
         },
         "mode": "markers",
         "name": "India",
         "showlegend": true,
         "subplot": "mapbox",
         "type": "scattermapbox"
        },
        {
         "hovertemplate": "Country=Brazil<br>Coronavirus Cases=%{marker.size}<br>Latitude=%{lat}<br>Longitude=%{lon}<extra></extra>",
         "lat": [
          -22.541
         ],
         "legendgroup": "Brazil",
         "lon": [
          -43.1227
         ],
         "marker": {
          "color": "#00cc96",
          "size": [
           4.969
          ],
          "sizemode": "area",
          "sizeref": 0.018647499999999997
         },
         "mode": "markers",
         "name": "Brazil",
         "showlegend": true,
         "subplot": "mapbox",
         "type": "scattermapbox"
        }
       ],
       "layout": {
        "autosize": true,
        "legend": {
         "itemsizing": "constant",
         "title": {
          "text": "Country"
         },
         "tracegroupgap": 0
        },
        "mapbox": {
         "accesstoken": "pk.eyJ1IjoiYmpvcm5rc2hvZmZtYW4iLCJhIjoiY2tmb3FvOGllMXFnNzM4cXVhdGtuOWNrbSJ9.SreGTVzuAXW_9ELF07KkLA",
         "bearing": 0,
         "center": {
          "lat": 13.202798070787523,
          "lon": 26.1913820748249
         },
         "domain": {
          "x": [
           0,
           1
          ],
          "y": [
           0,
           1
          ]
         },
         "pitch": 0,
         "zoom": 1.1573183658535506
        },
        "margin": {
         "t": 60
        },
        "template": {
         "data": {
          "bar": [
           {
            "error_x": {
             "color": "#2a3f5f"
            },
            "error_y": {
             "color": "#2a3f5f"
            },
            "marker": {
             "line": {
              "color": "#E5ECF6",
              "width": 0.5
             }
            },
            "type": "bar"
           }
          ],
          "barpolar": [
           {
            "marker": {
             "line": {
              "color": "#E5ECF6",
              "width": 0.5
             }
            },
            "type": "barpolar"
           }
          ],
          "carpet": [
           {
            "aaxis": {
             "endlinecolor": "#2a3f5f",
             "gridcolor": "white",
             "linecolor": "white",
             "minorgridcolor": "white",
             "startlinecolor": "#2a3f5f"
            },
            "baxis": {
             "endlinecolor": "#2a3f5f",
             "gridcolor": "white",
             "linecolor": "white",
             "minorgridcolor": "white",
             "startlinecolor": "#2a3f5f"
            },
            "type": "carpet"
           }
          ],
          "choropleth": [
           {
            "colorbar": {
             "outlinewidth": 0,
             "ticks": ""
            },
            "type": "choropleth"
           }
          ],
          "contour": [
           {
            "colorbar": {
             "outlinewidth": 0,
             "ticks": ""
            },
            "colorscale": [
             [
              0,
              "#0d0887"
             ],
             [
              0.1111111111111111,
              "#46039f"
             ],
             [
              0.2222222222222222,
              "#7201a8"
             ],
             [
              0.3333333333333333,
              "#9c179e"
             ],
             [
              0.4444444444444444,
              "#bd3786"
             ],
             [
              0.5555555555555556,
              "#d8576b"
             ],
             [
              0.6666666666666666,
              "#ed7953"
             ],
             [
              0.7777777777777778,
              "#fb9f3a"
             ],
             [
              0.8888888888888888,
              "#fdca26"
             ],
             [
              1,
              "#f0f921"
             ]
            ],
            "type": "contour"
           }
          ],
          "contourcarpet": [
           {
            "colorbar": {
             "outlinewidth": 0,
             "ticks": ""
            },
            "type": "contourcarpet"
           }
          ],
          "heatmap": [
           {
            "colorbar": {
             "outlinewidth": 0,
             "ticks": ""
            },
            "colorscale": [
             [
              0,
              "#0d0887"
             ],
             [
              0.1111111111111111,
              "#46039f"
             ],
             [
              0.2222222222222222,
              "#7201a8"
             ],
             [
              0.3333333333333333,
              "#9c179e"
             ],
             [
              0.4444444444444444,
              "#bd3786"
             ],
             [
              0.5555555555555556,
              "#d8576b"
             ],
             [
              0.6666666666666666,
              "#ed7953"
             ],
             [
              0.7777777777777778,
              "#fb9f3a"
             ],
             [
              0.8888888888888888,
              "#fdca26"
             ],
             [
              1,
              "#f0f921"
             ]
            ],
            "type": "heatmap"
           }
          ],
          "heatmapgl": [
           {
            "colorbar": {
             "outlinewidth": 0,
             "ticks": ""
            },
            "colorscale": [
             [
              0,
              "#0d0887"
             ],
             [
              0.1111111111111111,
              "#46039f"
             ],
             [
              0.2222222222222222,
              "#7201a8"
             ],
             [
              0.3333333333333333,
              "#9c179e"
             ],
             [
              0.4444444444444444,
              "#bd3786"
             ],
             [
              0.5555555555555556,
              "#d8576b"
             ],
             [
              0.6666666666666666,
              "#ed7953"
             ],
             [
              0.7777777777777778,
              "#fb9f3a"
             ],
             [
              0.8888888888888888,
              "#fdca26"
             ],
             [
              1,
              "#f0f921"
             ]
            ],
            "type": "heatmapgl"
           }
          ],
          "histogram": [
           {
            "marker": {
             "colorbar": {
              "outlinewidth": 0,
              "ticks": ""
             }
            },
            "type": "histogram"
           }
          ],
          "histogram2d": [
           {
            "colorbar": {
             "outlinewidth": 0,
             "ticks": ""
            },
            "colorscale": [
             [
              0,
              "#0d0887"
             ],
             [
              0.1111111111111111,
              "#46039f"
             ],
             [
              0.2222222222222222,
              "#7201a8"
             ],
             [
              0.3333333333333333,
              "#9c179e"
             ],
             [
              0.4444444444444444,
              "#bd3786"
             ],
             [
              0.5555555555555556,
              "#d8576b"
             ],
             [
              0.6666666666666666,
              "#ed7953"
             ],
             [
              0.7777777777777778,
              "#fb9f3a"
             ],
             [
              0.8888888888888888,
              "#fdca26"
             ],
             [
              1,
              "#f0f921"
             ]
            ],
            "type": "histogram2d"
           }
          ],
          "histogram2dcontour": [
           {
            "colorbar": {
             "outlinewidth": 0,
             "ticks": ""
            },
            "colorscale": [
             [
              0,
              "#0d0887"
             ],
             [
              0.1111111111111111,
              "#46039f"
             ],
             [
              0.2222222222222222,
              "#7201a8"
             ],
             [
              0.3333333333333333,
              "#9c179e"
             ],
             [
              0.4444444444444444,
              "#bd3786"
             ],
             [
              0.5555555555555556,
              "#d8576b"
             ],
             [
              0.6666666666666666,
              "#ed7953"
             ],
             [
              0.7777777777777778,
              "#fb9f3a"
             ],
             [
              0.8888888888888888,
              "#fdca26"
             ],
             [
              1,
              "#f0f921"
             ]
            ],
            "type": "histogram2dcontour"
           }
          ],
          "mesh3d": [
           {
            "colorbar": {
             "outlinewidth": 0,
             "ticks": ""
            },
            "type": "mesh3d"
           }
          ],
          "parcoords": [
           {
            "line": {
             "colorbar": {
              "outlinewidth": 0,
              "ticks": ""
             }
            },
            "type": "parcoords"
           }
          ],
          "pie": [
           {
            "automargin": true,
            "type": "pie"
           }
          ],
          "scatter": [
           {
            "marker": {
             "colorbar": {
              "outlinewidth": 0,
              "ticks": ""
             }
            },
            "type": "scatter"
           }
          ],
          "scatter3d": [
           {
            "line": {
             "colorbar": {
              "outlinewidth": 0,
              "ticks": ""
             }
            },
            "marker": {
             "colorbar": {
              "outlinewidth": 0,
              "ticks": ""
             }
            },
            "type": "scatter3d"
           }
          ],
          "scattercarpet": [
           {
            "marker": {
             "colorbar": {
              "outlinewidth": 0,
              "ticks": ""
             }
            },
            "type": "scattercarpet"
           }
          ],
          "scattergeo": [
           {
            "marker": {
             "colorbar": {
              "outlinewidth": 0,
              "ticks": ""
             }
            },
            "type": "scattergeo"
           }
          ],
          "scattergl": [
           {
            "marker": {
             "colorbar": {
              "outlinewidth": 0,
              "ticks": ""
             }
            },
            "type": "scattergl"
           }
          ],
          "scattermapbox": [
           {
            "marker": {
             "colorbar": {
              "outlinewidth": 0,
              "ticks": ""
             }
            },
            "type": "scattermapbox"
           }
          ],
          "scatterpolar": [
           {
            "marker": {
             "colorbar": {
              "outlinewidth": 0,
              "ticks": ""
             }
            },
            "type": "scatterpolar"
           }
          ],
          "scatterpolargl": [
           {
            "marker": {
             "colorbar": {
              "outlinewidth": 0,
              "ticks": ""
             }
            },
            "type": "scatterpolargl"
           }
          ],
          "scatterternary": [
           {
            "marker": {
             "colorbar": {
              "outlinewidth": 0,
              "ticks": ""
             }
            },
            "type": "scatterternary"
           }
          ],
          "surface": [
           {
            "colorbar": {
             "outlinewidth": 0,
             "ticks": ""
            },
            "colorscale": [
             [
              0,
              "#0d0887"
             ],
             [
              0.1111111111111111,
              "#46039f"
             ],
             [
              0.2222222222222222,
              "#7201a8"
             ],
             [
              0.3333333333333333,
              "#9c179e"
             ],
             [
              0.4444444444444444,
              "#bd3786"
             ],
             [
              0.5555555555555556,
              "#d8576b"
             ],
             [
              0.6666666666666666,
              "#ed7953"
             ],
             [
              0.7777777777777778,
              "#fb9f3a"
             ],
             [
              0.8888888888888888,
              "#fdca26"
             ],
             [
              1,
              "#f0f921"
             ]
            ],
            "type": "surface"
           }
          ],
          "table": [
           {
            "cells": {
             "fill": {
              "color": "#EBF0F8"
             },
             "line": {
              "color": "white"
             }
            },
            "header": {
             "fill": {
              "color": "#C8D4E3"
             },
             "line": {
              "color": "white"
             }
            },
            "type": "table"
           }
          ]
         },
         "layout": {
          "annotationdefaults": {
           "arrowcolor": "#2a3f5f",
           "arrowhead": 0,
           "arrowwidth": 1
          },
          "coloraxis": {
           "colorbar": {
            "outlinewidth": 0,
            "ticks": ""
           }
          },
          "colorscale": {
           "diverging": [
            [
             0,
             "#8e0152"
            ],
            [
             0.1,
             "#c51b7d"
            ],
            [
             0.2,
             "#de77ae"
            ],
            [
             0.3,
             "#f1b6da"
            ],
            [
             0.4,
             "#fde0ef"
            ],
            [
             0.5,
             "#f7f7f7"
            ],
            [
             0.6,
             "#e6f5d0"
            ],
            [
             0.7,
             "#b8e186"
            ],
            [
             0.8,
             "#7fbc41"
            ],
            [
             0.9,
             "#4d9221"
            ],
            [
             1,
             "#276419"
            ]
           ],
           "sequential": [
            [
             0,
             "#0d0887"
            ],
            [
             0.1111111111111111,
             "#46039f"
            ],
            [
             0.2222222222222222,
             "#7201a8"
            ],
            [
             0.3333333333333333,
             "#9c179e"
            ],
            [
             0.4444444444444444,
             "#bd3786"
            ],
            [
             0.5555555555555556,
             "#d8576b"
            ],
            [
             0.6666666666666666,
             "#ed7953"
            ],
            [
             0.7777777777777778,
             "#fb9f3a"
            ],
            [
             0.8888888888888888,
             "#fdca26"
            ],
            [
             1,
             "#f0f921"
            ]
           ],
           "sequentialminus": [
            [
             0,
             "#0d0887"
            ],
            [
             0.1111111111111111,
             "#46039f"
            ],
            [
             0.2222222222222222,
             "#7201a8"
            ],
            [
             0.3333333333333333,
             "#9c179e"
            ],
            [
             0.4444444444444444,
             "#bd3786"
            ],
            [
             0.5555555555555556,
             "#d8576b"
            ],
            [
             0.6666666666666666,
             "#ed7953"
            ],
            [
             0.7777777777777778,
             "#fb9f3a"
            ],
            [
             0.8888888888888888,
             "#fdca26"
            ],
            [
             1,
             "#f0f921"
            ]
           ]
          },
          "colorway": [
           "#636efa",
           "#EF553B",
           "#00cc96",
           "#ab63fa",
           "#FFA15A",
           "#19d3f3",
           "#FF6692",
           "#B6E880",
           "#FF97FF",
           "#FECB52"
          ],
          "font": {
           "color": "#2a3f5f"
          },
          "geo": {
           "bgcolor": "white",
           "lakecolor": "white",
           "landcolor": "#E5ECF6",
           "showlakes": true,
           "showland": true,
           "subunitcolor": "white"
          },
          "hoverlabel": {
           "align": "left"
          },
          "hovermode": "closest",
          "mapbox": {
           "style": "light"
          },
          "paper_bgcolor": "white",
          "plot_bgcolor": "#E5ECF6",
          "polar": {
           "angularaxis": {
            "gridcolor": "white",
            "linecolor": "white",
            "ticks": ""
           },
           "bgcolor": "#E5ECF6",
           "radialaxis": {
            "gridcolor": "white",
            "linecolor": "white",
            "ticks": ""
           }
          },
          "scene": {
           "xaxis": {
            "backgroundcolor": "#E5ECF6",
            "gridcolor": "white",
            "gridwidth": 2,
            "linecolor": "white",
            "showbackground": true,
            "ticks": "",
            "zerolinecolor": "white"
           },
           "yaxis": {
            "backgroundcolor": "#E5ECF6",
            "gridcolor": "white",
            "gridwidth": 2,
            "linecolor": "white",
            "showbackground": true,
            "ticks": "",
            "zerolinecolor": "white"
           },
           "zaxis": {
            "backgroundcolor": "#E5ECF6",
            "gridcolor": "white",
            "gridwidth": 2,
            "linecolor": "white",
            "showbackground": true,
            "ticks": "",
            "zerolinecolor": "white"
           }
          },
          "shapedefaults": {
           "line": {
            "color": "#2a3f5f"
           }
          },
          "ternary": {
           "aaxis": {
            "gridcolor": "white",
            "linecolor": "white",
            "ticks": ""
           },
           "baxis": {
            "gridcolor": "white",
            "linecolor": "white",
            "ticks": ""
           },
           "bgcolor": "#E5ECF6",
           "caxis": {
            "gridcolor": "white",
            "linecolor": "white",
            "ticks": ""
           }
          },
          "title": {
           "x": 0.05
          },
          "xaxis": {
           "automargin": true,
           "gridcolor": "white",
           "linecolor": "white",
           "ticks": "",
           "title": {
            "standoff": 15
           },
           "zerolinecolor": "white",
           "zerolinewidth": 2
          },
          "yaxis": {
           "automargin": true,
           "gridcolor": "white",
           "linecolor": "white",
           "ticks": "",
           "title": {
            "standoff": 15
           },
           "zerolinecolor": "white",
           "zerolinewidth": 2
          }
         }
        }
       }
      },
      "image/png": "[encoded data removed]",
      "text/html": [
       "<div>                            <div id=\"3f6a602f-74d4-4ac5-838e-9ea1f9d7c97c\" class=\"plotly-graph-div\" style=\"height:525px; width:100%;\"></div>            <script type=\"text/javascript\">                require([\"plotly\"], function(Plotly) {                    window.PLOTLYENV=window.PLOTLYENV || {};                                    if (document.getElementById(\"3f6a602f-74d4-4ac5-838e-9ea1f9d7c97c\")) {                    Plotly.newPlot(                        \"3f6a602f-74d4-4ac5-838e-9ea1f9d7c97c\",                        [{\"hovertemplate\": \"Country=USA<br>Coronavirus Cases=%{marker.size}<br>Latitude=%{lat}<br>Longitude=%{lon}<extra></extra>\", \"lat\": [40.4251], \"legendgroup\": \"USA\", \"lon\": [-74.0021], \"marker\": {\"color\": \"#636efa\", \"size\": [7.459], \"sizemode\": \"area\", \"sizeref\": 0.018647499999999997}, \"mode\": \"markers\", \"name\": \"USA\", \"showlegend\": true, \"subplot\": \"mapbox\", \"type\": \"scattermapbox\"}, {\"hovertemplate\": \"Country=India<br>Coronavirus Cases=%{marker.size}<br>Latitude=%{lat}<br>Longitude=%{lon}<extra></extra>\", \"lat\": [28.3907], \"legendgroup\": \"India\", \"lon\": [77.1353], \"marker\": {\"color\": \"#EF553B\", \"size\": [6.685], \"sizemode\": \"area\", \"sizeref\": 0.018647499999999997}, \"mode\": \"markers\", \"name\": \"India\", \"showlegend\": true, \"subplot\": \"mapbox\", \"type\": \"scattermapbox\"}, {\"hovertemplate\": \"Country=Brazil<br>Coronavirus Cases=%{marker.size}<br>Latitude=%{lat}<br>Longitude=%{lon}<extra></extra>\", \"lat\": [-22.541], \"legendgroup\": \"Brazil\", \"lon\": [-43.1227], \"marker\": {\"color\": \"#00cc96\", \"size\": [4.969], \"sizemode\": \"area\", \"sizeref\": 0.018647499999999997}, \"mode\": \"markers\", \"name\": \"Brazil\", \"showlegend\": true, \"subplot\": \"mapbox\", \"type\": \"scattermapbox\"}],                        {\"legend\": {\"itemsizing\": \"constant\", \"title\": {\"text\": \"Country\"}, \"tracegroupgap\": 0}, \"mapbox\": {\"accesstoken\": \"pk.eyJ1IjoiYmpvcm5rc2hvZmZtYW4iLCJhIjoiY2tmb3FvOGllMXFnNzM4cXVhdGtuOWNrbSJ9.SreGTVzuAXW_9ELF07KkLA\", \"center\": {\"lat\": 15.424933333333334, \"lon\": -13.329833333333333}, \"domain\": {\"x\": [0.0, 1.0], \"y\": [0.0, 1.0]}, \"zoom\": 8}, \"margin\": {\"t\": 60}, \"template\": {\"data\": {\"bar\": [{\"error_x\": {\"color\": \"#2a3f5f\"}, \"error_y\": {\"color\": \"#2a3f5f\"}, \"marker\": {\"line\": {\"color\": \"#E5ECF6\", \"width\": 0.5}}, \"type\": \"bar\"}], \"barpolar\": [{\"marker\": {\"line\": {\"color\": \"#E5ECF6\", \"width\": 0.5}}, \"type\": \"barpolar\"}], \"carpet\": [{\"aaxis\": {\"endlinecolor\": \"#2a3f5f\", \"gridcolor\": \"white\", \"linecolor\": \"white\", \"minorgridcolor\": \"white\", \"startlinecolor\": \"#2a3f5f\"}, \"baxis\": {\"endlinecolor\": \"#2a3f5f\", \"gridcolor\": \"white\", \"linecolor\": \"white\", \"minorgridcolor\": \"white\", \"startlinecolor\": \"#2a3f5f\"}, \"type\": \"carpet\"}], \"choropleth\": [{\"colorbar\": {\"outlinewidth\": 0, \"ticks\": \"\"}, \"type\": \"choropleth\"}], \"contour\": [{\"colorbar\": {\"outlinewidth\": 0, \"ticks\": \"\"}, \"colorscale\": [[0.0, \"#0d0887\"], [0.1111111111111111, \"#46039f\"], [0.2222222222222222, \"#7201a8\"], [0.3333333333333333, \"#9c179e\"], [0.4444444444444444, \"#bd3786\"], [0.5555555555555556, \"#d8576b\"], [0.6666666666666666, \"#ed7953\"], [0.7777777777777778, \"#fb9f3a\"], [0.8888888888888888, \"#fdca26\"], [1.0, \"#f0f921\"]], \"type\": \"contour\"}], \"contourcarpet\": [{\"colorbar\": {\"outlinewidth\": 0, \"ticks\": \"\"}, \"type\": \"contourcarpet\"}], \"heatmap\": [{\"colorbar\": {\"outlinewidth\": 0, \"ticks\": \"\"}, \"colorscale\": [[0.0, \"#0d0887\"], [0.1111111111111111, \"#46039f\"], [0.2222222222222222, \"#7201a8\"], [0.3333333333333333, \"#9c179e\"], [0.4444444444444444, \"#bd3786\"], [0.5555555555555556, \"#d8576b\"], [0.6666666666666666, \"#ed7953\"], [0.7777777777777778, \"#fb9f3a\"], [0.8888888888888888, \"#fdca26\"], [1.0, \"#f0f921\"]], \"type\": \"heatmap\"}], \"heatmapgl\": [{\"colorbar\": {\"outlinewidth\": 0, \"ticks\": \"\"}, \"colorscale\": [[0.0, \"#0d0887\"], [0.1111111111111111, \"#46039f\"], [0.2222222222222222, \"#7201a8\"], [0.3333333333333333, \"#9c179e\"], [0.4444444444444444, \"#bd3786\"], [0.5555555555555556, \"#d8576b\"], [0.6666666666666666, \"#ed7953\"], [0.7777777777777778, \"#fb9f3a\"], [0.8888888888888888, \"#fdca26\"], [1.0, \"#f0f921\"]], \"type\": \"heatmapgl\"}], \"histogram\": [{\"marker\": {\"colorbar\": {\"outlinewidth\": 0, \"ticks\": \"\"}}, \"type\": \"histogram\"}], \"histogram2d\": [{\"colorbar\": {\"outlinewidth\": 0, \"ticks\": \"\"}, \"colorscale\": [[0.0, \"#0d0887\"], [0.1111111111111111, \"#46039f\"], [0.2222222222222222, \"#7201a8\"], [0.3333333333333333, \"#9c179e\"], [0.4444444444444444, \"#bd3786\"], [0.5555555555555556, \"#d8576b\"], [0.6666666666666666, \"#ed7953\"], [0.7777777777777778, \"#fb9f3a\"], [0.8888888888888888, \"#fdca26\"], [1.0, \"#f0f921\"]], \"type\": \"histogram2d\"}], \"histogram2dcontour\": [{\"colorbar\": {\"outlinewidth\": 0, \"ticks\": \"\"}, \"colorscale\": [[0.0, \"#0d0887\"], [0.1111111111111111, \"#46039f\"], [0.2222222222222222, \"#7201a8\"], [0.3333333333333333, \"#9c179e\"], [0.4444444444444444, \"#bd3786\"], [0.5555555555555556, \"#d8576b\"], [0.6666666666666666, \"#ed7953\"], [0.7777777777777778, \"#fb9f3a\"], [0.8888888888888888, \"#fdca26\"], [1.0, \"#f0f921\"]], \"type\": \"histogram2dcontour\"}], \"mesh3d\": [{\"colorbar\": {\"outlinewidth\": 0, \"ticks\": \"\"}, \"type\": \"mesh3d\"}], \"parcoords\": [{\"line\": {\"colorbar\": {\"outlinewidth\": 0, \"ticks\": \"\"}}, \"type\": \"parcoords\"}], \"pie\": [{\"automargin\": true, \"type\": \"pie\"}], \"scatter\": [{\"marker\": {\"colorbar\": {\"outlinewidth\": 0, \"ticks\": \"\"}}, \"type\": \"scatter\"}], \"scatter3d\": [{\"line\": {\"colorbar\": {\"outlinewidth\": 0, \"ticks\": \"\"}}, \"marker\": {\"colorbar\": {\"outlinewidth\": 0, \"ticks\": \"\"}}, \"type\": \"scatter3d\"}], \"scattercarpet\": [{\"marker\": {\"colorbar\": {\"outlinewidth\": 0, \"ticks\": \"\"}}, \"type\": \"scattercarpet\"}], \"scattergeo\": [{\"marker\": {\"colorbar\": {\"outlinewidth\": 0, \"ticks\": \"\"}}, \"type\": \"scattergeo\"}], \"scattergl\": [{\"marker\": {\"colorbar\": {\"outlinewidth\": 0, \"ticks\": \"\"}}, \"type\": \"scattergl\"}], \"scattermapbox\": [{\"marker\": {\"colorbar\": {\"outlinewidth\": 0, \"ticks\": \"\"}}, \"type\": \"scattermapbox\"}], \"scatterpolar\": [{\"marker\": {\"colorbar\": {\"outlinewidth\": 0, \"ticks\": \"\"}}, \"type\": \"scatterpolar\"}], \"scatterpolargl\": [{\"marker\": {\"colorbar\": {\"outlinewidth\": 0, \"ticks\": \"\"}}, \"type\": \"scatterpolargl\"}], \"scatterternary\": [{\"marker\": {\"colorbar\": {\"outlinewidth\": 0, \"ticks\": \"\"}}, \"type\": \"scatterternary\"}], \"surface\": [{\"colorbar\": {\"outlinewidth\": 0, \"ticks\": \"\"}, \"colorscale\": [[0.0, \"#0d0887\"], [0.1111111111111111, \"#46039f\"], [0.2222222222222222, \"#7201a8\"], [0.3333333333333333, \"#9c179e\"], [0.4444444444444444, \"#bd3786\"], [0.5555555555555556, \"#d8576b\"], [0.6666666666666666, \"#ed7953\"], [0.7777777777777778, \"#fb9f3a\"], [0.8888888888888888, \"#fdca26\"], [1.0, \"#f0f921\"]], \"type\": \"surface\"}], \"table\": [{\"cells\": {\"fill\": {\"color\": \"#EBF0F8\"}, \"line\": {\"color\": \"white\"}}, \"header\": {\"fill\": {\"color\": \"#C8D4E3\"}, \"line\": {\"color\": \"white\"}}, \"type\": \"table\"}]}, \"layout\": {\"annotationdefaults\": {\"arrowcolor\": \"#2a3f5f\", \"arrowhead\": 0, \"arrowwidth\": 1}, \"coloraxis\": {\"colorbar\": {\"outlinewidth\": 0, \"ticks\": \"\"}}, \"colorscale\": {\"diverging\": [[0, \"#8e0152\"], [0.1, \"#c51b7d\"], [0.2, \"#de77ae\"], [0.3, \"#f1b6da\"], [0.4, \"#fde0ef\"], [0.5, \"#f7f7f7\"], [0.6, \"#e6f5d0\"], [0.7, \"#b8e186\"], [0.8, \"#7fbc41\"], [0.9, \"#4d9221\"], [1, \"#276419\"]], \"sequential\": [[0.0, \"#0d0887\"], [0.1111111111111111, \"#46039f\"], [0.2222222222222222, \"#7201a8\"], [0.3333333333333333, \"#9c179e\"], [0.4444444444444444, \"#bd3786\"], [0.5555555555555556, \"#d8576b\"], [0.6666666666666666, \"#ed7953\"], [0.7777777777777778, \"#fb9f3a\"], [0.8888888888888888, \"#fdca26\"], [1.0, \"#f0f921\"]], \"sequentialminus\": [[0.0, \"#0d0887\"], [0.1111111111111111, \"#46039f\"], [0.2222222222222222, \"#7201a8\"], [0.3333333333333333, \"#9c179e\"], [0.4444444444444444, \"#bd3786\"], [0.5555555555555556, \"#d8576b\"], [0.6666666666666666, \"#ed7953\"], [0.7777777777777778, \"#fb9f3a\"], [0.8888888888888888, \"#fdca26\"], [1.0, \"#f0f921\"]]}, \"colorway\": [\"#636efa\", \"#EF553B\", \"#00cc96\", \"#ab63fa\", \"#FFA15A\", \"#19d3f3\", \"#FF6692\", \"#B6E880\", \"#FF97FF\", \"#FECB52\"], \"font\": {\"color\": \"#2a3f5f\"}, \"geo\": {\"bgcolor\": \"white\", \"lakecolor\": \"white\", \"landcolor\": \"#E5ECF6\", \"showlakes\": true, \"showland\": true, \"subunitcolor\": \"white\"}, \"hoverlabel\": {\"align\": \"left\"}, \"hovermode\": \"closest\", \"mapbox\": {\"style\": \"light\"}, \"paper_bgcolor\": \"white\", \"plot_bgcolor\": \"#E5ECF6\", \"polar\": {\"angularaxis\": {\"gridcolor\": \"white\", \"linecolor\": \"white\", \"ticks\": \"\"}, \"bgcolor\": \"#E5ECF6\", \"radialaxis\": {\"gridcolor\": \"white\", \"linecolor\": \"white\", \"ticks\": \"\"}}, \"scene\": {\"xaxis\": {\"backgroundcolor\": \"#E5ECF6\", \"gridcolor\": \"white\", \"gridwidth\": 2, \"linecolor\": \"white\", \"showbackground\": true, \"ticks\": \"\", \"zerolinecolor\": \"white\"}, \"yaxis\": {\"backgroundcolor\": \"#E5ECF6\", \"gridcolor\": \"white\", \"gridwidth\": 2, \"linecolor\": \"white\", \"showbackground\": true, \"ticks\": \"\", \"zerolinecolor\": \"white\"}, \"zaxis\": {\"backgroundcolor\": \"#E5ECF6\", \"gridcolor\": \"white\", \"gridwidth\": 2, \"linecolor\": \"white\", \"showbackground\": true, \"ticks\": \"\", \"zerolinecolor\": \"white\"}}, \"shapedefaults\": {\"line\": {\"color\": \"#2a3f5f\"}}, \"ternary\": {\"aaxis\": {\"gridcolor\": \"white\", \"linecolor\": \"white\", \"ticks\": \"\"}, \"baxis\": {\"gridcolor\": \"white\", \"linecolor\": \"white\", \"ticks\": \"\"}, \"bgcolor\": \"#E5ECF6\", \"caxis\": {\"gridcolor\": \"white\", \"linecolor\": \"white\", \"ticks\": \"\"}}, \"title\": {\"x\": 0.05}, \"xaxis\": {\"automargin\": true, \"gridcolor\": \"white\", \"linecolor\": \"white\", \"ticks\": \"\", \"title\": {\"standoff\": 15}, \"zerolinecolor\": \"white\", \"zerolinewidth\": 2}, \"yaxis\": {\"automargin\": true, \"gridcolor\": \"white\", \"linecolor\": \"white\", \"ticks\": \"\", \"title\": {\"standoff\": 15}, \"zerolinecolor\": \"white\", \"zerolinewidth\": 2}}}},                        {\"responsive\": true}                    ).then(function(){\n",
       "                            \n",
       "var gd = document.getElementById('3f6a602f-74d4-4ac5-838e-9ea1f9d7c97c');\n",
       "var x = new MutationObserver(function (mutations, observer) {{\n",
       "        var display = window.getComputedStyle(gd).display;\n",
       "        if (!display || display === 'none') {{\n",
       "            console.log([gd, 'removed!']);\n",
       "            Plotly.purge(gd);\n",
       "            observer.disconnect();\n",
       "        }}\n",
       "}});\n",
       "\n",
       "// Listen for the removal of the full notebook cells\n",
       "var notebookContainer = gd.closest('#notebook-container');\n",
       "if (notebookContainer) {{\n",
       "    x.observe(notebookContainer, {childList: true});\n",
       "}}\n",
       "\n",
       "// Listen for the clearing of the current output cell\n",
       "var outputEl = gd.closest('.output');\n",
       "if (outputEl) {{\n",
       "    x.observe(outputEl, {childList: true});\n",
       "}}\n",
       "\n",
       "                        })                };                });            </script>        </div>"
      ]
     },
     "metadata": {},
     "output_type": "display_data"
    }
   ],
   "source": [
    "# Slice and plot data by name\n",
    "\n",
    "map_1 = px.scatter_mapbox(\n",
    "    mapbox_data,\n",
    "    lat=\"Latitude\",\n",
    "    lon=\"Longitude\",\n",
    "    color=\"Country\",\n",
    "    size=\"Coronavirus Cases\",\n",
    ")\n",
    "map_1.show()\n",
    "#Bjorn"
   ]
  },
  {
   "cell_type": "code",
   "execution_count": 253,
   "metadata": {},
   "outputs": [
    {
     "data": {
      "text/html": [
       "<div>\n",
       "<style scoped>\n",
       "    .dataframe tbody tr th:only-of-type {\n",
       "        vertical-align: middle;\n",
       "    }\n",
       "\n",
       "    .dataframe tbody tr th {\n",
       "        vertical-align: top;\n",
       "    }\n",
       "\n",
       "    .dataframe thead th {\n",
       "        text-align: right;\n",
       "    }\n",
       "</style>\n",
       "<table border=\"1\" class=\"dataframe\">\n",
       "  <thead>\n",
       "    <tr style=\"text-align: right;\">\n",
       "      <th></th>\n",
       "      <th>USA Confirmed</th>\n",
       "      <th>USA Deaths</th>\n",
       "      <th>Brazil Confirmed</th>\n",
       "      <th>Brazil Deaths</th>\n",
       "      <th>India Deaths</th>\n",
       "      <th>India Confirmed</th>\n",
       "    </tr>\n",
       "  </thead>\n",
       "  <tbody>\n",
       "    <tr>\n",
       "      <th>2020-02-25</th>\n",
       "      <td>15</td>\n",
       "      <td>0</td>\n",
       "      <td>0</td>\n",
       "      <td>0</td>\n",
       "      <td>0</td>\n",
       "      <td>3</td>\n",
       "    </tr>\n",
       "    <tr>\n",
       "      <th>2020-02-26</th>\n",
       "      <td>15</td>\n",
       "      <td>0</td>\n",
       "      <td>1</td>\n",
       "      <td>0</td>\n",
       "      <td>0</td>\n",
       "      <td>3</td>\n",
       "    </tr>\n",
       "    <tr>\n",
       "      <th>2020-02-27</th>\n",
       "      <td>16</td>\n",
       "      <td>0</td>\n",
       "      <td>1</td>\n",
       "      <td>0</td>\n",
       "      <td>0</td>\n",
       "      <td>3</td>\n",
       "    </tr>\n",
       "    <tr>\n",
       "      <th>2020-02-28</th>\n",
       "      <td>16</td>\n",
       "      <td>0</td>\n",
       "      <td>1</td>\n",
       "      <td>0</td>\n",
       "      <td>0</td>\n",
       "      <td>3</td>\n",
       "    </tr>\n",
       "    <tr>\n",
       "      <th>2020-02-29</th>\n",
       "      <td>24</td>\n",
       "      <td>1</td>\n",
       "      <td>2</td>\n",
       "      <td>0</td>\n",
       "      <td>0</td>\n",
       "      <td>3</td>\n",
       "    </tr>\n",
       "  </tbody>\n",
       "</table>\n",
       "</div>"
      ],
      "text/plain": [
       "            USA Confirmed  USA Deaths  Brazil Confirmed  Brazil Deaths  \\\n",
       "2020-02-25             15           0                 0              0   \n",
       "2020-02-26             15           0                 1              0   \n",
       "2020-02-27             16           0                 1              0   \n",
       "2020-02-28             16           0                 1              0   \n",
       "2020-02-29             24           1                 2              0   \n",
       "\n",
       "            India Deaths  India Confirmed  \n",
       "2020-02-25             0                3  \n",
       "2020-02-26             0                3  \n",
       "2020-02-27             0                3  \n",
       "2020-02-28             0                3  \n",
       "2020-02-29             0                3  "
      ]
     },
     "execution_count": 253,
     "metadata": {},
     "output_type": "execute_result"
    }
   ],
   "source": [
    "#Visualizing graph of totoal cases \n",
    "global_daily_corona_raw = pd.concat([US_coronavirus_data, Brazil_coronavirus_data, India_coronavirus_data], axis='columns', join='inner')\n",
    "global_daily_corona_raw.columns = [\n",
    "'USA Confirmed',\n",
    "'USA Deaths',\n",
    "'Brazil Confirmed',\n",
    "'Brazil Deaths',\n",
    "'India Deaths',\n",
    "'India Confirmed'\n",
    "]\n",
    "global_daily_corona_raw_clean = global_daily_corona_raw.dropna()\n",
    "global_daily_corona_raw_clean.head()"
   ]
  },
  {
   "cell_type": "code",
   "execution_count": 254,
   "metadata": {},
   "outputs": [
    {
     "data": {
      "application/vnd.holoviews_exec.v0+json": "",
      "text/html": [
       "<div id='15766'>\n",
       "\n",
       "\n",
       "\n",
       "\n",
       "\n",
       "  <div class=\"bk-root\" id=\"e9cea00f-8812-4249-95ca-7a4692fedeeb\" data-root-id=\"15766\"></div>\n",
       "</div>\n",
       "<script type=\"application/javascript\">(function(root) {\n",
       "  function embed_document(root) {\n",
       "  var docs_json = {\"2f3601fa-c353-4537-bc2f-18b77992641b\":{\"roots\":{\"references\":[{\"attributes\":{},\"id\":\"16012\",\"type\":\"UnionRenderers\"},{\"attributes\":{\"num_minor_ticks\":5,\"tickers\":[{\"id\":\"15824\"},{\"id\":\"15825\"},{\"id\":\"15826\"},{\"id\":\"15827\"},{\"id\":\"15828\"},{\"id\":\"15829\"},{\"id\":\"15830\"},{\"id\":\"15831\"},{\"id\":\"15832\"},{\"id\":\"15833\"},{\"id\":\"15834\"},{\"id\":\"15835\"}]},\"id\":\"15786\",\"type\":\"DatetimeTicker\"},{\"attributes\":{\"end\":1595808000000.0,\"reset_end\":1595808000000.0,\"reset_start\":1582588800000.0,\"start\":1582588800000.0,\"tags\":[[[\"Date\",\"Date\",null]]]},\"id\":\"15768\",\"type\":\"Range1d\"},{\"attributes\":{\"source\":{\"id\":\"15904\"}},\"id\":\"15911\",\"type\":\"CDSView\"},{\"attributes\":{},\"id\":\"15868\",\"type\":\"UnionRenderers\"},{\"attributes\":{\"text\":\"Total Confirmed/Deaths by Country\",\"text_color\":{\"value\":\"black\"},\"text_font_size\":{\"value\":\"12pt\"}},\"id\":\"15777\",\"type\":\"Title\"},{\"attributes\":{},\"id\":\"15835\",\"type\":\"YearsTicker\"},{\"attributes\":{\"active_drag\":\"auto\",\"active_inspect\":\"auto\",\"active_multi\":null,\"active_scroll\":\"auto\",\"active_tap\":\"auto\",\"tools\":[{\"id\":\"15770\"},{\"id\":\"15793\"},{\"id\":\"15794\"},{\"id\":\"15795\"},{\"id\":\"15796\"},{\"id\":\"15797\"}]},\"id\":\"15799\",\"type\":\"Toolbar\"},{\"attributes\":{\"label\":{\"value\":\"India Confirmed\"},\"renderers\":[{\"id\":\"15982\"}]},\"id\":\"16014\",\"type\":\"LegendItem\"},{\"attributes\":{\"source\":{\"id\":\"15810\"}},\"id\":\"15817\",\"type\":\"CDSView\"},{\"attributes\":{},\"id\":\"15901\",\"type\":\"UnionRenderers\"},{\"attributes\":{\"line_alpha\":0.1,\"line_color\":\"#9367bc\",\"line_width\":2,\"x\":{\"field\":\"Date\"},\"y\":{\"field\":\"value\"}},\"id\":\"15943\",\"type\":\"Line\"},{\"attributes\":{\"callback\":null,\"formatters\":{\"@{Date}\":\"datetime\"},\"renderers\":[{\"id\":\"15816\"},{\"id\":\"15846\"},{\"id\":\"15877\"},{\"id\":\"15910\"},{\"id\":\"15945\"},{\"id\":\"15982\"}],\"tags\":[\"hv_created\"],\"tooltips\":[[\"Variable\",\"@{Variable}\"],[\"Date\",\"@{Date}{%F %T}\"],[\"value\",\"@{value}\"]]},\"id\":\"15770\",\"type\":\"HoverTool\"},{\"attributes\":{},\"id\":\"15795\",\"type\":\"WheelZoomTool\"},{\"attributes\":{\"align\":null,\"below\":[{\"id\":\"15785\"}],\"center\":[{\"id\":\"15788\"},{\"id\":\"15792\"}],\"left\":[{\"id\":\"15789\"}],\"margin\":null,\"min_border_bottom\":10,\"min_border_left\":10,\"min_border_right\":10,\"min_border_top\":10,\"plot_height\":300,\"plot_width\":700,\"renderers\":[{\"id\":\"15816\"},{\"id\":\"15846\"},{\"id\":\"15877\"},{\"id\":\"15910\"},{\"id\":\"15945\"},{\"id\":\"15982\"}],\"right\":[{\"id\":\"15838\"}],\"sizing_mode\":\"fixed\",\"title\":{\"id\":\"15777\"},\"toolbar\":{\"id\":\"15799\"},\"x_range\":{\"id\":\"15768\"},\"x_scale\":{\"id\":\"15781\"},\"y_range\":{\"id\":\"15769\"},\"y_scale\":{\"id\":\"15783\"}},\"id\":\"15776\",\"subtype\":\"Figure\",\"type\":\"Plot\"},{\"attributes\":{\"source\":{\"id\":\"15840\"}},\"id\":\"15847\",\"type\":\"CDSView\"},{\"attributes\":{\"days\":[1,2,3,4,5,6,7,8,9,10,11,12,13,14,15,16,17,18,19,20,21,22,23,24,25,26,27,28,29,30,31]},\"id\":\"15827\",\"type\":\"DaysTicker\"},{\"attributes\":{\"months\":[0,1,2,3,4,5,6,7,8,9,10,11]},\"id\":\"15831\",\"type\":\"MonthsTicker\"},{\"attributes\":{\"data\":{\"Date\":{\"__ndarray__\":\"AADASpoHd0IAAICw7Ad3QgAAQBY/CHdCAAAAfJEId0IAAMDh4wh3QgAAgEc2CXdCAABArYgJd0IAAAAT2wl3QgAAwHgtCndCAACA3n8Kd0IAAEBE0gp3QgAAAKokC3dCAADAD3cLd0IAAIB1yQt3QgAAQNsbDHdCAAAAQW4Md0IAAMCmwAx3QgAAgAwTDXdCAABAcmUNd0IAAADYtw13QgAAwD0KDndCAACAo1wOd0IAAEAJrw53QgAAAG8BD3dCAADA1FMPd0IAAIA6pg93QgAAQKD4D3dCAAAABksQd0IAAMBrnRB3QgAAgNHvEHdCAABAN0IRd0IAAACdlBF3QgAAwALnEXdCAACAaDkSd0IAAEDOixJ3QgAAADTeEndCAADAmTATd0IAAID/ghN3QgAAQGXVE3dCAAAAyycUd0IAAMAwehR3QgAAgJbMFHdCAABA/B4Vd0IAAABicRV3QgAAwMfDFXdCAACALRYWd0IAAECTaBZ3QgAAAPm6FndCAADAXg0Xd0IAAIDEXxd3QgAAQCqyF3dCAAAAkAQYd0IAAMD1Vhh3QgAAgFupGHdCAABAwfsYd0IAAAAnThl3QgAAwIygGXdCAACA8vIZd0IAAEBYRRp3QgAAAL6XGndCAADAI+oad0IAAICJPBt3QgAAQO+OG3dCAAAAVeEbd0IAAMC6Mxx3QgAAgCCGHHdCAABAhtgcd0IAAADsKh13QgAAwFF9HXdCAACAt88dd0IAAEAdIh53QgAAAIN0HndCAADA6MYed0IAAIBOGR93QgAAQLRrH3dCAAAAGr4fd0IAAMB/ECB3QgAAgOViIHdCAABAS7Ugd0IAAACxByF3QgAAwBZaIXdCAACAfKwhd0IAAEDi/iF3QgAAAEhRIndCAADAraMid0IAAIAT9iJ3QgAAQHlII3dCAAAA35ojd0IAAMBE7SN3QgAAgKo/JHdCAABAEJIkd0IAAAB25CR3QgAAwNs2JXdCAACAQYkld0IAAECn2yV3QgAAAA0uJndCAADAcoAmd0IAAIDY0iZ3QgAAQD4lJ3dCAAAApHcnd0IAAMAJyid3QgAAgG8cKHdCAABA1W4od0IAAAA7wSh3QgAAwKATKXdCAACABmYpd0IAAEBsuCl3QgAAANIKKndCAADAN10qd0IAAICdryp3QgAAQAMCK3dCAAAAaVQrd0IAAMDOpit3QgAAgDT5K3dCAABAmkssd0IAAAAAnix3QgAAwGXwLHdCAACAy0Itd0IAAEAxlS13QgAAAJfnLXdCAADA/Dkud0IAAIBijC53QgAAQMjeLndCAAAALjEvd0IAAMCTgy93QgAAgPnVL3dCAABAXygwd0IAAADFejB3QgAAwCrNMHdCAACAkB8xd0IAAED2cTF3QgAAAFzEMXdCAADAwRYyd0IAAIAnaTJ3QgAAQI27MndCAAAA8w0zd0IAAMBYYDN3QgAAgL6yM3dCAABAJAU0d0IAAACKVzR3QgAAwO+pNHdCAACAVfw0d0IAAEC7TjV3QgAAACGhNXdCAADAhvM1d0IAAIDsRTZ3QgAAQFKYNndCAAAAuOo2d0IAAMAdPTd3QgAAgIOPN3dCAABA6eE3d0IAAABPNDh3QgAAwLSGOHdCAACAGtk4d0I=\",\"dtype\":\"float64\",\"order\":\"little\",\"shape\":[154]},\"Variable\":[\"India Confirmed\",\"India Confirmed\",\"India Confirmed\",\"India Confirmed\",\"India Confirmed\",\"India Confirmed\",\"India Confirmed\",\"India Confirmed\",\"India Confirmed\",\"India Confirmed\",\"India Confirmed\",\"India Confirmed\",\"India Confirmed\",\"India Confirmed\",\"India Confirmed\",\"India Confirmed\",\"India Confirmed\",\"India Confirmed\",\"India Confirmed\",\"India Confirmed\",\"India Confirmed\",\"India Confirmed\",\"India Confirmed\",\"India Confirmed\",\"India Confirmed\",\"India Confirmed\",\"India Confirmed\",\"India Confirmed\",\"India Confirmed\",\"India Confirmed\",\"India Confirmed\",\"India Confirmed\",\"India Confirmed\",\"India Confirmed\",\"India Confirmed\",\"India Confirmed\",\"India Confirmed\",\"India Confirmed\",\"India Confirmed\",\"India Confirmed\",\"India Confirmed\",\"India Confirmed\",\"India Confirmed\",\"India Confirmed\",\"India Confirmed\",\"India Confirmed\",\"India Confirmed\",\"India Confirmed\",\"India Confirmed\",\"India Confirmed\",\"India Confirmed\",\"India Confirmed\",\"India Confirmed\",\"India Confirmed\",\"India Confirmed\",\"India Confirmed\",\"India Confirmed\",\"India Confirmed\",\"India Confirmed\",\"India Confirmed\",\"India Confirmed\",\"India Confirmed\",\"India Confirmed\",\"India Confirmed\",\"India Confirmed\",\"India Confirmed\",\"India Confirmed\",\"India Confirmed\",\"India Confirmed\",\"India Confirmed\",\"India Confirmed\",\"India Confirmed\",\"India Confirmed\",\"India Confirmed\",\"India Confirmed\",\"India Confirmed\",\"India Confirmed\",\"India Confirmed\",\"India Confirmed\",\"India Confirmed\",\"India Confirmed\",\"India Confirmed\",\"India Confirmed\",\"India Confirmed\",\"India Confirmed\",\"India Confirmed\",\"India Confirmed\",\"India Confirmed\",\"India Confirmed\",\"India Confirmed\",\"India Confirmed\",\"India Confirmed\",\"India Confirmed\",\"India Confirmed\",\"India Confirmed\",\"India Confirmed\",\"India Confirmed\",\"India Confirmed\",\"India Confirmed\",\"India Confirmed\",\"India Confirmed\",\"India Confirmed\",\"India Confirmed\",\"India Confirmed\",\"India Confirmed\",\"India Confirmed\",\"India Confirmed\",\"India Confirmed\",\"India Confirmed\",\"India Confirmed\",\"India Confirmed\",\"India Confirmed\",\"India Confirmed\",\"India Confirmed\",\"India Confirmed\",\"India Confirmed\",\"India Confirmed\",\"India Confirmed\",\"India Confirmed\",\"India Confirmed\",\"India Confirmed\",\"India Confirmed\",\"India Confirmed\",\"India Confirmed\",\"India Confirmed\",\"India Confirmed\",\"India Confirmed\",\"India Confirmed\",\"India Confirmed\",\"India Confirmed\",\"India Confirmed\",\"India Confirmed\",\"India Confirmed\",\"India Confirmed\",\"India Confirmed\",\"India Confirmed\",\"India Confirmed\",\"India Confirmed\",\"India Confirmed\",\"India Confirmed\",\"India Confirmed\",\"India Confirmed\",\"India Confirmed\",\"India Confirmed\",\"India Confirmed\",\"India Confirmed\",\"India Confirmed\",\"India Confirmed\",\"India Confirmed\",\"India Confirmed\",\"India Confirmed\",\"India Confirmed\",\"India Confirmed\",\"India Confirmed\"],\"value\":[3,3,3,3,3,3,5,6,28,30,31,34,39,46,58,60,74,81,84,110,114,137,151,173,223,283,360,433,519,606,694,724,909,1024,1251,1397,1834,2069,2547,3072,3577,4281,4789,5274,5865,6761,7529,8447,9352,10815,11933,12759,13835,14792,16116,17656,18985,20471,21700,23452,24893,26605,28160,29834,31709,33330,34972,37157,40124,42836,46711,49391,52952,56342,59662,62939,67152,70756,74281,78003,81970,85710,90637,95759,100325,106750,112359,118447,125101,131868,138845,145380,151767,158333,165799,173763,182143,190535,198706,207615,216919,226770,236657,246628,256611,266598,276583,286579,297535,308993,320922,332424,343091,354065,366946,380532,395048,410461,425282,440215,456183,473105,490401,508953,528859,548318,566840,585493,604641,625544,648315,673165,697413,719665,742417,767296,793802,820916,849553,878254,906752,936181,968876,1003832,1038716,1077618,1118043,1155191,1192915,1238635,1287945,1336861,1385522,1435453]},\"selected\":{\"id\":\"15977\"},\"selection_policy\":{\"id\":\"16012\"}},\"id\":\"15976\",\"type\":\"ColumnDataSource\"},{\"attributes\":{\"days\":[1,8,15,22]},\"id\":\"15829\",\"type\":\"DaysTicker\"},{\"attributes\":{\"line_alpha\":0.2,\"line_color\":\"#9367bc\",\"line_width\":2,\"x\":{\"field\":\"Date\"},\"y\":{\"field\":\"value\"}},\"id\":\"15944\",\"type\":\"Line\"},{\"attributes\":{\"days\":[1,4,7,10,13,16,19,22,25,28]},\"id\":\"15828\",\"type\":\"DaysTicker\"},{\"attributes\":{\"click_policy\":\"mute\",\"items\":[{\"id\":\"15839\"},{\"id\":\"15870\"},{\"id\":\"15903\"},{\"id\":\"15938\"},{\"id\":\"15975\"},{\"id\":\"16014\"}],\"location\":[0,0],\"title\":\"Variable\"},\"id\":\"15838\",\"type\":\"Legend\"},{\"attributes\":{},\"id\":\"15977\",\"type\":\"Selection\"},{\"attributes\":{\"line_alpha\":0.1,\"line_color\":\"#2ba02b\",\"line_width\":2,\"x\":{\"field\":\"Date\"},\"y\":{\"field\":\"value\"}},\"id\":\"15875\",\"type\":\"Line\"},{\"attributes\":{\"line_color\":\"#9367bc\",\"line_width\":2,\"x\":{\"field\":\"Date\"},\"y\":{\"field\":\"value\"}},\"id\":\"15942\",\"type\":\"Line\"},{\"attributes\":{\"margin\":[5,5,5,5],\"name\":\"HSpacer21701\",\"sizing_mode\":\"stretch_width\"},\"id\":\"16285\",\"type\":\"Spacer\"},{\"attributes\":{\"months\":[0,4,8]},\"id\":\"15833\",\"type\":\"MonthsTicker\"},{\"attributes\":{\"line_color\":\"#1f77b3\",\"line_width\":2,\"x\":{\"field\":\"Date\"},\"y\":{\"field\":\"value\"}},\"id\":\"15813\",\"type\":\"Line\"},{\"attributes\":{},\"id\":\"15809\",\"type\":\"BasicTickFormatter\"},{\"attributes\":{},\"id\":\"15793\",\"type\":\"SaveTool\"},{\"attributes\":{\"line_alpha\":0.2,\"line_color\":\"#ff7e0e\",\"line_width\":2,\"x\":{\"field\":\"Date\"},\"y\":{\"field\":\"value\"}},\"id\":\"15845\",\"type\":\"Line\"},{\"attributes\":{\"days\":[1,15]},\"id\":\"15830\",\"type\":\"DaysTicker\"},{\"attributes\":{},\"id\":\"15797\",\"type\":\"ResetTool\"},{\"attributes\":{},\"id\":\"15836\",\"type\":\"UnionRenderers\"},{\"attributes\":{\"data\":{\"Date\":{\"__ndarray__\":\"AADASpoHd0IAAICw7Ad3QgAAQBY/CHdCAAAAfJEId0IAAMDh4wh3QgAAgEc2CXdCAABArYgJd0IAAAAT2wl3QgAAwHgtCndCAACA3n8Kd0IAAEBE0gp3QgAAAKokC3dCAADAD3cLd0IAAIB1yQt3QgAAQNsbDHdCAAAAQW4Md0IAAMCmwAx3QgAAgAwTDXdCAABAcmUNd0IAAADYtw13QgAAwD0KDndCAACAo1wOd0IAAEAJrw53QgAAAG8BD3dCAADA1FMPd0IAAIA6pg93QgAAQKD4D3dCAAAABksQd0IAAMBrnRB3QgAAgNHvEHdCAABAN0IRd0IAAACdlBF3QgAAwALnEXdCAACAaDkSd0IAAEDOixJ3QgAAADTeEndCAADAmTATd0IAAID/ghN3QgAAQGXVE3dCAAAAyycUd0IAAMAwehR3QgAAgJbMFHdCAABA/B4Vd0IAAABicRV3QgAAwMfDFXdCAACALRYWd0IAAECTaBZ3QgAAAPm6FndCAADAXg0Xd0IAAIDEXxd3QgAAQCqyF3dCAAAAkAQYd0IAAMD1Vhh3QgAAgFupGHdCAABAwfsYd0IAAAAnThl3QgAAwIygGXdCAACA8vIZd0IAAEBYRRp3QgAAAL6XGndCAADAI+oad0IAAICJPBt3QgAAQO+OG3dCAAAAVeEbd0IAAMC6Mxx3QgAAgCCGHHdCAABAhtgcd0IAAADsKh13QgAAwFF9HXdCAACAt88dd0IAAEAdIh53QgAAAIN0HndCAADA6MYed0IAAIBOGR93QgAAQLRrH3dCAAAAGr4fd0IAAMB/ECB3QgAAgOViIHdCAABAS7Ugd0IAAACxByF3QgAAwBZaIXdCAACAfKwhd0IAAEDi/iF3QgAAAEhRIndCAADAraMid0IAAIAT9iJ3QgAAQHlII3dCAAAA35ojd0IAAMBE7SN3QgAAgKo/JHdCAABAEJIkd0IAAAB25CR3QgAAwNs2JXdCAACAQYkld0IAAECn2yV3QgAAAA0uJndCAADAcoAmd0IAAIDY0iZ3QgAAQD4lJ3dCAAAApHcnd0IAAMAJyid3QgAAgG8cKHdCAABA1W4od0IAAAA7wSh3QgAAwKATKXdCAACABmYpd0IAAEBsuCl3QgAAANIKKndCAADAN10qd0IAAICdryp3QgAAQAMCK3dCAAAAaVQrd0IAAMDOpit3QgAAgDT5K3dCAABAmkssd0IAAAAAnix3QgAAwGXwLHdCAACAy0Itd0IAAEAxlS13QgAAAJfnLXdCAADA/Dkud0IAAIBijC53QgAAQMjeLndCAAAALjEvd0IAAMCTgy93QgAAgPnVL3dCAABAXygwd0IAAADFejB3QgAAwCrNMHdCAACAkB8xd0IAAED2cTF3QgAAAFzEMXdCAADAwRYyd0IAAIAnaTJ3QgAAQI27MndCAAAA8w0zd0IAAMBYYDN3QgAAgL6yM3dCAABAJAU0d0IAAACKVzR3QgAAwO+pNHdCAACAVfw0d0IAAEC7TjV3QgAAACGhNXdCAADAhvM1d0IAAIDsRTZ3QgAAQFKYNndCAAAAuOo2d0IAAMAdPTd3QgAAgIOPN3dCAABA6eE3d0IAAABPNDh3QgAAwLSGOHdCAACAGtk4d0I=\",\"dtype\":\"float64\",\"order\":\"little\",\"shape\":[154]},\"Variable\":[\"USA Deaths\",\"USA Deaths\",\"USA Deaths\",\"USA Deaths\",\"USA Deaths\",\"USA Deaths\",\"USA Deaths\",\"USA Deaths\",\"USA Deaths\",\"USA Deaths\",\"USA Deaths\",\"USA Deaths\",\"USA Deaths\",\"USA Deaths\",\"USA Deaths\",\"USA Deaths\",\"USA Deaths\",\"USA Deaths\",\"USA Deaths\",\"USA Deaths\",\"USA Deaths\",\"USA Deaths\",\"USA Deaths\",\"USA Deaths\",\"USA Deaths\",\"USA Deaths\",\"USA Deaths\",\"USA Deaths\",\"USA Deaths\",\"USA Deaths\",\"USA Deaths\",\"USA Deaths\",\"USA Deaths\",\"USA Deaths\",\"USA Deaths\",\"USA Deaths\",\"USA Deaths\",\"USA Deaths\",\"USA Deaths\",\"USA Deaths\",\"USA Deaths\",\"USA Deaths\",\"USA Deaths\",\"USA Deaths\",\"USA Deaths\",\"USA Deaths\",\"USA Deaths\",\"USA Deaths\",\"USA Deaths\",\"USA Deaths\",\"USA Deaths\",\"USA Deaths\",\"USA Deaths\",\"USA Deaths\",\"USA Deaths\",\"USA Deaths\",\"USA Deaths\",\"USA Deaths\",\"USA Deaths\",\"USA Deaths\",\"USA Deaths\",\"USA Deaths\",\"USA Deaths\",\"USA Deaths\",\"USA Deaths\",\"USA Deaths\",\"USA Deaths\",\"USA Deaths\",\"USA Deaths\",\"USA Deaths\",\"USA Deaths\",\"USA Deaths\",\"USA Deaths\",\"USA Deaths\",\"USA Deaths\",\"USA Deaths\",\"USA Deaths\",\"USA Deaths\",\"USA Deaths\",\"USA Deaths\",\"USA Deaths\",\"USA Deaths\",\"USA Deaths\",\"USA Deaths\",\"USA Deaths\",\"USA Deaths\",\"USA Deaths\",\"USA Deaths\",\"USA Deaths\",\"USA Deaths\",\"USA Deaths\",\"USA Deaths\",\"USA Deaths\",\"USA Deaths\",\"USA Deaths\",\"USA Deaths\",\"USA Deaths\",\"USA Deaths\",\"USA Deaths\",\"USA Deaths\",\"USA Deaths\",\"USA Deaths\",\"USA Deaths\",\"USA Deaths\",\"USA Deaths\",\"USA Deaths\",\"USA Deaths\",\"USA Deaths\",\"USA Deaths\",\"USA Deaths\",\"USA Deaths\",\"USA Deaths\",\"USA Deaths\",\"USA Deaths\",\"USA Deaths\",\"USA Deaths\",\"USA Deaths\",\"USA Deaths\",\"USA Deaths\",\"USA Deaths\",\"USA Deaths\",\"USA Deaths\",\"USA Deaths\",\"USA Deaths\",\"USA Deaths\",\"USA Deaths\",\"USA Deaths\",\"USA Deaths\",\"USA Deaths\",\"USA Deaths\",\"USA Deaths\",\"USA Deaths\",\"USA Deaths\",\"USA Deaths\",\"USA Deaths\",\"USA Deaths\",\"USA Deaths\",\"USA Deaths\",\"USA Deaths\",\"USA Deaths\",\"USA Deaths\",\"USA Deaths\",\"USA Deaths\",\"USA Deaths\",\"USA Deaths\",\"USA Deaths\",\"USA Deaths\",\"USA Deaths\",\"USA Deaths\",\"USA Deaths\",\"USA Deaths\",\"USA Deaths\",\"USA Deaths\",\"USA Deaths\"],\"value\":[0,0,0,0,1,1,6,7,11,12,14,17,21,22,28,33,43,52,58,70,97,131,188,265,362,456,601,784,1021,1333,1746,2300,2934,3561,4381,5605,6846,8432,9747,11031,12470,14138,16447,18563,20638,22731,24777,26548,28376,30780,33329,35442,38056,40442,41671,43466,45923,48312,50749,52867,54517,55810,57235,59454,61960,64256,66125,67681,68777,70086,72393,74851,76770,78497,79976,80855,81868,83483,85234,87008,88669,89892,90644,91414,92965,94533,95756,97025,98146,98754,99267,99952,101461,102643,103809,104778,105364,106136,107169,108159,109168,110138,110818,111269,111774,112714,113631,114512,115334,116084,116382,116773,117612,118363,119067,119739,120349,120604,121010,121847,122604,125026,125631,126120,126361,126711,127432,128105,128803,129442,129689,129960,130285,131480,132300,133290,134101,134777,135205,135566,136466,137415,138358,139266,140119,140534,141025,142121,143316,144430,145560,146465,146935,148011]},\"selected\":{\"id\":\"15841\"},\"selection_policy\":{\"id\":\"15868\"}},\"id\":\"15840\",\"type\":\"ColumnDataSource\"},{\"attributes\":{\"line_alpha\":0.1,\"line_color\":\"#8c564b\",\"line_width\":2,\"x\":{\"field\":\"Date\"},\"y\":{\"field\":\"value\"}},\"id\":\"15980\",\"type\":\"Line\"},{\"attributes\":{\"line_color\":\"#8c564b\",\"line_width\":2,\"x\":{\"field\":\"Date\"},\"y\":{\"field\":\"value\"}},\"id\":\"15979\",\"type\":\"Line\"},{\"attributes\":{\"line_alpha\":0.2,\"line_color\":\"#8c564b\",\"line_width\":2,\"x\":{\"field\":\"Date\"},\"y\":{\"field\":\"value\"}},\"id\":\"15981\",\"type\":\"Line\"},{\"attributes\":{\"axis\":{\"id\":\"15785\"},\"grid_line_color\":null,\"ticker\":null},\"id\":\"15788\",\"type\":\"Grid\"},{\"attributes\":{\"base\":24,\"mantissas\":[1,2,4,6,8,12],\"max_interval\":43200000.0,\"min_interval\":3600000.0,\"num_minor_ticks\":0},\"id\":\"15826\",\"type\":\"AdaptiveTicker\"},{\"attributes\":{\"line_alpha\":0.2,\"line_color\":\"#2ba02b\",\"line_width\":2,\"x\":{\"field\":\"Date\"},\"y\":{\"field\":\"value\"}},\"id\":\"15876\",\"type\":\"Line\"},{\"attributes\":{\"end\":4719284.9,\"reset_end\":4719284.9,\"reset_start\":-429025.9,\"start\":-429025.9,\"tags\":[[[\"value\",\"value\",null]]]},\"id\":\"15769\",\"type\":\"Range1d\"},{\"attributes\":{\"data_source\":{\"id\":\"15810\"},\"glyph\":{\"id\":\"15813\"},\"hover_glyph\":null,\"muted_glyph\":{\"id\":\"15815\"},\"nonselection_glyph\":{\"id\":\"15814\"},\"selection_glyph\":null,\"view\":{\"id\":\"15817\"}},\"id\":\"15816\",\"type\":\"GlyphRenderer\"},{\"attributes\":{\"months\":[0,2,4,6,8,10]},\"id\":\"15832\",\"type\":\"MonthsTicker\"},{\"attributes\":{\"data_source\":{\"id\":\"15976\"},\"glyph\":{\"id\":\"15979\"},\"hover_glyph\":null,\"muted_glyph\":{\"id\":\"15981\"},\"nonselection_glyph\":{\"id\":\"15980\"},\"selection_glyph\":null,\"view\":{\"id\":\"15983\"}},\"id\":\"15982\",\"type\":\"GlyphRenderer\"},{\"attributes\":{\"data_source\":{\"id\":\"15871\"},\"glyph\":{\"id\":\"15874\"},\"hover_glyph\":null,\"muted_glyph\":{\"id\":\"15876\"},\"nonselection_glyph\":{\"id\":\"15875\"},\"selection_glyph\":null,\"view\":{\"id\":\"15878\"}},\"id\":\"15877\",\"type\":\"GlyphRenderer\"},{\"attributes\":{\"margin\":[5,5,5,5],\"name\":\"HSpacer21700\",\"sizing_mode\":\"stretch_width\"},\"id\":\"15767\",\"type\":\"Spacer\"},{\"attributes\":{\"data_source\":{\"id\":\"15840\"},\"glyph\":{\"id\":\"15843\"},\"hover_glyph\":null,\"muted_glyph\":{\"id\":\"15845\"},\"nonselection_glyph\":{\"id\":\"15844\"},\"selection_glyph\":null,\"view\":{\"id\":\"15847\"}},\"id\":\"15846\",\"type\":\"GlyphRenderer\"},{\"attributes\":{\"label\":{\"value\":\"Brazil Confirmed\"},\"renderers\":[{\"id\":\"15877\"}]},\"id\":\"15903\",\"type\":\"LegendItem\"},{\"attributes\":{\"data_source\":{\"id\":\"15904\"},\"glyph\":{\"id\":\"15907\"},\"hover_glyph\":null,\"muted_glyph\":{\"id\":\"15909\"},\"nonselection_glyph\":{\"id\":\"15908\"},\"selection_glyph\":null,\"view\":{\"id\":\"15911\"}},\"id\":\"15910\",\"type\":\"GlyphRenderer\"},{\"attributes\":{},\"id\":\"15811\",\"type\":\"Selection\"},{\"attributes\":{\"label\":{\"value\":\"India Deaths\"},\"renderers\":[{\"id\":\"15945\"}]},\"id\":\"15975\",\"type\":\"LegendItem\"},{\"attributes\":{\"source\":{\"id\":\"15976\"}},\"id\":\"15983\",\"type\":\"CDSView\"},{\"attributes\":{\"base\":60,\"mantissas\":[1,2,5,10,15,20,30],\"max_interval\":1800000.0,\"min_interval\":1000.0,\"num_minor_ticks\":0},\"id\":\"15825\",\"type\":\"AdaptiveTicker\"},{\"attributes\":{},\"id\":\"15936\",\"type\":\"UnionRenderers\"},{\"attributes\":{\"label\":{\"value\":\"USA Deaths\"},\"renderers\":[{\"id\":\"15846\"}]},\"id\":\"15870\",\"type\":\"LegendItem\"},{\"attributes\":{},\"id\":\"15872\",\"type\":\"Selection\"},{\"attributes\":{},\"id\":\"15841\",\"type\":\"Selection\"},{\"attributes\":{},\"id\":\"15790\",\"type\":\"BasicTicker\"},{\"attributes\":{\"overlay\":{\"id\":\"15798\"}},\"id\":\"15796\",\"type\":\"BoxZoomTool\"},{\"attributes\":{\"data\":{\"Date\":{\"__ndarray__\":\"AADASpoHd0IAAICw7Ad3QgAAQBY/CHdCAAAAfJEId0IAAMDh4wh3QgAAgEc2CXdCAABArYgJd0IAAAAT2wl3QgAAwHgtCndCAACA3n8Kd0IAAEBE0gp3QgAAAKokC3dCAADAD3cLd0IAAIB1yQt3QgAAQNsbDHdCAAAAQW4Md0IAAMCmwAx3QgAAgAwTDXdCAABAcmUNd0IAAADYtw13QgAAwD0KDndCAACAo1wOd0IAAEAJrw53QgAAAG8BD3dCAADA1FMPd0IAAIA6pg93QgAAQKD4D3dCAAAABksQd0IAAMBrnRB3QgAAgNHvEHdCAABAN0IRd0IAAACdlBF3QgAAwALnEXdCAACAaDkSd0IAAEDOixJ3QgAAADTeEndCAADAmTATd0IAAID/ghN3QgAAQGXVE3dCAAAAyycUd0IAAMAwehR3QgAAgJbMFHdCAABA/B4Vd0IAAABicRV3QgAAwMfDFXdCAACALRYWd0IAAECTaBZ3QgAAAPm6FndCAADAXg0Xd0IAAIDEXxd3QgAAQCqyF3dCAAAAkAQYd0IAAMD1Vhh3QgAAgFupGHdCAABAwfsYd0IAAAAnThl3QgAAwIygGXdCAACA8vIZd0IAAEBYRRp3QgAAAL6XGndCAADAI+oad0IAAICJPBt3QgAAQO+OG3dCAAAAVeEbd0IAAMC6Mxx3QgAAgCCGHHdCAABAhtgcd0IAAADsKh13QgAAwFF9HXdCAACAt88dd0IAAEAdIh53QgAAAIN0HndCAADA6MYed0IAAIBOGR93QgAAQLRrH3dCAAAAGr4fd0IAAMB/ECB3QgAAgOViIHdCAABAS7Ugd0IAAACxByF3QgAAwBZaIXdCAACAfKwhd0IAAEDi/iF3QgAAAEhRIndCAADAraMid0IAAIAT9iJ3QgAAQHlII3dCAAAA35ojd0IAAMBE7SN3QgAAgKo/JHdCAABAEJIkd0IAAAB25CR3QgAAwNs2JXdCAACAQYkld0IAAECn2yV3QgAAAA0uJndCAADAcoAmd0IAAIDY0iZ3QgAAQD4lJ3dCAAAApHcnd0IAAMAJyid3QgAAgG8cKHdCAABA1W4od0IAAAA7wSh3QgAAwKATKXdCAACABmYpd0IAAEBsuCl3QgAAANIKKndCAADAN10qd0IAAICdryp3QgAAQAMCK3dCAAAAaVQrd0IAAMDOpit3QgAAgDT5K3dCAABAmkssd0IAAAAAnix3QgAAwGXwLHdCAACAy0Itd0IAAEAxlS13QgAAAJfnLXdCAADA/Dkud0IAAIBijC53QgAAQMjeLndCAAAALjEvd0IAAMCTgy93QgAAgPnVL3dCAABAXygwd0IAAADFejB3QgAAwCrNMHdCAACAkB8xd0IAAED2cTF3QgAAAFzEMXdCAADAwRYyd0IAAIAnaTJ3QgAAQI27MndCAAAA8w0zd0IAAMBYYDN3QgAAgL6yM3dCAABAJAU0d0IAAACKVzR3QgAAwO+pNHdCAACAVfw0d0IAAEC7TjV3QgAAACGhNXdCAADAhvM1d0IAAIDsRTZ3QgAAQFKYNndCAAAAuOo2d0IAAMAdPTd3QgAAgIOPN3dCAABA6eE3d0IAAABPNDh3QgAAwLSGOHdCAACAGtk4d0I=\",\"dtype\":\"float64\",\"order\":\"little\",\"shape\":[154]},\"Variable\":[\"USA Confirmed\",\"USA Confirmed\",\"USA Confirmed\",\"USA Confirmed\",\"USA Confirmed\",\"USA Confirmed\",\"USA Confirmed\",\"USA Confirmed\",\"USA Confirmed\",\"USA Confirmed\",\"USA Confirmed\",\"USA Confirmed\",\"USA Confirmed\",\"USA Confirmed\",\"USA Confirmed\",\"USA Confirmed\",\"USA Confirmed\",\"USA Confirmed\",\"USA Confirmed\",\"USA Confirmed\",\"USA Confirmed\",\"USA Confirmed\",\"USA Confirmed\",\"USA Confirmed\",\"USA Confirmed\",\"USA Confirmed\",\"USA Confirmed\",\"USA Confirmed\",\"USA Confirmed\",\"USA Confirmed\",\"USA Confirmed\",\"USA Confirmed\",\"USA Confirmed\",\"USA Confirmed\",\"USA Confirmed\",\"USA Confirmed\",\"USA Confirmed\",\"USA Confirmed\",\"USA Confirmed\",\"USA Confirmed\",\"USA Confirmed\",\"USA Confirmed\",\"USA Confirmed\",\"USA Confirmed\",\"USA Confirmed\",\"USA Confirmed\",\"USA Confirmed\",\"USA Confirmed\",\"USA Confirmed\",\"USA Confirmed\",\"USA Confirmed\",\"USA Confirmed\",\"USA Confirmed\",\"USA Confirmed\",\"USA Confirmed\",\"USA Confirmed\",\"USA Confirmed\",\"USA Confirmed\",\"USA Confirmed\",\"USA Confirmed\",\"USA Confirmed\",\"USA Confirmed\",\"USA Confirmed\",\"USA Confirmed\",\"USA Confirmed\",\"USA Confirmed\",\"USA Confirmed\",\"USA Confirmed\",\"USA Confirmed\",\"USA Confirmed\",\"USA Confirmed\",\"USA Confirmed\",\"USA Confirmed\",\"USA Confirmed\",\"USA Confirmed\",\"USA Confirmed\",\"USA Confirmed\",\"USA Confirmed\",\"USA Confirmed\",\"USA Confirmed\",\"USA Confirmed\",\"USA Confirmed\",\"USA Confirmed\",\"USA Confirmed\",\"USA Confirmed\",\"USA Confirmed\",\"USA Confirmed\",\"USA Confirmed\",\"USA Confirmed\",\"USA Confirmed\",\"USA Confirmed\",\"USA Confirmed\",\"USA Confirmed\",\"USA Confirmed\",\"USA Confirmed\",\"USA Confirmed\",\"USA Confirmed\",\"USA Confirmed\",\"USA Confirmed\",\"USA Confirmed\",\"USA Confirmed\",\"USA Confirmed\",\"USA Confirmed\",\"USA Confirmed\",\"USA Confirmed\",\"USA Confirmed\",\"USA Confirmed\",\"USA Confirmed\",\"USA Confirmed\",\"USA Confirmed\",\"USA Confirmed\",\"USA Confirmed\",\"USA Confirmed\",\"USA Confirmed\",\"USA Confirmed\",\"USA Confirmed\",\"USA Confirmed\",\"USA Confirmed\",\"USA Confirmed\",\"USA Confirmed\",\"USA Confirmed\",\"USA Confirmed\",\"USA Confirmed\",\"USA Confirmed\",\"USA Confirmed\",\"USA Confirmed\",\"USA Confirmed\",\"USA Confirmed\",\"USA Confirmed\",\"USA Confirmed\",\"USA Confirmed\",\"USA Confirmed\",\"USA Confirmed\",\"USA Confirmed\",\"USA Confirmed\",\"USA Confirmed\",\"USA Confirmed\",\"USA Confirmed\",\"USA Confirmed\",\"USA Confirmed\",\"USA Confirmed\",\"USA Confirmed\",\"USA Confirmed\",\"USA Confirmed\",\"USA Confirmed\",\"USA Confirmed\",\"USA Confirmed\",\"USA Confirmed\",\"USA Confirmed\",\"USA Confirmed\",\"USA Confirmed\",\"USA Confirmed\",\"USA Confirmed\",\"USA Confirmed\"],\"value\":[15,15,16,16,24,30,53,73,104,174,222,337,451,519,711,1109,1561,2157,2870,2968,4360,6141,8917,14157,19479,25825,33761,43850,54112,66055,84091,102276,122069,141205,162707,188724,214205,244610,276547,309699,337573,367215,397992,429686,464442,497943,527969,556522,581813,608878,637974,669272,701996,730337,756375,783716,809318,837422,871617,907908,940829,968518,990983,1015518,1043038,1072667,1106829,1136024,1161611,1184086,1208271,1233527,1261409,1288587,1314320,1334084,1352962,1375152,1396110,1423727,1449027,1474128,1493132,1514901,1535350,1559157,1584512,1608653,1630476,1651289,1670280,1689163,1707445,1730260,1754764,1779214,1799124,1816479,1837374,1857332,1878683,1903907,1926639,1944370,1961785,1979912,2000706,2023656,2048986,2074542,2094366,2114026,2137731,2163290,2191099,2222579,2255328,2281767,2312303,2347491,2382426,2422299,2467554,2510259,2549864,2590668,2636414,2687588,2742049,2795361,2841241,2891124,2936077,2996098,3054699,3117946,3185737,3245925,3304942,3364157,3431574,3498902,3576157,3647715,3711413,3773260,3834677,3899211,3970121,4038816,4112531,4178970,4233923,4290259]},\"selected\":{\"id\":\"15811\"},\"selection_policy\":{\"id\":\"15836\"}},\"id\":\"15810\",\"type\":\"ColumnDataSource\"},{\"attributes\":{\"line_alpha\":0.2,\"line_color\":\"#d62628\",\"line_width\":2,\"x\":{\"field\":\"Date\"},\"y\":{\"field\":\"value\"}},\"id\":\"15909\",\"type\":\"Line\"},{\"attributes\":{\"axis\":{\"id\":\"15789\"},\"dimension\":1,\"grid_line_color\":null,\"ticker\":null},\"id\":\"15792\",\"type\":\"Grid\"},{\"attributes\":{\"axis_label\":\"Date\",\"bounds\":\"auto\",\"formatter\":{\"id\":\"15807\"},\"major_label_orientation\":\"horizontal\",\"ticker\":{\"id\":\"15786\"}},\"id\":\"15785\",\"type\":\"DatetimeAxis\"},{\"attributes\":{},\"id\":\"15973\",\"type\":\"UnionRenderers\"},{\"attributes\":{\"children\":[{\"id\":\"15767\"},{\"id\":\"15776\"},{\"id\":\"16285\"}],\"margin\":[0,0,0,0],\"name\":\"Row21696\",\"tags\":[\"embedded\"]},\"id\":\"15766\",\"type\":\"Row\"},{\"attributes\":{\"data\":{\"Date\":{\"__ndarray__\":\"AADASpoHd0IAAICw7Ad3QgAAQBY/CHdCAAAAfJEId0IAAMDh4wh3QgAAgEc2CXdCAABArYgJd0IAAAAT2wl3QgAAwHgtCndCAACA3n8Kd0IAAEBE0gp3QgAAAKokC3dCAADAD3cLd0IAAIB1yQt3QgAAQNsbDHdCAAAAQW4Md0IAAMCmwAx3QgAAgAwTDXdCAABAcmUNd0IAAADYtw13QgAAwD0KDndCAACAo1wOd0IAAEAJrw53QgAAAG8BD3dCAADA1FMPd0IAAIA6pg93QgAAQKD4D3dCAAAABksQd0IAAMBrnRB3QgAAgNHvEHdCAABAN0IRd0IAAACdlBF3QgAAwALnEXdCAACAaDkSd0IAAEDOixJ3QgAAADTeEndCAADAmTATd0IAAID/ghN3QgAAQGXVE3dCAAAAyycUd0IAAMAwehR3QgAAgJbMFHdCAABA/B4Vd0IAAABicRV3QgAAwMfDFXdCAACALRYWd0IAAECTaBZ3QgAAAPm6FndCAADAXg0Xd0IAAIDEXxd3QgAAQCqyF3dCAAAAkAQYd0IAAMD1Vhh3QgAAgFupGHdCAABAwfsYd0IAAAAnThl3QgAAwIygGXdCAACA8vIZd0IAAEBYRRp3QgAAAL6XGndCAADAI+oad0IAAICJPBt3QgAAQO+OG3dCAAAAVeEbd0IAAMC6Mxx3QgAAgCCGHHdCAABAhtgcd0IAAADsKh13QgAAwFF9HXdCAACAt88dd0IAAEAdIh53QgAAAIN0HndCAADA6MYed0IAAIBOGR93QgAAQLRrH3dCAAAAGr4fd0IAAMB/ECB3QgAAgOViIHdCAABAS7Ugd0IAAACxByF3QgAAwBZaIXdCAACAfKwhd0IAAEDi/iF3QgAAAEhRIndCAADAraMid0IAAIAT9iJ3QgAAQHlII3dCAAAA35ojd0IAAMBE7SN3QgAAgKo/JHdCAABAEJIkd0IAAAB25CR3QgAAwNs2JXdCAACAQYkld0IAAECn2yV3QgAAAA0uJndCAADAcoAmd0IAAIDY0iZ3QgAAQD4lJ3dCAAAApHcnd0IAAMAJyid3QgAAgG8cKHdCAABA1W4od0IAAAA7wSh3QgAAwKATKXdCAACABmYpd0IAAEBsuCl3QgAAANIKKndCAADAN10qd0IAAICdryp3QgAAQAMCK3dCAAAAaVQrd0IAAMDOpit3QgAAgDT5K3dCAABAmkssd0IAAAAAnix3QgAAwGXwLHdCAACAy0Itd0IAAEAxlS13QgAAAJfnLXdCAADA/Dkud0IAAIBijC53QgAAQMjeLndCAAAALjEvd0IAAMCTgy93QgAAgPnVL3dCAABAXygwd0IAAADFejB3QgAAwCrNMHdCAACAkB8xd0IAAED2cTF3QgAAAFzEMXdCAADAwRYyd0IAAIAnaTJ3QgAAQI27MndCAAAA8w0zd0IAAMBYYDN3QgAAgL6yM3dCAABAJAU0d0IAAACKVzR3QgAAwO+pNHdCAACAVfw0d0IAAEC7TjV3QgAAACGhNXdCAADAhvM1d0IAAIDsRTZ3QgAAQFKYNndCAAAAuOo2d0IAAMAdPTd3QgAAgIOPN3dCAABA6eE3d0IAAABPNDh3QgAAwLSGOHdCAACAGtk4d0I=\",\"dtype\":\"float64\",\"order\":\"little\",\"shape\":[154]},\"Variable\":[\"India Deaths\",\"India Deaths\",\"India Deaths\",\"India Deaths\",\"India Deaths\",\"India Deaths\",\"India Deaths\",\"India Deaths\",\"India Deaths\",\"India Deaths\",\"India Deaths\",\"India Deaths\",\"India Deaths\",\"India Deaths\",\"India Deaths\",\"India Deaths\",\"India Deaths\",\"India Deaths\",\"India Deaths\",\"India Deaths\",\"India Deaths\",\"India Deaths\",\"India Deaths\",\"India Deaths\",\"India Deaths\",\"India Deaths\",\"India Deaths\",\"India Deaths\",\"India Deaths\",\"India Deaths\",\"India Deaths\",\"India Deaths\",\"India Deaths\",\"India Deaths\",\"India Deaths\",\"India Deaths\",\"India Deaths\",\"India Deaths\",\"India Deaths\",\"India Deaths\",\"India Deaths\",\"India Deaths\",\"India Deaths\",\"India Deaths\",\"India Deaths\",\"India Deaths\",\"India Deaths\",\"India Deaths\",\"India Deaths\",\"India Deaths\",\"India Deaths\",\"India Deaths\",\"India Deaths\",\"India Deaths\",\"India Deaths\",\"India Deaths\",\"India Deaths\",\"India Deaths\",\"India Deaths\",\"India Deaths\",\"India Deaths\",\"India Deaths\",\"India Deaths\",\"India Deaths\",\"India Deaths\",\"India Deaths\",\"India Deaths\",\"India Deaths\",\"India Deaths\",\"India Deaths\",\"India Deaths\",\"India Deaths\",\"India Deaths\",\"India Deaths\",\"India Deaths\",\"India Deaths\",\"India Deaths\",\"India Deaths\",\"India Deaths\",\"India Deaths\",\"India Deaths\",\"India Deaths\",\"India Deaths\",\"India Deaths\",\"India Deaths\",\"India Deaths\",\"India Deaths\",\"India Deaths\",\"India Deaths\",\"India Deaths\",\"India Deaths\",\"India Deaths\",\"India Deaths\",\"India Deaths\",\"India Deaths\",\"India Deaths\",\"India Deaths\",\"India Deaths\",\"India Deaths\",\"India Deaths\",\"India Deaths\",\"India Deaths\",\"India Deaths\",\"India Deaths\",\"India Deaths\",\"India Deaths\",\"India Deaths\",\"India Deaths\",\"India Deaths\",\"India Deaths\",\"India Deaths\",\"India Deaths\",\"India Deaths\",\"India Deaths\",\"India Deaths\",\"India Deaths\",\"India Deaths\",\"India Deaths\",\"India Deaths\",\"India Deaths\",\"India Deaths\",\"India Deaths\",\"India Deaths\",\"India Deaths\",\"India Deaths\",\"India Deaths\",\"India Deaths\",\"India Deaths\",\"India Deaths\",\"India Deaths\",\"India Deaths\",\"India Deaths\",\"India Deaths\",\"India Deaths\",\"India Deaths\",\"India Deaths\",\"India Deaths\",\"India Deaths\",\"India Deaths\",\"India Deaths\",\"India Deaths\",\"India Deaths\",\"India Deaths\",\"India Deaths\",\"India Deaths\",\"India Deaths\",\"India Deaths\",\"India Deaths\",\"India Deaths\",\"India Deaths\",\"India Deaths\",\"India Deaths\",\"India Deaths\",\"India Deaths\"],\"value\":[0,0,0,0,0,0,0,0,0,0,0,0,0,0,0,0,0,1,2,2,2,3,3,4,4,4,7,7,9,10,15,17,19,27,31,35,41,53,62,75,83,111,124,149,169,206,242,273,324,353,392,420,452,488,519,559,603,652,686,723,779,826,886,937,1008,1075,1152,1218,1306,1389,1583,1694,1783,1886,1981,2109,2206,2293,2415,2549,2649,2752,2872,3029,3163,3303,3435,3583,3720,3867,4021,4167,4337,4531,4706,4971,5164,5394,5598,5815,6075,6348,6642,6929,7135,7466,7745,8102,8498,8884,9195,9520,9900,11903,12237,12573,12948,13254,13699,14011,14476,14894,15301,15685,16095,16475,16893,17400,17834,18213,18655,19268,19693,20160,20642,21129,21604,22123,22674,23174,23727,24309,24915,25602,26273,26816,27497,28084,28732,29861,30601,31358,32063,32771]},\"selected\":{\"id\":\"15940\"},\"selection_policy\":{\"id\":\"15973\"}},\"id\":\"15939\",\"type\":\"ColumnDataSource\"},{\"attributes\":{},\"id\":\"15905\",\"type\":\"Selection\"},{\"attributes\":{\"axis_label\":\"\",\"bounds\":\"auto\",\"formatter\":{\"id\":\"15809\"},\"major_label_orientation\":\"horizontal\",\"ticker\":{\"id\":\"15790\"}},\"id\":\"15789\",\"type\":\"LinearAxis\"},{\"attributes\":{\"line_color\":\"#ff7e0e\",\"line_width\":2,\"x\":{\"field\":\"Date\"},\"y\":{\"field\":\"value\"}},\"id\":\"15843\",\"type\":\"Line\"},{\"attributes\":{},\"id\":\"15807\",\"type\":\"DatetimeTickFormatter\"},{\"attributes\":{\"source\":{\"id\":\"15939\"}},\"id\":\"15946\",\"type\":\"CDSView\"},{\"attributes\":{\"months\":[0,6]},\"id\":\"15834\",\"type\":\"MonthsTicker\"},{\"attributes\":{},\"id\":\"15794\",\"type\":\"PanTool\"},{\"attributes\":{\"data\":{\"Date\":{\"__ndarray__\":\"AADASpoHd0IAAICw7Ad3QgAAQBY/CHdCAAAAfJEId0IAAMDh4wh3QgAAgEc2CXdCAABArYgJd0IAAAAT2wl3QgAAwHgtCndCAACA3n8Kd0IAAEBE0gp3QgAAAKokC3dCAADAD3cLd0IAAIB1yQt3QgAAQNsbDHdCAAAAQW4Md0IAAMCmwAx3QgAAgAwTDXdCAABAcmUNd0IAAADYtw13QgAAwD0KDndCAACAo1wOd0IAAEAJrw53QgAAAG8BD3dCAADA1FMPd0IAAIA6pg93QgAAQKD4D3dCAAAABksQd0IAAMBrnRB3QgAAgNHvEHdCAABAN0IRd0IAAACdlBF3QgAAwALnEXdCAACAaDkSd0IAAEDOixJ3QgAAADTeEndCAADAmTATd0IAAID/ghN3QgAAQGXVE3dCAAAAyycUd0IAAMAwehR3QgAAgJbMFHdCAABA/B4Vd0IAAABicRV3QgAAwMfDFXdCAACALRYWd0IAAECTaBZ3QgAAAPm6FndCAADAXg0Xd0IAAIDEXxd3QgAAQCqyF3dCAAAAkAQYd0IAAMD1Vhh3QgAAgFupGHdCAABAwfsYd0IAAAAnThl3QgAAwIygGXdCAACA8vIZd0IAAEBYRRp3QgAAAL6XGndCAADAI+oad0IAAICJPBt3QgAAQO+OG3dCAAAAVeEbd0IAAMC6Mxx3QgAAgCCGHHdCAABAhtgcd0IAAADsKh13QgAAwFF9HXdCAACAt88dd0IAAEAdIh53QgAAAIN0HndCAADA6MYed0IAAIBOGR93QgAAQLRrH3dCAAAAGr4fd0IAAMB/ECB3QgAAgOViIHdCAABAS7Ugd0IAAACxByF3QgAAwBZaIXdCAACAfKwhd0IAAEDi/iF3QgAAAEhRIndCAADAraMid0IAAIAT9iJ3QgAAQHlII3dCAAAA35ojd0IAAMBE7SN3QgAAgKo/JHdCAABAEJIkd0IAAAB25CR3QgAAwNs2JXdCAACAQYkld0IAAECn2yV3QgAAAA0uJndCAADAcoAmd0IAAIDY0iZ3QgAAQD4lJ3dCAAAApHcnd0IAAMAJyid3QgAAgG8cKHdCAABA1W4od0IAAAA7wSh3QgAAwKATKXdCAACABmYpd0IAAEBsuCl3QgAAANIKKndCAADAN10qd0IAAICdryp3QgAAQAMCK3dCAAAAaVQrd0IAAMDOpit3QgAAgDT5K3dCAABAmkssd0IAAAAAnix3QgAAwGXwLHdCAACAy0Itd0IAAEAxlS13QgAAAJfnLXdCAADA/Dkud0IAAIBijC53QgAAQMjeLndCAAAALjEvd0IAAMCTgy93QgAAgPnVL3dCAABAXygwd0IAAADFejB3QgAAwCrNMHdCAACAkB8xd0IAAED2cTF3QgAAAFzEMXdCAADAwRYyd0IAAIAnaTJ3QgAAQI27MndCAAAA8w0zd0IAAMBYYDN3QgAAgL6yM3dCAABAJAU0d0IAAACKVzR3QgAAwO+pNHdCAACAVfw0d0IAAEC7TjV3QgAAACGhNXdCAADAhvM1d0IAAIDsRTZ3QgAAQFKYNndCAAAAuOo2d0IAAMAdPTd3QgAAgIOPN3dCAABA6eE3d0IAAABPNDh3QgAAwLSGOHdCAACAGtk4d0I=\",\"dtype\":\"float64\",\"order\":\"little\",\"shape\":[154]},\"Variable\":[\"Brazil Confirmed\",\"Brazil Confirmed\",\"Brazil Confirmed\",\"Brazil Confirmed\",\"Brazil Confirmed\",\"Brazil Confirmed\",\"Brazil Confirmed\",\"Brazil Confirmed\",\"Brazil Confirmed\",\"Brazil Confirmed\",\"Brazil Confirmed\",\"Brazil Confirmed\",\"Brazil Confirmed\",\"Brazil Confirmed\",\"Brazil Confirmed\",\"Brazil Confirmed\",\"Brazil Confirmed\",\"Brazil Confirmed\",\"Brazil Confirmed\",\"Brazil Confirmed\",\"Brazil Confirmed\",\"Brazil Confirmed\",\"Brazil Confirmed\",\"Brazil Confirmed\",\"Brazil Confirmed\",\"Brazil Confirmed\",\"Brazil Confirmed\",\"Brazil Confirmed\",\"Brazil Confirmed\",\"Brazil Confirmed\",\"Brazil Confirmed\",\"Brazil Confirmed\",\"Brazil Confirmed\",\"Brazil Confirmed\",\"Brazil Confirmed\",\"Brazil Confirmed\",\"Brazil Confirmed\",\"Brazil Confirmed\",\"Brazil Confirmed\",\"Brazil Confirmed\",\"Brazil Confirmed\",\"Brazil Confirmed\",\"Brazil Confirmed\",\"Brazil Confirmed\",\"Brazil Confirmed\",\"Brazil Confirmed\",\"Brazil Confirmed\",\"Brazil Confirmed\",\"Brazil Confirmed\",\"Brazil Confirmed\",\"Brazil Confirmed\",\"Brazil Confirmed\",\"Brazil Confirmed\",\"Brazil Confirmed\",\"Brazil Confirmed\",\"Brazil Confirmed\",\"Brazil Confirmed\",\"Brazil Confirmed\",\"Brazil Confirmed\",\"Brazil Confirmed\",\"Brazil Confirmed\",\"Brazil Confirmed\",\"Brazil Confirmed\",\"Brazil Confirmed\",\"Brazil Confirmed\",\"Brazil Confirmed\",\"Brazil Confirmed\",\"Brazil Confirmed\",\"Brazil Confirmed\",\"Brazil Confirmed\",\"Brazil Confirmed\",\"Brazil Confirmed\",\"Brazil Confirmed\",\"Brazil Confirmed\",\"Brazil Confirmed\",\"Brazil Confirmed\",\"Brazil Confirmed\",\"Brazil Confirmed\",\"Brazil Confirmed\",\"Brazil Confirmed\",\"Brazil Confirmed\",\"Brazil Confirmed\",\"Brazil Confirmed\",\"Brazil Confirmed\",\"Brazil Confirmed\",\"Brazil Confirmed\",\"Brazil Confirmed\",\"Brazil Confirmed\",\"Brazil Confirmed\",\"Brazil Confirmed\",\"Brazil Confirmed\",\"Brazil Confirmed\",\"Brazil Confirmed\",\"Brazil Confirmed\",\"Brazil Confirmed\",\"Brazil Confirmed\",\"Brazil Confirmed\",\"Brazil Confirmed\",\"Brazil Confirmed\",\"Brazil Confirmed\",\"Brazil Confirmed\",\"Brazil Confirmed\",\"Brazil Confirmed\",\"Brazil Confirmed\",\"Brazil Confirmed\",\"Brazil Confirmed\",\"Brazil Confirmed\",\"Brazil Confirmed\",\"Brazil Confirmed\",\"Brazil Confirmed\",\"Brazil Confirmed\",\"Brazil Confirmed\",\"Brazil Confirmed\",\"Brazil Confirmed\",\"Brazil Confirmed\",\"Brazil Confirmed\",\"Brazil Confirmed\",\"Brazil Confirmed\",\"Brazil Confirmed\",\"Brazil Confirmed\",\"Brazil Confirmed\",\"Brazil Confirmed\",\"Brazil Confirmed\",\"Brazil Confirmed\",\"Brazil Confirmed\",\"Brazil Confirmed\",\"Brazil Confirmed\",\"Brazil Confirmed\",\"Brazil Confirmed\",\"Brazil Confirmed\",\"Brazil Confirmed\",\"Brazil Confirmed\",\"Brazil Confirmed\",\"Brazil Confirmed\",\"Brazil Confirmed\",\"Brazil Confirmed\",\"Brazil Confirmed\",\"Brazil Confirmed\",\"Brazil Confirmed\",\"Brazil Confirmed\",\"Brazil Confirmed\",\"Brazil Confirmed\",\"Brazil Confirmed\",\"Brazil Confirmed\",\"Brazil Confirmed\",\"Brazil Confirmed\",\"Brazil Confirmed\",\"Brazil Confirmed\",\"Brazil Confirmed\",\"Brazil Confirmed\",\"Brazil Confirmed\",\"Brazil Confirmed\",\"Brazil Confirmed\",\"Brazil Confirmed\"],\"value\":[0,1,1,1,2,2,2,2,3,7,13,19,25,25,34,52,77,98,121,200,234,291,428,621,904,1128,1546,1891,2201,2433,2915,3417,3903,4256,4579,5717,6834,7910,9056,10278,11130,12056,13717,15927,17857,19638,20727,22169,23430,25262,28320,30425,33682,36599,38654,40581,43079,45757,49492,52995,58509,61888,66501,71886,78162,85380,91299,96396,101147,107780,114715,125218,135106,145328,155939,162699,168331,177589,188974,202918,218223,233142,241080,254220,271628,291579,310087,330890,347398,363211,374898,391222,411821,438238,465166,498440,514200,526447,555383,584016,614941,645771,672846,691758,707412,739503,772416,802828,828810,850514,867624,888271,923189,955377,978142,1032913,1067579,1085038,1106470,1145906,1188631,1228114,1274974,1313667,1344143,1368195,1402041,1448753,1496858,1539081,1577004,1603055,1623284,1668589,1713160,1755779,1800827,1839850,1864681,1884967,1926824,1966748,2012151,2046328,2074860,2098389,2118646,2159654,2227514,2287475,2343366,2394513,2419091,2442375]},\"selected\":{\"id\":\"15872\"},\"selection_policy\":{\"id\":\"15901\"}},\"id\":\"15871\",\"type\":\"ColumnDataSource\"},{\"attributes\":{\"line_alpha\":0.1,\"line_color\":\"#1f77b3\",\"line_width\":2,\"x\":{\"field\":\"Date\"},\"y\":{\"field\":\"value\"}},\"id\":\"15814\",\"type\":\"Line\"},{\"attributes\":{\"bottom_units\":\"screen\",\"fill_alpha\":0.5,\"fill_color\":\"lightgrey\",\"left_units\":\"screen\",\"level\":\"overlay\",\"line_alpha\":1.0,\"line_color\":\"black\",\"line_dash\":[4,4],\"line_width\":2,\"right_units\":\"screen\",\"top_units\":\"screen\"},\"id\":\"15798\",\"type\":\"BoxAnnotation\"},{\"attributes\":{\"source\":{\"id\":\"15871\"}},\"id\":\"15878\",\"type\":\"CDSView\"},{\"attributes\":{\"line_color\":\"#d62628\",\"line_width\":2,\"x\":{\"field\":\"Date\"},\"y\":{\"field\":\"value\"}},\"id\":\"15907\",\"type\":\"Line\"},{\"attributes\":{\"data_source\":{\"id\":\"15939\"},\"glyph\":{\"id\":\"15942\"},\"hover_glyph\":null,\"muted_glyph\":{\"id\":\"15944\"},\"nonselection_glyph\":{\"id\":\"15943\"},\"selection_glyph\":null,\"view\":{\"id\":\"15946\"}},\"id\":\"15945\",\"type\":\"GlyphRenderer\"},{\"attributes\":{\"line_alpha\":0.1,\"line_color\":\"#ff7e0e\",\"line_width\":2,\"x\":{\"field\":\"Date\"},\"y\":{\"field\":\"value\"}},\"id\":\"15844\",\"type\":\"Line\"},{\"attributes\":{\"line_alpha\":0.2,\"line_color\":\"#1f77b3\",\"line_width\":2,\"x\":{\"field\":\"Date\"},\"y\":{\"field\":\"value\"}},\"id\":\"15815\",\"type\":\"Line\"},{\"attributes\":{\"line_alpha\":0.1,\"line_color\":\"#d62628\",\"line_width\":2,\"x\":{\"field\":\"Date\"},\"y\":{\"field\":\"value\"}},\"id\":\"15908\",\"type\":\"Line\"},{\"attributes\":{},\"id\":\"15940\",\"type\":\"Selection\"},{\"attributes\":{\"mantissas\":[1,2,5],\"max_interval\":500.0,\"num_minor_ticks\":0},\"id\":\"15824\",\"type\":\"AdaptiveTicker\"},{\"attributes\":{},\"id\":\"15781\",\"type\":\"LinearScale\"},{\"attributes\":{},\"id\":\"15783\",\"type\":\"LinearScale\"},{\"attributes\":{\"line_color\":\"#2ba02b\",\"line_width\":2,\"x\":{\"field\":\"Date\"},\"y\":{\"field\":\"value\"}},\"id\":\"15874\",\"type\":\"Line\"},{\"attributes\":{\"label\":{\"value\":\"Brazil Deaths\"},\"renderers\":[{\"id\":\"15910\"}]},\"id\":\"15938\",\"type\":\"LegendItem\"},{\"attributes\":{\"label\":{\"value\":\"USA Confirmed\"},\"renderers\":[{\"id\":\"15816\"}]},\"id\":\"15839\",\"type\":\"LegendItem\"},{\"attributes\":{\"data\":{\"Date\":{\"__ndarray__\":\"AADASpoHd0IAAICw7Ad3QgAAQBY/CHdCAAAAfJEId0IAAMDh4wh3QgAAgEc2CXdCAABArYgJd0IAAAAT2wl3QgAAwHgtCndCAACA3n8Kd0IAAEBE0gp3QgAAAKokC3dCAADAD3cLd0IAAIB1yQt3QgAAQNsbDHdCAAAAQW4Md0IAAMCmwAx3QgAAgAwTDXdCAABAcmUNd0IAAADYtw13QgAAwD0KDndCAACAo1wOd0IAAEAJrw53QgAAAG8BD3dCAADA1FMPd0IAAIA6pg93QgAAQKD4D3dCAAAABksQd0IAAMBrnRB3QgAAgNHvEHdCAABAN0IRd0IAAACdlBF3QgAAwALnEXdCAACAaDkSd0IAAEDOixJ3QgAAADTeEndCAADAmTATd0IAAID/ghN3QgAAQGXVE3dCAAAAyycUd0IAAMAwehR3QgAAgJbMFHdCAABA/B4Vd0IAAABicRV3QgAAwMfDFXdCAACALRYWd0IAAECTaBZ3QgAAAPm6FndCAADAXg0Xd0IAAIDEXxd3QgAAQCqyF3dCAAAAkAQYd0IAAMD1Vhh3QgAAgFupGHdCAABAwfsYd0IAAAAnThl3QgAAwIygGXdCAACA8vIZd0IAAEBYRRp3QgAAAL6XGndCAADAI+oad0IAAICJPBt3QgAAQO+OG3dCAAAAVeEbd0IAAMC6Mxx3QgAAgCCGHHdCAABAhtgcd0IAAADsKh13QgAAwFF9HXdCAACAt88dd0IAAEAdIh53QgAAAIN0HndCAADA6MYed0IAAIBOGR93QgAAQLRrH3dCAAAAGr4fd0IAAMB/ECB3QgAAgOViIHdCAABAS7Ugd0IAAACxByF3QgAAwBZaIXdCAACAfKwhd0IAAEDi/iF3QgAAAEhRIndCAADAraMid0IAAIAT9iJ3QgAAQHlII3dCAAAA35ojd0IAAMBE7SN3QgAAgKo/JHdCAABAEJIkd0IAAAB25CR3QgAAwNs2JXdCAACAQYkld0IAAECn2yV3QgAAAA0uJndCAADAcoAmd0IAAIDY0iZ3QgAAQD4lJ3dCAAAApHcnd0IAAMAJyid3QgAAgG8cKHdCAABA1W4od0IAAAA7wSh3QgAAwKATKXdCAACABmYpd0IAAEBsuCl3QgAAANIKKndCAADAN10qd0IAAICdryp3QgAAQAMCK3dCAAAAaVQrd0IAAMDOpit3QgAAgDT5K3dCAABAmkssd0IAAAAAnix3QgAAwGXwLHdCAACAy0Itd0IAAEAxlS13QgAAAJfnLXdCAADA/Dkud0IAAIBijC53QgAAQMjeLndCAAAALjEvd0IAAMCTgy93QgAAgPnVL3dCAABAXygwd0IAAADFejB3QgAAwCrNMHdCAACAkB8xd0IAAED2cTF3QgAAAFzEMXdCAADAwRYyd0IAAIAnaTJ3QgAAQI27MndCAAAA8w0zd0IAAMBYYDN3QgAAgL6yM3dCAABAJAU0d0IAAACKVzR3QgAAwO+pNHdCAACAVfw0d0IAAEC7TjV3QgAAACGhNXdCAADAhvM1d0IAAIDsRTZ3QgAAQFKYNndCAAAAuOo2d0IAAMAdPTd3QgAAgIOPN3dCAABA6eE3d0IAAABPNDh3QgAAwLSGOHdCAACAGtk4d0I=\",\"dtype\":\"float64\",\"order\":\"little\",\"shape\":[154]},\"Variable\":[\"Brazil Deaths\",\"Brazil Deaths\",\"Brazil Deaths\",\"Brazil Deaths\",\"Brazil Deaths\",\"Brazil Deaths\",\"Brazil Deaths\",\"Brazil Deaths\",\"Brazil Deaths\",\"Brazil Deaths\",\"Brazil Deaths\",\"Brazil Deaths\",\"Brazil Deaths\",\"Brazil Deaths\",\"Brazil Deaths\",\"Brazil Deaths\",\"Brazil Deaths\",\"Brazil Deaths\",\"Brazil Deaths\",\"Brazil Deaths\",\"Brazil Deaths\",\"Brazil Deaths\",\"Brazil Deaths\",\"Brazil Deaths\",\"Brazil Deaths\",\"Brazil Deaths\",\"Brazil Deaths\",\"Brazil Deaths\",\"Brazil Deaths\",\"Brazil Deaths\",\"Brazil Deaths\",\"Brazil Deaths\",\"Brazil Deaths\",\"Brazil Deaths\",\"Brazil Deaths\",\"Brazil Deaths\",\"Brazil Deaths\",\"Brazil Deaths\",\"Brazil Deaths\",\"Brazil Deaths\",\"Brazil Deaths\",\"Brazil Deaths\",\"Brazil Deaths\",\"Brazil Deaths\",\"Brazil Deaths\",\"Brazil Deaths\",\"Brazil Deaths\",\"Brazil Deaths\",\"Brazil Deaths\",\"Brazil Deaths\",\"Brazil Deaths\",\"Brazil Deaths\",\"Brazil Deaths\",\"Brazil Deaths\",\"Brazil Deaths\",\"Brazil Deaths\",\"Brazil Deaths\",\"Brazil Deaths\",\"Brazil Deaths\",\"Brazil Deaths\",\"Brazil Deaths\",\"Brazil Deaths\",\"Brazil Deaths\",\"Brazil Deaths\",\"Brazil Deaths\",\"Brazil Deaths\",\"Brazil Deaths\",\"Brazil Deaths\",\"Brazil Deaths\",\"Brazil Deaths\",\"Brazil Deaths\",\"Brazil Deaths\",\"Brazil Deaths\",\"Brazil Deaths\",\"Brazil Deaths\",\"Brazil Deaths\",\"Brazil Deaths\",\"Brazil Deaths\",\"Brazil Deaths\",\"Brazil Deaths\",\"Brazil Deaths\",\"Brazil Deaths\",\"Brazil Deaths\",\"Brazil Deaths\",\"Brazil Deaths\",\"Brazil Deaths\",\"Brazil Deaths\",\"Brazil Deaths\",\"Brazil Deaths\",\"Brazil Deaths\",\"Brazil Deaths\",\"Brazil Deaths\",\"Brazil Deaths\",\"Brazil Deaths\",\"Brazil Deaths\",\"Brazil Deaths\",\"Brazil Deaths\",\"Brazil Deaths\",\"Brazil Deaths\",\"Brazil Deaths\",\"Brazil Deaths\",\"Brazil Deaths\",\"Brazil Deaths\",\"Brazil Deaths\",\"Brazil Deaths\",\"Brazil Deaths\",\"Brazil Deaths\",\"Brazil Deaths\",\"Brazil Deaths\",\"Brazil Deaths\",\"Brazil Deaths\",\"Brazil Deaths\",\"Brazil Deaths\",\"Brazil Deaths\",\"Brazil Deaths\",\"Brazil Deaths\",\"Brazil Deaths\",\"Brazil Deaths\",\"Brazil Deaths\",\"Brazil Deaths\",\"Brazil Deaths\",\"Brazil Deaths\",\"Brazil Deaths\",\"Brazil Deaths\",\"Brazil Deaths\",\"Brazil Deaths\",\"Brazil Deaths\",\"Brazil Deaths\",\"Brazil Deaths\",\"Brazil Deaths\",\"Brazil Deaths\",\"Brazil Deaths\",\"Brazil Deaths\",\"Brazil Deaths\",\"Brazil Deaths\",\"Brazil Deaths\",\"Brazil Deaths\",\"Brazil Deaths\",\"Brazil Deaths\",\"Brazil Deaths\",\"Brazil Deaths\",\"Brazil Deaths\",\"Brazil Deaths\",\"Brazil Deaths\",\"Brazil Deaths\",\"Brazil Deaths\",\"Brazil Deaths\",\"Brazil Deaths\",\"Brazil Deaths\",\"Brazil Deaths\",\"Brazil Deaths\",\"Brazil Deaths\",\"Brazil Deaths\",\"Brazil Deaths\"],\"value\":[0,0,0,0,0,0,0,0,0,0,0,0,0,0,0,0,0,0,0,0,0,1,4,6,11,18,25,34,46,57,77,92,114,136,159,201,241,299,359,432,486,553,667,800,941,1056,1124,1223,1328,1532,1736,1924,2141,2347,2462,2575,2741,2906,3313,3670,4016,4205,4543,5017,5466,5901,6329,6724,7025,7321,7921,8535,9146,9895,10627,11123,11519,12400,13149,13993,14817,15633,16118,16792,17971,18859,20047,21046,22013,22666,23473,24512,25598,26754,27878,28834,29314,29937,31199,32548,34021,35026,35930,36455,37134,38406,39680,40919,41828,42720,43332,43959,45241,46510,47748,48954,49976,50617,51271,52645,53830,54971,55961,57070,57622,58314,59594,60632,61884,63174,64265,64867,65487,66741,67964,69184,70398,71469,72100,72833,74133,75366,76688,77851,78772,79488,80120,81487,82771,84082,85238,86449,87004,87618]},\"selected\":{\"id\":\"15905\"},\"selection_policy\":{\"id\":\"15936\"}},\"id\":\"15904\",\"type\":\"ColumnDataSource\"}],\"root_ids\":[\"15766\"]},\"title\":\"Bokeh Application\",\"version\":\"2.1.1\"}};\n",
       "  var render_items = [{\"docid\":\"2f3601fa-c353-4537-bc2f-18b77992641b\",\"root_ids\":[\"15766\"],\"roots\":{\"15766\":\"e9cea00f-8812-4249-95ca-7a4692fedeeb\"}}];\n",
       "  root.Bokeh.embed.embed_items_notebook(docs_json, render_items);\n",
       "  }\n",
       "if (root.Bokeh !== undefined) {\n",
       "    embed_document(root);\n",
       "  } else {\n",
       "    var attempts = 0;\n",
       "    var timer = setInterval(function(root) {\n",
       "      if (root.Bokeh !== undefined) {\n",
       "        clearInterval(timer);\n",
       "        embed_document(root);\n",
       "      } else if (document.readyState == \"complete\") {\n",
       "        attempts++;\n",
       "        if (attempts > 100) {\n",
       "          clearInterval(timer);\n",
       "          console.log(\"Bokeh: ERROR: Unable to run BokehJS code because BokehJS library is missing\");\n",
       "        }\n",
       "      }\n",
       "    }, 10, root)\n",
       "  }\n",
       "})(window);</script>"
      ],
      "text/plain": [
       ":NdOverlay   [Variable]\n",
       "   :Curve   [Date]   (value)"
      ]
     },
     "execution_count": 254,
     "metadata": {
      "application/vnd.holoviews_exec.v0+json": {
       "id": "15766"
      }
     },
     "output_type": "execute_result"
    }
   ],
   "source": [
    "#global_daily_corona_raw_clean.plot(title = 'Global Corona Cases and Deaths Compared', figsize = (20,10))\n",
    "#Roman\n",
    "\n",
    "global_daily_corona_raw_clean['Date'] = global_daily_corona_raw_clean.index\n",
    "global_daily_corona_raw_clean.hvplot(kind='line',x='Date', y=['USA Confirmed', 'USA Deaths', 'Brazil Confirmed', 'Brazil Deaths', 'India Deaths', 'India Confirmed'], title='Total Confirmed/Deaths by Country')"
   ]
  },
  {
   "cell_type": "code",
   "execution_count": 255,
   "metadata": {},
   "outputs": [
    {
     "data": {
      "text/html": [
       "<div>\n",
       "<style scoped>\n",
       "    .dataframe tbody tr th:only-of-type {\n",
       "        vertical-align: middle;\n",
       "    }\n",
       "\n",
       "    .dataframe tbody tr th {\n",
       "        vertical-align: top;\n",
       "    }\n",
       "\n",
       "    .dataframe thead th {\n",
       "        text-align: right;\n",
       "    }\n",
       "</style>\n",
       "<table border=\"1\" class=\"dataframe\">\n",
       "  <thead>\n",
       "    <tr style=\"text-align: right;\">\n",
       "      <th></th>\n",
       "      <th>USA Confirmed</th>\n",
       "      <th>USA Deaths</th>\n",
       "      <th>Brazil Confirmed</th>\n",
       "      <th>Brazil Deaths</th>\n",
       "      <th>India Deaths</th>\n",
       "      <th>India Confirmed</th>\n",
       "    </tr>\n",
       "  </thead>\n",
       "  <tbody>\n",
       "    <tr>\n",
       "      <th>2020-03-17</th>\n",
       "      <td>0.408486</td>\n",
       "      <td>0.350515</td>\n",
       "      <td>0.243590</td>\n",
       "      <td>inf</td>\n",
       "      <td>3</td>\n",
       "      <td>137</td>\n",
       "    </tr>\n",
       "    <tr>\n",
       "      <th>2020-03-18</th>\n",
       "      <td>0.452044</td>\n",
       "      <td>0.435115</td>\n",
       "      <td>0.470790</td>\n",
       "      <td>3.000000</td>\n",
       "      <td>3</td>\n",
       "      <td>151</td>\n",
       "    </tr>\n",
       "    <tr>\n",
       "      <th>2020-03-19</th>\n",
       "      <td>0.587642</td>\n",
       "      <td>0.409574</td>\n",
       "      <td>0.450935</td>\n",
       "      <td>0.500000</td>\n",
       "      <td>4</td>\n",
       "      <td>173</td>\n",
       "    </tr>\n",
       "    <tr>\n",
       "      <th>2020-03-20</th>\n",
       "      <td>366.528302</td>\n",
       "      <td>59.333333</td>\n",
       "      <td>0.455717</td>\n",
       "      <td>0.833333</td>\n",
       "      <td>4</td>\n",
       "      <td>223</td>\n",
       "    </tr>\n",
       "    <tr>\n",
       "      <th>2020-03-21</th>\n",
       "      <td>0.325787</td>\n",
       "      <td>0.259669</td>\n",
       "      <td>0.247788</td>\n",
       "      <td>0.636364</td>\n",
       "      <td>4</td>\n",
       "      <td>283</td>\n",
       "    </tr>\n",
       "  </tbody>\n",
       "</table>\n",
       "</div>"
      ],
      "text/plain": [
       "            USA Confirmed  USA Deaths  Brazil Confirmed  Brazil Deaths  \\\n",
       "2020-03-17       0.408486    0.350515          0.243590            inf   \n",
       "2020-03-18       0.452044    0.435115          0.470790       3.000000   \n",
       "2020-03-19       0.587642    0.409574          0.450935       0.500000   \n",
       "2020-03-20     366.528302   59.333333          0.455717       0.833333   \n",
       "2020-03-21       0.325787    0.259669          0.247788       0.636364   \n",
       "\n",
       "            India Deaths  India Confirmed  \n",
       "2020-03-17             3              137  \n",
       "2020-03-18             3              151  \n",
       "2020-03-19             4              173  \n",
       "2020-03-20             4              223  \n",
       "2020-03-21             4              283  "
      ]
     },
     "execution_count": 255,
     "metadata": {},
     "output_type": "execute_result"
    }
   ],
   "source": [
    "#Concat global coronavirus table\n",
    "global_daily_corona = pd.concat([US_coronavirus_data_returns, Brazil_coronavirus_returns, India_coronavirus_data], axis='columns', join='inner')\n",
    "global_daily_corona.columns = [\n",
    "  'USA Confirmed',\n",
    "  'USA Deaths',\n",
    "  'Brazil Confirmed',\n",
    "  'Brazil Deaths',\n",
    "  'India Deaths',\n",
    "  'India Confirmed',\n",
    "]\n",
    "global_daily_corona_clean = global_daily_corona.dropna()\n",
    "global_daily_corona_clean.head()"
   ]
  },
  {
   "cell_type": "code",
   "execution_count": 256,
   "metadata": {},
   "outputs": [
    {
     "data": {
      "application/vnd.plotly.v1+json": {
       "config": {
        "plotlyServerURL": "https://plot.ly"
       },
       "data": [
        {
         "hovertemplate": "variable=USA Confirmed<br>index=%{x}<br>value=%{y}<extra></extra>",
         "legendgroup": "USA Confirmed",
         "marker": {
          "color": "#636efa",
          "symbol": "circle"
         },
         "mode": "markers",
         "name": "USA Confirmed",
         "orientation": "v",
         "showlegend": true,
         "type": "scatter",
         "x": [
          "2020-03-17T00:00:00",
          "2020-03-18T00:00:00",
          "2020-03-19T00:00:00",
          "2020-03-20T00:00:00",
          "2020-03-21T00:00:00",
          "2020-03-22T00:00:00",
          "2020-03-23T00:00:00",
          "2020-03-24T00:00:00",
          "2020-03-25T00:00:00",
          "2020-03-26T00:00:00",
          "2020-03-27T00:00:00",
          "2020-03-28T00:00:00",
          "2020-03-29T00:00:00",
          "2020-03-30T00:00:00",
          "2020-03-31T00:00:00",
          "2020-04-01T00:00:00",
          "2020-04-10T00:00:00",
          "2020-04-11T00:00:00",
          "2020-04-12T00:00:00",
          "2020-04-13T00:00:00",
          "2020-04-14T00:00:00",
          "2020-04-15T00:00:00",
          "2020-04-16T00:00:00",
          "2020-04-17T00:00:00",
          "2020-04-18T00:00:00",
          "2020-04-19T00:00:00",
          "2020-04-02T00:00:00",
          "2020-04-20T00:00:00",
          "2020-04-21T00:00:00",
          "2020-04-22T00:00:00",
          "2020-04-23T00:00:00",
          "2020-04-24T00:00:00",
          "2020-04-25T00:00:00",
          "2020-04-26T00:00:00",
          "2020-04-27T00:00:00",
          "2020-04-28T00:00:00",
          "2020-04-29T00:00:00",
          "2020-04-03T00:00:00",
          "2020-04-30T00:00:00",
          "2020-04-04T00:00:00",
          "2020-04-05T00:00:00",
          "2020-04-06T00:00:00",
          "2020-04-07T00:00:00",
          "2020-04-08T00:00:00",
          "2020-04-09T00:00:00",
          "2020-05-01T00:00:00",
          "2020-05-10T00:00:00",
          "2020-05-11T00:00:00",
          "2020-05-12T00:00:00",
          "2020-05-13T00:00:00",
          "2020-05-14T00:00:00",
          "2020-05-15T00:00:00",
          "2020-05-16T00:00:00",
          "2020-05-17T00:00:00",
          "2020-05-18T00:00:00",
          "2020-05-19T00:00:00",
          "2020-05-02T00:00:00",
          "2020-05-20T00:00:00",
          "2020-05-21T00:00:00",
          "2020-05-22T00:00:00",
          "2020-05-23T00:00:00",
          "2020-05-24T00:00:00",
          "2020-05-25T00:00:00",
          "2020-05-26T00:00:00",
          "2020-05-27T00:00:00",
          "2020-05-28T00:00:00",
          "2020-05-29T00:00:00",
          "2020-05-03T00:00:00",
          "2020-05-30T00:00:00",
          "2020-05-31T00:00:00",
          "2020-05-04T00:00:00",
          "2020-05-05T00:00:00",
          "2020-05-06T00:00:00",
          "2020-05-07T00:00:00",
          "2020-05-08T00:00:00",
          "2020-05-09T00:00:00",
          "2020-06-01T00:00:00",
          "2020-06-10T00:00:00",
          "2020-06-11T00:00:00",
          "2020-06-12T00:00:00",
          "2020-06-13T00:00:00",
          "2020-06-14T00:00:00",
          "2020-06-15T00:00:00",
          "2020-06-16T00:00:00",
          "2020-06-17T00:00:00",
          "2020-06-18T00:00:00",
          "2020-06-19T00:00:00",
          "2020-06-02T00:00:00",
          "2020-06-20T00:00:00",
          "2020-06-21T00:00:00",
          "2020-06-22T00:00:00",
          "2020-06-23T00:00:00",
          "2020-06-24T00:00:00",
          "2020-06-25T00:00:00",
          "2020-06-26T00:00:00",
          "2020-06-27T00:00:00",
          "2020-06-28T00:00:00",
          "2020-06-29T00:00:00",
          "2020-06-03T00:00:00",
          "2020-06-30T00:00:00",
          "2020-06-04T00:00:00",
          "2020-06-05T00:00:00",
          "2020-06-06T00:00:00",
          "2020-06-07T00:00:00",
          "2020-06-08T00:00:00",
          "2020-06-09T00:00:00",
          "2020-07-01T00:00:00",
          "2020-07-10T00:00:00",
          "2020-07-11T00:00:00",
          "2020-07-12T00:00:00",
          "2020-07-13T00:00:00",
          "2020-07-14T00:00:00",
          "2020-07-15T00:00:00",
          "2020-07-16T00:00:00",
          "2020-07-17T00:00:00",
          "2020-07-18T00:00:00",
          "2020-07-19T00:00:00",
          "2020-07-02T00:00:00",
          "2020-07-20T00:00:00",
          "2020-07-21T00:00:00",
          "2020-07-22T00:00:00",
          "2020-07-23T00:00:00",
          "2020-07-24T00:00:00",
          "2020-07-25T00:00:00",
          "2020-07-26T00:00:00",
          "2020-07-27T00:00:00",
          "2020-07-03T00:00:00",
          "2020-07-04T00:00:00",
          "2020-07-05T00:00:00",
          "2020-07-06T00:00:00",
          "2020-07-07T00:00:00",
          "2020-07-08T00:00:00",
          "2020-07-09T00:00:00"
         ],
         "xaxis": "x",
         "y": [
          0.4084862385321102,
          0.452043641100798,
          0.587641583492206,
          366.52830188679246,
          0.3257867446994198,
          0.3072991287512101,
          0.2988359349545333,
          0.23402508551881418,
          0.22070890005913668,
          0.273045189614715,
          0.21625382026614015,
          0.19352536274394772,
          0.156763797524351,
          2227.8630136986303,
          0.15990092620477303,
          411.72639691714835,
          1.3246096029504448,
          0.06030007450651986,
          0.054080826715204866,
          0.04544474432277612,
          0.04651838305434919,
          0.04778625603158604,
          0.04905842557847184,
          0.04889491865788509,
          0.0403720249118229,
          0.035652034608680605,
          -0.6766022145099984,
          2.2039409672539962,
          0.03266744586049031,
          0.03472553433878889,
          0.040833653761186195,
          0.041636406816296656,
          0.03626028187878072,
          0.02943042784608041,
          0.023195232303374835,
          0.024758245096030862,
          0.027099470418052718,
          -0.7348639263382541,
          2.8787873309057774,
          -0.7112813202979116,
          0.09000351954639818,
          0.08780915535306444,
          0.08381193578693691,
          0.07963476652797041,
          0.08088697327816119,
          1.3831371839756095,
          0.2053207857763033,
          0.01415053324978044,
          0.016401051914244347,
          0.015240497050507784,
          0.019781392583678947,
          0.017770260731165388,
          0.017322658584001616,
          0.012891689188455846,
          0.014579420975506574,
          0.013498571853870267,
          -0.26008792783404433,
          0.37246836334443634,
          0.01626199285896157,
          0.01523560566281601,
          0.013566008331193924,
          0.012764983967872068,
          0.011500712473709873,
          0.011305290130996015,
          0.010823111801525398,
          0.013362070227737943,
          0.014162033451619926,
          -0.33802437250821193,
          0.5316779885865406,
          0.01119033460842811,
          -0.3418541467958851,
          0.020425036694969867,
          0.020902595526996803,
          0.022603477670128047,
          0.021545747652030434,
          0.01996993606174824,
          0.3820675330208778,
          0.10141983474623162,
          0.011470950754383757,
          0.012516949521064857,
          0.012472510793143599,
          0.009555844133307456,
          0.009387088980627123,
          0.011213201729780131,
          0.011956134798999596,
          0.012854957033037628,
          0.014367219372561468,
          -0.17331442436916755,
          0.22747355737046449,
          0.01172290682330912,
          0.013382610932667571,
          0.01521772881841188,
          0.014881846192381643,
          0.016736301568233358,
          0.018682664691683337,
          0.017306612134931898,
          0.015777256450429933,
          0.016002422089962387,
          -0.28306830516299275,
          0.41946297161735213,
          -0.28740971637990087,
          0.013426426917154233,
          0.011939658817368803,
          0.009203073331329747,
          0.008956628625210294,
          0.009240054338268466,
          0.35742800690131693,
          0.185351698251369,
          0.018892959462755377,
          0.018181874196107506,
          0.017917107168597735,
          0.020039790057360563,
          0.019620150986107143,
          0.022079783886487903,
          0.020009747894178087,
          0.017462438814435988,
          0.016664003709638386,
          -0.27329444565177063,
          0.398471362109138,
          0.016829057571211337,
          0.01818573039520044,
          0.017302999077358105,
          0.0182516361230618,
          0.016155258160971853,
          0.013149891001849712,
          0.013305863143944663,
          -0.34844003590459227,
          0.016412906955488138,
          0.017556764808053904,
          0.01554862399537349,
          0.020442583760575728,
          0.01955910654457904,
          0.020704822308188042
         ],
         "yaxis": "y"
        },
        {
         "hovertemplate": "variable=USA Deaths<br>index=%{x}<br>value=%{y}<extra></extra>",
         "legendgroup": "USA Deaths",
         "marker": {
          "color": "#EF553B",
          "symbol": "circle"
         },
         "mode": "markers",
         "name": "USA Deaths",
         "orientation": "v",
         "showlegend": true,
         "type": "scatter",
         "x": [
          "2020-03-17T00:00:00",
          "2020-03-18T00:00:00",
          "2020-03-19T00:00:00",
          "2020-03-20T00:00:00",
          "2020-03-21T00:00:00",
          "2020-03-22T00:00:00",
          "2020-03-23T00:00:00",
          "2020-03-24T00:00:00",
          "2020-03-25T00:00:00",
          "2020-03-26T00:00:00",
          "2020-03-27T00:00:00",
          "2020-03-28T00:00:00",
          "2020-03-29T00:00:00",
          "2020-03-30T00:00:00",
          "2020-03-31T00:00:00",
          "2020-04-01T00:00:00",
          "2020-04-10T00:00:00",
          "2020-04-11T00:00:00",
          "2020-04-12T00:00:00",
          "2020-04-13T00:00:00",
          "2020-04-14T00:00:00",
          "2020-04-15T00:00:00",
          "2020-04-16T00:00:00",
          "2020-04-17T00:00:00",
          "2020-04-18T00:00:00",
          "2020-04-19T00:00:00",
          "2020-04-02T00:00:00",
          "2020-04-20T00:00:00",
          "2020-04-21T00:00:00",
          "2020-04-22T00:00:00",
          "2020-04-23T00:00:00",
          "2020-04-24T00:00:00",
          "2020-04-25T00:00:00",
          "2020-04-26T00:00:00",
          "2020-04-27T00:00:00",
          "2020-04-28T00:00:00",
          "2020-04-29T00:00:00",
          "2020-04-03T00:00:00",
          "2020-04-30T00:00:00",
          "2020-04-04T00:00:00",
          "2020-04-05T00:00:00",
          "2020-04-06T00:00:00",
          "2020-04-07T00:00:00",
          "2020-04-08T00:00:00",
          "2020-04-09T00:00:00",
          "2020-05-01T00:00:00",
          "2020-05-10T00:00:00",
          "2020-05-11T00:00:00",
          "2020-05-12T00:00:00",
          "2020-05-13T00:00:00",
          "2020-05-14T00:00:00",
          "2020-05-15T00:00:00",
          "2020-05-16T00:00:00",
          "2020-05-17T00:00:00",
          "2020-05-18T00:00:00",
          "2020-05-19T00:00:00",
          "2020-05-02T00:00:00",
          "2020-05-20T00:00:00",
          "2020-05-21T00:00:00",
          "2020-05-22T00:00:00",
          "2020-05-23T00:00:00",
          "2020-05-24T00:00:00",
          "2020-05-25T00:00:00",
          "2020-05-26T00:00:00",
          "2020-05-27T00:00:00",
          "2020-05-28T00:00:00",
          "2020-05-29T00:00:00",
          "2020-05-03T00:00:00",
          "2020-05-30T00:00:00",
          "2020-05-31T00:00:00",
          "2020-05-04T00:00:00",
          "2020-05-05T00:00:00",
          "2020-05-06T00:00:00",
          "2020-05-07T00:00:00",
          "2020-05-08T00:00:00",
          "2020-05-09T00:00:00",
          "2020-06-01T00:00:00",
          "2020-06-10T00:00:00",
          "2020-06-11T00:00:00",
          "2020-06-12T00:00:00",
          "2020-06-13T00:00:00",
          "2020-06-14T00:00:00",
          "2020-06-15T00:00:00",
          "2020-06-16T00:00:00",
          "2020-06-17T00:00:00",
          "2020-06-18T00:00:00",
          "2020-06-19T00:00:00",
          "2020-06-02T00:00:00",
          "2020-06-20T00:00:00",
          "2020-06-21T00:00:00",
          "2020-06-22T00:00:00",
          "2020-06-23T00:00:00",
          "2020-06-24T00:00:00",
          "2020-06-25T00:00:00",
          "2020-06-26T00:00:00",
          "2020-06-27T00:00:00",
          "2020-06-28T00:00:00",
          "2020-06-29T00:00:00",
          "2020-06-03T00:00:00",
          "2020-06-30T00:00:00",
          "2020-06-04T00:00:00",
          "2020-06-05T00:00:00",
          "2020-06-06T00:00:00",
          "2020-06-07T00:00:00",
          "2020-06-08T00:00:00",
          "2020-06-09T00:00:00",
          "2020-07-01T00:00:00",
          "2020-07-10T00:00:00",
          "2020-07-11T00:00:00",
          "2020-07-12T00:00:00",
          "2020-07-13T00:00:00",
          "2020-07-14T00:00:00",
          "2020-07-15T00:00:00",
          "2020-07-16T00:00:00",
          "2020-07-17T00:00:00",
          "2020-07-18T00:00:00",
          "2020-07-19T00:00:00",
          "2020-07-02T00:00:00",
          "2020-07-20T00:00:00",
          "2020-07-21T00:00:00",
          "2020-07-22T00:00:00",
          "2020-07-23T00:00:00",
          "2020-07-24T00:00:00",
          "2020-07-25T00:00:00",
          "2020-07-26T00:00:00",
          "2020-07-27T00:00:00",
          "2020-07-03T00:00:00",
          "2020-07-04T00:00:00",
          "2020-07-05T00:00:00",
          "2020-07-06T00:00:00",
          "2020-07-07T00:00:00",
          "2020-07-08T00:00:00",
          "2020-07-09T00:00:00"
         ],
         "xaxis": "x",
         "y": [
          0.35051546391752586,
          0.43511450381679384,
          0.40957446808510634,
          59.333333333333336,
          0.2596685082872927,
          0.3179824561403508,
          0.3044925124792013,
          0.30229591836734704,
          0.30558276199804113,
          0.3098274568642161,
          0.3172966781214204,
          0.27565217391304353,
          0.2137014314928425,
          624.8571428571429,
          0.2793882675188313,
          310.1818181818182,
          2.3203330411919367,
          0.09000923848488851,
          0.0714775800137224,
          0.06885641102907947,
          0.08471948125176199,
          0.08281351526965564,
          0.06339824177143027,
          0.07375430280458217,
          0.06269707799032997,
          0.030389199347213403,
          -0.7976530440834153,
          4.1548861480075905,
          0.05652694059724839,
          0.05202186268318698,
          0.05044295413147881,
          0.04173481250862077,
          0.031210395899143206,
          0.02371737256268691,
          0.025533058591650226,
          0.03876998340176474,
          0.042150233794193914,
          -0.8426888315041963,
          5.592387401251667,
          -0.8283273157370518,
          0.13045054845435589,
          0.1337610264635125,
          0.16331871551846078,
          0.12865568188727416,
          0.11178150083499427,
          2.2040410892528346,
          0.2227599243856333,
          0.012528600581287463,
          0.019726877412419963,
          0.020974330103134875,
          0.020813290470938828,
          0.019090198602427444,
          0.01379287011244057,
          0.008365594268678,
          0.008494770751511505,
          0.016966766578423442,
          -0.2719733232937127,
          0.3967435469334082,
          0.012937281161075953,
          0.013252433267889163,
          0.011553723267199167,
          0.0061948525665844745,
          0.0051947262895679636,
          0.006900581260640415,
          0.015097246678405618,
          0.011649796473521823,
          0.011359761503463517,
          -0.33746592299318945,
          0.5234453378309609,
          0.005592777109698632,
          -0.3348202422079648,
          0.03291670233712862,
          0.033953559045764026,
          0.025637600032063723,
          0.022495766575485243,
          0.018841484387938312,
          0.32709812943883154,
          0.0706169442978819,
          0.007753165949432761,
          0.007178286991756266,
          0.006502852584667096,
          0.002567106577995304,
          0.0033596260590125215,
          0.0071848800664537915,
          0.006385402850049404,
          0.005947804634894416,
          0.005643881176144561,
          -0.10497832786310224,
          0.12298332540193524,
          0.002118837713649402,
          0.0033663891744883934,
          0.006916783736881316,
          0.006212709381437476,
          0.019754657270562026,
          0.0048389934893542375,
          0.003892351410081929,
          0.0019108785283856733,
          0.0027698419607316005,
          -0.14641191372493312,
          0.17819136641426048,
          -0.14332349802247468,
          0.00888538765938729,
          0.006174072527193264,
          0.004069735963471599,
          0.00453855071942777,
          0.00840982697228343,
          0.13654914207640578,
          0.04680535498224114,
          0.005040976577355805,
          0.003175616017569771,
          0.002670019599866791,
          0.006638832745673673,
          0.0069541131124235545,
          0.00686242404395454,
          0.00656268520793879,
          0.006124969482860232,
          0.002961768211306115,
          -0.08347446169610206,
          0.09488909419811642,
          0.007771671689416726,
          0.008408328114775543,
          0.007773033017946407,
          0.007823859309007863,
          0.006217367408628771,
          0.0032089577714813355,
          0.007322965937319292,
          -0.1254568917175075,
          0.0019081905409372713,
          0.0020896143851829585,
          0.0025007694675285297,
          0.009172199408987947,
          0.006236689990873234,
          0.007482993197278853
         ],
         "yaxis": "y"
        },
        {
         "hovertemplate": "variable=Brazil Confirmed<br>index=%{x}<br>value=%{y}<extra></extra>",
         "legendgroup": "Brazil Confirmed",
         "marker": {
          "color": "#00cc96",
          "symbol": "circle"
         },
         "mode": "markers",
         "name": "Brazil Confirmed",
         "orientation": "v",
         "showlegend": true,
         "type": "scatter",
         "x": [
          "2020-03-17T00:00:00",
          "2020-03-18T00:00:00",
          "2020-03-19T00:00:00",
          "2020-03-20T00:00:00",
          "2020-03-21T00:00:00",
          "2020-03-22T00:00:00",
          "2020-03-23T00:00:00",
          "2020-03-24T00:00:00",
          "2020-03-25T00:00:00",
          "2020-03-26T00:00:00",
          "2020-03-27T00:00:00",
          "2020-03-28T00:00:00",
          "2020-03-29T00:00:00",
          "2020-03-30T00:00:00",
          "2020-03-31T00:00:00",
          "2020-04-01T00:00:00",
          "2020-04-10T00:00:00",
          "2020-04-11T00:00:00",
          "2020-04-12T00:00:00",
          "2020-04-13T00:00:00",
          "2020-04-14T00:00:00",
          "2020-04-15T00:00:00",
          "2020-04-16T00:00:00",
          "2020-04-17T00:00:00",
          "2020-04-18T00:00:00",
          "2020-04-19T00:00:00",
          "2020-04-02T00:00:00",
          "2020-04-20T00:00:00",
          "2020-04-21T00:00:00",
          "2020-04-22T00:00:00",
          "2020-04-23T00:00:00",
          "2020-04-24T00:00:00",
          "2020-04-25T00:00:00",
          "2020-04-26T00:00:00",
          "2020-04-27T00:00:00",
          "2020-04-28T00:00:00",
          "2020-04-29T00:00:00",
          "2020-04-03T00:00:00",
          "2020-04-30T00:00:00",
          "2020-04-04T00:00:00",
          "2020-04-05T00:00:00",
          "2020-04-06T00:00:00",
          "2020-04-07T00:00:00",
          "2020-04-08T00:00:00",
          "2020-04-09T00:00:00",
          "2020-05-01T00:00:00",
          "2020-05-10T00:00:00",
          "2020-05-11T00:00:00",
          "2020-05-12T00:00:00",
          "2020-05-13T00:00:00",
          "2020-05-14T00:00:00",
          "2020-05-15T00:00:00",
          "2020-05-16T00:00:00",
          "2020-05-17T00:00:00",
          "2020-05-18T00:00:00",
          "2020-05-19T00:00:00",
          "2020-05-02T00:00:00",
          "2020-05-20T00:00:00",
          "2020-05-21T00:00:00",
          "2020-05-22T00:00:00",
          "2020-05-23T00:00:00",
          "2020-05-24T00:00:00",
          "2020-05-25T00:00:00",
          "2020-05-26T00:00:00",
          "2020-05-27T00:00:00",
          "2020-05-28T00:00:00",
          "2020-05-29T00:00:00",
          "2020-05-03T00:00:00",
          "2020-05-30T00:00:00",
          "2020-05-31T00:00:00",
          "2020-05-04T00:00:00",
          "2020-05-05T00:00:00",
          "2020-05-06T00:00:00",
          "2020-05-07T00:00:00",
          "2020-05-08T00:00:00",
          "2020-05-09T00:00:00",
          "2020-06-01T00:00:00",
          "2020-06-10T00:00:00",
          "2020-06-11T00:00:00",
          "2020-06-12T00:00:00",
          "2020-06-13T00:00:00",
          "2020-06-14T00:00:00",
          "2020-06-15T00:00:00",
          "2020-06-16T00:00:00",
          "2020-06-17T00:00:00",
          "2020-06-18T00:00:00",
          "2020-06-19T00:00:00",
          "2020-06-02T00:00:00",
          "2020-06-20T00:00:00",
          "2020-06-21T00:00:00",
          "2020-06-22T00:00:00",
          "2020-06-23T00:00:00",
          "2020-06-24T00:00:00",
          "2020-06-25T00:00:00",
          "2020-06-26T00:00:00",
          "2020-06-27T00:00:00",
          "2020-06-28T00:00:00",
          "2020-06-29T00:00:00",
          "2020-06-03T00:00:00",
          "2020-06-30T00:00:00",
          "2020-06-04T00:00:00",
          "2020-06-05T00:00:00",
          "2020-06-06T00:00:00",
          "2020-06-07T00:00:00",
          "2020-06-08T00:00:00",
          "2020-06-09T00:00:00",
          "2020-07-01T00:00:00",
          "2020-07-10T00:00:00",
          "2020-07-11T00:00:00",
          "2020-07-12T00:00:00",
          "2020-07-13T00:00:00",
          "2020-07-14T00:00:00",
          "2020-07-15T00:00:00",
          "2020-07-16T00:00:00",
          "2020-07-17T00:00:00",
          "2020-07-18T00:00:00",
          "2020-07-19T00:00:00",
          "2020-07-02T00:00:00",
          "2020-07-20T00:00:00",
          "2020-07-21T00:00:00",
          "2020-07-22T00:00:00",
          "2020-07-23T00:00:00",
          "2020-07-24T00:00:00",
          "2020-07-25T00:00:00",
          "2020-07-26T00:00:00",
          "2020-07-27T00:00:00",
          "2020-07-03T00:00:00",
          "2020-07-04T00:00:00",
          "2020-07-05T00:00:00",
          "2020-07-06T00:00:00",
          "2020-07-07T00:00:00",
          "2020-07-08T00:00:00",
          "2020-07-09T00:00:00"
         ],
         "xaxis": "x",
         "y": [
          0.2435897435897436,
          0.47079037800687296,
          0.4509345794392523,
          0.4557165861513688,
          0.24778761061946897,
          0.3705673758865249,
          0.22315653298835714,
          0.16393442622950816,
          0.105406633348478,
          0.1981093300452117,
          0.17221269296740993,
          0.1422300263388938,
          0.09044324878298737,
          0.0758928571428572,
          0.2485258790128848,
          0.19538219345810748,
          0.09973679789438306,
          0.05545371219065087,
          0.06957109084768653,
          0.05688123054716043,
          0.07819035424669218,
          0.12105138152165318,
          0.07432909604519766,
          0.10705012325390295,
          0.08660412089543379,
          0.05614907511134182,
          0.1574480538484051,
          0.049852537900346716,
          0.061555900544589814,
          0.06216485990854004,
          0.08162685490744592,
          0.07077911581669771,
          0.10404755165581658,
          0.057751798868550086,
          0.07453787487073416,
          0.08097622592141462,
          0.08730489942408814,
          0.14487989886219976,
          0.09234666461963603,
          0.13493816254416968,
          0.08289550496205478,
          0.08319856244384538,
          0.13777372262773713,
          0.16111394619814834,
          0.12117787405035485,
          0.06932536893886154,
          0.043350284406081796,
          0.03461607016638091,
          0.05499878216133691,
          0.06410870042626504,
          0.07378792849810023,
          0.07542455573187201,
          0.06836584594657769,
          0.034047919293821005,
          0.05450472872075651,
          0.06847612304303352,
          0.05582755561397157,
          0.07344971799667199,
          0.06347507879511216,
          0.06708762379590238,
          0.04988969143824229,
          0.04551839676682068,
          0.032176888915809165,
          0.043542510229449105,
          0.05265296941378561,
          0.06414680164440378,
          0.06144606355450688,
          0.049286277438897796,
          0.07153145328764365,
          0.03161865018858845,
          0.065577822377332,
          0.06434403414362588,
          0.09155733775007624,
          0.07896628280279194,
          0.07565911210456977,
          0.07301414730815803,
          0.023817580707895747,
          0.044506918836028975,
          0.039372566078382576,
          0.0323630964540349,
          0.026186942725112017,
          0.02011724674726101,
          0.02379717481305277,
          0.039310075416173706,
          0.03486610000769064,
          0.023828289774612488,
          0.055994937340386075,
          0.05496469730096276,
          0.03356139384439927,
          0.01635382486916659,
          0.01975230360595659,
          0.035641273599826384,
          0.03728490818618635,
          0.03321720533958805,
          0.03815606694492524,
          0.030348069842992986,
          0.023199182136721008,
          0.017893929440543133,
          0.05155541311131229,
          0.0247377018626731,
          0.05295231637489395,
          0.05013489098954205,
          0.041926627240925995,
          0.028107471843482834,
          0.022629300998326052,
          0.04536394632830665,
          0.033317142651320575,
          0.02565698758215018,
          0.021669488518330837,
          0.01349620893007586,
          0.010879072613492635,
          0.02220569378668169,
          0.02072010728535667,
          0.02308531647165779,
          0.016985305774765314,
          0.013943023796771481,
          0.011340042219716073,
          0.03320441786833239,
          0.009653596163533118,
          0.019355758347548324,
          0.03142169995749322,
          0.02691834933472914,
          0.024433491076405245,
          0.02182629602033992,
          0.010264300089412703,
          0.009625102982897316,
          0.028207752505581718,
          0.02464002869244708,
          0.016519298619407374,
          0.01261903053856539,
          0.02790947240285746,
          0.026711790620698173,
          0.024877419505475284
         ],
         "yaxis": "y"
        },
        {
         "hovertemplate": "variable=Brazil Deaths<br>index=%{x}<br>value=%{y}<extra></extra>",
         "legendgroup": "Brazil Deaths",
         "marker": {
          "color": "#ab63fa",
          "symbol": "circle"
         },
         "mode": "markers",
         "name": "Brazil Deaths",
         "orientation": "v",
         "showlegend": true,
         "type": "scatter",
         "x": [
          "2020-03-17T00:00:00",
          "2020-03-18T00:00:00",
          "2020-03-19T00:00:00",
          "2020-03-20T00:00:00",
          "2020-03-21T00:00:00",
          "2020-03-22T00:00:00",
          "2020-03-23T00:00:00",
          "2020-03-24T00:00:00",
          "2020-03-25T00:00:00",
          "2020-03-26T00:00:00",
          "2020-03-27T00:00:00",
          "2020-03-28T00:00:00",
          "2020-03-29T00:00:00",
          "2020-03-30T00:00:00",
          "2020-03-31T00:00:00",
          "2020-04-01T00:00:00",
          "2020-04-10T00:00:00",
          "2020-04-11T00:00:00",
          "2020-04-12T00:00:00",
          "2020-04-13T00:00:00",
          "2020-04-14T00:00:00",
          "2020-04-15T00:00:00",
          "2020-04-16T00:00:00",
          "2020-04-17T00:00:00",
          "2020-04-18T00:00:00",
          "2020-04-19T00:00:00",
          "2020-04-02T00:00:00",
          "2020-04-20T00:00:00",
          "2020-04-21T00:00:00",
          "2020-04-22T00:00:00",
          "2020-04-23T00:00:00",
          "2020-04-24T00:00:00",
          "2020-04-25T00:00:00",
          "2020-04-26T00:00:00",
          "2020-04-27T00:00:00",
          "2020-04-28T00:00:00",
          "2020-04-29T00:00:00",
          "2020-04-03T00:00:00",
          "2020-04-30T00:00:00",
          "2020-04-04T00:00:00",
          "2020-04-05T00:00:00",
          "2020-04-06T00:00:00",
          "2020-04-07T00:00:00",
          "2020-04-08T00:00:00",
          "2020-04-09T00:00:00",
          "2020-05-01T00:00:00",
          "2020-05-10T00:00:00",
          "2020-05-11T00:00:00",
          "2020-05-12T00:00:00",
          "2020-05-13T00:00:00",
          "2020-05-14T00:00:00",
          "2020-05-15T00:00:00",
          "2020-05-16T00:00:00",
          "2020-05-17T00:00:00",
          "2020-05-18T00:00:00",
          "2020-05-19T00:00:00",
          "2020-05-02T00:00:00",
          "2020-05-20T00:00:00",
          "2020-05-21T00:00:00",
          "2020-05-22T00:00:00",
          "2020-05-23T00:00:00",
          "2020-05-24T00:00:00",
          "2020-05-25T00:00:00",
          "2020-05-26T00:00:00",
          "2020-05-27T00:00:00",
          "2020-05-28T00:00:00",
          "2020-05-29T00:00:00",
          "2020-05-03T00:00:00",
          "2020-05-30T00:00:00",
          "2020-05-31T00:00:00",
          "2020-05-04T00:00:00",
          "2020-05-05T00:00:00",
          "2020-05-06T00:00:00",
          "2020-05-07T00:00:00",
          "2020-05-08T00:00:00",
          "2020-05-09T00:00:00",
          "2020-06-01T00:00:00",
          "2020-06-10T00:00:00",
          "2020-06-11T00:00:00",
          "2020-06-12T00:00:00",
          "2020-06-13T00:00:00",
          "2020-06-14T00:00:00",
          "2020-06-15T00:00:00",
          "2020-06-16T00:00:00",
          "2020-06-17T00:00:00",
          "2020-06-18T00:00:00",
          "2020-06-19T00:00:00",
          "2020-06-02T00:00:00",
          "2020-06-20T00:00:00",
          "2020-06-21T00:00:00",
          "2020-06-22T00:00:00",
          "2020-06-23T00:00:00",
          "2020-06-24T00:00:00",
          "2020-06-25T00:00:00",
          "2020-06-26T00:00:00",
          "2020-06-27T00:00:00",
          "2020-06-28T00:00:00",
          "2020-06-29T00:00:00",
          "2020-06-03T00:00:00",
          "2020-06-30T00:00:00",
          "2020-06-04T00:00:00",
          "2020-06-05T00:00:00",
          "2020-06-06T00:00:00",
          "2020-06-07T00:00:00",
          "2020-06-08T00:00:00",
          "2020-06-09T00:00:00",
          "2020-07-01T00:00:00",
          "2020-07-10T00:00:00",
          "2020-07-11T00:00:00",
          "2020-07-12T00:00:00",
          "2020-07-13T00:00:00",
          "2020-07-14T00:00:00",
          "2020-07-15T00:00:00",
          "2020-07-16T00:00:00",
          "2020-07-17T00:00:00",
          "2020-07-18T00:00:00",
          "2020-07-19T00:00:00",
          "2020-07-02T00:00:00",
          "2020-07-20T00:00:00",
          "2020-07-21T00:00:00",
          "2020-07-22T00:00:00",
          "2020-07-23T00:00:00",
          "2020-07-24T00:00:00",
          "2020-07-25T00:00:00",
          "2020-07-26T00:00:00",
          "2020-07-27T00:00:00",
          "2020-07-03T00:00:00",
          "2020-07-04T00:00:00",
          "2020-07-05T00:00:00",
          "2020-07-06T00:00:00",
          "2020-07-07T00:00:00",
          "2020-07-08T00:00:00",
          "2020-07-09T00:00:00"
         ],
         "xaxis": "x",
         "y": [
          null,
          3,
          0.5,
          0.8333333333333333,
          0.6363636363636365,
          0.38888888888888884,
          0.3600000000000001,
          0.3529411764705883,
          0.23913043478260865,
          0.3508771929824561,
          0.19480519480519476,
          0.23913043478260865,
          0.1929824561403508,
          0.1691176470588236,
          0.26415094339622636,
          0.1990049751243781,
          0.12221041445270986,
          0.06439393939393945,
          0.08807829181494653,
          0.08585445625511046,
          0.1536144578313252,
          0.13315926892950403,
          0.10829493087557607,
          0.11278586278586289,
          0.09621672115833713,
          0.04899872177247544,
          0.2406639004149378,
          0.04589764419171405,
          0.06446601941747576,
          0.060197008391098095,
          0.14005505849965583,
          0.10775731964986424,
          0.0942779291553133,
          0.04706175298804771,
          0.08038049940546976,
          0.10433634162447714,
          0.08949571457046046,
          0.20066889632107032,
          0.07958287596048308,
          0.20334261838440115,
          0.125,
          0.13786008230452684,
          0.20614828209764924,
          0.199400299850075,
          0.17625000000000002,
          0.07253007964751745,
          0.04667356732850281,
          0.03560190596062207,
          0.07648233353589728,
          0.06040322580645152,
          0.06418739067609702,
          0.05888658615021791,
          0.05507187689815751,
          0.031024115652785733,
          0.041816602556148386,
          0.07021200571700814,
          0.06241112340022115,
          0.04941294307495414,
          0.0629937960655389,
          0.049832892702149856,
          0.04594697329658848,
          0.029664289283605205,
          0.0356039883525987,
          0.04426362203382617,
          0.04430483028720622,
          0.045159778107664694,
          0.042012409359348135,
          0.04476502082094003,
          0.03429227347729391,
          0.016647013941874178,
          0.04213523131672603,
          0.08195601693757681,
          0.07751546521903796,
          0.0715875805506736,
          0.08189372403236383,
          0.0739767559373421,
          0.02125264378795122,
          0.033171900223923245,
          0.031224798387096797,
          0.02221461912558964,
          0.021325427943004627,
          0.014325842696629287,
          0.014469675990030462,
          0.029163538752018825,
          0.028049777856369307,
          0.02661793162760695,
          0.025257602412666502,
          0.042155192571065925,
          0.020876741430730927,
          0.012826156555146406,
          0.012920560286069804,
          0.026798775136041897,
          0.022509260138664722,
          0.02119635890767224,
          0.018009495916028406,
          0.019817372813209166,
          0.00967233222358499,
          0.012009302002707223,
          0.043238565338632684,
          0.02195013204376317,
          0.04525623694236214,
          0.02954057787836928,
          0.025809398732370203,
          0.014611745059838643,
          0.01862570292140986,
          0.03425432218452085,
          0.01741786085847563,
          0.017547409805735326,
          0.01521350038353364,
          0.008829002784424,
          0.010166435506241411,
          0.017849051940741045,
          0.016632269029986713,
          0.017541066263301763,
          0.015165345295222288,
          0.01183029119728718,
          0.009089524196415066,
          0.020649162158596024,
          0.007950885668277063,
          0.01706190713929101,
          0.015757114631781866,
          0.015838880767418573,
          0.013748483623129859,
          0.014207278443886473,
          0.006419970155814303,
          0.007057146797848413,
          0.020845452782625618,
          0.017269762877133,
          0.009367462849140251,
          0.009558018715217331,
          0.019148838700810744,
          0.018324568106561134,
          0.017950679771643774
         ],
         "yaxis": "y"
        },
        {
         "hovertemplate": "variable=India Deaths<br>index=%{x}<br>value=%{y}<extra></extra>",
         "legendgroup": "India Deaths",
         "marker": {
          "color": "#FFA15A",
          "symbol": "circle"
         },
         "mode": "markers",
         "name": "India Deaths",
         "orientation": "v",
         "showlegend": true,
         "type": "scatter",
         "x": [
          "2020-03-17T00:00:00",
          "2020-03-18T00:00:00",
          "2020-03-19T00:00:00",
          "2020-03-20T00:00:00",
          "2020-03-21T00:00:00",
          "2020-03-22T00:00:00",
          "2020-03-23T00:00:00",
          "2020-03-24T00:00:00",
          "2020-03-25T00:00:00",
          "2020-03-26T00:00:00",
          "2020-03-27T00:00:00",
          "2020-03-28T00:00:00",
          "2020-03-29T00:00:00",
          "2020-03-30T00:00:00",
          "2020-03-31T00:00:00",
          "2020-04-01T00:00:00",
          "2020-04-10T00:00:00",
          "2020-04-11T00:00:00",
          "2020-04-12T00:00:00",
          "2020-04-13T00:00:00",
          "2020-04-14T00:00:00",
          "2020-04-15T00:00:00",
          "2020-04-16T00:00:00",
          "2020-04-17T00:00:00",
          "2020-04-18T00:00:00",
          "2020-04-19T00:00:00",
          "2020-04-02T00:00:00",
          "2020-04-20T00:00:00",
          "2020-04-21T00:00:00",
          "2020-04-22T00:00:00",
          "2020-04-23T00:00:00",
          "2020-04-24T00:00:00",
          "2020-04-25T00:00:00",
          "2020-04-26T00:00:00",
          "2020-04-27T00:00:00",
          "2020-04-28T00:00:00",
          "2020-04-29T00:00:00",
          "2020-04-03T00:00:00",
          "2020-04-30T00:00:00",
          "2020-04-04T00:00:00",
          "2020-04-05T00:00:00",
          "2020-04-06T00:00:00",
          "2020-04-07T00:00:00",
          "2020-04-08T00:00:00",
          "2020-04-09T00:00:00",
          "2020-05-01T00:00:00",
          "2020-05-10T00:00:00",
          "2020-05-11T00:00:00",
          "2020-05-12T00:00:00",
          "2020-05-13T00:00:00",
          "2020-05-14T00:00:00",
          "2020-05-15T00:00:00",
          "2020-05-16T00:00:00",
          "2020-05-17T00:00:00",
          "2020-05-18T00:00:00",
          "2020-05-19T00:00:00",
          "2020-05-02T00:00:00",
          "2020-05-20T00:00:00",
          "2020-05-21T00:00:00",
          "2020-05-22T00:00:00",
          "2020-05-23T00:00:00",
          "2020-05-24T00:00:00",
          "2020-05-25T00:00:00",
          "2020-05-26T00:00:00",
          "2020-05-27T00:00:00",
          "2020-05-28T00:00:00",
          "2020-05-29T00:00:00",
          "2020-05-03T00:00:00",
          "2020-05-30T00:00:00",
          "2020-05-31T00:00:00",
          "2020-05-04T00:00:00",
          "2020-05-05T00:00:00",
          "2020-05-06T00:00:00",
          "2020-05-07T00:00:00",
          "2020-05-08T00:00:00",
          "2020-05-09T00:00:00",
          "2020-06-01T00:00:00",
          "2020-06-10T00:00:00",
          "2020-06-11T00:00:00",
          "2020-06-12T00:00:00",
          "2020-06-13T00:00:00",
          "2020-06-14T00:00:00",
          "2020-06-15T00:00:00",
          "2020-06-16T00:00:00",
          "2020-06-17T00:00:00",
          "2020-06-18T00:00:00",
          "2020-06-19T00:00:00",
          "2020-06-02T00:00:00",
          "2020-06-20T00:00:00",
          "2020-06-21T00:00:00",
          "2020-06-22T00:00:00",
          "2020-06-23T00:00:00",
          "2020-06-24T00:00:00",
          "2020-06-25T00:00:00",
          "2020-06-26T00:00:00",
          "2020-06-27T00:00:00",
          "2020-06-28T00:00:00",
          "2020-06-29T00:00:00",
          "2020-06-03T00:00:00",
          "2020-06-30T00:00:00",
          "2020-06-04T00:00:00",
          "2020-06-05T00:00:00",
          "2020-06-06T00:00:00",
          "2020-06-07T00:00:00",
          "2020-06-08T00:00:00",
          "2020-06-09T00:00:00",
          "2020-07-01T00:00:00",
          "2020-07-10T00:00:00",
          "2020-07-11T00:00:00",
          "2020-07-12T00:00:00",
          "2020-07-13T00:00:00",
          "2020-07-14T00:00:00",
          "2020-07-15T00:00:00",
          "2020-07-16T00:00:00",
          "2020-07-17T00:00:00",
          "2020-07-18T00:00:00",
          "2020-07-19T00:00:00",
          "2020-07-02T00:00:00",
          "2020-07-20T00:00:00",
          "2020-07-21T00:00:00",
          "2020-07-22T00:00:00",
          "2020-07-23T00:00:00",
          "2020-07-24T00:00:00",
          "2020-07-25T00:00:00",
          "2020-07-26T00:00:00",
          "2020-07-27T00:00:00",
          "2020-07-03T00:00:00",
          "2020-07-04T00:00:00",
          "2020-07-05T00:00:00",
          "2020-07-06T00:00:00",
          "2020-07-07T00:00:00",
          "2020-07-08T00:00:00",
          "2020-07-09T00:00:00"
         ],
         "xaxis": "x",
         "y": [
          3,
          3,
          4,
          4,
          4,
          7,
          7,
          9,
          10,
          15,
          17,
          19,
          27,
          31,
          35,
          41,
          206,
          242,
          273,
          324,
          353,
          392,
          420,
          452,
          488,
          519,
          53,
          559,
          603,
          652,
          686,
          723,
          779,
          826,
          886,
          937,
          1008,
          62,
          1075,
          75,
          83,
          111,
          124,
          149,
          169,
          1152,
          2109,
          2206,
          2293,
          2415,
          2549,
          2649,
          2752,
          2872,
          3029,
          3163,
          1218,
          3303,
          3435,
          3583,
          3720,
          3867,
          4021,
          4167,
          4337,
          4531,
          4706,
          1306,
          4971,
          5164,
          1389,
          1583,
          1694,
          1783,
          1886,
          1981,
          5394,
          7745,
          8102,
          8498,
          8884,
          9195,
          9520,
          9900,
          11903,
          12237,
          12573,
          5598,
          12948,
          13254,
          13699,
          14011,
          14476,
          14894,
          15301,
          15685,
          16095,
          16475,
          5815,
          16893,
          6075,
          6348,
          6642,
          6929,
          7135,
          7466,
          17400,
          21604,
          22123,
          22674,
          23174,
          23727,
          24309,
          24915,
          25602,
          26273,
          26816,
          17834,
          27497,
          28084,
          28732,
          29861,
          30601,
          31358,
          32063,
          32771,
          18213,
          18655,
          19268,
          19693,
          20160,
          20642,
          21129
         ],
         "yaxis": "y"
        },
        {
         "hovertemplate": "variable=India Confirmed<br>index=%{x}<br>value=%{y}<extra></extra>",
         "legendgroup": "India Confirmed",
         "marker": {
          "color": "#19d3f3",
          "symbol": "circle"
         },
         "mode": "markers",
         "name": "India Confirmed",
         "orientation": "v",
         "showlegend": true,
         "type": "scatter",
         "x": [
          "2020-03-17T00:00:00",
          "2020-03-18T00:00:00",
          "2020-03-19T00:00:00",
          "2020-03-20T00:00:00",
          "2020-03-21T00:00:00",
          "2020-03-22T00:00:00",
          "2020-03-23T00:00:00",
          "2020-03-24T00:00:00",
          "2020-03-25T00:00:00",
          "2020-03-26T00:00:00",
          "2020-03-27T00:00:00",
          "2020-03-28T00:00:00",
          "2020-03-29T00:00:00",
          "2020-03-30T00:00:00",
          "2020-03-31T00:00:00",
          "2020-04-01T00:00:00",
          "2020-04-10T00:00:00",
          "2020-04-11T00:00:00",
          "2020-04-12T00:00:00",
          "2020-04-13T00:00:00",
          "2020-04-14T00:00:00",
          "2020-04-15T00:00:00",
          "2020-04-16T00:00:00",
          "2020-04-17T00:00:00",
          "2020-04-18T00:00:00",
          "2020-04-19T00:00:00",
          "2020-04-02T00:00:00",
          "2020-04-20T00:00:00",
          "2020-04-21T00:00:00",
          "2020-04-22T00:00:00",
          "2020-04-23T00:00:00",
          "2020-04-24T00:00:00",
          "2020-04-25T00:00:00",
          "2020-04-26T00:00:00",
          "2020-04-27T00:00:00",
          "2020-04-28T00:00:00",
          "2020-04-29T00:00:00",
          "2020-04-03T00:00:00",
          "2020-04-30T00:00:00",
          "2020-04-04T00:00:00",
          "2020-04-05T00:00:00",
          "2020-04-06T00:00:00",
          "2020-04-07T00:00:00",
          "2020-04-08T00:00:00",
          "2020-04-09T00:00:00",
          "2020-05-01T00:00:00",
          "2020-05-10T00:00:00",
          "2020-05-11T00:00:00",
          "2020-05-12T00:00:00",
          "2020-05-13T00:00:00",
          "2020-05-14T00:00:00",
          "2020-05-15T00:00:00",
          "2020-05-16T00:00:00",
          "2020-05-17T00:00:00",
          "2020-05-18T00:00:00",
          "2020-05-19T00:00:00",
          "2020-05-02T00:00:00",
          "2020-05-20T00:00:00",
          "2020-05-21T00:00:00",
          "2020-05-22T00:00:00",
          "2020-05-23T00:00:00",
          "2020-05-24T00:00:00",
          "2020-05-25T00:00:00",
          "2020-05-26T00:00:00",
          "2020-05-27T00:00:00",
          "2020-05-28T00:00:00",
          "2020-05-29T00:00:00",
          "2020-05-03T00:00:00",
          "2020-05-30T00:00:00",
          "2020-05-31T00:00:00",
          "2020-05-04T00:00:00",
          "2020-05-05T00:00:00",
          "2020-05-06T00:00:00",
          "2020-05-07T00:00:00",
          "2020-05-08T00:00:00",
          "2020-05-09T00:00:00",
          "2020-06-01T00:00:00",
          "2020-06-10T00:00:00",
          "2020-06-11T00:00:00",
          "2020-06-12T00:00:00",
          "2020-06-13T00:00:00",
          "2020-06-14T00:00:00",
          "2020-06-15T00:00:00",
          "2020-06-16T00:00:00",
          "2020-06-17T00:00:00",
          "2020-06-18T00:00:00",
          "2020-06-19T00:00:00",
          "2020-06-02T00:00:00",
          "2020-06-20T00:00:00",
          "2020-06-21T00:00:00",
          "2020-06-22T00:00:00",
          "2020-06-23T00:00:00",
          "2020-06-24T00:00:00",
          "2020-06-25T00:00:00",
          "2020-06-26T00:00:00",
          "2020-06-27T00:00:00",
          "2020-06-28T00:00:00",
          "2020-06-29T00:00:00",
          "2020-06-03T00:00:00",
          "2020-06-30T00:00:00",
          "2020-06-04T00:00:00",
          "2020-06-05T00:00:00",
          "2020-06-06T00:00:00",
          "2020-06-07T00:00:00",
          "2020-06-08T00:00:00",
          "2020-06-09T00:00:00",
          "2020-07-01T00:00:00",
          "2020-07-10T00:00:00",
          "2020-07-11T00:00:00",
          "2020-07-12T00:00:00",
          "2020-07-13T00:00:00",
          "2020-07-14T00:00:00",
          "2020-07-15T00:00:00",
          "2020-07-16T00:00:00",
          "2020-07-17T00:00:00",
          "2020-07-18T00:00:00",
          "2020-07-19T00:00:00",
          "2020-07-02T00:00:00",
          "2020-07-20T00:00:00",
          "2020-07-21T00:00:00",
          "2020-07-22T00:00:00",
          "2020-07-23T00:00:00",
          "2020-07-24T00:00:00",
          "2020-07-25T00:00:00",
          "2020-07-26T00:00:00",
          "2020-07-27T00:00:00",
          "2020-07-03T00:00:00",
          "2020-07-04T00:00:00",
          "2020-07-05T00:00:00",
          "2020-07-06T00:00:00",
          "2020-07-07T00:00:00",
          "2020-07-08T00:00:00",
          "2020-07-09T00:00:00"
         ],
         "xaxis": "x",
         "y": [
          137,
          151,
          173,
          223,
          283,
          360,
          433,
          519,
          606,
          694,
          724,
          909,
          1024,
          1251,
          1397,
          1834,
          6761,
          7529,
          8447,
          9352,
          10815,
          11933,
          12759,
          13835,
          14792,
          16116,
          2069,
          17656,
          18985,
          20471,
          21700,
          23452,
          24893,
          26605,
          28160,
          29834,
          31709,
          2547,
          33330,
          3072,
          3577,
          4281,
          4789,
          5274,
          5865,
          34972,
          62939,
          67152,
          70756,
          74281,
          78003,
          81970,
          85710,
          90637,
          95759,
          100325,
          37157,
          106750,
          112359,
          118447,
          125101,
          131868,
          138845,
          145380,
          151767,
          158333,
          165799,
          40124,
          173763,
          182143,
          42836,
          46711,
          49391,
          52952,
          56342,
          59662,
          190535,
          276583,
          286579,
          297535,
          308993,
          320922,
          332424,
          343091,
          354065,
          366946,
          380532,
          198706,
          395048,
          410461,
          425282,
          440215,
          456183,
          473105,
          490401,
          508953,
          528859,
          548318,
          207615,
          566840,
          216919,
          226770,
          236657,
          246628,
          256611,
          266598,
          585493,
          793802,
          820916,
          849553,
          878254,
          906752,
          936181,
          968876,
          1003832,
          1038716,
          1077618,
          604641,
          1118043,
          1155191,
          1192915,
          1238635,
          1287945,
          1336861,
          1385522,
          1435453,
          625544,
          648315,
          673165,
          697413,
          719665,
          742417,
          767296
         ],
         "yaxis": "y"
        }
       ],
       "layout": {
        "autosize": true,
        "legend": {
         "title": {
          "text": "variable"
         },
         "tracegroupgap": 0
        },
        "template": {
         "data": {
          "bar": [
           {
            "error_x": {
             "color": "#2a3f5f"
            },
            "error_y": {
             "color": "#2a3f5f"
            },
            "marker": {
             "line": {
              "color": "#E5ECF6",
              "width": 0.5
             }
            },
            "type": "bar"
           }
          ],
          "barpolar": [
           {
            "marker": {
             "line": {
              "color": "#E5ECF6",
              "width": 0.5
             }
            },
            "type": "barpolar"
           }
          ],
          "carpet": [
           {
            "aaxis": {
             "endlinecolor": "#2a3f5f",
             "gridcolor": "white",
             "linecolor": "white",
             "minorgridcolor": "white",
             "startlinecolor": "#2a3f5f"
            },
            "baxis": {
             "endlinecolor": "#2a3f5f",
             "gridcolor": "white",
             "linecolor": "white",
             "minorgridcolor": "white",
             "startlinecolor": "#2a3f5f"
            },
            "type": "carpet"
           }
          ],
          "choropleth": [
           {
            "colorbar": {
             "outlinewidth": 0,
             "ticks": ""
            },
            "type": "choropleth"
           }
          ],
          "contour": [
           {
            "colorbar": {
             "outlinewidth": 0,
             "ticks": ""
            },
            "colorscale": [
             [
              0,
              "#0d0887"
             ],
             [
              0.1111111111111111,
              "#46039f"
             ],
             [
              0.2222222222222222,
              "#7201a8"
             ],
             [
              0.3333333333333333,
              "#9c179e"
             ],
             [
              0.4444444444444444,
              "#bd3786"
             ],
             [
              0.5555555555555556,
              "#d8576b"
             ],
             [
              0.6666666666666666,
              "#ed7953"
             ],
             [
              0.7777777777777778,
              "#fb9f3a"
             ],
             [
              0.8888888888888888,
              "#fdca26"
             ],
             [
              1,
              "#f0f921"
             ]
            ],
            "type": "contour"
           }
          ],
          "contourcarpet": [
           {
            "colorbar": {
             "outlinewidth": 0,
             "ticks": ""
            },
            "type": "contourcarpet"
           }
          ],
          "heatmap": [
           {
            "colorbar": {
             "outlinewidth": 0,
             "ticks": ""
            },
            "colorscale": [
             [
              0,
              "#0d0887"
             ],
             [
              0.1111111111111111,
              "#46039f"
             ],
             [
              0.2222222222222222,
              "#7201a8"
             ],
             [
              0.3333333333333333,
              "#9c179e"
             ],
             [
              0.4444444444444444,
              "#bd3786"
             ],
             [
              0.5555555555555556,
              "#d8576b"
             ],
             [
              0.6666666666666666,
              "#ed7953"
             ],
             [
              0.7777777777777778,
              "#fb9f3a"
             ],
             [
              0.8888888888888888,
              "#fdca26"
             ],
             [
              1,
              "#f0f921"
             ]
            ],
            "type": "heatmap"
           }
          ],
          "heatmapgl": [
           {
            "colorbar": {
             "outlinewidth": 0,
             "ticks": ""
            },
            "colorscale": [
             [
              0,
              "#0d0887"
             ],
             [
              0.1111111111111111,
              "#46039f"
             ],
             [
              0.2222222222222222,
              "#7201a8"
             ],
             [
              0.3333333333333333,
              "#9c179e"
             ],
             [
              0.4444444444444444,
              "#bd3786"
             ],
             [
              0.5555555555555556,
              "#d8576b"
             ],
             [
              0.6666666666666666,
              "#ed7953"
             ],
             [
              0.7777777777777778,
              "#fb9f3a"
             ],
             [
              0.8888888888888888,
              "#fdca26"
             ],
             [
              1,
              "#f0f921"
             ]
            ],
            "type": "heatmapgl"
           }
          ],
          "histogram": [
           {
            "marker": {
             "colorbar": {
              "outlinewidth": 0,
              "ticks": ""
             }
            },
            "type": "histogram"
           }
          ],
          "histogram2d": [
           {
            "colorbar": {
             "outlinewidth": 0,
             "ticks": ""
            },
            "colorscale": [
             [
              0,
              "#0d0887"
             ],
             [
              0.1111111111111111,
              "#46039f"
             ],
             [
              0.2222222222222222,
              "#7201a8"
             ],
             [
              0.3333333333333333,
              "#9c179e"
             ],
             [
              0.4444444444444444,
              "#bd3786"
             ],
             [
              0.5555555555555556,
              "#d8576b"
             ],
             [
              0.6666666666666666,
              "#ed7953"
             ],
             [
              0.7777777777777778,
              "#fb9f3a"
             ],
             [
              0.8888888888888888,
              "#fdca26"
             ],
             [
              1,
              "#f0f921"
             ]
            ],
            "type": "histogram2d"
           }
          ],
          "histogram2dcontour": [
           {
            "colorbar": {
             "outlinewidth": 0,
             "ticks": ""
            },
            "colorscale": [
             [
              0,
              "#0d0887"
             ],
             [
              0.1111111111111111,
              "#46039f"
             ],
             [
              0.2222222222222222,
              "#7201a8"
             ],
             [
              0.3333333333333333,
              "#9c179e"
             ],
             [
              0.4444444444444444,
              "#bd3786"
             ],
             [
              0.5555555555555556,
              "#d8576b"
             ],
             [
              0.6666666666666666,
              "#ed7953"
             ],
             [
              0.7777777777777778,
              "#fb9f3a"
             ],
             [
              0.8888888888888888,
              "#fdca26"
             ],
             [
              1,
              "#f0f921"
             ]
            ],
            "type": "histogram2dcontour"
           }
          ],
          "mesh3d": [
           {
            "colorbar": {
             "outlinewidth": 0,
             "ticks": ""
            },
            "type": "mesh3d"
           }
          ],
          "parcoords": [
           {
            "line": {
             "colorbar": {
              "outlinewidth": 0,
              "ticks": ""
             }
            },
            "type": "parcoords"
           }
          ],
          "pie": [
           {
            "automargin": true,
            "type": "pie"
           }
          ],
          "scatter": [
           {
            "marker": {
             "colorbar": {
              "outlinewidth": 0,
              "ticks": ""
             }
            },
            "type": "scatter"
           }
          ],
          "scatter3d": [
           {
            "line": {
             "colorbar": {
              "outlinewidth": 0,
              "ticks": ""
             }
            },
            "marker": {
             "colorbar": {
              "outlinewidth": 0,
              "ticks": ""
             }
            },
            "type": "scatter3d"
           }
          ],
          "scattercarpet": [
           {
            "marker": {
             "colorbar": {
              "outlinewidth": 0,
              "ticks": ""
             }
            },
            "type": "scattercarpet"
           }
          ],
          "scattergeo": [
           {
            "marker": {
             "colorbar": {
              "outlinewidth": 0,
              "ticks": ""
             }
            },
            "type": "scattergeo"
           }
          ],
          "scattergl": [
           {
            "marker": {
             "colorbar": {
              "outlinewidth": 0,
              "ticks": ""
             }
            },
            "type": "scattergl"
           }
          ],
          "scattermapbox": [
           {
            "marker": {
             "colorbar": {
              "outlinewidth": 0,
              "ticks": ""
             }
            },
            "type": "scattermapbox"
           }
          ],
          "scatterpolar": [
           {
            "marker": {
             "colorbar": {
              "outlinewidth": 0,
              "ticks": ""
             }
            },
            "type": "scatterpolar"
           }
          ],
          "scatterpolargl": [
           {
            "marker": {
             "colorbar": {
              "outlinewidth": 0,
              "ticks": ""
             }
            },
            "type": "scatterpolargl"
           }
          ],
          "scatterternary": [
           {
            "marker": {
             "colorbar": {
              "outlinewidth": 0,
              "ticks": ""
             }
            },
            "type": "scatterternary"
           }
          ],
          "surface": [
           {
            "colorbar": {
             "outlinewidth": 0,
             "ticks": ""
            },
            "colorscale": [
             [
              0,
              "#0d0887"
             ],
             [
              0.1111111111111111,
              "#46039f"
             ],
             [
              0.2222222222222222,
              "#7201a8"
             ],
             [
              0.3333333333333333,
              "#9c179e"
             ],
             [
              0.4444444444444444,
              "#bd3786"
             ],
             [
              0.5555555555555556,
              "#d8576b"
             ],
             [
              0.6666666666666666,
              "#ed7953"
             ],
             [
              0.7777777777777778,
              "#fb9f3a"
             ],
             [
              0.8888888888888888,
              "#fdca26"
             ],
             [
              1,
              "#f0f921"
             ]
            ],
            "type": "surface"
           }
          ],
          "table": [
           {
            "cells": {
             "fill": {
              "color": "#EBF0F8"
             },
             "line": {
              "color": "white"
             }
            },
            "header": {
             "fill": {
              "color": "#C8D4E3"
             },
             "line": {
              "color": "white"
             }
            },
            "type": "table"
           }
          ]
         },
         "layout": {
          "annotationdefaults": {
           "arrowcolor": "#2a3f5f",
           "arrowhead": 0,
           "arrowwidth": 1
          },
          "coloraxis": {
           "colorbar": {
            "outlinewidth": 0,
            "ticks": ""
           }
          },
          "colorscale": {
           "diverging": [
            [
             0,
             "#8e0152"
            ],
            [
             0.1,
             "#c51b7d"
            ],
            [
             0.2,
             "#de77ae"
            ],
            [
             0.3,
             "#f1b6da"
            ],
            [
             0.4,
             "#fde0ef"
            ],
            [
             0.5,
             "#f7f7f7"
            ],
            [
             0.6,
             "#e6f5d0"
            ],
            [
             0.7,
             "#b8e186"
            ],
            [
             0.8,
             "#7fbc41"
            ],
            [
             0.9,
             "#4d9221"
            ],
            [
             1,
             "#276419"
            ]
           ],
           "sequential": [
            [
             0,
             "#0d0887"
            ],
            [
             0.1111111111111111,
             "#46039f"
            ],
            [
             0.2222222222222222,
             "#7201a8"
            ],
            [
             0.3333333333333333,
             "#9c179e"
            ],
            [
             0.4444444444444444,
             "#bd3786"
            ],
            [
             0.5555555555555556,
             "#d8576b"
            ],
            [
             0.6666666666666666,
             "#ed7953"
            ],
            [
             0.7777777777777778,
             "#fb9f3a"
            ],
            [
             0.8888888888888888,
             "#fdca26"
            ],
            [
             1,
             "#f0f921"
            ]
           ],
           "sequentialminus": [
            [
             0,
             "#0d0887"
            ],
            [
             0.1111111111111111,
             "#46039f"
            ],
            [
             0.2222222222222222,
             "#7201a8"
            ],
            [
             0.3333333333333333,
             "#9c179e"
            ],
            [
             0.4444444444444444,
             "#bd3786"
            ],
            [
             0.5555555555555556,
             "#d8576b"
            ],
            [
             0.6666666666666666,
             "#ed7953"
            ],
            [
             0.7777777777777778,
             "#fb9f3a"
            ],
            [
             0.8888888888888888,
             "#fdca26"
            ],
            [
             1,
             "#f0f921"
            ]
           ]
          },
          "colorway": [
           "#636efa",
           "#EF553B",
           "#00cc96",
           "#ab63fa",
           "#FFA15A",
           "#19d3f3",
           "#FF6692",
           "#B6E880",
           "#FF97FF",
           "#FECB52"
          ],
          "font": {
           "color": "#2a3f5f"
          },
          "geo": {
           "bgcolor": "white",
           "lakecolor": "white",
           "landcolor": "#E5ECF6",
           "showlakes": true,
           "showland": true,
           "subunitcolor": "white"
          },
          "hoverlabel": {
           "align": "left"
          },
          "hovermode": "closest",
          "mapbox": {
           "style": "light"
          },
          "paper_bgcolor": "white",
          "plot_bgcolor": "#E5ECF6",
          "polar": {
           "angularaxis": {
            "gridcolor": "white",
            "linecolor": "white",
            "ticks": ""
           },
           "bgcolor": "#E5ECF6",
           "radialaxis": {
            "gridcolor": "white",
            "linecolor": "white",
            "ticks": ""
           }
          },
          "scene": {
           "xaxis": {
            "backgroundcolor": "#E5ECF6",
            "gridcolor": "white",
            "gridwidth": 2,
            "linecolor": "white",
            "showbackground": true,
            "ticks": "",
            "zerolinecolor": "white"
           },
           "yaxis": {
            "backgroundcolor": "#E5ECF6",
            "gridcolor": "white",
            "gridwidth": 2,
            "linecolor": "white",
            "showbackground": true,
            "ticks": "",
            "zerolinecolor": "white"
           },
           "zaxis": {
            "backgroundcolor": "#E5ECF6",
            "gridcolor": "white",
            "gridwidth": 2,
            "linecolor": "white",
            "showbackground": true,
            "ticks": "",
            "zerolinecolor": "white"
           }
          },
          "shapedefaults": {
           "line": {
            "color": "#2a3f5f"
           }
          },
          "ternary": {
           "aaxis": {
            "gridcolor": "white",
            "linecolor": "white",
            "ticks": ""
           },
           "baxis": {
            "gridcolor": "white",
            "linecolor": "white",
            "ticks": ""
           },
           "bgcolor": "#E5ECF6",
           "caxis": {
            "gridcolor": "white",
            "linecolor": "white",
            "ticks": ""
           }
          },
          "title": {
           "x": 0.05
          },
          "xaxis": {
           "automargin": true,
           "gridcolor": "white",
           "linecolor": "white",
           "ticks": "",
           "title": {
            "standoff": 15
           },
           "zerolinecolor": "white",
           "zerolinewidth": 2
          },
          "yaxis": {
           "automargin": true,
           "gridcolor": "white",
           "linecolor": "white",
           "ticks": "",
           "title": {
            "standoff": 15
           },
           "zerolinecolor": "white",
           "zerolinewidth": 2
          }
         }
        },
        "title": {
         "text": "USA, Brazil and India Daily Coronavirus Percent Change"
        },
        "xaxis": {
         "anchor": "y",
         "autorange": true,
         "domain": [
          0,
          1
         ],
         "range": [
          "2020-03-09 04:44:27.7584",
          "2020-08-03 19:15:32.2416"
         ],
         "title": {
          "text": "index"
         },
         "type": "date"
        },
        "yaxis": {
         "anchor": "x",
         "domain": [
          0,
          1
         ],
         "range": [
          -2,
          2
         ],
         "title": {
          "text": "value"
         },
         "type": "linear"
        }
       }
      },
      "image/png": "[encoded data removed]",
      "text/html": [
       "<div>                            <div id=\"f9c8f913-ef27-4105-b169-fe689bced562\" class=\"plotly-graph-div\" style=\"height:525px; width:100%;\"></div>            <script type=\"text/javascript\">                require([\"plotly\"], function(Plotly) {                    window.PLOTLYENV=window.PLOTLYENV || {};                                    if (document.getElementById(\"f9c8f913-ef27-4105-b169-fe689bced562\")) {                    Plotly.newPlot(                        \"f9c8f913-ef27-4105-b169-fe689bced562\",                        [{\"hovertemplate\": \"variable=USA Confirmed<br>index=%{x}<br>value=%{y}<extra></extra>\", \"legendgroup\": \"USA Confirmed\", \"marker\": {\"color\": \"#636efa\", \"symbol\": \"circle\"}, \"mode\": \"markers\", \"name\": \"USA Confirmed\", \"orientation\": \"v\", \"showlegend\": true, \"type\": \"scatter\", \"x\": [\"2020-03-17T00:00:00\", \"2020-03-18T00:00:00\", \"2020-03-19T00:00:00\", \"2020-03-20T00:00:00\", \"2020-03-21T00:00:00\", \"2020-03-22T00:00:00\", \"2020-03-23T00:00:00\", \"2020-03-24T00:00:00\", \"2020-03-25T00:00:00\", \"2020-03-26T00:00:00\", \"2020-03-27T00:00:00\", \"2020-03-28T00:00:00\", \"2020-03-29T00:00:00\", \"2020-03-30T00:00:00\", \"2020-03-31T00:00:00\", \"2020-04-01T00:00:00\", \"2020-04-10T00:00:00\", \"2020-04-11T00:00:00\", \"2020-04-12T00:00:00\", \"2020-04-13T00:00:00\", \"2020-04-14T00:00:00\", \"2020-04-15T00:00:00\", \"2020-04-16T00:00:00\", \"2020-04-17T00:00:00\", \"2020-04-18T00:00:00\", \"2020-04-19T00:00:00\", \"2020-04-02T00:00:00\", \"2020-04-20T00:00:00\", \"2020-04-21T00:00:00\", \"2020-04-22T00:00:00\", \"2020-04-23T00:00:00\", \"2020-04-24T00:00:00\", \"2020-04-25T00:00:00\", \"2020-04-26T00:00:00\", \"2020-04-27T00:00:00\", \"2020-04-28T00:00:00\", \"2020-04-29T00:00:00\", \"2020-04-03T00:00:00\", \"2020-04-30T00:00:00\", \"2020-04-04T00:00:00\", \"2020-04-05T00:00:00\", \"2020-04-06T00:00:00\", \"2020-04-07T00:00:00\", \"2020-04-08T00:00:00\", \"2020-04-09T00:00:00\", \"2020-05-01T00:00:00\", \"2020-05-10T00:00:00\", \"2020-05-11T00:00:00\", \"2020-05-12T00:00:00\", \"2020-05-13T00:00:00\", \"2020-05-14T00:00:00\", \"2020-05-15T00:00:00\", \"2020-05-16T00:00:00\", \"2020-05-17T00:00:00\", \"2020-05-18T00:00:00\", \"2020-05-19T00:00:00\", \"2020-05-02T00:00:00\", \"2020-05-20T00:00:00\", \"2020-05-21T00:00:00\", \"2020-05-22T00:00:00\", \"2020-05-23T00:00:00\", \"2020-05-24T00:00:00\", \"2020-05-25T00:00:00\", \"2020-05-26T00:00:00\", \"2020-05-27T00:00:00\", \"2020-05-28T00:00:00\", \"2020-05-29T00:00:00\", \"2020-05-03T00:00:00\", \"2020-05-30T00:00:00\", \"2020-05-31T00:00:00\", \"2020-05-04T00:00:00\", \"2020-05-05T00:00:00\", \"2020-05-06T00:00:00\", \"2020-05-07T00:00:00\", \"2020-05-08T00:00:00\", \"2020-05-09T00:00:00\", \"2020-06-01T00:00:00\", \"2020-06-10T00:00:00\", \"2020-06-11T00:00:00\", \"2020-06-12T00:00:00\", \"2020-06-13T00:00:00\", \"2020-06-14T00:00:00\", \"2020-06-15T00:00:00\", \"2020-06-16T00:00:00\", \"2020-06-17T00:00:00\", \"2020-06-18T00:00:00\", \"2020-06-19T00:00:00\", \"2020-06-02T00:00:00\", \"2020-06-20T00:00:00\", \"2020-06-21T00:00:00\", \"2020-06-22T00:00:00\", \"2020-06-23T00:00:00\", \"2020-06-24T00:00:00\", \"2020-06-25T00:00:00\", \"2020-06-26T00:00:00\", \"2020-06-27T00:00:00\", \"2020-06-28T00:00:00\", \"2020-06-29T00:00:00\", \"2020-06-03T00:00:00\", \"2020-06-30T00:00:00\", \"2020-06-04T00:00:00\", \"2020-06-05T00:00:00\", \"2020-06-06T00:00:00\", \"2020-06-07T00:00:00\", \"2020-06-08T00:00:00\", \"2020-06-09T00:00:00\", \"2020-07-01T00:00:00\", \"2020-07-10T00:00:00\", \"2020-07-11T00:00:00\", \"2020-07-12T00:00:00\", \"2020-07-13T00:00:00\", \"2020-07-14T00:00:00\", \"2020-07-15T00:00:00\", \"2020-07-16T00:00:00\", \"2020-07-17T00:00:00\", \"2020-07-18T00:00:00\", \"2020-07-19T00:00:00\", \"2020-07-02T00:00:00\", \"2020-07-20T00:00:00\", \"2020-07-21T00:00:00\", \"2020-07-22T00:00:00\", \"2020-07-23T00:00:00\", \"2020-07-24T00:00:00\", \"2020-07-25T00:00:00\", \"2020-07-26T00:00:00\", \"2020-07-27T00:00:00\", \"2020-07-03T00:00:00\", \"2020-07-04T00:00:00\", \"2020-07-05T00:00:00\", \"2020-07-06T00:00:00\", \"2020-07-07T00:00:00\", \"2020-07-08T00:00:00\", \"2020-07-09T00:00:00\"], \"xaxis\": \"x\", \"y\": [0.4084862385321102, 0.452043641100798, 0.587641583492206, 366.52830188679246, 0.3257867446994198, 0.3072991287512101, 0.2988359349545333, 0.23402508551881418, 0.22070890005913668, 0.273045189614715, 0.21625382026614015, 0.19352536274394772, 0.156763797524351, 2227.8630136986303, 0.15990092620477303, 411.72639691714835, 1.3246096029504448, 0.06030007450651986, 0.054080826715204866, 0.04544474432277612, 0.04651838305434919, 0.04778625603158604, 0.04905842557847184, 0.04889491865788509, 0.0403720249118229, 0.035652034608680605, -0.6766022145099984, 2.2039409672539962, 0.03266744586049031, 0.03472553433878889, 0.040833653761186195, 0.041636406816296656, 0.03626028187878072, 0.02943042784608041, 0.023195232303374835, 0.024758245096030862, 0.027099470418052718, -0.7348639263382541, 2.8787873309057774, -0.7112813202979116, 0.09000351954639818, 0.08780915535306444, 0.08381193578693691, 0.07963476652797041, 0.08088697327816119, 1.3831371839756095, 0.2053207857763033, 0.01415053324978044, 0.016401051914244347, 0.015240497050507784, 0.019781392583678947, 0.017770260731165388, 0.017322658584001616, 0.012891689188455846, 0.014579420975506574, 0.013498571853870267, -0.26008792783404433, 0.37246836334443634, 0.01626199285896157, 0.01523560566281601, 0.013566008331193924, 0.012764983967872068, 0.011500712473709873, 0.011305290130996015, 0.010823111801525398, 0.013362070227737943, 0.014162033451619926, -0.33802437250821193, 0.5316779885865406, 0.01119033460842811, -0.3418541467958851, 0.020425036694969867, 0.020902595526996803, 0.022603477670128047, 0.021545747652030434, 0.01996993606174824, 0.3820675330208778, 0.10141983474623162, 0.011470950754383757, 0.012516949521064857, 0.012472510793143599, 0.009555844133307456, 0.009387088980627123, 0.011213201729780131, 0.011956134798999596, 0.012854957033037628, 0.014367219372561468, -0.17331442436916755, 0.22747355737046449, 0.01172290682330912, 0.013382610932667571, 0.01521772881841188, 0.014881846192381643, 0.016736301568233358, 0.018682664691683337, 0.017306612134931898, 0.015777256450429933, 0.016002422089962387, -0.28306830516299275, 0.41946297161735213, -0.28740971637990087, 0.013426426917154233, 0.011939658817368803, 0.009203073331329747, 0.008956628625210294, 0.009240054338268466, 0.35742800690131693, 0.185351698251369, 0.018892959462755377, 0.018181874196107506, 0.017917107168597735, 0.020039790057360563, 0.019620150986107143, 0.022079783886487903, 0.020009747894178087, 0.017462438814435988, 0.016664003709638386, -0.27329444565177063, 0.398471362109138, 0.016829057571211337, 0.01818573039520044, 0.017302999077358105, 0.0182516361230618, 0.016155258160971853, 0.013149891001849712, 0.013305863143944663, -0.34844003590459227, 0.016412906955488138, 0.017556764808053904, 0.01554862399537349, 0.020442583760575728, 0.01955910654457904, 0.020704822308188042], \"yaxis\": \"y\"}, {\"hovertemplate\": \"variable=USA Deaths<br>index=%{x}<br>value=%{y}<extra></extra>\", \"legendgroup\": \"USA Deaths\", \"marker\": {\"color\": \"#EF553B\", \"symbol\": \"circle\"}, \"mode\": \"markers\", \"name\": \"USA Deaths\", \"orientation\": \"v\", \"showlegend\": true, \"type\": \"scatter\", \"x\": [\"2020-03-17T00:00:00\", \"2020-03-18T00:00:00\", \"2020-03-19T00:00:00\", \"2020-03-20T00:00:00\", \"2020-03-21T00:00:00\", \"2020-03-22T00:00:00\", \"2020-03-23T00:00:00\", \"2020-03-24T00:00:00\", \"2020-03-25T00:00:00\", \"2020-03-26T00:00:00\", \"2020-03-27T00:00:00\", \"2020-03-28T00:00:00\", \"2020-03-29T00:00:00\", \"2020-03-30T00:00:00\", \"2020-03-31T00:00:00\", \"2020-04-01T00:00:00\", \"2020-04-10T00:00:00\", \"2020-04-11T00:00:00\", \"2020-04-12T00:00:00\", \"2020-04-13T00:00:00\", \"2020-04-14T00:00:00\", \"2020-04-15T00:00:00\", \"2020-04-16T00:00:00\", \"2020-04-17T00:00:00\", \"2020-04-18T00:00:00\", \"2020-04-19T00:00:00\", \"2020-04-02T00:00:00\", \"2020-04-20T00:00:00\", \"2020-04-21T00:00:00\", \"2020-04-22T00:00:00\", \"2020-04-23T00:00:00\", \"2020-04-24T00:00:00\", \"2020-04-25T00:00:00\", \"2020-04-26T00:00:00\", \"2020-04-27T00:00:00\", \"2020-04-28T00:00:00\", \"2020-04-29T00:00:00\", \"2020-04-03T00:00:00\", \"2020-04-30T00:00:00\", \"2020-04-04T00:00:00\", \"2020-04-05T00:00:00\", \"2020-04-06T00:00:00\", \"2020-04-07T00:00:00\", \"2020-04-08T00:00:00\", \"2020-04-09T00:00:00\", \"2020-05-01T00:00:00\", \"2020-05-10T00:00:00\", \"2020-05-11T00:00:00\", \"2020-05-12T00:00:00\", \"2020-05-13T00:00:00\", \"2020-05-14T00:00:00\", \"2020-05-15T00:00:00\", \"2020-05-16T00:00:00\", \"2020-05-17T00:00:00\", \"2020-05-18T00:00:00\", \"2020-05-19T00:00:00\", \"2020-05-02T00:00:00\", \"2020-05-20T00:00:00\", \"2020-05-21T00:00:00\", \"2020-05-22T00:00:00\", \"2020-05-23T00:00:00\", \"2020-05-24T00:00:00\", \"2020-05-25T00:00:00\", \"2020-05-26T00:00:00\", \"2020-05-27T00:00:00\", \"2020-05-28T00:00:00\", \"2020-05-29T00:00:00\", \"2020-05-03T00:00:00\", \"2020-05-30T00:00:00\", \"2020-05-31T00:00:00\", \"2020-05-04T00:00:00\", \"2020-05-05T00:00:00\", \"2020-05-06T00:00:00\", \"2020-05-07T00:00:00\", \"2020-05-08T00:00:00\", \"2020-05-09T00:00:00\", \"2020-06-01T00:00:00\", \"2020-06-10T00:00:00\", \"2020-06-11T00:00:00\", \"2020-06-12T00:00:00\", \"2020-06-13T00:00:00\", \"2020-06-14T00:00:00\", \"2020-06-15T00:00:00\", \"2020-06-16T00:00:00\", \"2020-06-17T00:00:00\", \"2020-06-18T00:00:00\", \"2020-06-19T00:00:00\", \"2020-06-02T00:00:00\", \"2020-06-20T00:00:00\", \"2020-06-21T00:00:00\", \"2020-06-22T00:00:00\", \"2020-06-23T00:00:00\", \"2020-06-24T00:00:00\", \"2020-06-25T00:00:00\", \"2020-06-26T00:00:00\", \"2020-06-27T00:00:00\", \"2020-06-28T00:00:00\", \"2020-06-29T00:00:00\", \"2020-06-03T00:00:00\", \"2020-06-30T00:00:00\", \"2020-06-04T00:00:00\", \"2020-06-05T00:00:00\", \"2020-06-06T00:00:00\", \"2020-06-07T00:00:00\", \"2020-06-08T00:00:00\", \"2020-06-09T00:00:00\", \"2020-07-01T00:00:00\", \"2020-07-10T00:00:00\", \"2020-07-11T00:00:00\", \"2020-07-12T00:00:00\", \"2020-07-13T00:00:00\", \"2020-07-14T00:00:00\", \"2020-07-15T00:00:00\", \"2020-07-16T00:00:00\", \"2020-07-17T00:00:00\", \"2020-07-18T00:00:00\", \"2020-07-19T00:00:00\", \"2020-07-02T00:00:00\", \"2020-07-20T00:00:00\", \"2020-07-21T00:00:00\", \"2020-07-22T00:00:00\", \"2020-07-23T00:00:00\", \"2020-07-24T00:00:00\", \"2020-07-25T00:00:00\", \"2020-07-26T00:00:00\", \"2020-07-27T00:00:00\", \"2020-07-03T00:00:00\", \"2020-07-04T00:00:00\", \"2020-07-05T00:00:00\", \"2020-07-06T00:00:00\", \"2020-07-07T00:00:00\", \"2020-07-08T00:00:00\", \"2020-07-09T00:00:00\"], \"xaxis\": \"x\", \"y\": [0.35051546391752586, 0.43511450381679384, 0.40957446808510634, 59.333333333333336, 0.2596685082872927, 0.3179824561403508, 0.3044925124792013, 0.30229591836734704, 0.30558276199804113, 0.3098274568642161, 0.3172966781214204, 0.27565217391304353, 0.2137014314928425, 624.8571428571429, 0.2793882675188313, 310.1818181818182, 2.3203330411919367, 0.09000923848488851, 0.0714775800137224, 0.06885641102907947, 0.08471948125176199, 0.08281351526965564, 0.06339824177143027, 0.07375430280458217, 0.06269707799032997, 0.030389199347213403, -0.7976530440834153, 4.1548861480075905, 0.05652694059724839, 0.05202186268318698, 0.05044295413147881, 0.04173481250862077, 0.031210395899143206, 0.02371737256268691, 0.025533058591650226, 0.03876998340176474, 0.042150233794193914, -0.8426888315041963, 5.592387401251667, -0.8283273157370518, 0.13045054845435589, 0.1337610264635125, 0.16331871551846078, 0.12865568188727416, 0.11178150083499427, 2.2040410892528346, 0.2227599243856333, 0.012528600581287463, 0.019726877412419963, 0.020974330103134875, 0.020813290470938828, 0.019090198602427444, 0.01379287011244057, 0.008365594268678, 0.008494770751511505, 0.016966766578423442, -0.2719733232937127, 0.3967435469334082, 0.012937281161075953, 0.013252433267889163, 0.011553723267199167, 0.0061948525665844745, 0.0051947262895679636, 0.006900581260640415, 0.015097246678405618, 0.011649796473521823, 0.011359761503463517, -0.33746592299318945, 0.5234453378309609, 0.005592777109698632, -0.3348202422079648, 0.03291670233712862, 0.033953559045764026, 0.025637600032063723, 0.022495766575485243, 0.018841484387938312, 0.32709812943883154, 0.0706169442978819, 0.007753165949432761, 0.007178286991756266, 0.006502852584667096, 0.002567106577995304, 0.0033596260590125215, 0.0071848800664537915, 0.006385402850049404, 0.005947804634894416, 0.005643881176144561, -0.10497832786310224, 0.12298332540193524, 0.002118837713649402, 0.0033663891744883934, 0.006916783736881316, 0.006212709381437476, 0.019754657270562026, 0.0048389934893542375, 0.003892351410081929, 0.0019108785283856733, 0.0027698419607316005, -0.14641191372493312, 0.17819136641426048, -0.14332349802247468, 0.00888538765938729, 0.006174072527193264, 0.004069735963471599, 0.00453855071942777, 0.00840982697228343, 0.13654914207640578, 0.04680535498224114, 0.005040976577355805, 0.003175616017569771, 0.002670019599866791, 0.006638832745673673, 0.0069541131124235545, 0.00686242404395454, 0.00656268520793879, 0.006124969482860232, 0.002961768211306115, -0.08347446169610206, 0.09488909419811642, 0.007771671689416726, 0.008408328114775543, 0.007773033017946407, 0.007823859309007863, 0.006217367408628771, 0.0032089577714813355, 0.007322965937319292, -0.1254568917175075, 0.0019081905409372713, 0.0020896143851829585, 0.0025007694675285297, 0.009172199408987947, 0.006236689990873234, 0.007482993197278853], \"yaxis\": \"y\"}, {\"hovertemplate\": \"variable=Brazil Confirmed<br>index=%{x}<br>value=%{y}<extra></extra>\", \"legendgroup\": \"Brazil Confirmed\", \"marker\": {\"color\": \"#00cc96\", \"symbol\": \"circle\"}, \"mode\": \"markers\", \"name\": \"Brazil Confirmed\", \"orientation\": \"v\", \"showlegend\": true, \"type\": \"scatter\", \"x\": [\"2020-03-17T00:00:00\", \"2020-03-18T00:00:00\", \"2020-03-19T00:00:00\", \"2020-03-20T00:00:00\", \"2020-03-21T00:00:00\", \"2020-03-22T00:00:00\", \"2020-03-23T00:00:00\", \"2020-03-24T00:00:00\", \"2020-03-25T00:00:00\", \"2020-03-26T00:00:00\", \"2020-03-27T00:00:00\", \"2020-03-28T00:00:00\", \"2020-03-29T00:00:00\", \"2020-03-30T00:00:00\", \"2020-03-31T00:00:00\", \"2020-04-01T00:00:00\", \"2020-04-10T00:00:00\", \"2020-04-11T00:00:00\", \"2020-04-12T00:00:00\", \"2020-04-13T00:00:00\", \"2020-04-14T00:00:00\", \"2020-04-15T00:00:00\", \"2020-04-16T00:00:00\", \"2020-04-17T00:00:00\", \"2020-04-18T00:00:00\", \"2020-04-19T00:00:00\", \"2020-04-02T00:00:00\", \"2020-04-20T00:00:00\", \"2020-04-21T00:00:00\", \"2020-04-22T00:00:00\", \"2020-04-23T00:00:00\", \"2020-04-24T00:00:00\", \"2020-04-25T00:00:00\", \"2020-04-26T00:00:00\", \"2020-04-27T00:00:00\", \"2020-04-28T00:00:00\", \"2020-04-29T00:00:00\", \"2020-04-03T00:00:00\", \"2020-04-30T00:00:00\", \"2020-04-04T00:00:00\", \"2020-04-05T00:00:00\", \"2020-04-06T00:00:00\", \"2020-04-07T00:00:00\", \"2020-04-08T00:00:00\", \"2020-04-09T00:00:00\", \"2020-05-01T00:00:00\", \"2020-05-10T00:00:00\", \"2020-05-11T00:00:00\", \"2020-05-12T00:00:00\", \"2020-05-13T00:00:00\", \"2020-05-14T00:00:00\", \"2020-05-15T00:00:00\", \"2020-05-16T00:00:00\", \"2020-05-17T00:00:00\", \"2020-05-18T00:00:00\", \"2020-05-19T00:00:00\", \"2020-05-02T00:00:00\", \"2020-05-20T00:00:00\", \"2020-05-21T00:00:00\", \"2020-05-22T00:00:00\", \"2020-05-23T00:00:00\", \"2020-05-24T00:00:00\", \"2020-05-25T00:00:00\", \"2020-05-26T00:00:00\", \"2020-05-27T00:00:00\", \"2020-05-28T00:00:00\", \"2020-05-29T00:00:00\", \"2020-05-03T00:00:00\", \"2020-05-30T00:00:00\", \"2020-05-31T00:00:00\", \"2020-05-04T00:00:00\", \"2020-05-05T00:00:00\", \"2020-05-06T00:00:00\", \"2020-05-07T00:00:00\", \"2020-05-08T00:00:00\", \"2020-05-09T00:00:00\", \"2020-06-01T00:00:00\", \"2020-06-10T00:00:00\", \"2020-06-11T00:00:00\", \"2020-06-12T00:00:00\", \"2020-06-13T00:00:00\", \"2020-06-14T00:00:00\", \"2020-06-15T00:00:00\", \"2020-06-16T00:00:00\", \"2020-06-17T00:00:00\", \"2020-06-18T00:00:00\", \"2020-06-19T00:00:00\", \"2020-06-02T00:00:00\", \"2020-06-20T00:00:00\", \"2020-06-21T00:00:00\", \"2020-06-22T00:00:00\", \"2020-06-23T00:00:00\", \"2020-06-24T00:00:00\", \"2020-06-25T00:00:00\", \"2020-06-26T00:00:00\", \"2020-06-27T00:00:00\", \"2020-06-28T00:00:00\", \"2020-06-29T00:00:00\", \"2020-06-03T00:00:00\", \"2020-06-30T00:00:00\", \"2020-06-04T00:00:00\", \"2020-06-05T00:00:00\", \"2020-06-06T00:00:00\", \"2020-06-07T00:00:00\", \"2020-06-08T00:00:00\", \"2020-06-09T00:00:00\", \"2020-07-01T00:00:00\", \"2020-07-10T00:00:00\", \"2020-07-11T00:00:00\", \"2020-07-12T00:00:00\", \"2020-07-13T00:00:00\", \"2020-07-14T00:00:00\", \"2020-07-15T00:00:00\", \"2020-07-16T00:00:00\", \"2020-07-17T00:00:00\", \"2020-07-18T00:00:00\", \"2020-07-19T00:00:00\", \"2020-07-02T00:00:00\", \"2020-07-20T00:00:00\", \"2020-07-21T00:00:00\", \"2020-07-22T00:00:00\", \"2020-07-23T00:00:00\", \"2020-07-24T00:00:00\", \"2020-07-25T00:00:00\", \"2020-07-26T00:00:00\", \"2020-07-27T00:00:00\", \"2020-07-03T00:00:00\", \"2020-07-04T00:00:00\", \"2020-07-05T00:00:00\", \"2020-07-06T00:00:00\", \"2020-07-07T00:00:00\", \"2020-07-08T00:00:00\", \"2020-07-09T00:00:00\"], \"xaxis\": \"x\", \"y\": [0.2435897435897436, 0.47079037800687296, 0.4509345794392523, 0.4557165861513688, 0.24778761061946897, 0.3705673758865249, 0.22315653298835714, 0.16393442622950816, 0.105406633348478, 0.1981093300452117, 0.17221269296740993, 0.1422300263388938, 0.09044324878298737, 0.0758928571428572, 0.2485258790128848, 0.19538219345810748, 0.09973679789438306, 0.05545371219065087, 0.06957109084768653, 0.05688123054716043, 0.07819035424669218, 0.12105138152165318, 0.07432909604519766, 0.10705012325390295, 0.08660412089543379, 0.05614907511134182, 0.1574480538484051, 0.049852537900346716, 0.061555900544589814, 0.06216485990854004, 0.08162685490744592, 0.07077911581669771, 0.10404755165581658, 0.057751798868550086, 0.07453787487073416, 0.08097622592141462, 0.08730489942408814, 0.14487989886219976, 0.09234666461963603, 0.13493816254416968, 0.08289550496205478, 0.08319856244384538, 0.13777372262773713, 0.16111394619814834, 0.12117787405035485, 0.06932536893886154, 0.043350284406081796, 0.03461607016638091, 0.05499878216133691, 0.06410870042626504, 0.07378792849810023, 0.07542455573187201, 0.06836584594657769, 0.034047919293821005, 0.05450472872075651, 0.06847612304303352, 0.05582755561397157, 0.07344971799667199, 0.06347507879511216, 0.06708762379590238, 0.04988969143824229, 0.04551839676682068, 0.032176888915809165, 0.043542510229449105, 0.05265296941378561, 0.06414680164440378, 0.06144606355450688, 0.049286277438897796, 0.07153145328764365, 0.03161865018858845, 0.065577822377332, 0.06434403414362588, 0.09155733775007624, 0.07896628280279194, 0.07565911210456977, 0.07301414730815803, 0.023817580707895747, 0.044506918836028975, 0.039372566078382576, 0.0323630964540349, 0.026186942725112017, 0.02011724674726101, 0.02379717481305277, 0.039310075416173706, 0.03486610000769064, 0.023828289774612488, 0.055994937340386075, 0.05496469730096276, 0.03356139384439927, 0.01635382486916659, 0.01975230360595659, 0.035641273599826384, 0.03728490818618635, 0.03321720533958805, 0.03815606694492524, 0.030348069842992986, 0.023199182136721008, 0.017893929440543133, 0.05155541311131229, 0.0247377018626731, 0.05295231637489395, 0.05013489098954205, 0.041926627240925995, 0.028107471843482834, 0.022629300998326052, 0.04536394632830665, 0.033317142651320575, 0.02565698758215018, 0.021669488518330837, 0.01349620893007586, 0.010879072613492635, 0.02220569378668169, 0.02072010728535667, 0.02308531647165779, 0.016985305774765314, 0.013943023796771481, 0.011340042219716073, 0.03320441786833239, 0.009653596163533118, 0.019355758347548324, 0.03142169995749322, 0.02691834933472914, 0.024433491076405245, 0.02182629602033992, 0.010264300089412703, 0.009625102982897316, 0.028207752505581718, 0.02464002869244708, 0.016519298619407374, 0.01261903053856539, 0.02790947240285746, 0.026711790620698173, 0.024877419505475284], \"yaxis\": \"y\"}, {\"hovertemplate\": \"variable=Brazil Deaths<br>index=%{x}<br>value=%{y}<extra></extra>\", \"legendgroup\": \"Brazil Deaths\", \"marker\": {\"color\": \"#ab63fa\", \"symbol\": \"circle\"}, \"mode\": \"markers\", \"name\": \"Brazil Deaths\", \"orientation\": \"v\", \"showlegend\": true, \"type\": \"scatter\", \"x\": [\"2020-03-17T00:00:00\", \"2020-03-18T00:00:00\", \"2020-03-19T00:00:00\", \"2020-03-20T00:00:00\", \"2020-03-21T00:00:00\", \"2020-03-22T00:00:00\", \"2020-03-23T00:00:00\", \"2020-03-24T00:00:00\", \"2020-03-25T00:00:00\", \"2020-03-26T00:00:00\", \"2020-03-27T00:00:00\", \"2020-03-28T00:00:00\", \"2020-03-29T00:00:00\", \"2020-03-30T00:00:00\", \"2020-03-31T00:00:00\", \"2020-04-01T00:00:00\", \"2020-04-10T00:00:00\", \"2020-04-11T00:00:00\", \"2020-04-12T00:00:00\", \"2020-04-13T00:00:00\", \"2020-04-14T00:00:00\", \"2020-04-15T00:00:00\", \"2020-04-16T00:00:00\", \"2020-04-17T00:00:00\", \"2020-04-18T00:00:00\", \"2020-04-19T00:00:00\", \"2020-04-02T00:00:00\", \"2020-04-20T00:00:00\", \"2020-04-21T00:00:00\", \"2020-04-22T00:00:00\", \"2020-04-23T00:00:00\", \"2020-04-24T00:00:00\", \"2020-04-25T00:00:00\", \"2020-04-26T00:00:00\", \"2020-04-27T00:00:00\", \"2020-04-28T00:00:00\", \"2020-04-29T00:00:00\", \"2020-04-03T00:00:00\", \"2020-04-30T00:00:00\", \"2020-04-04T00:00:00\", \"2020-04-05T00:00:00\", \"2020-04-06T00:00:00\", \"2020-04-07T00:00:00\", \"2020-04-08T00:00:00\", \"2020-04-09T00:00:00\", \"2020-05-01T00:00:00\", \"2020-05-10T00:00:00\", \"2020-05-11T00:00:00\", \"2020-05-12T00:00:00\", \"2020-05-13T00:00:00\", \"2020-05-14T00:00:00\", \"2020-05-15T00:00:00\", \"2020-05-16T00:00:00\", \"2020-05-17T00:00:00\", \"2020-05-18T00:00:00\", \"2020-05-19T00:00:00\", \"2020-05-02T00:00:00\", \"2020-05-20T00:00:00\", \"2020-05-21T00:00:00\", \"2020-05-22T00:00:00\", \"2020-05-23T00:00:00\", \"2020-05-24T00:00:00\", \"2020-05-25T00:00:00\", \"2020-05-26T00:00:00\", \"2020-05-27T00:00:00\", \"2020-05-28T00:00:00\", \"2020-05-29T00:00:00\", \"2020-05-03T00:00:00\", \"2020-05-30T00:00:00\", \"2020-05-31T00:00:00\", \"2020-05-04T00:00:00\", \"2020-05-05T00:00:00\", \"2020-05-06T00:00:00\", \"2020-05-07T00:00:00\", \"2020-05-08T00:00:00\", \"2020-05-09T00:00:00\", \"2020-06-01T00:00:00\", \"2020-06-10T00:00:00\", \"2020-06-11T00:00:00\", \"2020-06-12T00:00:00\", \"2020-06-13T00:00:00\", \"2020-06-14T00:00:00\", \"2020-06-15T00:00:00\", \"2020-06-16T00:00:00\", \"2020-06-17T00:00:00\", \"2020-06-18T00:00:00\", \"2020-06-19T00:00:00\", \"2020-06-02T00:00:00\", \"2020-06-20T00:00:00\", \"2020-06-21T00:00:00\", \"2020-06-22T00:00:00\", \"2020-06-23T00:00:00\", \"2020-06-24T00:00:00\", \"2020-06-25T00:00:00\", \"2020-06-26T00:00:00\", \"2020-06-27T00:00:00\", \"2020-06-28T00:00:00\", \"2020-06-29T00:00:00\", \"2020-06-03T00:00:00\", \"2020-06-30T00:00:00\", \"2020-06-04T00:00:00\", \"2020-06-05T00:00:00\", \"2020-06-06T00:00:00\", \"2020-06-07T00:00:00\", \"2020-06-08T00:00:00\", \"2020-06-09T00:00:00\", \"2020-07-01T00:00:00\", \"2020-07-10T00:00:00\", \"2020-07-11T00:00:00\", \"2020-07-12T00:00:00\", \"2020-07-13T00:00:00\", \"2020-07-14T00:00:00\", \"2020-07-15T00:00:00\", \"2020-07-16T00:00:00\", \"2020-07-17T00:00:00\", \"2020-07-18T00:00:00\", \"2020-07-19T00:00:00\", \"2020-07-02T00:00:00\", \"2020-07-20T00:00:00\", \"2020-07-21T00:00:00\", \"2020-07-22T00:00:00\", \"2020-07-23T00:00:00\", \"2020-07-24T00:00:00\", \"2020-07-25T00:00:00\", \"2020-07-26T00:00:00\", \"2020-07-27T00:00:00\", \"2020-07-03T00:00:00\", \"2020-07-04T00:00:00\", \"2020-07-05T00:00:00\", \"2020-07-06T00:00:00\", \"2020-07-07T00:00:00\", \"2020-07-08T00:00:00\", \"2020-07-09T00:00:00\"], \"xaxis\": \"x\", \"y\": [null, 3.0, 0.5, 0.8333333333333333, 0.6363636363636365, 0.38888888888888884, 0.3600000000000001, 0.3529411764705883, 0.23913043478260865, 0.3508771929824561, 0.19480519480519476, 0.23913043478260865, 0.1929824561403508, 0.1691176470588236, 0.26415094339622636, 0.1990049751243781, 0.12221041445270986, 0.06439393939393945, 0.08807829181494653, 0.08585445625511046, 0.1536144578313252, 0.13315926892950403, 0.10829493087557607, 0.11278586278586289, 0.09621672115833713, 0.04899872177247544, 0.2406639004149378, 0.04589764419171405, 0.06446601941747576, 0.060197008391098095, 0.14005505849965583, 0.10775731964986424, 0.0942779291553133, 0.04706175298804771, 0.08038049940546976, 0.10433634162447714, 0.08949571457046046, 0.20066889632107032, 0.07958287596048308, 0.20334261838440115, 0.125, 0.13786008230452684, 0.20614828209764924, 0.199400299850075, 0.17625000000000002, 0.07253007964751745, 0.04667356732850281, 0.03560190596062207, 0.07648233353589728, 0.06040322580645152, 0.06418739067609702, 0.05888658615021791, 0.05507187689815751, 0.031024115652785733, 0.041816602556148386, 0.07021200571700814, 0.06241112340022115, 0.04941294307495414, 0.0629937960655389, 0.049832892702149856, 0.04594697329658848, 0.029664289283605205, 0.0356039883525987, 0.04426362203382617, 0.04430483028720622, 0.045159778107664694, 0.042012409359348135, 0.04476502082094003, 0.03429227347729391, 0.016647013941874178, 0.04213523131672603, 0.08195601693757681, 0.07751546521903796, 0.0715875805506736, 0.08189372403236383, 0.0739767559373421, 0.02125264378795122, 0.033171900223923245, 0.031224798387096797, 0.02221461912558964, 0.021325427943004627, 0.014325842696629287, 0.014469675990030462, 0.029163538752018825, 0.028049777856369307, 0.02661793162760695, 0.025257602412666502, 0.042155192571065925, 0.020876741430730927, 0.012826156555146406, 0.012920560286069804, 0.026798775136041897, 0.022509260138664722, 0.02119635890767224, 0.018009495916028406, 0.019817372813209166, 0.00967233222358499, 0.012009302002707223, 0.043238565338632684, 0.02195013204376317, 0.04525623694236214, 0.02954057787836928, 0.025809398732370203, 0.014611745059838643, 0.01862570292140986, 0.03425432218452085, 0.01741786085847563, 0.017547409805735326, 0.01521350038353364, 0.008829002784424, 0.010166435506241411, 0.017849051940741045, 0.016632269029986713, 0.017541066263301763, 0.015165345295222288, 0.01183029119728718, 0.009089524196415066, 0.020649162158596024, 0.007950885668277063, 0.01706190713929101, 0.015757114631781866, 0.015838880767418573, 0.013748483623129859, 0.014207278443886473, 0.006419970155814303, 0.007057146797848413, 0.020845452782625618, 0.017269762877133, 0.009367462849140251, 0.009558018715217331, 0.019148838700810744, 0.018324568106561134, 0.017950679771643774], \"yaxis\": \"y\"}, {\"hovertemplate\": \"variable=India Deaths<br>index=%{x}<br>value=%{y}<extra></extra>\", \"legendgroup\": \"India Deaths\", \"marker\": {\"color\": \"#FFA15A\", \"symbol\": \"circle\"}, \"mode\": \"markers\", \"name\": \"India Deaths\", \"orientation\": \"v\", \"showlegend\": true, \"type\": \"scatter\", \"x\": [\"2020-03-17T00:00:00\", \"2020-03-18T00:00:00\", \"2020-03-19T00:00:00\", \"2020-03-20T00:00:00\", \"2020-03-21T00:00:00\", \"2020-03-22T00:00:00\", \"2020-03-23T00:00:00\", \"2020-03-24T00:00:00\", \"2020-03-25T00:00:00\", \"2020-03-26T00:00:00\", \"2020-03-27T00:00:00\", \"2020-03-28T00:00:00\", \"2020-03-29T00:00:00\", \"2020-03-30T00:00:00\", \"2020-03-31T00:00:00\", \"2020-04-01T00:00:00\", \"2020-04-10T00:00:00\", \"2020-04-11T00:00:00\", \"2020-04-12T00:00:00\", \"2020-04-13T00:00:00\", \"2020-04-14T00:00:00\", \"2020-04-15T00:00:00\", \"2020-04-16T00:00:00\", \"2020-04-17T00:00:00\", \"2020-04-18T00:00:00\", \"2020-04-19T00:00:00\", \"2020-04-02T00:00:00\", \"2020-04-20T00:00:00\", \"2020-04-21T00:00:00\", \"2020-04-22T00:00:00\", \"2020-04-23T00:00:00\", \"2020-04-24T00:00:00\", \"2020-04-25T00:00:00\", \"2020-04-26T00:00:00\", \"2020-04-27T00:00:00\", \"2020-04-28T00:00:00\", \"2020-04-29T00:00:00\", \"2020-04-03T00:00:00\", \"2020-04-30T00:00:00\", \"2020-04-04T00:00:00\", \"2020-04-05T00:00:00\", \"2020-04-06T00:00:00\", \"2020-04-07T00:00:00\", \"2020-04-08T00:00:00\", \"2020-04-09T00:00:00\", \"2020-05-01T00:00:00\", \"2020-05-10T00:00:00\", \"2020-05-11T00:00:00\", \"2020-05-12T00:00:00\", \"2020-05-13T00:00:00\", \"2020-05-14T00:00:00\", \"2020-05-15T00:00:00\", \"2020-05-16T00:00:00\", \"2020-05-17T00:00:00\", \"2020-05-18T00:00:00\", \"2020-05-19T00:00:00\", \"2020-05-02T00:00:00\", \"2020-05-20T00:00:00\", \"2020-05-21T00:00:00\", \"2020-05-22T00:00:00\", \"2020-05-23T00:00:00\", \"2020-05-24T00:00:00\", \"2020-05-25T00:00:00\", \"2020-05-26T00:00:00\", \"2020-05-27T00:00:00\", \"2020-05-28T00:00:00\", \"2020-05-29T00:00:00\", \"2020-05-03T00:00:00\", \"2020-05-30T00:00:00\", \"2020-05-31T00:00:00\", \"2020-05-04T00:00:00\", \"2020-05-05T00:00:00\", \"2020-05-06T00:00:00\", \"2020-05-07T00:00:00\", \"2020-05-08T00:00:00\", \"2020-05-09T00:00:00\", \"2020-06-01T00:00:00\", \"2020-06-10T00:00:00\", \"2020-06-11T00:00:00\", \"2020-06-12T00:00:00\", \"2020-06-13T00:00:00\", \"2020-06-14T00:00:00\", \"2020-06-15T00:00:00\", \"2020-06-16T00:00:00\", \"2020-06-17T00:00:00\", \"2020-06-18T00:00:00\", \"2020-06-19T00:00:00\", \"2020-06-02T00:00:00\", \"2020-06-20T00:00:00\", \"2020-06-21T00:00:00\", \"2020-06-22T00:00:00\", \"2020-06-23T00:00:00\", \"2020-06-24T00:00:00\", \"2020-06-25T00:00:00\", \"2020-06-26T00:00:00\", \"2020-06-27T00:00:00\", \"2020-06-28T00:00:00\", \"2020-06-29T00:00:00\", \"2020-06-03T00:00:00\", \"2020-06-30T00:00:00\", \"2020-06-04T00:00:00\", \"2020-06-05T00:00:00\", \"2020-06-06T00:00:00\", \"2020-06-07T00:00:00\", \"2020-06-08T00:00:00\", \"2020-06-09T00:00:00\", \"2020-07-01T00:00:00\", \"2020-07-10T00:00:00\", \"2020-07-11T00:00:00\", \"2020-07-12T00:00:00\", \"2020-07-13T00:00:00\", \"2020-07-14T00:00:00\", \"2020-07-15T00:00:00\", \"2020-07-16T00:00:00\", \"2020-07-17T00:00:00\", \"2020-07-18T00:00:00\", \"2020-07-19T00:00:00\", \"2020-07-02T00:00:00\", \"2020-07-20T00:00:00\", \"2020-07-21T00:00:00\", \"2020-07-22T00:00:00\", \"2020-07-23T00:00:00\", \"2020-07-24T00:00:00\", \"2020-07-25T00:00:00\", \"2020-07-26T00:00:00\", \"2020-07-27T00:00:00\", \"2020-07-03T00:00:00\", \"2020-07-04T00:00:00\", \"2020-07-05T00:00:00\", \"2020-07-06T00:00:00\", \"2020-07-07T00:00:00\", \"2020-07-08T00:00:00\", \"2020-07-09T00:00:00\"], \"xaxis\": \"x\", \"y\": [3.0, 3.0, 4.0, 4.0, 4.0, 7.0, 7.0, 9.0, 10.0, 15.0, 17.0, 19.0, 27.0, 31.0, 35.0, 41.0, 206.0, 242.0, 273.0, 324.0, 353.0, 392.0, 420.0, 452.0, 488.0, 519.0, 53.0, 559.0, 603.0, 652.0, 686.0, 723.0, 779.0, 826.0, 886.0, 937.0, 1008.0, 62.0, 1075.0, 75.0, 83.0, 111.0, 124.0, 149.0, 169.0, 1152.0, 2109.0, 2206.0, 2293.0, 2415.0, 2549.0, 2649.0, 2752.0, 2872.0, 3029.0, 3163.0, 1218.0, 3303.0, 3435.0, 3583.0, 3720.0, 3867.0, 4021.0, 4167.0, 4337.0, 4531.0, 4706.0, 1306.0, 4971.0, 5164.0, 1389.0, 1583.0, 1694.0, 1783.0, 1886.0, 1981.0, 5394.0, 7745.0, 8102.0, 8498.0, 8884.0, 9195.0, 9520.0, 9900.0, 11903.0, 12237.0, 12573.0, 5598.0, 12948.0, 13254.0, 13699.0, 14011.0, 14476.0, 14894.0, 15301.0, 15685.0, 16095.0, 16475.0, 5815.0, 16893.0, 6075.0, 6348.0, 6642.0, 6929.0, 7135.0, 7466.0, 17400.0, 21604.0, 22123.0, 22674.0, 23174.0, 23727.0, 24309.0, 24915.0, 25602.0, 26273.0, 26816.0, 17834.0, 27497.0, 28084.0, 28732.0, 29861.0, 30601.0, 31358.0, 32063.0, 32771.0, 18213.0, 18655.0, 19268.0, 19693.0, 20160.0, 20642.0, 21129.0], \"yaxis\": \"y\"}, {\"hovertemplate\": \"variable=India Confirmed<br>index=%{x}<br>value=%{y}<extra></extra>\", \"legendgroup\": \"India Confirmed\", \"marker\": {\"color\": \"#19d3f3\", \"symbol\": \"circle\"}, \"mode\": \"markers\", \"name\": \"India Confirmed\", \"orientation\": \"v\", \"showlegend\": true, \"type\": \"scatter\", \"x\": [\"2020-03-17T00:00:00\", \"2020-03-18T00:00:00\", \"2020-03-19T00:00:00\", \"2020-03-20T00:00:00\", \"2020-03-21T00:00:00\", \"2020-03-22T00:00:00\", \"2020-03-23T00:00:00\", \"2020-03-24T00:00:00\", \"2020-03-25T00:00:00\", \"2020-03-26T00:00:00\", \"2020-03-27T00:00:00\", \"2020-03-28T00:00:00\", \"2020-03-29T00:00:00\", \"2020-03-30T00:00:00\", \"2020-03-31T00:00:00\", \"2020-04-01T00:00:00\", \"2020-04-10T00:00:00\", \"2020-04-11T00:00:00\", \"2020-04-12T00:00:00\", \"2020-04-13T00:00:00\", \"2020-04-14T00:00:00\", \"2020-04-15T00:00:00\", \"2020-04-16T00:00:00\", \"2020-04-17T00:00:00\", \"2020-04-18T00:00:00\", \"2020-04-19T00:00:00\", \"2020-04-02T00:00:00\", \"2020-04-20T00:00:00\", \"2020-04-21T00:00:00\", \"2020-04-22T00:00:00\", \"2020-04-23T00:00:00\", \"2020-04-24T00:00:00\", \"2020-04-25T00:00:00\", \"2020-04-26T00:00:00\", \"2020-04-27T00:00:00\", \"2020-04-28T00:00:00\", \"2020-04-29T00:00:00\", \"2020-04-03T00:00:00\", \"2020-04-30T00:00:00\", \"2020-04-04T00:00:00\", \"2020-04-05T00:00:00\", \"2020-04-06T00:00:00\", \"2020-04-07T00:00:00\", \"2020-04-08T00:00:00\", \"2020-04-09T00:00:00\", \"2020-05-01T00:00:00\", \"2020-05-10T00:00:00\", \"2020-05-11T00:00:00\", \"2020-05-12T00:00:00\", \"2020-05-13T00:00:00\", \"2020-05-14T00:00:00\", \"2020-05-15T00:00:00\", \"2020-05-16T00:00:00\", \"2020-05-17T00:00:00\", \"2020-05-18T00:00:00\", \"2020-05-19T00:00:00\", \"2020-05-02T00:00:00\", \"2020-05-20T00:00:00\", \"2020-05-21T00:00:00\", \"2020-05-22T00:00:00\", \"2020-05-23T00:00:00\", \"2020-05-24T00:00:00\", \"2020-05-25T00:00:00\", \"2020-05-26T00:00:00\", \"2020-05-27T00:00:00\", \"2020-05-28T00:00:00\", \"2020-05-29T00:00:00\", \"2020-05-03T00:00:00\", \"2020-05-30T00:00:00\", \"2020-05-31T00:00:00\", \"2020-05-04T00:00:00\", \"2020-05-05T00:00:00\", \"2020-05-06T00:00:00\", \"2020-05-07T00:00:00\", \"2020-05-08T00:00:00\", \"2020-05-09T00:00:00\", \"2020-06-01T00:00:00\", \"2020-06-10T00:00:00\", \"2020-06-11T00:00:00\", \"2020-06-12T00:00:00\", \"2020-06-13T00:00:00\", \"2020-06-14T00:00:00\", \"2020-06-15T00:00:00\", \"2020-06-16T00:00:00\", \"2020-06-17T00:00:00\", \"2020-06-18T00:00:00\", \"2020-06-19T00:00:00\", \"2020-06-02T00:00:00\", \"2020-06-20T00:00:00\", \"2020-06-21T00:00:00\", \"2020-06-22T00:00:00\", \"2020-06-23T00:00:00\", \"2020-06-24T00:00:00\", \"2020-06-25T00:00:00\", \"2020-06-26T00:00:00\", \"2020-06-27T00:00:00\", \"2020-06-28T00:00:00\", \"2020-06-29T00:00:00\", \"2020-06-03T00:00:00\", \"2020-06-30T00:00:00\", \"2020-06-04T00:00:00\", \"2020-06-05T00:00:00\", \"2020-06-06T00:00:00\", \"2020-06-07T00:00:00\", \"2020-06-08T00:00:00\", \"2020-06-09T00:00:00\", \"2020-07-01T00:00:00\", \"2020-07-10T00:00:00\", \"2020-07-11T00:00:00\", \"2020-07-12T00:00:00\", \"2020-07-13T00:00:00\", \"2020-07-14T00:00:00\", \"2020-07-15T00:00:00\", \"2020-07-16T00:00:00\", \"2020-07-17T00:00:00\", \"2020-07-18T00:00:00\", \"2020-07-19T00:00:00\", \"2020-07-02T00:00:00\", \"2020-07-20T00:00:00\", \"2020-07-21T00:00:00\", \"2020-07-22T00:00:00\", \"2020-07-23T00:00:00\", \"2020-07-24T00:00:00\", \"2020-07-25T00:00:00\", \"2020-07-26T00:00:00\", \"2020-07-27T00:00:00\", \"2020-07-03T00:00:00\", \"2020-07-04T00:00:00\", \"2020-07-05T00:00:00\", \"2020-07-06T00:00:00\", \"2020-07-07T00:00:00\", \"2020-07-08T00:00:00\", \"2020-07-09T00:00:00\"], \"xaxis\": \"x\", \"y\": [137.0, 151.0, 173.0, 223.0, 283.0, 360.0, 433.0, 519.0, 606.0, 694.0, 724.0, 909.0, 1024.0, 1251.0, 1397.0, 1834.0, 6761.0, 7529.0, 8447.0, 9352.0, 10815.0, 11933.0, 12759.0, 13835.0, 14792.0, 16116.0, 2069.0, 17656.0, 18985.0, 20471.0, 21700.0, 23452.0, 24893.0, 26605.0, 28160.0, 29834.0, 31709.0, 2547.0, 33330.0, 3072.0, 3577.0, 4281.0, 4789.0, 5274.0, 5865.0, 34972.0, 62939.0, 67152.0, 70756.0, 74281.0, 78003.0, 81970.0, 85710.0, 90637.0, 95759.0, 100325.0, 37157.0, 106750.0, 112359.0, 118447.0, 125101.0, 131868.0, 138845.0, 145380.0, 151767.0, 158333.0, 165799.0, 40124.0, 173763.0, 182143.0, 42836.0, 46711.0, 49391.0, 52952.0, 56342.0, 59662.0, 190535.0, 276583.0, 286579.0, 297535.0, 308993.0, 320922.0, 332424.0, 343091.0, 354065.0, 366946.0, 380532.0, 198706.0, 395048.0, 410461.0, 425282.0, 440215.0, 456183.0, 473105.0, 490401.0, 508953.0, 528859.0, 548318.0, 207615.0, 566840.0, 216919.0, 226770.0, 236657.0, 246628.0, 256611.0, 266598.0, 585493.0, 793802.0, 820916.0, 849553.0, 878254.0, 906752.0, 936181.0, 968876.0, 1003832.0, 1038716.0, 1077618.0, 604641.0, 1118043.0, 1155191.0, 1192915.0, 1238635.0, 1287945.0, 1336861.0, 1385522.0, 1435453.0, 625544.0, 648315.0, 673165.0, 697413.0, 719665.0, 742417.0, 767296.0], \"yaxis\": \"y\"}],                        {\"legend\": {\"title\": {\"text\": \"variable\"}, \"tracegroupgap\": 0}, \"template\": {\"data\": {\"bar\": [{\"error_x\": {\"color\": \"#2a3f5f\"}, \"error_y\": {\"color\": \"#2a3f5f\"}, \"marker\": {\"line\": {\"color\": \"#E5ECF6\", \"width\": 0.5}}, \"type\": \"bar\"}], \"barpolar\": [{\"marker\": {\"line\": {\"color\": \"#E5ECF6\", \"width\": 0.5}}, \"type\": \"barpolar\"}], \"carpet\": [{\"aaxis\": {\"endlinecolor\": \"#2a3f5f\", \"gridcolor\": \"white\", \"linecolor\": \"white\", \"minorgridcolor\": \"white\", \"startlinecolor\": \"#2a3f5f\"}, \"baxis\": {\"endlinecolor\": \"#2a3f5f\", \"gridcolor\": \"white\", \"linecolor\": \"white\", \"minorgridcolor\": \"white\", \"startlinecolor\": \"#2a3f5f\"}, \"type\": \"carpet\"}], \"choropleth\": [{\"colorbar\": {\"outlinewidth\": 0, \"ticks\": \"\"}, \"type\": \"choropleth\"}], \"contour\": [{\"colorbar\": {\"outlinewidth\": 0, \"ticks\": \"\"}, \"colorscale\": [[0.0, \"#0d0887\"], [0.1111111111111111, \"#46039f\"], [0.2222222222222222, \"#7201a8\"], [0.3333333333333333, \"#9c179e\"], [0.4444444444444444, \"#bd3786\"], [0.5555555555555556, \"#d8576b\"], [0.6666666666666666, \"#ed7953\"], [0.7777777777777778, \"#fb9f3a\"], [0.8888888888888888, \"#fdca26\"], [1.0, \"#f0f921\"]], \"type\": \"contour\"}], \"contourcarpet\": [{\"colorbar\": {\"outlinewidth\": 0, \"ticks\": \"\"}, \"type\": \"contourcarpet\"}], \"heatmap\": [{\"colorbar\": {\"outlinewidth\": 0, \"ticks\": \"\"}, \"colorscale\": [[0.0, \"#0d0887\"], [0.1111111111111111, \"#46039f\"], [0.2222222222222222, \"#7201a8\"], [0.3333333333333333, \"#9c179e\"], [0.4444444444444444, \"#bd3786\"], [0.5555555555555556, \"#d8576b\"], [0.6666666666666666, \"#ed7953\"], [0.7777777777777778, \"#fb9f3a\"], [0.8888888888888888, \"#fdca26\"], [1.0, \"#f0f921\"]], \"type\": \"heatmap\"}], \"heatmapgl\": [{\"colorbar\": {\"outlinewidth\": 0, \"ticks\": \"\"}, \"colorscale\": [[0.0, \"#0d0887\"], [0.1111111111111111, \"#46039f\"], [0.2222222222222222, \"#7201a8\"], [0.3333333333333333, \"#9c179e\"], [0.4444444444444444, \"#bd3786\"], [0.5555555555555556, \"#d8576b\"], [0.6666666666666666, \"#ed7953\"], [0.7777777777777778, \"#fb9f3a\"], [0.8888888888888888, \"#fdca26\"], [1.0, \"#f0f921\"]], \"type\": \"heatmapgl\"}], \"histogram\": [{\"marker\": {\"colorbar\": {\"outlinewidth\": 0, \"ticks\": \"\"}}, \"type\": \"histogram\"}], \"histogram2d\": [{\"colorbar\": {\"outlinewidth\": 0, \"ticks\": \"\"}, \"colorscale\": [[0.0, \"#0d0887\"], [0.1111111111111111, \"#46039f\"], [0.2222222222222222, \"#7201a8\"], [0.3333333333333333, \"#9c179e\"], [0.4444444444444444, \"#bd3786\"], [0.5555555555555556, \"#d8576b\"], [0.6666666666666666, \"#ed7953\"], [0.7777777777777778, \"#fb9f3a\"], [0.8888888888888888, \"#fdca26\"], [1.0, \"#f0f921\"]], \"type\": \"histogram2d\"}], \"histogram2dcontour\": [{\"colorbar\": {\"outlinewidth\": 0, \"ticks\": \"\"}, \"colorscale\": [[0.0, \"#0d0887\"], [0.1111111111111111, \"#46039f\"], [0.2222222222222222, \"#7201a8\"], [0.3333333333333333, \"#9c179e\"], [0.4444444444444444, \"#bd3786\"], [0.5555555555555556, \"#d8576b\"], [0.6666666666666666, \"#ed7953\"], [0.7777777777777778, \"#fb9f3a\"], [0.8888888888888888, \"#fdca26\"], [1.0, \"#f0f921\"]], \"type\": \"histogram2dcontour\"}], \"mesh3d\": [{\"colorbar\": {\"outlinewidth\": 0, \"ticks\": \"\"}, \"type\": \"mesh3d\"}], \"parcoords\": [{\"line\": {\"colorbar\": {\"outlinewidth\": 0, \"ticks\": \"\"}}, \"type\": \"parcoords\"}], \"pie\": [{\"automargin\": true, \"type\": \"pie\"}], \"scatter\": [{\"marker\": {\"colorbar\": {\"outlinewidth\": 0, \"ticks\": \"\"}}, \"type\": \"scatter\"}], \"scatter3d\": [{\"line\": {\"colorbar\": {\"outlinewidth\": 0, \"ticks\": \"\"}}, \"marker\": {\"colorbar\": {\"outlinewidth\": 0, \"ticks\": \"\"}}, \"type\": \"scatter3d\"}], \"scattercarpet\": [{\"marker\": {\"colorbar\": {\"outlinewidth\": 0, \"ticks\": \"\"}}, \"type\": \"scattercarpet\"}], \"scattergeo\": [{\"marker\": {\"colorbar\": {\"outlinewidth\": 0, \"ticks\": \"\"}}, \"type\": \"scattergeo\"}], \"scattergl\": [{\"marker\": {\"colorbar\": {\"outlinewidth\": 0, \"ticks\": \"\"}}, \"type\": \"scattergl\"}], \"scattermapbox\": [{\"marker\": {\"colorbar\": {\"outlinewidth\": 0, \"ticks\": \"\"}}, \"type\": \"scattermapbox\"}], \"scatterpolar\": [{\"marker\": {\"colorbar\": {\"outlinewidth\": 0, \"ticks\": \"\"}}, \"type\": \"scatterpolar\"}], \"scatterpolargl\": [{\"marker\": {\"colorbar\": {\"outlinewidth\": 0, \"ticks\": \"\"}}, \"type\": \"scatterpolargl\"}], \"scatterternary\": [{\"marker\": {\"colorbar\": {\"outlinewidth\": 0, \"ticks\": \"\"}}, \"type\": \"scatterternary\"}], \"surface\": [{\"colorbar\": {\"outlinewidth\": 0, \"ticks\": \"\"}, \"colorscale\": [[0.0, \"#0d0887\"], [0.1111111111111111, \"#46039f\"], [0.2222222222222222, \"#7201a8\"], [0.3333333333333333, \"#9c179e\"], [0.4444444444444444, \"#bd3786\"], [0.5555555555555556, \"#d8576b\"], [0.6666666666666666, \"#ed7953\"], [0.7777777777777778, \"#fb9f3a\"], [0.8888888888888888, \"#fdca26\"], [1.0, \"#f0f921\"]], \"type\": \"surface\"}], \"table\": [{\"cells\": {\"fill\": {\"color\": \"#EBF0F8\"}, \"line\": {\"color\": \"white\"}}, \"header\": {\"fill\": {\"color\": \"#C8D4E3\"}, \"line\": {\"color\": \"white\"}}, \"type\": \"table\"}]}, \"layout\": {\"annotationdefaults\": {\"arrowcolor\": \"#2a3f5f\", \"arrowhead\": 0, \"arrowwidth\": 1}, \"coloraxis\": {\"colorbar\": {\"outlinewidth\": 0, \"ticks\": \"\"}}, \"colorscale\": {\"diverging\": [[0, \"#8e0152\"], [0.1, \"#c51b7d\"], [0.2, \"#de77ae\"], [0.3, \"#f1b6da\"], [0.4, \"#fde0ef\"], [0.5, \"#f7f7f7\"], [0.6, \"#e6f5d0\"], [0.7, \"#b8e186\"], [0.8, \"#7fbc41\"], [0.9, \"#4d9221\"], [1, \"#276419\"]], \"sequential\": [[0.0, \"#0d0887\"], [0.1111111111111111, \"#46039f\"], [0.2222222222222222, \"#7201a8\"], [0.3333333333333333, \"#9c179e\"], [0.4444444444444444, \"#bd3786\"], [0.5555555555555556, \"#d8576b\"], [0.6666666666666666, \"#ed7953\"], [0.7777777777777778, \"#fb9f3a\"], [0.8888888888888888, \"#fdca26\"], [1.0, \"#f0f921\"]], \"sequentialminus\": [[0.0, \"#0d0887\"], [0.1111111111111111, \"#46039f\"], [0.2222222222222222, \"#7201a8\"], [0.3333333333333333, \"#9c179e\"], [0.4444444444444444, \"#bd3786\"], [0.5555555555555556, \"#d8576b\"], [0.6666666666666666, \"#ed7953\"], [0.7777777777777778, \"#fb9f3a\"], [0.8888888888888888, \"#fdca26\"], [1.0, \"#f0f921\"]]}, \"colorway\": [\"#636efa\", \"#EF553B\", \"#00cc96\", \"#ab63fa\", \"#FFA15A\", \"#19d3f3\", \"#FF6692\", \"#B6E880\", \"#FF97FF\", \"#FECB52\"], \"font\": {\"color\": \"#2a3f5f\"}, \"geo\": {\"bgcolor\": \"white\", \"lakecolor\": \"white\", \"landcolor\": \"#E5ECF6\", \"showlakes\": true, \"showland\": true, \"subunitcolor\": \"white\"}, \"hoverlabel\": {\"align\": \"left\"}, \"hovermode\": \"closest\", \"mapbox\": {\"style\": \"light\"}, \"paper_bgcolor\": \"white\", \"plot_bgcolor\": \"#E5ECF6\", \"polar\": {\"angularaxis\": {\"gridcolor\": \"white\", \"linecolor\": \"white\", \"ticks\": \"\"}, \"bgcolor\": \"#E5ECF6\", \"radialaxis\": {\"gridcolor\": \"white\", \"linecolor\": \"white\", \"ticks\": \"\"}}, \"scene\": {\"xaxis\": {\"backgroundcolor\": \"#E5ECF6\", \"gridcolor\": \"white\", \"gridwidth\": 2, \"linecolor\": \"white\", \"showbackground\": true, \"ticks\": \"\", \"zerolinecolor\": \"white\"}, \"yaxis\": {\"backgroundcolor\": \"#E5ECF6\", \"gridcolor\": \"white\", \"gridwidth\": 2, \"linecolor\": \"white\", \"showbackground\": true, \"ticks\": \"\", \"zerolinecolor\": \"white\"}, \"zaxis\": {\"backgroundcolor\": \"#E5ECF6\", \"gridcolor\": \"white\", \"gridwidth\": 2, \"linecolor\": \"white\", \"showbackground\": true, \"ticks\": \"\", \"zerolinecolor\": \"white\"}}, \"shapedefaults\": {\"line\": {\"color\": \"#2a3f5f\"}}, \"ternary\": {\"aaxis\": {\"gridcolor\": \"white\", \"linecolor\": \"white\", \"ticks\": \"\"}, \"baxis\": {\"gridcolor\": \"white\", \"linecolor\": \"white\", \"ticks\": \"\"}, \"bgcolor\": \"#E5ECF6\", \"caxis\": {\"gridcolor\": \"white\", \"linecolor\": \"white\", \"ticks\": \"\"}}, \"title\": {\"x\": 0.05}, \"xaxis\": {\"automargin\": true, \"gridcolor\": \"white\", \"linecolor\": \"white\", \"ticks\": \"\", \"title\": {\"standoff\": 15}, \"zerolinecolor\": \"white\", \"zerolinewidth\": 2}, \"yaxis\": {\"automargin\": true, \"gridcolor\": \"white\", \"linecolor\": \"white\", \"ticks\": \"\", \"title\": {\"standoff\": 15}, \"zerolinecolor\": \"white\", \"zerolinewidth\": 2}}}, \"title\": {\"text\": \"USA, Brazil and India Daily Coronavirus Percent Change\"}, \"xaxis\": {\"anchor\": \"y\", \"domain\": [0.0, 1.0], \"title\": {\"text\": \"index\"}}, \"yaxis\": {\"anchor\": \"x\", \"domain\": [0.0, 1.0], \"range\": [-2, 2], \"title\": {\"text\": \"value\"}}},                        {\"responsive\": true}                    ).then(function(){\n",
       "                            \n",
       "var gd = document.getElementById('f9c8f913-ef27-4105-b169-fe689bced562');\n",
       "var x = new MutationObserver(function (mutations, observer) {{\n",
       "        var display = window.getComputedStyle(gd).display;\n",
       "        if (!display || display === 'none') {{\n",
       "            console.log([gd, 'removed!']);\n",
       "            Plotly.purge(gd);\n",
       "            observer.disconnect();\n",
       "        }}\n",
       "}});\n",
       "\n",
       "// Listen for the removal of the full notebook cells\n",
       "var notebookContainer = gd.closest('#notebook-container');\n",
       "if (notebookContainer) {{\n",
       "    x.observe(notebookContainer, {childList: true});\n",
       "}}\n",
       "\n",
       "// Listen for the clearing of the current output cell\n",
       "var outputEl = gd.closest('.output');\n",
       "if (outputEl) {{\n",
       "    x.observe(outputEl, {childList: true});\n",
       "}}\n",
       "\n",
       "                        })                };                });            </script>        </div>"
      ]
     },
     "metadata": {},
     "output_type": "display_data"
    }
   ],
   "source": [
    "#Plot USA, Brazil and India Coronavirus Cases on same plot\n",
    "\n",
    "scatter_global_daily_corona_clean = px.scatter((global_daily_corona_clean), range_y=(-2, 2), title = 'USA, Brazil and India Daily Coronavirus Percent Change')\n",
    "scatter_global_daily_corona_clean\n",
    "#Bjorn"
   ]
  },
  {
   "cell_type": "code",
   "execution_count": 257,
   "metadata": {},
   "outputs": [
    {
     "data": {
      "text/plain": [
       "<matplotlib.axes._subplots.AxesSubplot at 0x1b309d5e588>"
      ]
     },
     "execution_count": 257,
     "metadata": {},
     "output_type": "execute_result"
    },
    {
     "data": {
      "image/png": "[encoded data removed]",
      "text/plain": [
       "<Figure size 1440x720 with 1 Axes>"
      ]
     },
     "metadata": {
      "needs_background": "light"
     },
     "output_type": "display_data"
    }
   ],
   "source": [
    "#Plot USA, Brazil and India Coronavirus Cases on same plot to show correllation between cases and deaths\n",
    "#Bjorn\n",
    "\n",
    "global_daily_corona_clean.plot(kind = 'line', title = 'Global Corona Cases and Deaths Percent Change Compared', figsize = (20,10), ylim = (-1, 1))"
   ]
  },
  {
   "cell_type": "code",
   "execution_count": 258,
   "metadata": {},
   "outputs": [
    {
     "data": {
      "text/html": [
       "<div>\n",
       "<style scoped>\n",
       "    .dataframe tbody tr th:only-of-type {\n",
       "        vertical-align: middle;\n",
       "    }\n",
       "\n",
       "    .dataframe tbody tr th {\n",
       "        vertical-align: top;\n",
       "    }\n",
       "\n",
       "    .dataframe thead th {\n",
       "        text-align: right;\n",
       "    }\n",
       "</style>\n",
       "<table border=\"1\" class=\"dataframe\">\n",
       "  <thead>\n",
       "    <tr style=\"text-align: right;\">\n",
       "      <th></th>\n",
       "      <th>USA Stock Market</th>\n",
       "      <th>Brazil Stock Market</th>\n",
       "      <th>India Stock Market</th>\n",
       "    </tr>\n",
       "    <tr>\n",
       "      <th>Date</th>\n",
       "      <th></th>\n",
       "      <th></th>\n",
       "      <th></th>\n",
       "    </tr>\n",
       "  </thead>\n",
       "  <tbody>\n",
       "    <tr>\n",
       "      <th>2020-01-03</th>\n",
       "      <td>NaN</td>\n",
       "      <td>NaN</td>\n",
       "      <td>-0.003892</td>\n",
       "    </tr>\n",
       "    <tr>\n",
       "      <th>2020-01-06</th>\n",
       "      <td>0.003533</td>\n",
       "      <td>-0.007043</td>\n",
       "      <td>-0.019004</td>\n",
       "    </tr>\n",
       "    <tr>\n",
       "      <th>2020-01-07</th>\n",
       "      <td>-0.002803</td>\n",
       "      <td>-0.001848</td>\n",
       "      <td>0.004741</td>\n",
       "    </tr>\n",
       "    <tr>\n",
       "      <th>2020-01-08</th>\n",
       "      <td>0.004902</td>\n",
       "      <td>-0.003557</td>\n",
       "      <td>-0.001266</td>\n",
       "    </tr>\n",
       "    <tr>\n",
       "      <th>2020-01-09</th>\n",
       "      <td>0.006655</td>\n",
       "      <td>-0.002581</td>\n",
       "      <td>0.015547</td>\n",
       "    </tr>\n",
       "  </tbody>\n",
       "</table>\n",
       "</div>"
      ],
      "text/plain": [
       "            USA Stock Market  Brazil Stock Market  India Stock Market\n",
       "Date                                                                 \n",
       "2020-01-03               NaN                  NaN           -0.003892\n",
       "2020-01-06          0.003533            -0.007043           -0.019004\n",
       "2020-01-07         -0.002803            -0.001848            0.004741\n",
       "2020-01-08          0.004902            -0.003557           -0.001266\n",
       "2020-01-09          0.006655            -0.002581            0.015547"
      ]
     },
     "execution_count": 258,
     "metadata": {},
     "output_type": "execute_result"
    }
   ],
   "source": [
    "#Creating a single spreadsheet with all market returns\n",
    "\n",
    "global_daily_returns = pd.concat([sp_500_daily_returns, IBOVESPA_returns, sensex_returns_df], axis='columns', join='inner')\n",
    "global_daily_returns.columns = [\n",
    "  'USA Stock Market',\n",
    "  'Brazil Stock Market',\n",
    "  'India Stock Market'  \n",
    "]\n",
    "global_daily_returns.head()"
   ]
  },
  {
   "cell_type": "code",
   "execution_count": 259,
   "metadata": {},
   "outputs": [
    {
     "data": {
      "application/vnd.plotly.v1+json": {
       "config": {
        "plotlyServerURL": "https://plot.ly"
       },
       "data": [
        {
         "hovertemplate": "variable=USA Stock Market<br>Date=%{x}<br>value=%{y}<extra></extra>",
         "legendgroup": "USA Stock Market",
         "marker": {
          "color": "#636efa",
          "symbol": "circle"
         },
         "mode": "markers",
         "name": "USA Stock Market",
         "orientation": "v",
         "showlegend": true,
         "type": "scatter",
         "x": [
          "2020-01-03T00:00:00",
          "2020-01-06T00:00:00",
          "2020-01-07T00:00:00",
          "2020-01-08T00:00:00",
          "2020-01-09T00:00:00",
          "2020-01-10T00:00:00",
          "2020-01-13T00:00:00",
          "2020-01-14T00:00:00",
          "2020-01-15T00:00:00",
          "2020-01-16T00:00:00",
          "2020-01-17T00:00:00",
          "2020-01-21T00:00:00",
          "2020-01-22T00:00:00",
          "2020-01-23T00:00:00",
          "2020-01-24T00:00:00",
          "2020-01-27T00:00:00",
          "2020-01-28T00:00:00",
          "2020-01-29T00:00:00",
          "2020-01-30T00:00:00",
          "2020-01-31T00:00:00",
          "2020-02-03T00:00:00",
          "2020-02-04T00:00:00",
          "2020-02-05T00:00:00",
          "2020-02-06T00:00:00",
          "2020-02-07T00:00:00",
          "2020-02-10T00:00:00",
          "2020-02-11T00:00:00",
          "2020-02-12T00:00:00",
          "2020-02-13T00:00:00",
          "2020-02-14T00:00:00",
          "2020-02-18T00:00:00",
          "2020-02-19T00:00:00",
          "2020-02-20T00:00:00",
          "2020-02-27T00:00:00",
          "2020-02-28T00:00:00",
          "2020-03-02T00:00:00",
          "2020-03-03T00:00:00",
          "2020-03-04T00:00:00",
          "2020-03-05T00:00:00",
          "2020-03-06T00:00:00",
          "2020-03-09T00:00:00",
          "2020-03-11T00:00:00",
          "2020-03-12T00:00:00",
          "2020-03-13T00:00:00",
          "2020-03-16T00:00:00",
          "2020-03-17T00:00:00",
          "2020-03-18T00:00:00",
          "2020-03-19T00:00:00",
          "2020-03-20T00:00:00",
          "2020-03-23T00:00:00",
          "2020-03-24T00:00:00",
          "2020-03-25T00:00:00",
          "2020-03-26T00:00:00",
          "2020-03-27T00:00:00",
          "2020-03-30T00:00:00",
          "2020-03-31T00:00:00",
          "2020-04-01T00:00:00",
          "2020-04-03T00:00:00",
          "2020-04-07T00:00:00",
          "2020-04-08T00:00:00",
          "2020-04-09T00:00:00",
          "2020-04-13T00:00:00",
          "2020-04-15T00:00:00",
          "2020-04-16T00:00:00",
          "2020-04-17T00:00:00",
          "2020-04-20T00:00:00",
          "2020-04-22T00:00:00",
          "2020-04-23T00:00:00",
          "2020-04-24T00:00:00",
          "2020-04-27T00:00:00",
          "2020-04-28T00:00:00",
          "2020-04-29T00:00:00",
          "2020-04-30T00:00:00",
          "2020-05-04T00:00:00",
          "2020-05-05T00:00:00",
          "2020-05-06T00:00:00",
          "2020-05-07T00:00:00",
          "2020-05-08T00:00:00",
          "2020-05-11T00:00:00",
          "2020-05-12T00:00:00",
          "2020-05-13T00:00:00",
          "2020-05-14T00:00:00",
          "2020-05-15T00:00:00",
          "2020-05-18T00:00:00",
          "2020-05-19T00:00:00",
          "2020-05-20T00:00:00",
          "2020-05-21T00:00:00",
          "2020-05-22T00:00:00",
          "2020-05-26T00:00:00",
          "2020-05-27T00:00:00",
          "2020-05-28T00:00:00",
          "2020-05-29T00:00:00",
          "2020-06-01T00:00:00",
          "2020-06-02T00:00:00",
          "2020-06-03T00:00:00",
          "2020-06-04T00:00:00",
          "2020-06-05T00:00:00",
          "2020-06-08T00:00:00",
          "2020-06-09T00:00:00",
          "2020-06-10T00:00:00",
          "2020-06-12T00:00:00",
          "2020-06-15T00:00:00",
          "2020-06-16T00:00:00",
          "2020-06-17T00:00:00",
          "2020-06-18T00:00:00",
          "2020-06-19T00:00:00",
          "2020-06-22T00:00:00",
          "2020-06-23T00:00:00",
          "2020-06-24T00:00:00",
          "2020-06-25T00:00:00",
          "2020-06-26T00:00:00",
          "2020-06-29T00:00:00",
          "2020-06-30T00:00:00",
          "2020-07-01T00:00:00",
          "2020-07-02T00:00:00",
          "2020-07-06T00:00:00",
          "2020-07-07T00:00:00",
          "2020-07-08T00:00:00",
          "2020-07-09T00:00:00",
          "2020-07-10T00:00:00",
          "2020-07-13T00:00:00",
          "2020-07-14T00:00:00",
          "2020-07-15T00:00:00",
          "2020-07-16T00:00:00",
          "2020-07-17T00:00:00",
          "2020-07-20T00:00:00",
          "2020-07-21T00:00:00",
          "2020-07-22T00:00:00",
          "2020-07-23T00:00:00",
          "2020-07-24T00:00:00",
          "2020-07-27T00:00:00",
          "2020-07-28T00:00:00",
          "2020-07-29T00:00:00",
          "2020-07-30T00:00:00",
          "2020-07-31T00:00:00",
          "2020-08-03T00:00:00",
          "2020-08-04T00:00:00",
          "2020-08-05T00:00:00",
          "2020-08-06T00:00:00",
          "2020-08-07T00:00:00",
          "2020-08-10T00:00:00",
          "2020-08-11T00:00:00",
          "2020-08-12T00:00:00",
          "2020-08-13T00:00:00",
          "2020-08-14T00:00:00",
          "2020-08-17T00:00:00",
          "2020-08-18T00:00:00",
          "2020-08-19T00:00:00",
          "2020-08-20T00:00:00",
          "2020-08-21T00:00:00",
          "2020-08-24T00:00:00",
          "2020-08-25T00:00:00",
          "2020-08-26T00:00:00",
          "2020-08-27T00:00:00",
          "2020-08-28T00:00:00",
          "2020-08-31T00:00:00",
          "2020-09-01T00:00:00",
          "2020-09-02T00:00:00",
          "2020-09-03T00:00:00",
          "2020-09-04T00:00:00",
          "2020-09-08T00:00:00",
          "2020-09-09T00:00:00",
          "2020-09-10T00:00:00",
          "2020-09-11T00:00:00",
          "2020-09-14T00:00:00",
          "2020-09-15T00:00:00",
          "2020-09-16T00:00:00",
          "2020-09-17T00:00:00",
          "2020-09-18T00:00:00",
          "2020-09-21T00:00:00",
          "2020-09-22T00:00:00",
          "2020-09-23T00:00:00",
          "2020-09-24T00:00:00",
          "2020-09-25T00:00:00",
          "2020-09-28T00:00:00",
          "2020-09-29T00:00:00",
          "2020-09-30T00:00:00",
          "2020-10-01T00:00:00"
         ],
         "xaxis": "x",
         "y": [
          null,
          0.0035333728907271933,
          -0.0028032386528962228,
          0.004902451368978156,
          0.006655262605488987,
          -0.002855178689662563,
          0.006976215252569862,
          -0.001514532772802224,
          0.0018701968845122874,
          0.00836655302646827,
          0.003862162248501333,
          -0.0026519776473655776,
          0.0002890760711180551,
          0.0011409766124783616,
          -0.009042160974207403,
          -0.015730711659182384,
          0.010053584595046017,
          -0.0008668741908683941,
          0.003134358792605374,
          -0.01770582037552626,
          0.007254613892351713,
          0.014980414164082134,
          0.01125059589785371,
          0.003325672876785646,
          -0.005400853672730133,
          0.007326397804890528,
          0.0016884725532351208,
          0.006462646466197652,
          -0.0016304457368023773,
          0.0018435333204338544,
          -0.002919942636890105,
          0.004705785881164548,
          -0.00381551976362815,
          -0.04416324258407911,
          -0.008238340444361891,
          0.046039229006110016,
          -0.028107896121075893,
          0.04220259077449118,
          -0.033922077046888544,
          -0.01705385200037013,
          -0.07596969747745097,
          -0.048868445131273974,
          -0.09511268097833658,
          0.09287124972971839,
          -0.11984055240393443,
          0.05995484974402432,
          -0.051830762729157875,
          0.0047078080405855705,
          -0.04335951230846191,
          -0.02929386782180443,
          0.09382773976227554,
          0.011535011448221999,
          0.062414163303876835,
          -0.033687352562252526,
          0.03351600948370015,
          -0.016012721914555605,
          -0.04414243033166543,
          -0.015137125124949469,
          -0.0016030527844311804,
          0.03405645287963033,
          0.014487410153376512,
          -0.010104660822607414,
          -0.022030438529415775,
          0.005816689462164515,
          0.026793594848223412,
          -0.01788104803401469,
          0.022930247703843776,
          -0.0005394221197431159,
          0.013918057304545428,
          0.014714069804799612,
          -0.005242380698498916,
          0.026583916282167053,
          -0.009212446303987654,
          0.004249827591976452,
          0.009040556385797371,
          -0.006979410390386298,
          0.011504630788313985,
          0.016871538638701944,
          0.00013307822091168653,
          -0.020500317528877154,
          -0.01746272460422804,
          0.01152482269503552,
          0.0039263632504382695,
          0.03150119163168075,
          -0.010484399194493177,
          0.01665110025908012,
          -0.007773596407737116,
          0.002353711326488428,
          0.012289184036080147,
          0.014827297215913804,
          -0.0021079145460738413,
          0.004812335824971425,
          0.003751234813537785,
          0.008210832780053412,
          0.013648979133831007,
          -0.0033687022311144066,
          0.026211650818398713,
          0.012041579421169235,
          -0.007799170822611612,
          -0.0053130910724373814,
          0.013060843963234703,
          0.008312217041285264,
          0.01896239819380252,
          -0.0036002995561740248,
          0.0005942198825281686,
          -0.005649494809462974,
          0.006495095537691675,
          0.004307419569164139,
          -0.025855145939064572,
          0.010959447267809841,
          -0.024226905044785974,
          0.014685678433118632,
          0.015409875731554612,
          0.005022132820864389,
          0.004541250844364075,
          0.01588172586745884,
          -0.010818532028197159,
          0.007827461915415501,
          -0.005643606159361103,
          0.01046620127324438,
          -0.009362541127788226,
          0.013406370782667931,
          0.009082050740923053,
          -0.0034061012455366413,
          0.002848612194617406,
          0.0084069387471426,
          0.0016790373419135474,
          0.005747082068739751,
          -0.012319859824193036,
          -0.006190400054688405,
          0.007395138795039502,
          -0.006473392152297919,
          0.01242838167815008,
          -0.003750251937389204,
          0.007670504990141325,
          0.00718102343932614,
          0.0036119303819721615,
          0.006429743053199433,
          0.00642769555966427,
          0.0006330295486443038,
          0.002742218294476073,
          -0.007969132154236114,
          0.013996549490237653,
          -0.002047174350497949,
          -0.00017188262276812694,
          0.0027098425110787527,
          0.002303389154016955,
          -0.0044043954214108005,
          0.0031586327691348615,
          0.0034411070444764214,
          0.010043718303008653,
          0.0035963511532906,
          0.010195626139483993,
          0.0016730440109038458,
          0.00673256535528588,
          -0.0021949627140287475,
          0.007525003016613407,
          0.015365910154807594,
          -0.03512584371534122,
          -0.008133027264274895,
          -0.027756342102360998,
          0.02014498633677464,
          -0.01758479659017942,
          0.0005330721905940639,
          0.012741829089357504,
          0.005219359577689042,
          -0.004618946596211537,
          -0.008412365876402483,
          -0.011182581807410497,
          -0.011571097930805796,
          0.010517945160813724,
          -0.023721455093028143,
          0.0029874591429570607,
          0.0159767237756141,
          0.016110590199083896,
          -0.0048126645432444715,
          0.008253718228220741,
          0.005292907769290922
         ],
         "yaxis": "y"
        },
        {
         "hovertemplate": "variable=Brazil Stock Market<br>Date=%{x}<br>value=%{y}<extra></extra>",
         "legendgroup": "Brazil Stock Market",
         "marker": {
          "color": "#EF553B",
          "symbol": "circle"
         },
         "mode": "markers",
         "name": "Brazil Stock Market",
         "orientation": "v",
         "showlegend": true,
         "type": "scatter",
         "x": [
          "2020-01-03T00:00:00",
          "2020-01-06T00:00:00",
          "2020-01-07T00:00:00",
          "2020-01-08T00:00:00",
          "2020-01-09T00:00:00",
          "2020-01-10T00:00:00",
          "2020-01-13T00:00:00",
          "2020-01-14T00:00:00",
          "2020-01-15T00:00:00",
          "2020-01-16T00:00:00",
          "2020-01-17T00:00:00",
          "2020-01-21T00:00:00",
          "2020-01-22T00:00:00",
          "2020-01-23T00:00:00",
          "2020-01-24T00:00:00",
          "2020-01-27T00:00:00",
          "2020-01-28T00:00:00",
          "2020-01-29T00:00:00",
          "2020-01-30T00:00:00",
          "2020-01-31T00:00:00",
          "2020-02-03T00:00:00",
          "2020-02-04T00:00:00",
          "2020-02-05T00:00:00",
          "2020-02-06T00:00:00",
          "2020-02-07T00:00:00",
          "2020-02-10T00:00:00",
          "2020-02-11T00:00:00",
          "2020-02-12T00:00:00",
          "2020-02-13T00:00:00",
          "2020-02-14T00:00:00",
          "2020-02-18T00:00:00",
          "2020-02-19T00:00:00",
          "2020-02-20T00:00:00",
          "2020-02-27T00:00:00",
          "2020-02-28T00:00:00",
          "2020-03-02T00:00:00",
          "2020-03-03T00:00:00",
          "2020-03-04T00:00:00",
          "2020-03-05T00:00:00",
          "2020-03-06T00:00:00",
          "2020-03-09T00:00:00",
          "2020-03-11T00:00:00",
          "2020-03-12T00:00:00",
          "2020-03-13T00:00:00",
          "2020-03-16T00:00:00",
          "2020-03-17T00:00:00",
          "2020-03-18T00:00:00",
          "2020-03-19T00:00:00",
          "2020-03-20T00:00:00",
          "2020-03-23T00:00:00",
          "2020-03-24T00:00:00",
          "2020-03-25T00:00:00",
          "2020-03-26T00:00:00",
          "2020-03-27T00:00:00",
          "2020-03-30T00:00:00",
          "2020-03-31T00:00:00",
          "2020-04-01T00:00:00",
          "2020-04-03T00:00:00",
          "2020-04-07T00:00:00",
          "2020-04-08T00:00:00",
          "2020-04-09T00:00:00",
          "2020-04-13T00:00:00",
          "2020-04-15T00:00:00",
          "2020-04-16T00:00:00",
          "2020-04-17T00:00:00",
          "2020-04-20T00:00:00",
          "2020-04-22T00:00:00",
          "2020-04-23T00:00:00",
          "2020-04-24T00:00:00",
          "2020-04-27T00:00:00",
          "2020-04-28T00:00:00",
          "2020-04-29T00:00:00",
          "2020-04-30T00:00:00",
          "2020-05-04T00:00:00",
          "2020-05-05T00:00:00",
          "2020-05-06T00:00:00",
          "2020-05-07T00:00:00",
          "2020-05-08T00:00:00",
          "2020-05-11T00:00:00",
          "2020-05-12T00:00:00",
          "2020-05-13T00:00:00",
          "2020-05-14T00:00:00",
          "2020-05-15T00:00:00",
          "2020-05-18T00:00:00",
          "2020-05-19T00:00:00",
          "2020-05-20T00:00:00",
          "2020-05-21T00:00:00",
          "2020-05-22T00:00:00",
          "2020-05-26T00:00:00",
          "2020-05-27T00:00:00",
          "2020-05-28T00:00:00",
          "2020-05-29T00:00:00",
          "2020-06-01T00:00:00",
          "2020-06-02T00:00:00",
          "2020-06-03T00:00:00",
          "2020-06-04T00:00:00",
          "2020-06-05T00:00:00",
          "2020-06-08T00:00:00",
          "2020-06-09T00:00:00",
          "2020-06-10T00:00:00",
          "2020-06-12T00:00:00",
          "2020-06-15T00:00:00",
          "2020-06-16T00:00:00",
          "2020-06-17T00:00:00",
          "2020-06-18T00:00:00",
          "2020-06-19T00:00:00",
          "2020-06-22T00:00:00",
          "2020-06-23T00:00:00",
          "2020-06-24T00:00:00",
          "2020-06-25T00:00:00",
          "2020-06-26T00:00:00",
          "2020-06-29T00:00:00",
          "2020-06-30T00:00:00",
          "2020-07-01T00:00:00",
          "2020-07-02T00:00:00",
          "2020-07-06T00:00:00",
          "2020-07-07T00:00:00",
          "2020-07-08T00:00:00",
          "2020-07-09T00:00:00",
          "2020-07-10T00:00:00",
          "2020-07-13T00:00:00",
          "2020-07-14T00:00:00",
          "2020-07-15T00:00:00",
          "2020-07-16T00:00:00",
          "2020-07-17T00:00:00",
          "2020-07-20T00:00:00",
          "2020-07-21T00:00:00",
          "2020-07-22T00:00:00",
          "2020-07-23T00:00:00",
          "2020-07-24T00:00:00",
          "2020-07-27T00:00:00",
          "2020-07-28T00:00:00",
          "2020-07-29T00:00:00",
          "2020-07-30T00:00:00",
          "2020-07-31T00:00:00",
          "2020-08-03T00:00:00",
          "2020-08-04T00:00:00",
          "2020-08-05T00:00:00",
          "2020-08-06T00:00:00",
          "2020-08-07T00:00:00",
          "2020-08-10T00:00:00",
          "2020-08-11T00:00:00",
          "2020-08-12T00:00:00",
          "2020-08-13T00:00:00",
          "2020-08-14T00:00:00",
          "2020-08-17T00:00:00",
          "2020-08-18T00:00:00",
          "2020-08-19T00:00:00",
          "2020-08-20T00:00:00",
          "2020-08-21T00:00:00",
          "2020-08-24T00:00:00",
          "2020-08-25T00:00:00",
          "2020-08-26T00:00:00",
          "2020-08-27T00:00:00",
          "2020-08-28T00:00:00",
          "2020-08-31T00:00:00",
          "2020-09-01T00:00:00",
          "2020-09-02T00:00:00",
          "2020-09-03T00:00:00",
          "2020-09-04T00:00:00",
          "2020-09-08T00:00:00",
          "2020-09-09T00:00:00",
          "2020-09-10T00:00:00",
          "2020-09-11T00:00:00",
          "2020-09-14T00:00:00",
          "2020-09-15T00:00:00",
          "2020-09-16T00:00:00",
          "2020-09-17T00:00:00",
          "2020-09-18T00:00:00",
          "2020-09-21T00:00:00",
          "2020-09-22T00:00:00",
          "2020-09-23T00:00:00",
          "2020-09-24T00:00:00",
          "2020-09-25T00:00:00",
          "2020-09-28T00:00:00",
          "2020-09-29T00:00:00",
          "2020-09-30T00:00:00",
          "2020-10-01T00:00:00"
         ],
         "xaxis": "x",
         "y": [
          null,
          -0.007042911636521154,
          -0.0018480809048752045,
          -0.0035572851485488055,
          -0.0025807117603035,
          -0.0038293358172268865,
          0.015774482048085403,
          0.002616663115277973,
          -0.010354325353645222,
          0.0024911093167487852,
          0.015200850013709966,
          -0.01544648415809935,
          0.011664074650077794,
          0.00960377055688344,
          -0.009637909109162734,
          -0.03289518145570047,
          0.01744379029017673,
          -0.009392250963693005,
          0.001239329202235906,
          -0.015294993421508196,
          0.007630031381580693,
          0.00809568259340998,
          0.004075910589579124,
          -0.00722239459440821,
          -0.012327458980814332,
          -0.010547596027072115,
          0.024882295460602277,
          0.01129399935859099,
          -0.008673740507739502,
          -0.01107537479898324,
          -0.0028792201822928076,
          0.013402680536107159,
          -0.016581129095933678,
          -0.09409663884026354,
          0.011535772547191847,
          0.023547594363168667,
          -0.010203985932004667,
          0.01598491524299539,
          -0.04654741475789004,
          -0.04143476176968297,
          -0.12173842056389483,
          -0.0763766890060078,
          -0.147796785290768,
          0.13908215422344083,
          -0.1392147850697888,
          0.048462792266187105,
          -0.10348848117721166,
          0.02148142611555426,
          -0.01848328747878003,
          -0.052170153125885244,
          0.09688532326569144,
          0.07496163719542803,
          0.036741555045626706,
          -0.055089435079140436,
          0.016492121641313418,
          -0.02170418006430863,
          -0.0281155847712955,
          -0.03757629440992072,
          0.030847947295235878,
          0.029689096099950296,
          -0.011993640699523023,
          0.014855436265801547,
          -0.013601441477514409,
          -0.012926386827517122,
          0.015139053102349198,
          -0.00021521711609062688,
          0.02170362022463368,
          -0.012567080198792824,
          -0.05449775959233372,
          0.038602965578579784,
          0.03927708687483222,
          0.022862554112554223,
          -0.03204241863149415,
          -0.02024693811641365,
          0.007543485977990816,
          -0.005121365026235947,
          -0.01195234240615195,
          0.02744530779963905,
          -0.014925931001831483,
          -0.01508885094542467,
          -0.0012841586192726684,
          0.015931183459342746,
          -0.018402500917593767,
          0.04689454207872923,
          -0.005566913811365426,
          0.007146218820440309,
          0.021003701471980607,
          -0.010285810639912296,
          -0.002264688371875878,
          0.028981268062104437,
          -0.011336501944374966,
          0.005221451655568199,
          0.013924007185108112,
          0.027375310313698886,
          0.021483645629681636,
          0.008892281886411002,
          0.008611410118406937,
          0.0317846085569069,
          -0.009196579445952202,
          -0.021302986139105085,
          -0.019971273472319084,
          -0.004515329489735431,
          0.012503247596778344,
          0.02155435096385161,
          0.006049378839733333,
          0.004650195058517603,
          -0.012798740835853084,
          0.006702609717210706,
          -0.0166501693149258,
          0.017016857920891804,
          -0.02238938145296565,
          0.020259181107061375,
          -0.007092494907818492,
          0.012066571284295557,
          0.0003326299595647342,
          0.022446132382576423,
          -0.011886351920919358,
          0.02055011712236987,
          -0.006114062343389848,
          0.008793868495361012,
          -0.013345729366602721,
          0.017660111249582,
          0.013450816407805766,
          -0.012162175437907097,
          0.02322158463695767,
          0.01494829328979086,
          -0.0011108344665121672,
          -0.0001917361710286336,
          -0.01914852814267909,
          0.000870049759025493,
          0.020462581313121397,
          -0.0035223063449371095,
          0.014369554985639965,
          -0.005643672174612924,
          -0.019969716881410138,
          -0.0007967972636815368,
          -0.0156958086161626,
          0.015669459374012096,
          0.012879126865236179,
          -0.012965061560033075,
          0.006499571884486688,
          -0.012277174123197065,
          -0.0005480846399279482,
          -0.01622632640670596,
          0.008879067498830384,
          -0.017345317849496333,
          0.024800441789246452,
          -0.011864987997844523,
          0.006088008408194012,
          0.0005223321638347933,
          0.007653588912638787,
          -0.0017595651918903554,
          -0.014600755988170566,
          -2.9813072038309407e-05,
          0.015095802194307506,
          -0.0271580039748196,
          0.028167738429490052,
          -0.002515464724767047,
          -0.01167685529530671,
          0.005172704798403593,
          -0.011773769779340637,
          0.012413793103448256,
          -0.024256604667693416,
          -0.004775636161278851,
          0.019438203389485986,
          0.00022936923460492586,
          -0.00620151947197356,
          0.0042337172438702275,
          -0.01806229894703193,
          -0.013215993488655986,
          0.003124001195987214,
          -0.016023598577507348,
          0.013338904266986917,
          -0.0001340040407372678,
          -0.024051794348395328,
          -0.011471911774026622,
          0.010931823039110888,
          0.00925974863376422
         ],
         "yaxis": "y"
        },
        {
         "hovertemplate": "variable=India Stock Market<br>Date=%{x}<br>value=%{y}<extra></extra>",
         "legendgroup": "India Stock Market",
         "marker": {
          "color": "#00cc96",
          "symbol": "circle"
         },
         "mode": "markers",
         "name": "India Stock Market",
         "orientation": "v",
         "showlegend": true,
         "type": "scatter",
         "x": [
          "2020-01-03T00:00:00",
          "2020-01-06T00:00:00",
          "2020-01-07T00:00:00",
          "2020-01-08T00:00:00",
          "2020-01-09T00:00:00",
          "2020-01-10T00:00:00",
          "2020-01-13T00:00:00",
          "2020-01-14T00:00:00",
          "2020-01-15T00:00:00",
          "2020-01-16T00:00:00",
          "2020-01-17T00:00:00",
          "2020-01-21T00:00:00",
          "2020-01-22T00:00:00",
          "2020-01-23T00:00:00",
          "2020-01-24T00:00:00",
          "2020-01-27T00:00:00",
          "2020-01-28T00:00:00",
          "2020-01-29T00:00:00",
          "2020-01-30T00:00:00",
          "2020-01-31T00:00:00",
          "2020-02-03T00:00:00",
          "2020-02-04T00:00:00",
          "2020-02-05T00:00:00",
          "2020-02-06T00:00:00",
          "2020-02-07T00:00:00",
          "2020-02-10T00:00:00",
          "2020-02-11T00:00:00",
          "2020-02-12T00:00:00",
          "2020-02-13T00:00:00",
          "2020-02-14T00:00:00",
          "2020-02-18T00:00:00",
          "2020-02-19T00:00:00",
          "2020-02-20T00:00:00",
          "2020-02-27T00:00:00",
          "2020-02-28T00:00:00",
          "2020-03-02T00:00:00",
          "2020-03-03T00:00:00",
          "2020-03-04T00:00:00",
          "2020-03-05T00:00:00",
          "2020-03-06T00:00:00",
          "2020-03-09T00:00:00",
          "2020-03-11T00:00:00",
          "2020-03-12T00:00:00",
          "2020-03-13T00:00:00",
          "2020-03-16T00:00:00",
          "2020-03-17T00:00:00",
          "2020-03-18T00:00:00",
          "2020-03-19T00:00:00",
          "2020-03-20T00:00:00",
          "2020-03-23T00:00:00",
          "2020-03-24T00:00:00",
          "2020-03-25T00:00:00",
          "2020-03-26T00:00:00",
          "2020-03-27T00:00:00",
          "2020-03-30T00:00:00",
          "2020-03-31T00:00:00",
          "2020-04-01T00:00:00",
          "2020-04-03T00:00:00",
          "2020-04-07T00:00:00",
          "2020-04-08T00:00:00",
          "2020-04-09T00:00:00",
          "2020-04-13T00:00:00",
          "2020-04-15T00:00:00",
          "2020-04-16T00:00:00",
          "2020-04-17T00:00:00",
          "2020-04-20T00:00:00",
          "2020-04-22T00:00:00",
          "2020-04-23T00:00:00",
          "2020-04-24T00:00:00",
          "2020-04-27T00:00:00",
          "2020-04-28T00:00:00",
          "2020-04-29T00:00:00",
          "2020-04-30T00:00:00",
          "2020-05-04T00:00:00",
          "2020-05-05T00:00:00",
          "2020-05-06T00:00:00",
          "2020-05-07T00:00:00",
          "2020-05-08T00:00:00",
          "2020-05-11T00:00:00",
          "2020-05-12T00:00:00",
          "2020-05-13T00:00:00",
          "2020-05-14T00:00:00",
          "2020-05-15T00:00:00",
          "2020-05-18T00:00:00",
          "2020-05-19T00:00:00",
          "2020-05-20T00:00:00",
          "2020-05-21T00:00:00",
          "2020-05-22T00:00:00",
          "2020-05-26T00:00:00",
          "2020-05-27T00:00:00",
          "2020-05-28T00:00:00",
          "2020-05-29T00:00:00",
          "2020-06-01T00:00:00",
          "2020-06-02T00:00:00",
          "2020-06-03T00:00:00",
          "2020-06-04T00:00:00",
          "2020-06-05T00:00:00",
          "2020-06-08T00:00:00",
          "2020-06-09T00:00:00",
          "2020-06-10T00:00:00",
          "2020-06-12T00:00:00",
          "2020-06-15T00:00:00",
          "2020-06-16T00:00:00",
          "2020-06-17T00:00:00",
          "2020-06-18T00:00:00",
          "2020-06-19T00:00:00",
          "2020-06-22T00:00:00",
          "2020-06-23T00:00:00",
          "2020-06-24T00:00:00",
          "2020-06-25T00:00:00",
          "2020-06-26T00:00:00",
          "2020-06-29T00:00:00",
          "2020-06-30T00:00:00",
          "2020-07-01T00:00:00",
          "2020-07-02T00:00:00",
          "2020-07-06T00:00:00",
          "2020-07-07T00:00:00",
          "2020-07-08T00:00:00",
          "2020-07-09T00:00:00",
          "2020-07-10T00:00:00",
          "2020-07-13T00:00:00",
          "2020-07-14T00:00:00",
          "2020-07-15T00:00:00",
          "2020-07-16T00:00:00",
          "2020-07-17T00:00:00",
          "2020-07-20T00:00:00",
          "2020-07-21T00:00:00",
          "2020-07-22T00:00:00",
          "2020-07-23T00:00:00",
          "2020-07-24T00:00:00",
          "2020-07-27T00:00:00",
          "2020-07-28T00:00:00",
          "2020-07-29T00:00:00",
          "2020-07-30T00:00:00",
          "2020-07-31T00:00:00",
          "2020-08-03T00:00:00",
          "2020-08-04T00:00:00",
          "2020-08-05T00:00:00",
          "2020-08-06T00:00:00",
          "2020-08-07T00:00:00",
          "2020-08-10T00:00:00",
          "2020-08-11T00:00:00",
          "2020-08-12T00:00:00",
          "2020-08-13T00:00:00",
          "2020-08-14T00:00:00",
          "2020-08-17T00:00:00",
          "2020-08-18T00:00:00",
          "2020-08-19T00:00:00",
          "2020-08-20T00:00:00",
          "2020-08-21T00:00:00",
          "2020-08-24T00:00:00",
          "2020-08-25T00:00:00",
          "2020-08-26T00:00:00",
          "2020-08-27T00:00:00",
          "2020-08-28T00:00:00",
          "2020-08-31T00:00:00",
          "2020-09-01T00:00:00",
          "2020-09-02T00:00:00",
          "2020-09-03T00:00:00",
          "2020-09-04T00:00:00",
          "2020-09-08T00:00:00",
          "2020-09-09T00:00:00",
          "2020-09-10T00:00:00",
          "2020-09-11T00:00:00",
          "2020-09-14T00:00:00",
          "2020-09-15T00:00:00",
          "2020-09-16T00:00:00",
          "2020-09-17T00:00:00",
          "2020-09-18T00:00:00",
          "2020-09-21T00:00:00",
          "2020-09-22T00:00:00",
          "2020-09-23T00:00:00",
          "2020-09-24T00:00:00",
          "2020-09-25T00:00:00",
          "2020-09-28T00:00:00",
          "2020-09-29T00:00:00",
          "2020-09-30T00:00:00",
          "2020-10-01T00:00:00"
         ],
         "xaxis": "x",
         "y": [
          -0.0038924892224593277,
          -0.019003687255886526,
          0.004740802001917288,
          -0.0012657484996058121,
          0.015547487635823254,
          0.0035550983706631456,
          0.0062493849492673,
          0.0022202146475003293,
          -0.0019044917942697692,
          0.0014288087815206296,
          0.00030555016029731874,
          -0.004938765831521197,
          -0.005043816012920033,
          0.006591682685643585,
          0.005479891396988679,
          -0.011007814998567955,
          -0.0045744421045718076,
          0.005658251200761022,
          -0.006913813281056114,
          -0.004652022954499069,
          -0.020901443452522317,
          0.023000180948733684,
          0.008661108834532083,
          0.00397084420719418,
          -0.003974714648965483,
          -0.003943198047456575,
          0.005771637827224119,
          0.008485942817456626,
          -0.0025527987843099176,
          -0.00487341556285803,
          -0.00392911419768327,
          0.010481173824221868,
          -0.003699608117755271,
          -0.0035924922054132447,
          -0.03644098721863209,
          -0.004002098712518998,
          0.01257548872391423,
          -0.00554630328873329,
          0.0015915056778685877,
          -0.023238214724796036,
          -0.05167233823806883,
          0.0017524711026426498,
          -0.08177788691271493,
          0.04043364933089455,
          -0.07956402452049949,
          -0.025835573500676556,
          -0.055906833292306723,
          -0.020134713114080327,
          0.05754090806592349,
          -0.1315258002691394,
          0.02666497273611257,
          0.06979635432199638,
          0.04944635363539973,
          -0.004380428659028213,
          -0.04612585357046983,
          0.036151840435605154,
          -0.04082936309022345,
          -0.023858267079947426,
          0.08974905861764282,
          -0.005762090815810361,
          0.04233825707376626,
          -0.015070775007090864,
          -0.01010781319507248,
          0.007333779378947414,
          0.03222311261243549,
          0.0018765969483891531,
          0.02424672300056696,
          0.015409057326719822,
          -0.016817563577850247,
          0.013274697393073076,
          0.011701430743671581,
          0.018858778952326016,
          0.03048459826409111,
          -0.059383533577525904,
          -0.00825593433384697,
          0.007383603168788833,
          -0.007649152714548357,
          0.006338960821879125,
          -0.0025749546542072066,
          -0.006023263937987577,
          0.02032092739558866,
          -0.02767126617789839,
          -0.0008084132207755168,
          -0.034367459743532836,
          0.00556760337897555,
          0.020613192160972904,
          0.003708506579070736,
          -0.00841532942555534,
          -0.002063375242273402,
          0.032536513296803626,
          0.01883768337571312,
          0.006941169919854273,
          0.02712241611855659,
          0.015674370940289784,
          0.008396255786817797,
          -0.003777237901512631,
          0.009020975717028756,
          0.002430637401192426,
          -0.012041889934023331,
          0.008550873567928274,
          0.007231106441397683,
          -0.016343258970840102,
          0.011328063604462146,
          -0.0028952906310124593,
          0.020894429349029853,
          0.015308667858591862,
          0.005170771548846043,
          0.01486937103361674,
          -0.015846525816989532,
          -0.0007708543779789689,
          0.009447420046105215,
          -0.005963674407989061,
          -0.0013076877267629294,
          0.014281454995807463,
          0.01212075888427866,
          0.012932842479583595,
          0.005131604077790897,
          -0.009420922671000365,
          0.011249402837156586,
          -0.0039023486714140354,
          0.0027152645325414504,
          -0.01800398889241972,
          0.0005203554938644217,
          0.011646325389145451,
          0.015037995019680395,
          0.010773801760781465,
          0.013665250377873583,
          -0.0015504372531710553,
          0.007101622065311508,
          -0.00030336052175550243,
          -0.005092409608115855,
          0.01471524228858967,
          -0.010958378639757016,
          -0.008800857851498978,
          -0.00342324164732144,
          -0.017743797783069226,
          0.020257624936314,
          -0.0006522524371366245,
          0.009614686534024974,
          0.0003976572022335034,
          0.0037199182698242073,
          0.005891077824879298,
          -0.0009733330146524111,
          -0.0015413395095507099,
          -0.011306262512764453,
          0.004579028172661426,
          0.01255004619648914,
          0.0022442906749804425,
          -0.010213662875683371,
          0.0056076905938216015,
          0.009479954240591448,
          0.0011546867455372034,
          0.005922245028752382,
          0.0010121040607726783,
          0.00904649613184727,
          -0.02125859505360006,
          0.007054718843723107,
          0.004761610687440632,
          -0.002432834460521005,
          -0.016254075841534155,
          -0.0013504072421930413,
          -0.004468346581438909,
          0.01692411791634063,
          0.00036638391845134066,
          -0.0025202163718556214,
          0.00742383082248943,
          0.006620675966053868,
          -0.008218233211052417,
          -0.003438475125670859,
          -0.020894904032669248,
          -0.007889293541780917,
          -0.001739972281355473,
          -0.029595620336828832,
          0.02284476927183765,
          0.01585958810831789,
          -0.00022142695013838143,
          0.002494150894174485,
          0.01652627550051866
         ],
         "yaxis": "y"
        }
       ],
       "layout": {
        "autosize": true,
        "legend": {
         "title": {
          "text": "variable"
         },
         "tracegroupgap": 0
        },
        "template": {
         "data": {
          "bar": [
           {
            "error_x": {
             "color": "#2a3f5f"
            },
            "error_y": {
             "color": "#2a3f5f"
            },
            "marker": {
             "line": {
              "color": "#E5ECF6",
              "width": 0.5
             }
            },
            "type": "bar"
           }
          ],
          "barpolar": [
           {
            "marker": {
             "line": {
              "color": "#E5ECF6",
              "width": 0.5
             }
            },
            "type": "barpolar"
           }
          ],
          "carpet": [
           {
            "aaxis": {
             "endlinecolor": "#2a3f5f",
             "gridcolor": "white",
             "linecolor": "white",
             "minorgridcolor": "white",
             "startlinecolor": "#2a3f5f"
            },
            "baxis": {
             "endlinecolor": "#2a3f5f",
             "gridcolor": "white",
             "linecolor": "white",
             "minorgridcolor": "white",
             "startlinecolor": "#2a3f5f"
            },
            "type": "carpet"
           }
          ],
          "choropleth": [
           {
            "colorbar": {
             "outlinewidth": 0,
             "ticks": ""
            },
            "type": "choropleth"
           }
          ],
          "contour": [
           {
            "colorbar": {
             "outlinewidth": 0,
             "ticks": ""
            },
            "colorscale": [
             [
              0,
              "#0d0887"
             ],
             [
              0.1111111111111111,
              "#46039f"
             ],
             [
              0.2222222222222222,
              "#7201a8"
             ],
             [
              0.3333333333333333,
              "#9c179e"
             ],
             [
              0.4444444444444444,
              "#bd3786"
             ],
             [
              0.5555555555555556,
              "#d8576b"
             ],
             [
              0.6666666666666666,
              "#ed7953"
             ],
             [
              0.7777777777777778,
              "#fb9f3a"
             ],
             [
              0.8888888888888888,
              "#fdca26"
             ],
             [
              1,
              "#f0f921"
             ]
            ],
            "type": "contour"
           }
          ],
          "contourcarpet": [
           {
            "colorbar": {
             "outlinewidth": 0,
             "ticks": ""
            },
            "type": "contourcarpet"
           }
          ],
          "heatmap": [
           {
            "colorbar": {
             "outlinewidth": 0,
             "ticks": ""
            },
            "colorscale": [
             [
              0,
              "#0d0887"
             ],
             [
              0.1111111111111111,
              "#46039f"
             ],
             [
              0.2222222222222222,
              "#7201a8"
             ],
             [
              0.3333333333333333,
              "#9c179e"
             ],
             [
              0.4444444444444444,
              "#bd3786"
             ],
             [
              0.5555555555555556,
              "#d8576b"
             ],
             [
              0.6666666666666666,
              "#ed7953"
             ],
             [
              0.7777777777777778,
              "#fb9f3a"
             ],
             [
              0.8888888888888888,
              "#fdca26"
             ],
             [
              1,
              "#f0f921"
             ]
            ],
            "type": "heatmap"
           }
          ],
          "heatmapgl": [
           {
            "colorbar": {
             "outlinewidth": 0,
             "ticks": ""
            },
            "colorscale": [
             [
              0,
              "#0d0887"
             ],
             [
              0.1111111111111111,
              "#46039f"
             ],
             [
              0.2222222222222222,
              "#7201a8"
             ],
             [
              0.3333333333333333,
              "#9c179e"
             ],
             [
              0.4444444444444444,
              "#bd3786"
             ],
             [
              0.5555555555555556,
              "#d8576b"
             ],
             [
              0.6666666666666666,
              "#ed7953"
             ],
             [
              0.7777777777777778,
              "#fb9f3a"
             ],
             [
              0.8888888888888888,
              "#fdca26"
             ],
             [
              1,
              "#f0f921"
             ]
            ],
            "type": "heatmapgl"
           }
          ],
          "histogram": [
           {
            "marker": {
             "colorbar": {
              "outlinewidth": 0,
              "ticks": ""
             }
            },
            "type": "histogram"
           }
          ],
          "histogram2d": [
           {
            "colorbar": {
             "outlinewidth": 0,
             "ticks": ""
            },
            "colorscale": [
             [
              0,
              "#0d0887"
             ],
             [
              0.1111111111111111,
              "#46039f"
             ],
             [
              0.2222222222222222,
              "#7201a8"
             ],
             [
              0.3333333333333333,
              "#9c179e"
             ],
             [
              0.4444444444444444,
              "#bd3786"
             ],
             [
              0.5555555555555556,
              "#d8576b"
             ],
             [
              0.6666666666666666,
              "#ed7953"
             ],
             [
              0.7777777777777778,
              "#fb9f3a"
             ],
             [
              0.8888888888888888,
              "#fdca26"
             ],
             [
              1,
              "#f0f921"
             ]
            ],
            "type": "histogram2d"
           }
          ],
          "histogram2dcontour": [
           {
            "colorbar": {
             "outlinewidth": 0,
             "ticks": ""
            },
            "colorscale": [
             [
              0,
              "#0d0887"
             ],
             [
              0.1111111111111111,
              "#46039f"
             ],
             [
              0.2222222222222222,
              "#7201a8"
             ],
             [
              0.3333333333333333,
              "#9c179e"
             ],
             [
              0.4444444444444444,
              "#bd3786"
             ],
             [
              0.5555555555555556,
              "#d8576b"
             ],
             [
              0.6666666666666666,
              "#ed7953"
             ],
             [
              0.7777777777777778,
              "#fb9f3a"
             ],
             [
              0.8888888888888888,
              "#fdca26"
             ],
             [
              1,
              "#f0f921"
             ]
            ],
            "type": "histogram2dcontour"
           }
          ],
          "mesh3d": [
           {
            "colorbar": {
             "outlinewidth": 0,
             "ticks": ""
            },
            "type": "mesh3d"
           }
          ],
          "parcoords": [
           {
            "line": {
             "colorbar": {
              "outlinewidth": 0,
              "ticks": ""
             }
            },
            "type": "parcoords"
           }
          ],
          "pie": [
           {
            "automargin": true,
            "type": "pie"
           }
          ],
          "scatter": [
           {
            "marker": {
             "colorbar": {
              "outlinewidth": 0,
              "ticks": ""
             }
            },
            "type": "scatter"
           }
          ],
          "scatter3d": [
           {
            "line": {
             "colorbar": {
              "outlinewidth": 0,
              "ticks": ""
             }
            },
            "marker": {
             "colorbar": {
              "outlinewidth": 0,
              "ticks": ""
             }
            },
            "type": "scatter3d"
           }
          ],
          "scattercarpet": [
           {
            "marker": {
             "colorbar": {
              "outlinewidth": 0,
              "ticks": ""
             }
            },
            "type": "scattercarpet"
           }
          ],
          "scattergeo": [
           {
            "marker": {
             "colorbar": {
              "outlinewidth": 0,
              "ticks": ""
             }
            },
            "type": "scattergeo"
           }
          ],
          "scattergl": [
           {
            "marker": {
             "colorbar": {
              "outlinewidth": 0,
              "ticks": ""
             }
            },
            "type": "scattergl"
           }
          ],
          "scattermapbox": [
           {
            "marker": {
             "colorbar": {
              "outlinewidth": 0,
              "ticks": ""
             }
            },
            "type": "scattermapbox"
           }
          ],
          "scatterpolar": [
           {
            "marker": {
             "colorbar": {
              "outlinewidth": 0,
              "ticks": ""
             }
            },
            "type": "scatterpolar"
           }
          ],
          "scatterpolargl": [
           {
            "marker": {
             "colorbar": {
              "outlinewidth": 0,
              "ticks": ""
             }
            },
            "type": "scatterpolargl"
           }
          ],
          "scatterternary": [
           {
            "marker": {
             "colorbar": {
              "outlinewidth": 0,
              "ticks": ""
             }
            },
            "type": "scatterternary"
           }
          ],
          "surface": [
           {
            "colorbar": {
             "outlinewidth": 0,
             "ticks": ""
            },
            "colorscale": [
             [
              0,
              "#0d0887"
             ],
             [
              0.1111111111111111,
              "#46039f"
             ],
             [
              0.2222222222222222,
              "#7201a8"
             ],
             [
              0.3333333333333333,
              "#9c179e"
             ],
             [
              0.4444444444444444,
              "#bd3786"
             ],
             [
              0.5555555555555556,
              "#d8576b"
             ],
             [
              0.6666666666666666,
              "#ed7953"
             ],
             [
              0.7777777777777778,
              "#fb9f3a"
             ],
             [
              0.8888888888888888,
              "#fdca26"
             ],
             [
              1,
              "#f0f921"
             ]
            ],
            "type": "surface"
           }
          ],
          "table": [
           {
            "cells": {
             "fill": {
              "color": "#EBF0F8"
             },
             "line": {
              "color": "white"
             }
            },
            "header": {
             "fill": {
              "color": "#C8D4E3"
             },
             "line": {
              "color": "white"
             }
            },
            "type": "table"
           }
          ]
         },
         "layout": {
          "annotationdefaults": {
           "arrowcolor": "#2a3f5f",
           "arrowhead": 0,
           "arrowwidth": 1
          },
          "coloraxis": {
           "colorbar": {
            "outlinewidth": 0,
            "ticks": ""
           }
          },
          "colorscale": {
           "diverging": [
            [
             0,
             "#8e0152"
            ],
            [
             0.1,
             "#c51b7d"
            ],
            [
             0.2,
             "#de77ae"
            ],
            [
             0.3,
             "#f1b6da"
            ],
            [
             0.4,
             "#fde0ef"
            ],
            [
             0.5,
             "#f7f7f7"
            ],
            [
             0.6,
             "#e6f5d0"
            ],
            [
             0.7,
             "#b8e186"
            ],
            [
             0.8,
             "#7fbc41"
            ],
            [
             0.9,
             "#4d9221"
            ],
            [
             1,
             "#276419"
            ]
           ],
           "sequential": [
            [
             0,
             "#0d0887"
            ],
            [
             0.1111111111111111,
             "#46039f"
            ],
            [
             0.2222222222222222,
             "#7201a8"
            ],
            [
             0.3333333333333333,
             "#9c179e"
            ],
            [
             0.4444444444444444,
             "#bd3786"
            ],
            [
             0.5555555555555556,
             "#d8576b"
            ],
            [
             0.6666666666666666,
             "#ed7953"
            ],
            [
             0.7777777777777778,
             "#fb9f3a"
            ],
            [
             0.8888888888888888,
             "#fdca26"
            ],
            [
             1,
             "#f0f921"
            ]
           ],
           "sequentialminus": [
            [
             0,
             "#0d0887"
            ],
            [
             0.1111111111111111,
             "#46039f"
            ],
            [
             0.2222222222222222,
             "#7201a8"
            ],
            [
             0.3333333333333333,
             "#9c179e"
            ],
            [
             0.4444444444444444,
             "#bd3786"
            ],
            [
             0.5555555555555556,
             "#d8576b"
            ],
            [
             0.6666666666666666,
             "#ed7953"
            ],
            [
             0.7777777777777778,
             "#fb9f3a"
            ],
            [
             0.8888888888888888,
             "#fdca26"
            ],
            [
             1,
             "#f0f921"
            ]
           ]
          },
          "colorway": [
           "#636efa",
           "#EF553B",
           "#00cc96",
           "#ab63fa",
           "#FFA15A",
           "#19d3f3",
           "#FF6692",
           "#B6E880",
           "#FF97FF",
           "#FECB52"
          ],
          "font": {
           "color": "#2a3f5f"
          },
          "geo": {
           "bgcolor": "white",
           "lakecolor": "white",
           "landcolor": "#E5ECF6",
           "showlakes": true,
           "showland": true,
           "subunitcolor": "white"
          },
          "hoverlabel": {
           "align": "left"
          },
          "hovermode": "closest",
          "mapbox": {
           "style": "light"
          },
          "paper_bgcolor": "white",
          "plot_bgcolor": "#E5ECF6",
          "polar": {
           "angularaxis": {
            "gridcolor": "white",
            "linecolor": "white",
            "ticks": ""
           },
           "bgcolor": "#E5ECF6",
           "radialaxis": {
            "gridcolor": "white",
            "linecolor": "white",
            "ticks": ""
           }
          },
          "scene": {
           "xaxis": {
            "backgroundcolor": "#E5ECF6",
            "gridcolor": "white",
            "gridwidth": 2,
            "linecolor": "white",
            "showbackground": true,
            "ticks": "",
            "zerolinecolor": "white"
           },
           "yaxis": {
            "backgroundcolor": "#E5ECF6",
            "gridcolor": "white",
            "gridwidth": 2,
            "linecolor": "white",
            "showbackground": true,
            "ticks": "",
            "zerolinecolor": "white"
           },
           "zaxis": {
            "backgroundcolor": "#E5ECF6",
            "gridcolor": "white",
            "gridwidth": 2,
            "linecolor": "white",
            "showbackground": true,
            "ticks": "",
            "zerolinecolor": "white"
           }
          },
          "shapedefaults": {
           "line": {
            "color": "#2a3f5f"
           }
          },
          "ternary": {
           "aaxis": {
            "gridcolor": "white",
            "linecolor": "white",
            "ticks": ""
           },
           "baxis": {
            "gridcolor": "white",
            "linecolor": "white",
            "ticks": ""
           },
           "bgcolor": "#E5ECF6",
           "caxis": {
            "gridcolor": "white",
            "linecolor": "white",
            "ticks": ""
           }
          },
          "title": {
           "x": 0.05
          },
          "xaxis": {
           "automargin": true,
           "gridcolor": "white",
           "linecolor": "white",
           "ticks": "",
           "title": {
            "standoff": 15
           },
           "zerolinecolor": "white",
           "zerolinewidth": 2
          },
          "yaxis": {
           "automargin": true,
           "gridcolor": "white",
           "linecolor": "white",
           "ticks": "",
           "title": {
            "standoff": 15
           },
           "zerolinecolor": "white",
           "zerolinewidth": 2
          }
         }
        },
        "title": {
         "text": "USA, Brazil and India Daily Returns"
        },
        "xaxis": {
         "anchor": "y",
         "autorange": true,
         "domain": [
          0,
          1
         ],
         "range": [
          "2019-12-17 21:49:34.6435",
          "2020-10-17 02:10:25.3565"
         ],
         "title": {
          "text": "Date"
         },
         "type": "date"
        },
        "yaxis": {
         "anchor": "x",
         "autorange": true,
         "domain": [
          0,
          1
         ],
         "range": [
          -0.16881021079658584,
          0.16009557972925867
         ],
         "title": {
          "text": "value"
         },
         "type": "linear"
        }
       }
      },
      "image/png": "[encoded data removed]",
      "text/html": [
       "<div>                            <div id=\"43ac8fff-d71d-4f9a-8c5e-aecc80bd78f3\" class=\"plotly-graph-div\" style=\"height:525px; width:100%;\"></div>            <script type=\"text/javascript\">                require([\"plotly\"], function(Plotly) {                    window.PLOTLYENV=window.PLOTLYENV || {};                                    if (document.getElementById(\"43ac8fff-d71d-4f9a-8c5e-aecc80bd78f3\")) {                    Plotly.newPlot(                        \"43ac8fff-d71d-4f9a-8c5e-aecc80bd78f3\",                        [{\"hovertemplate\": \"variable=USA Stock Market<br>Date=%{x}<br>value=%{y}<extra></extra>\", \"legendgroup\": \"USA Stock Market\", \"marker\": {\"color\": \"#636efa\", \"symbol\": \"circle\"}, \"mode\": \"markers\", \"name\": \"USA Stock Market\", \"orientation\": \"v\", \"showlegend\": true, \"type\": \"scatter\", \"x\": [\"2020-01-03T00:00:00\", \"2020-01-06T00:00:00\", \"2020-01-07T00:00:00\", \"2020-01-08T00:00:00\", \"2020-01-09T00:00:00\", \"2020-01-10T00:00:00\", \"2020-01-13T00:00:00\", \"2020-01-14T00:00:00\", \"2020-01-15T00:00:00\", \"2020-01-16T00:00:00\", \"2020-01-17T00:00:00\", \"2020-01-21T00:00:00\", \"2020-01-22T00:00:00\", \"2020-01-23T00:00:00\", \"2020-01-24T00:00:00\", \"2020-01-27T00:00:00\", \"2020-01-28T00:00:00\", \"2020-01-29T00:00:00\", \"2020-01-30T00:00:00\", \"2020-01-31T00:00:00\", \"2020-02-03T00:00:00\", \"2020-02-04T00:00:00\", \"2020-02-05T00:00:00\", \"2020-02-06T00:00:00\", \"2020-02-07T00:00:00\", \"2020-02-10T00:00:00\", \"2020-02-11T00:00:00\", \"2020-02-12T00:00:00\", \"2020-02-13T00:00:00\", \"2020-02-14T00:00:00\", \"2020-02-18T00:00:00\", \"2020-02-19T00:00:00\", \"2020-02-20T00:00:00\", \"2020-02-27T00:00:00\", \"2020-02-28T00:00:00\", \"2020-03-02T00:00:00\", \"2020-03-03T00:00:00\", \"2020-03-04T00:00:00\", \"2020-03-05T00:00:00\", \"2020-03-06T00:00:00\", \"2020-03-09T00:00:00\", \"2020-03-11T00:00:00\", \"2020-03-12T00:00:00\", \"2020-03-13T00:00:00\", \"2020-03-16T00:00:00\", \"2020-03-17T00:00:00\", \"2020-03-18T00:00:00\", \"2020-03-19T00:00:00\", \"2020-03-20T00:00:00\", \"2020-03-23T00:00:00\", \"2020-03-24T00:00:00\", \"2020-03-25T00:00:00\", \"2020-03-26T00:00:00\", \"2020-03-27T00:00:00\", \"2020-03-30T00:00:00\", \"2020-03-31T00:00:00\", \"2020-04-01T00:00:00\", \"2020-04-03T00:00:00\", \"2020-04-07T00:00:00\", \"2020-04-08T00:00:00\", \"2020-04-09T00:00:00\", \"2020-04-13T00:00:00\", \"2020-04-15T00:00:00\", \"2020-04-16T00:00:00\", \"2020-04-17T00:00:00\", \"2020-04-20T00:00:00\", \"2020-04-22T00:00:00\", \"2020-04-23T00:00:00\", \"2020-04-24T00:00:00\", \"2020-04-27T00:00:00\", \"2020-04-28T00:00:00\", \"2020-04-29T00:00:00\", \"2020-04-30T00:00:00\", \"2020-05-04T00:00:00\", \"2020-05-05T00:00:00\", \"2020-05-06T00:00:00\", \"2020-05-07T00:00:00\", \"2020-05-08T00:00:00\", \"2020-05-11T00:00:00\", \"2020-05-12T00:00:00\", \"2020-05-13T00:00:00\", \"2020-05-14T00:00:00\", \"2020-05-15T00:00:00\", \"2020-05-18T00:00:00\", \"2020-05-19T00:00:00\", \"2020-05-20T00:00:00\", \"2020-05-21T00:00:00\", \"2020-05-22T00:00:00\", \"2020-05-26T00:00:00\", \"2020-05-27T00:00:00\", \"2020-05-28T00:00:00\", \"2020-05-29T00:00:00\", \"2020-06-01T00:00:00\", \"2020-06-02T00:00:00\", \"2020-06-03T00:00:00\", \"2020-06-04T00:00:00\", \"2020-06-05T00:00:00\", \"2020-06-08T00:00:00\", \"2020-06-09T00:00:00\", \"2020-06-10T00:00:00\", \"2020-06-12T00:00:00\", \"2020-06-15T00:00:00\", \"2020-06-16T00:00:00\", \"2020-06-17T00:00:00\", \"2020-06-18T00:00:00\", \"2020-06-19T00:00:00\", \"2020-06-22T00:00:00\", \"2020-06-23T00:00:00\", \"2020-06-24T00:00:00\", \"2020-06-25T00:00:00\", \"2020-06-26T00:00:00\", \"2020-06-29T00:00:00\", \"2020-06-30T00:00:00\", \"2020-07-01T00:00:00\", \"2020-07-02T00:00:00\", \"2020-07-06T00:00:00\", \"2020-07-07T00:00:00\", \"2020-07-08T00:00:00\", \"2020-07-09T00:00:00\", \"2020-07-10T00:00:00\", \"2020-07-13T00:00:00\", \"2020-07-14T00:00:00\", \"2020-07-15T00:00:00\", \"2020-07-16T00:00:00\", \"2020-07-17T00:00:00\", \"2020-07-20T00:00:00\", \"2020-07-21T00:00:00\", \"2020-07-22T00:00:00\", \"2020-07-23T00:00:00\", \"2020-07-24T00:00:00\", \"2020-07-27T00:00:00\", \"2020-07-28T00:00:00\", \"2020-07-29T00:00:00\", \"2020-07-30T00:00:00\", \"2020-07-31T00:00:00\", \"2020-08-03T00:00:00\", \"2020-08-04T00:00:00\", \"2020-08-05T00:00:00\", \"2020-08-06T00:00:00\", \"2020-08-07T00:00:00\", \"2020-08-10T00:00:00\", \"2020-08-11T00:00:00\", \"2020-08-12T00:00:00\", \"2020-08-13T00:00:00\", \"2020-08-14T00:00:00\", \"2020-08-17T00:00:00\", \"2020-08-18T00:00:00\", \"2020-08-19T00:00:00\", \"2020-08-20T00:00:00\", \"2020-08-21T00:00:00\", \"2020-08-24T00:00:00\", \"2020-08-25T00:00:00\", \"2020-08-26T00:00:00\", \"2020-08-27T00:00:00\", \"2020-08-28T00:00:00\", \"2020-08-31T00:00:00\", \"2020-09-01T00:00:00\", \"2020-09-02T00:00:00\", \"2020-09-03T00:00:00\", \"2020-09-04T00:00:00\", \"2020-09-08T00:00:00\", \"2020-09-09T00:00:00\", \"2020-09-10T00:00:00\", \"2020-09-11T00:00:00\", \"2020-09-14T00:00:00\", \"2020-09-15T00:00:00\", \"2020-09-16T00:00:00\", \"2020-09-17T00:00:00\", \"2020-09-18T00:00:00\", \"2020-09-21T00:00:00\", \"2020-09-22T00:00:00\", \"2020-09-23T00:00:00\", \"2020-09-24T00:00:00\", \"2020-09-25T00:00:00\", \"2020-09-28T00:00:00\", \"2020-09-29T00:00:00\", \"2020-09-30T00:00:00\", \"2020-10-01T00:00:00\"], \"xaxis\": \"x\", \"y\": [null, 0.0035333728907271933, -0.0028032386528962228, 0.004902451368978156, 0.006655262605488987, -0.002855178689662563, 0.006976215252569862, -0.001514532772802224, 0.0018701968845122874, 0.00836655302646827, 0.003862162248501333, -0.0026519776473655776, 0.0002890760711180551, 0.0011409766124783616, -0.009042160974207403, -0.015730711659182384, 0.010053584595046017, -0.0008668741908683941, 0.003134358792605374, -0.01770582037552626, 0.007254613892351713, 0.014980414164082134, 0.01125059589785371, 0.003325672876785646, -0.005400853672730133, 0.007326397804890528, 0.0016884725532351208, 0.006462646466197652, -0.0016304457368023773, 0.0018435333204338544, -0.002919942636890105, 0.004705785881164548, -0.00381551976362815, -0.04416324258407911, -0.008238340444361891, 0.046039229006110016, -0.028107896121075893, 0.04220259077449118, -0.033922077046888544, -0.01705385200037013, -0.07596969747745097, -0.048868445131273974, -0.09511268097833658, 0.09287124972971839, -0.11984055240393443, 0.05995484974402432, -0.051830762729157875, 0.0047078080405855705, -0.04335951230846191, -0.02929386782180443, 0.09382773976227554, 0.011535011448221999, 0.062414163303876835, -0.033687352562252526, 0.03351600948370015, -0.016012721914555605, -0.04414243033166543, -0.015137125124949469, -0.0016030527844311804, 0.03405645287963033, 0.014487410153376512, -0.010104660822607414, -0.022030438529415775, 0.005816689462164515, 0.026793594848223412, -0.01788104803401469, 0.022930247703843776, -0.0005394221197431159, 0.013918057304545428, 0.014714069804799612, -0.005242380698498916, 0.026583916282167053, -0.009212446303987654, 0.004249827591976452, 0.009040556385797371, -0.006979410390386298, 0.011504630788313985, 0.016871538638701944, 0.00013307822091168653, -0.020500317528877154, -0.01746272460422804, 0.01152482269503552, 0.0039263632504382695, 0.03150119163168075, -0.010484399194493177, 0.01665110025908012, -0.007773596407737116, 0.002353711326488428, 0.012289184036080147, 0.014827297215913804, -0.0021079145460738413, 0.004812335824971425, 0.003751234813537785, 0.008210832780053412, 0.013648979133831007, -0.0033687022311144066, 0.026211650818398713, 0.012041579421169235, -0.007799170822611612, -0.0053130910724373814, 0.013060843963234703, 0.008312217041285264, 0.01896239819380252, -0.0036002995561740248, 0.0005942198825281686, -0.005649494809462974, 0.006495095537691675, 0.004307419569164139, -0.025855145939064572, 0.010959447267809841, -0.024226905044785974, 0.014685678433118632, 0.015409875731554612, 0.005022132820864389, 0.004541250844364075, 0.01588172586745884, -0.010818532028197159, 0.007827461915415501, -0.005643606159361103, 0.01046620127324438, -0.009362541127788226, 0.013406370782667931, 0.009082050740923053, -0.0034061012455366413, 0.002848612194617406, 0.0084069387471426, 0.0016790373419135474, 0.005747082068739751, -0.012319859824193036, -0.006190400054688405, 0.007395138795039502, -0.006473392152297919, 0.01242838167815008, -0.003750251937389204, 0.007670504990141325, 0.00718102343932614, 0.0036119303819721615, 0.006429743053199433, 0.00642769555966427, 0.0006330295486443038, 0.002742218294476073, -0.007969132154236114, 0.013996549490237653, -0.002047174350497949, -0.00017188262276812694, 0.0027098425110787527, 0.002303389154016955, -0.0044043954214108005, 0.0031586327691348615, 0.0034411070444764214, 0.010043718303008653, 0.0035963511532906, 0.010195626139483993, 0.0016730440109038458, 0.00673256535528588, -0.0021949627140287475, 0.007525003016613407, 0.015365910154807594, -0.03512584371534122, -0.008133027264274895, -0.027756342102360998, 0.02014498633677464, -0.01758479659017942, 0.0005330721905940639, 0.012741829089357504, 0.005219359577689042, -0.004618946596211537, -0.008412365876402483, -0.011182581807410497, -0.011571097930805796, 0.010517945160813724, -0.023721455093028143, 0.0029874591429570607, 0.0159767237756141, 0.016110590199083896, -0.0048126645432444715, 0.008253718228220741, 0.005292907769290922], \"yaxis\": \"y\"}, {\"hovertemplate\": \"variable=Brazil Stock Market<br>Date=%{x}<br>value=%{y}<extra></extra>\", \"legendgroup\": \"Brazil Stock Market\", \"marker\": {\"color\": \"#EF553B\", \"symbol\": \"circle\"}, \"mode\": \"markers\", \"name\": \"Brazil Stock Market\", \"orientation\": \"v\", \"showlegend\": true, \"type\": \"scatter\", \"x\": [\"2020-01-03T00:00:00\", \"2020-01-06T00:00:00\", \"2020-01-07T00:00:00\", \"2020-01-08T00:00:00\", \"2020-01-09T00:00:00\", \"2020-01-10T00:00:00\", \"2020-01-13T00:00:00\", \"2020-01-14T00:00:00\", \"2020-01-15T00:00:00\", \"2020-01-16T00:00:00\", \"2020-01-17T00:00:00\", \"2020-01-21T00:00:00\", \"2020-01-22T00:00:00\", \"2020-01-23T00:00:00\", \"2020-01-24T00:00:00\", \"2020-01-27T00:00:00\", \"2020-01-28T00:00:00\", \"2020-01-29T00:00:00\", \"2020-01-30T00:00:00\", \"2020-01-31T00:00:00\", \"2020-02-03T00:00:00\", \"2020-02-04T00:00:00\", \"2020-02-05T00:00:00\", \"2020-02-06T00:00:00\", \"2020-02-07T00:00:00\", \"2020-02-10T00:00:00\", \"2020-02-11T00:00:00\", \"2020-02-12T00:00:00\", \"2020-02-13T00:00:00\", \"2020-02-14T00:00:00\", \"2020-02-18T00:00:00\", \"2020-02-19T00:00:00\", \"2020-02-20T00:00:00\", \"2020-02-27T00:00:00\", \"2020-02-28T00:00:00\", \"2020-03-02T00:00:00\", \"2020-03-03T00:00:00\", \"2020-03-04T00:00:00\", \"2020-03-05T00:00:00\", \"2020-03-06T00:00:00\", \"2020-03-09T00:00:00\", \"2020-03-11T00:00:00\", \"2020-03-12T00:00:00\", \"2020-03-13T00:00:00\", \"2020-03-16T00:00:00\", \"2020-03-17T00:00:00\", \"2020-03-18T00:00:00\", \"2020-03-19T00:00:00\", \"2020-03-20T00:00:00\", \"2020-03-23T00:00:00\", \"2020-03-24T00:00:00\", \"2020-03-25T00:00:00\", \"2020-03-26T00:00:00\", \"2020-03-27T00:00:00\", \"2020-03-30T00:00:00\", \"2020-03-31T00:00:00\", \"2020-04-01T00:00:00\", \"2020-04-03T00:00:00\", \"2020-04-07T00:00:00\", \"2020-04-08T00:00:00\", \"2020-04-09T00:00:00\", \"2020-04-13T00:00:00\", \"2020-04-15T00:00:00\", \"2020-04-16T00:00:00\", \"2020-04-17T00:00:00\", \"2020-04-20T00:00:00\", \"2020-04-22T00:00:00\", \"2020-04-23T00:00:00\", \"2020-04-24T00:00:00\", \"2020-04-27T00:00:00\", \"2020-04-28T00:00:00\", \"2020-04-29T00:00:00\", \"2020-04-30T00:00:00\", \"2020-05-04T00:00:00\", \"2020-05-05T00:00:00\", \"2020-05-06T00:00:00\", \"2020-05-07T00:00:00\", \"2020-05-08T00:00:00\", \"2020-05-11T00:00:00\", \"2020-05-12T00:00:00\", \"2020-05-13T00:00:00\", \"2020-05-14T00:00:00\", \"2020-05-15T00:00:00\", \"2020-05-18T00:00:00\", \"2020-05-19T00:00:00\", \"2020-05-20T00:00:00\", \"2020-05-21T00:00:00\", \"2020-05-22T00:00:00\", \"2020-05-26T00:00:00\", \"2020-05-27T00:00:00\", \"2020-05-28T00:00:00\", \"2020-05-29T00:00:00\", \"2020-06-01T00:00:00\", \"2020-06-02T00:00:00\", \"2020-06-03T00:00:00\", \"2020-06-04T00:00:00\", \"2020-06-05T00:00:00\", \"2020-06-08T00:00:00\", \"2020-06-09T00:00:00\", \"2020-06-10T00:00:00\", \"2020-06-12T00:00:00\", \"2020-06-15T00:00:00\", \"2020-06-16T00:00:00\", \"2020-06-17T00:00:00\", \"2020-06-18T00:00:00\", \"2020-06-19T00:00:00\", \"2020-06-22T00:00:00\", \"2020-06-23T00:00:00\", \"2020-06-24T00:00:00\", \"2020-06-25T00:00:00\", \"2020-06-26T00:00:00\", \"2020-06-29T00:00:00\", \"2020-06-30T00:00:00\", \"2020-07-01T00:00:00\", \"2020-07-02T00:00:00\", \"2020-07-06T00:00:00\", \"2020-07-07T00:00:00\", \"2020-07-08T00:00:00\", \"2020-07-09T00:00:00\", \"2020-07-10T00:00:00\", \"2020-07-13T00:00:00\", \"2020-07-14T00:00:00\", \"2020-07-15T00:00:00\", \"2020-07-16T00:00:00\", \"2020-07-17T00:00:00\", \"2020-07-20T00:00:00\", \"2020-07-21T00:00:00\", \"2020-07-22T00:00:00\", \"2020-07-23T00:00:00\", \"2020-07-24T00:00:00\", \"2020-07-27T00:00:00\", \"2020-07-28T00:00:00\", \"2020-07-29T00:00:00\", \"2020-07-30T00:00:00\", \"2020-07-31T00:00:00\", \"2020-08-03T00:00:00\", \"2020-08-04T00:00:00\", \"2020-08-05T00:00:00\", \"2020-08-06T00:00:00\", \"2020-08-07T00:00:00\", \"2020-08-10T00:00:00\", \"2020-08-11T00:00:00\", \"2020-08-12T00:00:00\", \"2020-08-13T00:00:00\", \"2020-08-14T00:00:00\", \"2020-08-17T00:00:00\", \"2020-08-18T00:00:00\", \"2020-08-19T00:00:00\", \"2020-08-20T00:00:00\", \"2020-08-21T00:00:00\", \"2020-08-24T00:00:00\", \"2020-08-25T00:00:00\", \"2020-08-26T00:00:00\", \"2020-08-27T00:00:00\", \"2020-08-28T00:00:00\", \"2020-08-31T00:00:00\", \"2020-09-01T00:00:00\", \"2020-09-02T00:00:00\", \"2020-09-03T00:00:00\", \"2020-09-04T00:00:00\", \"2020-09-08T00:00:00\", \"2020-09-09T00:00:00\", \"2020-09-10T00:00:00\", \"2020-09-11T00:00:00\", \"2020-09-14T00:00:00\", \"2020-09-15T00:00:00\", \"2020-09-16T00:00:00\", \"2020-09-17T00:00:00\", \"2020-09-18T00:00:00\", \"2020-09-21T00:00:00\", \"2020-09-22T00:00:00\", \"2020-09-23T00:00:00\", \"2020-09-24T00:00:00\", \"2020-09-25T00:00:00\", \"2020-09-28T00:00:00\", \"2020-09-29T00:00:00\", \"2020-09-30T00:00:00\", \"2020-10-01T00:00:00\"], \"xaxis\": \"x\", \"y\": [null, -0.007042911636521154, -0.0018480809048752045, -0.0035572851485488055, -0.0025807117603035, -0.0038293358172268865, 0.015774482048085403, 0.002616663115277973, -0.010354325353645222, 0.0024911093167487852, 0.015200850013709966, -0.01544648415809935, 0.011664074650077794, 0.00960377055688344, -0.009637909109162734, -0.03289518145570047, 0.01744379029017673, -0.009392250963693005, 0.001239329202235906, -0.015294993421508196, 0.007630031381580693, 0.00809568259340998, 0.004075910589579124, -0.00722239459440821, -0.012327458980814332, -0.010547596027072115, 0.024882295460602277, 0.01129399935859099, -0.008673740507739502, -0.01107537479898324, -0.0028792201822928076, 0.013402680536107159, -0.016581129095933678, -0.09409663884026354, 0.011535772547191847, 0.023547594363168667, -0.010203985932004667, 0.01598491524299539, -0.04654741475789004, -0.04143476176968297, -0.12173842056389483, -0.0763766890060078, -0.147796785290768, 0.13908215422344083, -0.1392147850697888, 0.048462792266187105, -0.10348848117721166, 0.02148142611555426, -0.01848328747878003, -0.052170153125885244, 0.09688532326569144, 0.07496163719542803, 0.036741555045626706, -0.055089435079140436, 0.016492121641313418, -0.02170418006430863, -0.0281155847712955, -0.03757629440992072, 0.030847947295235878, 0.029689096099950296, -0.011993640699523023, 0.014855436265801547, -0.013601441477514409, -0.012926386827517122, 0.015139053102349198, -0.00021521711609062688, 0.02170362022463368, -0.012567080198792824, -0.05449775959233372, 0.038602965578579784, 0.03927708687483222, 0.022862554112554223, -0.03204241863149415, -0.02024693811641365, 0.007543485977990816, -0.005121365026235947, -0.01195234240615195, 0.02744530779963905, -0.014925931001831483, -0.01508885094542467, -0.0012841586192726684, 0.015931183459342746, -0.018402500917593767, 0.04689454207872923, -0.005566913811365426, 0.007146218820440309, 0.021003701471980607, -0.010285810639912296, -0.002264688371875878, 0.028981268062104437, -0.011336501944374966, 0.005221451655568199, 0.013924007185108112, 0.027375310313698886, 0.021483645629681636, 0.008892281886411002, 0.008611410118406937, 0.0317846085569069, -0.009196579445952202, -0.021302986139105085, -0.019971273472319084, -0.004515329489735431, 0.012503247596778344, 0.02155435096385161, 0.006049378839733333, 0.004650195058517603, -0.012798740835853084, 0.006702609717210706, -0.0166501693149258, 0.017016857920891804, -0.02238938145296565, 0.020259181107061375, -0.007092494907818492, 0.012066571284295557, 0.0003326299595647342, 0.022446132382576423, -0.011886351920919358, 0.02055011712236987, -0.006114062343389848, 0.008793868495361012, -0.013345729366602721, 0.017660111249582, 0.013450816407805766, -0.012162175437907097, 0.02322158463695767, 0.01494829328979086, -0.0011108344665121672, -0.0001917361710286336, -0.01914852814267909, 0.000870049759025493, 0.020462581313121397, -0.0035223063449371095, 0.014369554985639965, -0.005643672174612924, -0.019969716881410138, -0.0007967972636815368, -0.0156958086161626, 0.015669459374012096, 0.012879126865236179, -0.012965061560033075, 0.006499571884486688, -0.012277174123197065, -0.0005480846399279482, -0.01622632640670596, 0.008879067498830384, -0.017345317849496333, 0.024800441789246452, -0.011864987997844523, 0.006088008408194012, 0.0005223321638347933, 0.007653588912638787, -0.0017595651918903554, -0.014600755988170566, -2.9813072038309407e-05, 0.015095802194307506, -0.0271580039748196, 0.028167738429490052, -0.002515464724767047, -0.01167685529530671, 0.005172704798403593, -0.011773769779340637, 0.012413793103448256, -0.024256604667693416, -0.004775636161278851, 0.019438203389485986, 0.00022936923460492586, -0.00620151947197356, 0.0042337172438702275, -0.01806229894703193, -0.013215993488655986, 0.003124001195987214, -0.016023598577507348, 0.013338904266986917, -0.0001340040407372678, -0.024051794348395328, -0.011471911774026622, 0.010931823039110888, 0.00925974863376422], \"yaxis\": \"y\"}, {\"hovertemplate\": \"variable=India Stock Market<br>Date=%{x}<br>value=%{y}<extra></extra>\", \"legendgroup\": \"India Stock Market\", \"marker\": {\"color\": \"#00cc96\", \"symbol\": \"circle\"}, \"mode\": \"markers\", \"name\": \"India Stock Market\", \"orientation\": \"v\", \"showlegend\": true, \"type\": \"scatter\", \"x\": [\"2020-01-03T00:00:00\", \"2020-01-06T00:00:00\", \"2020-01-07T00:00:00\", \"2020-01-08T00:00:00\", \"2020-01-09T00:00:00\", \"2020-01-10T00:00:00\", \"2020-01-13T00:00:00\", \"2020-01-14T00:00:00\", \"2020-01-15T00:00:00\", \"2020-01-16T00:00:00\", \"2020-01-17T00:00:00\", \"2020-01-21T00:00:00\", \"2020-01-22T00:00:00\", \"2020-01-23T00:00:00\", \"2020-01-24T00:00:00\", \"2020-01-27T00:00:00\", \"2020-01-28T00:00:00\", \"2020-01-29T00:00:00\", \"2020-01-30T00:00:00\", \"2020-01-31T00:00:00\", \"2020-02-03T00:00:00\", \"2020-02-04T00:00:00\", \"2020-02-05T00:00:00\", \"2020-02-06T00:00:00\", \"2020-02-07T00:00:00\", \"2020-02-10T00:00:00\", \"2020-02-11T00:00:00\", \"2020-02-12T00:00:00\", \"2020-02-13T00:00:00\", \"2020-02-14T00:00:00\", \"2020-02-18T00:00:00\", \"2020-02-19T00:00:00\", \"2020-02-20T00:00:00\", \"2020-02-27T00:00:00\", \"2020-02-28T00:00:00\", \"2020-03-02T00:00:00\", \"2020-03-03T00:00:00\", \"2020-03-04T00:00:00\", \"2020-03-05T00:00:00\", \"2020-03-06T00:00:00\", \"2020-03-09T00:00:00\", \"2020-03-11T00:00:00\", \"2020-03-12T00:00:00\", \"2020-03-13T00:00:00\", \"2020-03-16T00:00:00\", \"2020-03-17T00:00:00\", \"2020-03-18T00:00:00\", \"2020-03-19T00:00:00\", \"2020-03-20T00:00:00\", \"2020-03-23T00:00:00\", \"2020-03-24T00:00:00\", \"2020-03-25T00:00:00\", \"2020-03-26T00:00:00\", \"2020-03-27T00:00:00\", \"2020-03-30T00:00:00\", \"2020-03-31T00:00:00\", \"2020-04-01T00:00:00\", \"2020-04-03T00:00:00\", \"2020-04-07T00:00:00\", \"2020-04-08T00:00:00\", \"2020-04-09T00:00:00\", \"2020-04-13T00:00:00\", \"2020-04-15T00:00:00\", \"2020-04-16T00:00:00\", \"2020-04-17T00:00:00\", \"2020-04-20T00:00:00\", \"2020-04-22T00:00:00\", \"2020-04-23T00:00:00\", \"2020-04-24T00:00:00\", \"2020-04-27T00:00:00\", \"2020-04-28T00:00:00\", \"2020-04-29T00:00:00\", \"2020-04-30T00:00:00\", \"2020-05-04T00:00:00\", \"2020-05-05T00:00:00\", \"2020-05-06T00:00:00\", \"2020-05-07T00:00:00\", \"2020-05-08T00:00:00\", \"2020-05-11T00:00:00\", \"2020-05-12T00:00:00\", \"2020-05-13T00:00:00\", \"2020-05-14T00:00:00\", \"2020-05-15T00:00:00\", \"2020-05-18T00:00:00\", \"2020-05-19T00:00:00\", \"2020-05-20T00:00:00\", \"2020-05-21T00:00:00\", \"2020-05-22T00:00:00\", \"2020-05-26T00:00:00\", \"2020-05-27T00:00:00\", \"2020-05-28T00:00:00\", \"2020-05-29T00:00:00\", \"2020-06-01T00:00:00\", \"2020-06-02T00:00:00\", \"2020-06-03T00:00:00\", \"2020-06-04T00:00:00\", \"2020-06-05T00:00:00\", \"2020-06-08T00:00:00\", \"2020-06-09T00:00:00\", \"2020-06-10T00:00:00\", \"2020-06-12T00:00:00\", \"2020-06-15T00:00:00\", \"2020-06-16T00:00:00\", \"2020-06-17T00:00:00\", \"2020-06-18T00:00:00\", \"2020-06-19T00:00:00\", \"2020-06-22T00:00:00\", \"2020-06-23T00:00:00\", \"2020-06-24T00:00:00\", \"2020-06-25T00:00:00\", \"2020-06-26T00:00:00\", \"2020-06-29T00:00:00\", \"2020-06-30T00:00:00\", \"2020-07-01T00:00:00\", \"2020-07-02T00:00:00\", \"2020-07-06T00:00:00\", \"2020-07-07T00:00:00\", \"2020-07-08T00:00:00\", \"2020-07-09T00:00:00\", \"2020-07-10T00:00:00\", \"2020-07-13T00:00:00\", \"2020-07-14T00:00:00\", \"2020-07-15T00:00:00\", \"2020-07-16T00:00:00\", \"2020-07-17T00:00:00\", \"2020-07-20T00:00:00\", \"2020-07-21T00:00:00\", \"2020-07-22T00:00:00\", \"2020-07-23T00:00:00\", \"2020-07-24T00:00:00\", \"2020-07-27T00:00:00\", \"2020-07-28T00:00:00\", \"2020-07-29T00:00:00\", \"2020-07-30T00:00:00\", \"2020-07-31T00:00:00\", \"2020-08-03T00:00:00\", \"2020-08-04T00:00:00\", \"2020-08-05T00:00:00\", \"2020-08-06T00:00:00\", \"2020-08-07T00:00:00\", \"2020-08-10T00:00:00\", \"2020-08-11T00:00:00\", \"2020-08-12T00:00:00\", \"2020-08-13T00:00:00\", \"2020-08-14T00:00:00\", \"2020-08-17T00:00:00\", \"2020-08-18T00:00:00\", \"2020-08-19T00:00:00\", \"2020-08-20T00:00:00\", \"2020-08-21T00:00:00\", \"2020-08-24T00:00:00\", \"2020-08-25T00:00:00\", \"2020-08-26T00:00:00\", \"2020-08-27T00:00:00\", \"2020-08-28T00:00:00\", \"2020-08-31T00:00:00\", \"2020-09-01T00:00:00\", \"2020-09-02T00:00:00\", \"2020-09-03T00:00:00\", \"2020-09-04T00:00:00\", \"2020-09-08T00:00:00\", \"2020-09-09T00:00:00\", \"2020-09-10T00:00:00\", \"2020-09-11T00:00:00\", \"2020-09-14T00:00:00\", \"2020-09-15T00:00:00\", \"2020-09-16T00:00:00\", \"2020-09-17T00:00:00\", \"2020-09-18T00:00:00\", \"2020-09-21T00:00:00\", \"2020-09-22T00:00:00\", \"2020-09-23T00:00:00\", \"2020-09-24T00:00:00\", \"2020-09-25T00:00:00\", \"2020-09-28T00:00:00\", \"2020-09-29T00:00:00\", \"2020-09-30T00:00:00\", \"2020-10-01T00:00:00\"], \"xaxis\": \"x\", \"y\": [-0.0038924892224593277, -0.019003687255886526, 0.004740802001917288, -0.0012657484996058121, 0.015547487635823254, 0.0035550983706631456, 0.0062493849492673, 0.0022202146475003293, -0.0019044917942697692, 0.0014288087815206296, 0.00030555016029731874, -0.004938765831521197, -0.005043816012920033, 0.006591682685643585, 0.005479891396988679, -0.011007814998567955, -0.0045744421045718076, 0.005658251200761022, -0.006913813281056114, -0.004652022954499069, -0.020901443452522317, 0.023000180948733684, 0.008661108834532083, 0.00397084420719418, -0.003974714648965483, -0.003943198047456575, 0.005771637827224119, 0.008485942817456626, -0.0025527987843099176, -0.00487341556285803, -0.00392911419768327, 0.010481173824221868, -0.003699608117755271, -0.0035924922054132447, -0.03644098721863209, -0.004002098712518998, 0.01257548872391423, -0.00554630328873329, 0.0015915056778685877, -0.023238214724796036, -0.05167233823806883, 0.0017524711026426498, -0.08177788691271493, 0.04043364933089455, -0.07956402452049949, -0.025835573500676556, -0.055906833292306723, -0.020134713114080327, 0.05754090806592349, -0.1315258002691394, 0.02666497273611257, 0.06979635432199638, 0.04944635363539973, -0.004380428659028213, -0.04612585357046983, 0.036151840435605154, -0.04082936309022345, -0.023858267079947426, 0.08974905861764282, -0.005762090815810361, 0.04233825707376626, -0.015070775007090864, -0.01010781319507248, 0.007333779378947414, 0.03222311261243549, 0.0018765969483891531, 0.02424672300056696, 0.015409057326719822, -0.016817563577850247, 0.013274697393073076, 0.011701430743671581, 0.018858778952326016, 0.03048459826409111, -0.059383533577525904, -0.00825593433384697, 0.007383603168788833, -0.007649152714548357, 0.006338960821879125, -0.0025749546542072066, -0.006023263937987577, 0.02032092739558866, -0.02767126617789839, -0.0008084132207755168, -0.034367459743532836, 0.00556760337897555, 0.020613192160972904, 0.003708506579070736, -0.00841532942555534, -0.002063375242273402, 0.032536513296803626, 0.01883768337571312, 0.006941169919854273, 0.02712241611855659, 0.015674370940289784, 0.008396255786817797, -0.003777237901512631, 0.009020975717028756, 0.002430637401192426, -0.012041889934023331, 0.008550873567928274, 0.007231106441397683, -0.016343258970840102, 0.011328063604462146, -0.0028952906310124593, 0.020894429349029853, 0.015308667858591862, 0.005170771548846043, 0.01486937103361674, -0.015846525816989532, -0.0007708543779789689, 0.009447420046105215, -0.005963674407989061, -0.0013076877267629294, 0.014281454995807463, 0.01212075888427866, 0.012932842479583595, 0.005131604077790897, -0.009420922671000365, 0.011249402837156586, -0.0039023486714140354, 0.0027152645325414504, -0.01800398889241972, 0.0005203554938644217, 0.011646325389145451, 0.015037995019680395, 0.010773801760781465, 0.013665250377873583, -0.0015504372531710553, 0.007101622065311508, -0.00030336052175550243, -0.005092409608115855, 0.01471524228858967, -0.010958378639757016, -0.008800857851498978, -0.00342324164732144, -0.017743797783069226, 0.020257624936314, -0.0006522524371366245, 0.009614686534024974, 0.0003976572022335034, 0.0037199182698242073, 0.005891077824879298, -0.0009733330146524111, -0.0015413395095507099, -0.011306262512764453, 0.004579028172661426, 0.01255004619648914, 0.0022442906749804425, -0.010213662875683371, 0.0056076905938216015, 0.009479954240591448, 0.0011546867455372034, 0.005922245028752382, 0.0010121040607726783, 0.00904649613184727, -0.02125859505360006, 0.007054718843723107, 0.004761610687440632, -0.002432834460521005, -0.016254075841534155, -0.0013504072421930413, -0.004468346581438909, 0.01692411791634063, 0.00036638391845134066, -0.0025202163718556214, 0.00742383082248943, 0.006620675966053868, -0.008218233211052417, -0.003438475125670859, -0.020894904032669248, -0.007889293541780917, -0.001739972281355473, -0.029595620336828832, 0.02284476927183765, 0.01585958810831789, -0.00022142695013838143, 0.002494150894174485, 0.01652627550051866], \"yaxis\": \"y\"}],                        {\"legend\": {\"title\": {\"text\": \"variable\"}, \"tracegroupgap\": 0}, \"template\": {\"data\": {\"bar\": [{\"error_x\": {\"color\": \"#2a3f5f\"}, \"error_y\": {\"color\": \"#2a3f5f\"}, \"marker\": {\"line\": {\"color\": \"#E5ECF6\", \"width\": 0.5}}, \"type\": \"bar\"}], \"barpolar\": [{\"marker\": {\"line\": {\"color\": \"#E5ECF6\", \"width\": 0.5}}, \"type\": \"barpolar\"}], \"carpet\": [{\"aaxis\": {\"endlinecolor\": \"#2a3f5f\", \"gridcolor\": \"white\", \"linecolor\": \"white\", \"minorgridcolor\": \"white\", \"startlinecolor\": \"#2a3f5f\"}, \"baxis\": {\"endlinecolor\": \"#2a3f5f\", \"gridcolor\": \"white\", \"linecolor\": \"white\", \"minorgridcolor\": \"white\", \"startlinecolor\": \"#2a3f5f\"}, \"type\": \"carpet\"}], \"choropleth\": [{\"colorbar\": {\"outlinewidth\": 0, \"ticks\": \"\"}, \"type\": \"choropleth\"}], \"contour\": [{\"colorbar\": {\"outlinewidth\": 0, \"ticks\": \"\"}, \"colorscale\": [[0.0, \"#0d0887\"], [0.1111111111111111, \"#46039f\"], [0.2222222222222222, \"#7201a8\"], [0.3333333333333333, \"#9c179e\"], [0.4444444444444444, \"#bd3786\"], [0.5555555555555556, \"#d8576b\"], [0.6666666666666666, \"#ed7953\"], [0.7777777777777778, \"#fb9f3a\"], [0.8888888888888888, \"#fdca26\"], [1.0, \"#f0f921\"]], \"type\": \"contour\"}], \"contourcarpet\": [{\"colorbar\": {\"outlinewidth\": 0, \"ticks\": \"\"}, \"type\": \"contourcarpet\"}], \"heatmap\": [{\"colorbar\": {\"outlinewidth\": 0, \"ticks\": \"\"}, \"colorscale\": [[0.0, \"#0d0887\"], [0.1111111111111111, \"#46039f\"], [0.2222222222222222, \"#7201a8\"], [0.3333333333333333, \"#9c179e\"], [0.4444444444444444, \"#bd3786\"], [0.5555555555555556, \"#d8576b\"], [0.6666666666666666, \"#ed7953\"], [0.7777777777777778, \"#fb9f3a\"], [0.8888888888888888, \"#fdca26\"], [1.0, \"#f0f921\"]], \"type\": \"heatmap\"}], \"heatmapgl\": [{\"colorbar\": {\"outlinewidth\": 0, \"ticks\": \"\"}, \"colorscale\": [[0.0, \"#0d0887\"], [0.1111111111111111, \"#46039f\"], [0.2222222222222222, \"#7201a8\"], [0.3333333333333333, \"#9c179e\"], [0.4444444444444444, \"#bd3786\"], [0.5555555555555556, \"#d8576b\"], [0.6666666666666666, \"#ed7953\"], [0.7777777777777778, \"#fb9f3a\"], [0.8888888888888888, \"#fdca26\"], [1.0, \"#f0f921\"]], \"type\": \"heatmapgl\"}], \"histogram\": [{\"marker\": {\"colorbar\": {\"outlinewidth\": 0, \"ticks\": \"\"}}, \"type\": \"histogram\"}], \"histogram2d\": [{\"colorbar\": {\"outlinewidth\": 0, \"ticks\": \"\"}, \"colorscale\": [[0.0, \"#0d0887\"], [0.1111111111111111, \"#46039f\"], [0.2222222222222222, \"#7201a8\"], [0.3333333333333333, \"#9c179e\"], [0.4444444444444444, \"#bd3786\"], [0.5555555555555556, \"#d8576b\"], [0.6666666666666666, \"#ed7953\"], [0.7777777777777778, \"#fb9f3a\"], [0.8888888888888888, \"#fdca26\"], [1.0, \"#f0f921\"]], \"type\": \"histogram2d\"}], \"histogram2dcontour\": [{\"colorbar\": {\"outlinewidth\": 0, \"ticks\": \"\"}, \"colorscale\": [[0.0, \"#0d0887\"], [0.1111111111111111, \"#46039f\"], [0.2222222222222222, \"#7201a8\"], [0.3333333333333333, \"#9c179e\"], [0.4444444444444444, \"#bd3786\"], [0.5555555555555556, \"#d8576b\"], [0.6666666666666666, \"#ed7953\"], [0.7777777777777778, \"#fb9f3a\"], [0.8888888888888888, \"#fdca26\"], [1.0, \"#f0f921\"]], \"type\": \"histogram2dcontour\"}], \"mesh3d\": [{\"colorbar\": {\"outlinewidth\": 0, \"ticks\": \"\"}, \"type\": \"mesh3d\"}], \"parcoords\": [{\"line\": {\"colorbar\": {\"outlinewidth\": 0, \"ticks\": \"\"}}, \"type\": \"parcoords\"}], \"pie\": [{\"automargin\": true, \"type\": \"pie\"}], \"scatter\": [{\"marker\": {\"colorbar\": {\"outlinewidth\": 0, \"ticks\": \"\"}}, \"type\": \"scatter\"}], \"scatter3d\": [{\"line\": {\"colorbar\": {\"outlinewidth\": 0, \"ticks\": \"\"}}, \"marker\": {\"colorbar\": {\"outlinewidth\": 0, \"ticks\": \"\"}}, \"type\": \"scatter3d\"}], \"scattercarpet\": [{\"marker\": {\"colorbar\": {\"outlinewidth\": 0, \"ticks\": \"\"}}, \"type\": \"scattercarpet\"}], \"scattergeo\": [{\"marker\": {\"colorbar\": {\"outlinewidth\": 0, \"ticks\": \"\"}}, \"type\": \"scattergeo\"}], \"scattergl\": [{\"marker\": {\"colorbar\": {\"outlinewidth\": 0, \"ticks\": \"\"}}, \"type\": \"scattergl\"}], \"scattermapbox\": [{\"marker\": {\"colorbar\": {\"outlinewidth\": 0, \"ticks\": \"\"}}, \"type\": \"scattermapbox\"}], \"scatterpolar\": [{\"marker\": {\"colorbar\": {\"outlinewidth\": 0, \"ticks\": \"\"}}, \"type\": \"scatterpolar\"}], \"scatterpolargl\": [{\"marker\": {\"colorbar\": {\"outlinewidth\": 0, \"ticks\": \"\"}}, \"type\": \"scatterpolargl\"}], \"scatterternary\": [{\"marker\": {\"colorbar\": {\"outlinewidth\": 0, \"ticks\": \"\"}}, \"type\": \"scatterternary\"}], \"surface\": [{\"colorbar\": {\"outlinewidth\": 0, \"ticks\": \"\"}, \"colorscale\": [[0.0, \"#0d0887\"], [0.1111111111111111, \"#46039f\"], [0.2222222222222222, \"#7201a8\"], [0.3333333333333333, \"#9c179e\"], [0.4444444444444444, \"#bd3786\"], [0.5555555555555556, \"#d8576b\"], [0.6666666666666666, \"#ed7953\"], [0.7777777777777778, \"#fb9f3a\"], [0.8888888888888888, \"#fdca26\"], [1.0, \"#f0f921\"]], \"type\": \"surface\"}], \"table\": [{\"cells\": {\"fill\": {\"color\": \"#EBF0F8\"}, \"line\": {\"color\": \"white\"}}, \"header\": {\"fill\": {\"color\": \"#C8D4E3\"}, \"line\": {\"color\": \"white\"}}, \"type\": \"table\"}]}, \"layout\": {\"annotationdefaults\": {\"arrowcolor\": \"#2a3f5f\", \"arrowhead\": 0, \"arrowwidth\": 1}, \"coloraxis\": {\"colorbar\": {\"outlinewidth\": 0, \"ticks\": \"\"}}, \"colorscale\": {\"diverging\": [[0, \"#8e0152\"], [0.1, \"#c51b7d\"], [0.2, \"#de77ae\"], [0.3, \"#f1b6da\"], [0.4, \"#fde0ef\"], [0.5, \"#f7f7f7\"], [0.6, \"#e6f5d0\"], [0.7, \"#b8e186\"], [0.8, \"#7fbc41\"], [0.9, \"#4d9221\"], [1, \"#276419\"]], \"sequential\": [[0.0, \"#0d0887\"], [0.1111111111111111, \"#46039f\"], [0.2222222222222222, \"#7201a8\"], [0.3333333333333333, \"#9c179e\"], [0.4444444444444444, \"#bd3786\"], [0.5555555555555556, \"#d8576b\"], [0.6666666666666666, \"#ed7953\"], [0.7777777777777778, \"#fb9f3a\"], [0.8888888888888888, \"#fdca26\"], [1.0, \"#f0f921\"]], \"sequentialminus\": [[0.0, \"#0d0887\"], [0.1111111111111111, \"#46039f\"], [0.2222222222222222, \"#7201a8\"], [0.3333333333333333, \"#9c179e\"], [0.4444444444444444, \"#bd3786\"], [0.5555555555555556, \"#d8576b\"], [0.6666666666666666, \"#ed7953\"], [0.7777777777777778, \"#fb9f3a\"], [0.8888888888888888, \"#fdca26\"], [1.0, \"#f0f921\"]]}, \"colorway\": [\"#636efa\", \"#EF553B\", \"#00cc96\", \"#ab63fa\", \"#FFA15A\", \"#19d3f3\", \"#FF6692\", \"#B6E880\", \"#FF97FF\", \"#FECB52\"], \"font\": {\"color\": \"#2a3f5f\"}, \"geo\": {\"bgcolor\": \"white\", \"lakecolor\": \"white\", \"landcolor\": \"#E5ECF6\", \"showlakes\": true, \"showland\": true, \"subunitcolor\": \"white\"}, \"hoverlabel\": {\"align\": \"left\"}, \"hovermode\": \"closest\", \"mapbox\": {\"style\": \"light\"}, \"paper_bgcolor\": \"white\", \"plot_bgcolor\": \"#E5ECF6\", \"polar\": {\"angularaxis\": {\"gridcolor\": \"white\", \"linecolor\": \"white\", \"ticks\": \"\"}, \"bgcolor\": \"#E5ECF6\", \"radialaxis\": {\"gridcolor\": \"white\", \"linecolor\": \"white\", \"ticks\": \"\"}}, \"scene\": {\"xaxis\": {\"backgroundcolor\": \"#E5ECF6\", \"gridcolor\": \"white\", \"gridwidth\": 2, \"linecolor\": \"white\", \"showbackground\": true, \"ticks\": \"\", \"zerolinecolor\": \"white\"}, \"yaxis\": {\"backgroundcolor\": \"#E5ECF6\", \"gridcolor\": \"white\", \"gridwidth\": 2, \"linecolor\": \"white\", \"showbackground\": true, \"ticks\": \"\", \"zerolinecolor\": \"white\"}, \"zaxis\": {\"backgroundcolor\": \"#E5ECF6\", \"gridcolor\": \"white\", \"gridwidth\": 2, \"linecolor\": \"white\", \"showbackground\": true, \"ticks\": \"\", \"zerolinecolor\": \"white\"}}, \"shapedefaults\": {\"line\": {\"color\": \"#2a3f5f\"}}, \"ternary\": {\"aaxis\": {\"gridcolor\": \"white\", \"linecolor\": \"white\", \"ticks\": \"\"}, \"baxis\": {\"gridcolor\": \"white\", \"linecolor\": \"white\", \"ticks\": \"\"}, \"bgcolor\": \"#E5ECF6\", \"caxis\": {\"gridcolor\": \"white\", \"linecolor\": \"white\", \"ticks\": \"\"}}, \"title\": {\"x\": 0.05}, \"xaxis\": {\"automargin\": true, \"gridcolor\": \"white\", \"linecolor\": \"white\", \"ticks\": \"\", \"title\": {\"standoff\": 15}, \"zerolinecolor\": \"white\", \"zerolinewidth\": 2}, \"yaxis\": {\"automargin\": true, \"gridcolor\": \"white\", \"linecolor\": \"white\", \"ticks\": \"\", \"title\": {\"standoff\": 15}, \"zerolinecolor\": \"white\", \"zerolinewidth\": 2}}}, \"title\": {\"text\": \"USA, Brazil and India Daily Returns\"}, \"xaxis\": {\"anchor\": \"y\", \"domain\": [0.0, 1.0], \"title\": {\"text\": \"Date\"}}, \"yaxis\": {\"anchor\": \"x\", \"domain\": [0.0, 1.0], \"title\": {\"text\": \"value\"}}},                        {\"responsive\": true}                    ).then(function(){\n",
       "                            \n",
       "var gd = document.getElementById('43ac8fff-d71d-4f9a-8c5e-aecc80bd78f3');\n",
       "var x = new MutationObserver(function (mutations, observer) {{\n",
       "        var display = window.getComputedStyle(gd).display;\n",
       "        if (!display || display === 'none') {{\n",
       "            console.log([gd, 'removed!']);\n",
       "            Plotly.purge(gd);\n",
       "            observer.disconnect();\n",
       "        }}\n",
       "}});\n",
       "\n",
       "// Listen for the removal of the full notebook cells\n",
       "var notebookContainer = gd.closest('#notebook-container');\n",
       "if (notebookContainer) {{\n",
       "    x.observe(notebookContainer, {childList: true});\n",
       "}}\n",
       "\n",
       "// Listen for the clearing of the current output cell\n",
       "var outputEl = gd.closest('.output');\n",
       "if (outputEl) {{\n",
       "    x.observe(outputEl, {childList: true});\n",
       "}}\n",
       "\n",
       "                        })                };                });            </script>        </div>"
      ]
     },
     "metadata": {},
     "output_type": "display_data"
    }
   ],
   "source": [
    "#Plot USA, Brazil and India Daily Returns on same plot\n",
    "#Kevin\n",
    "\n",
    "import plotly.express as px\n",
    "scatter_global_daily_returns = px.scatter((global_daily_returns), title = 'USA, Brazil and India Daily Returns')\n",
    "scatter_global_daily_returns"
   ]
  },
  {
   "cell_type": "code",
   "execution_count": 260,
   "metadata": {},
   "outputs": [],
   "source": [
    "#Concat all three correllations\n",
    "\n",
    "correllation_df = pd.concat([US_correlation, brazil_correlation, india_correlation], axis='columns', join='outer',sort=False)\n",
    "#Bjorn"
   ]
  },
  {
   "cell_type": "code",
   "execution_count": 261,
   "metadata": {},
   "outputs": [
    {
     "data": {
      "text/html": [
       "<div>\n",
       "<style scoped>\n",
       "    .dataframe tbody tr th:only-of-type {\n",
       "        vertical-align: middle;\n",
       "    }\n",
       "\n",
       "    .dataframe tbody tr th {\n",
       "        vertical-align: top;\n",
       "    }\n",
       "\n",
       "    .dataframe thead th {\n",
       "        text-align: right;\n",
       "    }\n",
       "</style>\n",
       "<table border=\"1\" class=\"dataframe\">\n",
       "  <thead>\n",
       "    <tr style=\"text-align: right;\">\n",
       "      <th></th>\n",
       "      <th>S&amp;P 500 Close Price</th>\n",
       "      <th>USA Confirmed</th>\n",
       "      <th>USA Deaths</th>\n",
       "      <th>IBOVESPA Close Price</th>\n",
       "      <th>Brazil Confirmed</th>\n",
       "      <th>Brazil Deaths</th>\n",
       "      <th>SENSEX Close Price</th>\n",
       "      <th>India Deaths</th>\n",
       "      <th>India Confirmed</th>\n",
       "    </tr>\n",
       "  </thead>\n",
       "  <tbody>\n",
       "    <tr>\n",
       "      <th>S&amp;P 500 Close Price</th>\n",
       "      <td>1.000000</td>\n",
       "      <td>0.051573</td>\n",
       "      <td>0.019359</td>\n",
       "      <td>NaN</td>\n",
       "      <td>NaN</td>\n",
       "      <td>NaN</td>\n",
       "      <td>NaN</td>\n",
       "      <td>NaN</td>\n",
       "      <td>NaN</td>\n",
       "    </tr>\n",
       "    <tr>\n",
       "      <th>USA Confirmed</th>\n",
       "      <td>0.051573</td>\n",
       "      <td>1.000000</td>\n",
       "      <td>0.958285</td>\n",
       "      <td>NaN</td>\n",
       "      <td>NaN</td>\n",
       "      <td>NaN</td>\n",
       "      <td>NaN</td>\n",
       "      <td>NaN</td>\n",
       "      <td>NaN</td>\n",
       "    </tr>\n",
       "    <tr>\n",
       "      <th>USA Deaths</th>\n",
       "      <td>0.019359</td>\n",
       "      <td>0.958285</td>\n",
       "      <td>1.000000</td>\n",
       "      <td>NaN</td>\n",
       "      <td>NaN</td>\n",
       "      <td>NaN</td>\n",
       "      <td>NaN</td>\n",
       "      <td>NaN</td>\n",
       "      <td>NaN</td>\n",
       "    </tr>\n",
       "    <tr>\n",
       "      <th>IBOVESPA Close Price</th>\n",
       "      <td>NaN</td>\n",
       "      <td>NaN</td>\n",
       "      <td>NaN</td>\n",
       "      <td>1.000000</td>\n",
       "      <td>-0.127437</td>\n",
       "      <td>-0.321546</td>\n",
       "      <td>NaN</td>\n",
       "      <td>NaN</td>\n",
       "      <td>NaN</td>\n",
       "    </tr>\n",
       "    <tr>\n",
       "      <th>Brazil Confirmed</th>\n",
       "      <td>NaN</td>\n",
       "      <td>NaN</td>\n",
       "      <td>NaN</td>\n",
       "      <td>-0.127437</td>\n",
       "      <td>1.000000</td>\n",
       "      <td>0.754432</td>\n",
       "      <td>NaN</td>\n",
       "      <td>NaN</td>\n",
       "      <td>NaN</td>\n",
       "    </tr>\n",
       "    <tr>\n",
       "      <th>Brazil Deaths</th>\n",
       "      <td>NaN</td>\n",
       "      <td>NaN</td>\n",
       "      <td>NaN</td>\n",
       "      <td>-0.321546</td>\n",
       "      <td>0.754432</td>\n",
       "      <td>1.000000</td>\n",
       "      <td>NaN</td>\n",
       "      <td>NaN</td>\n",
       "      <td>NaN</td>\n",
       "    </tr>\n",
       "    <tr>\n",
       "      <th>SENSEX Close Price</th>\n",
       "      <td>NaN</td>\n",
       "      <td>NaN</td>\n",
       "      <td>NaN</td>\n",
       "      <td>NaN</td>\n",
       "      <td>NaN</td>\n",
       "      <td>NaN</td>\n",
       "      <td>1.000000</td>\n",
       "      <td>0.072881</td>\n",
       "      <td>-0.069799</td>\n",
       "    </tr>\n",
       "    <tr>\n",
       "      <th>India Deaths</th>\n",
       "      <td>NaN</td>\n",
       "      <td>NaN</td>\n",
       "      <td>NaN</td>\n",
       "      <td>NaN</td>\n",
       "      <td>NaN</td>\n",
       "      <td>NaN</td>\n",
       "      <td>0.072881</td>\n",
       "      <td>1.000000</td>\n",
       "      <td>0.605887</td>\n",
       "    </tr>\n",
       "    <tr>\n",
       "      <th>India Confirmed</th>\n",
       "      <td>NaN</td>\n",
       "      <td>NaN</td>\n",
       "      <td>NaN</td>\n",
       "      <td>NaN</td>\n",
       "      <td>NaN</td>\n",
       "      <td>NaN</td>\n",
       "      <td>-0.069799</td>\n",
       "      <td>0.605887</td>\n",
       "      <td>1.000000</td>\n",
       "    </tr>\n",
       "  </tbody>\n",
       "</table>\n",
       "</div>"
      ],
      "text/plain": [
       "                      S&P 500 Close Price  USA Confirmed  USA Deaths  \\\n",
       "S&P 500 Close Price              1.000000       0.051573    0.019359   \n",
       "USA Confirmed                    0.051573       1.000000    0.958285   \n",
       "USA Deaths                       0.019359       0.958285    1.000000   \n",
       "IBOVESPA Close Price                  NaN            NaN         NaN   \n",
       "Brazil Confirmed                      NaN            NaN         NaN   \n",
       "Brazil Deaths                         NaN            NaN         NaN   \n",
       "SENSEX Close Price                    NaN            NaN         NaN   \n",
       "India Deaths                          NaN            NaN         NaN   \n",
       "India Confirmed                       NaN            NaN         NaN   \n",
       "\n",
       "                      IBOVESPA Close Price  Brazil Confirmed  Brazil Deaths  \\\n",
       "S&P 500 Close Price                    NaN               NaN            NaN   \n",
       "USA Confirmed                          NaN               NaN            NaN   \n",
       "USA Deaths                             NaN               NaN            NaN   \n",
       "IBOVESPA Close Price              1.000000         -0.127437      -0.321546   \n",
       "Brazil Confirmed                 -0.127437          1.000000       0.754432   \n",
       "Brazil Deaths                    -0.321546          0.754432       1.000000   \n",
       "SENSEX Close Price                     NaN               NaN            NaN   \n",
       "India Deaths                           NaN               NaN            NaN   \n",
       "India Confirmed                        NaN               NaN            NaN   \n",
       "\n",
       "                      SENSEX Close Price  India Deaths  India Confirmed  \n",
       "S&P 500 Close Price                  NaN           NaN              NaN  \n",
       "USA Confirmed                        NaN           NaN              NaN  \n",
       "USA Deaths                           NaN           NaN              NaN  \n",
       "IBOVESPA Close Price                 NaN           NaN              NaN  \n",
       "Brazil Confirmed                     NaN           NaN              NaN  \n",
       "Brazil Deaths                        NaN           NaN              NaN  \n",
       "SENSEX Close Price              1.000000      0.072881        -0.069799  \n",
       "India Deaths                    0.072881      1.000000         0.605887  \n",
       "India Confirmed                -0.069799      0.605887         1.000000  "
      ]
     },
     "execution_count": 261,
     "metadata": {},
     "output_type": "execute_result"
    }
   ],
   "source": [
    "correllation_df"
   ]
  },
  {
   "cell_type": "code",
   "execution_count": 262,
   "metadata": {},
   "outputs": [
    {
     "data": {
      "text/plain": [
       "<matplotlib.axes._subplots.AxesSubplot at 0x1b30b40c048>"
      ]
     },
     "execution_count": 262,
     "metadata": {},
     "output_type": "execute_result"
    },
    {
     "data": {
      "image/png": "[encoded data removed]",
      "text/plain": [
       "<Figure size 1440x1080 with 2 Axes>"
      ]
     },
     "metadata": {
      "needs_background": "light"
     },
     "output_type": "display_data"
    }
   ],
   "source": [
    "# Combining all the correlations and plotting it into a heatmap \n",
    "\n",
    "plt.subplots(figsize=(20,15))\n",
    "sns.heatmap(correllation_df)"
   ]
  },
  {
   "cell_type": "code",
   "execution_count": 263,
   "metadata": {},
   "outputs": [
    {
     "data": {
      "text/plain": [
       "USA Stock Market       0.023295\n",
       "Brazil Stock Market    0.031396\n",
       "India Stock Market     0.022942\n",
       "dtype: float64"
      ]
     },
     "execution_count": 263,
     "metadata": {},
     "output_type": "execute_result"
    }
   ],
   "source": [
    "#Standard Dievation for all 3 markets\n",
    "\n",
    "global_daily_returns.std()"
   ]
  },
  {
   "cell_type": "code",
   "execution_count": null,
   "metadata": {},
   "outputs": [],
   "source": []
  }
 ],
 "metadata": {
  "kernelspec": {
   "display_name": "Python 3",
   "language": "python",
   "name": "python3"
  },
  "language_info": {
   "codemirror_mode": {
    "name": "ipython",
    "version": 3
   },
   "file_extension": ".py",
   "mimetype": "text/x-python",
   "name": "python",
   "nbconvert_exporter": "python",
   "pygments_lexer": "ipython3",
   "version": "3.7.7"
  }
 },
 "nbformat": 4,
 "nbformat_minor": 4
}
